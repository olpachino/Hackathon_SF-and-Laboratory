{
 "cells": [
  {
   "cell_type": "markdown",
   "id": "b70a2d31",
   "metadata": {},
   "source": [
    "# Хакатон Skillfactory x Teplitsa Lab\n",
    "\n",
    "## Задача 1. Деньги государства у НКО\n",
    "\n",
    "Есть дамп данных о всех НКО в России, содержится информация о получении государственных грантов, госконтрактов и субсидий, регионе и дате регистрации и ОКВЭД (классификатор экономической деятельности).\n",
    "\n",
    "- Проверить, есть ли зависимость вероятности получения грантов от государства / госконтрактов от региона регистрации организации\n",
    "- Проверить, есть ли зависимость вероятности получения грантов от государства / госконтрактов от возраста организации\n",
    "- Проверить, есть ли зависимость вероятности получения грантов от государства / госконтрактов от экономической деятельности\n",
    "- Любые дополнительные выводы и проверки\n",
    "\n",
    "### Данные\n",
    "\n",
    "Источник данных: проект [Открытые НКО](https://openngo.ru/)\n",
    "\n",
    "[Дамп данных в формате JSON](https://drive.google.com/drive/folders/1WiGeZPnoiBqgeQL59AkEC4JiszFNAWl9?usp=sharing), дата актуальности: 26.08.2021\n",
    "\n",
    "[Описание полей](https://github.com/infoculture/openngo-data-reference/wiki/%D0%A5%D0%B0%D1%80%D0%B0%D0%BA%D1%82%D0%B5%D1%80%D0%B8%D1%81%D1%82%D0%B8%D0%BA%D0%B8-%D0%B8-%D1%80%D0%B0%D1%81%D1%88%D0%B8%D1%84%D1%80%D0%BE%D0%B2%D0%BA%D0%B8-%D0%BE%D1%82%D0%BA%D1%80%D1%8B%D1%82%D1%8B%D1%85-%D0%B4%D0%B0%D0%BD%D0%BD%D1%8B%D1%85) на гитхабе\n",
    "\n",
    "UPD: [foundations_codes.csv](https://github.com/Teplitsa/CSRLab/blob/main/Skillfactory%20x%20Teplitsa%20Lab/foundations_codes.csv) - таблица с более точными кодами правовой формы (ОКОПФ) для фондов всех видов"
   ]
  },
  {
   "cell_type": "markdown",
   "id": "ce713bd2",
   "metadata": {},
   "source": [
    "## 1. Первичная обработка данных"
   ]
  },
  {
   "cell_type": "code",
   "execution_count": 1,
   "id": "f6d5cea9",
   "metadata": {},
   "outputs": [],
   "source": [
    "# работа с данными\n",
    "import pandas as pd\n",
    "import numpy as np\n",
    "import re\n",
    "\n",
    "# библиотеки для визуализации\n",
    "import matplotlib.pyplot as plt\n",
    "import seaborn as sns\n",
    "from pylab import rcParams\n",
    "\n",
    "%matplotlib inline\n",
    "rcParams['figure.figsize'] = 12, 6\n",
    "\n",
    "# библиотека для ускорения pandas\n",
    "import swifter\n",
    "\n",
    "# библиотека для расширенной работы с датами\n",
    "from dateutil.parser import parse"
   ]
  },
  {
   "cell_type": "code",
   "execution_count": 2,
   "id": "eea75f4c",
   "metadata": {},
   "outputs": [],
   "source": [
    "# для работы с предупреждениями\n",
    "import warnings  \n",
    "# игнорирование предупреждений\n",
    "warnings.filterwarnings('ignore')"
   ]
  },
  {
   "cell_type": "code",
   "execution_count": 3,
   "id": "49872d1c",
   "metadata": {},
   "outputs": [],
   "source": [
    "# вывод всех значений ячейки\n",
    "from IPython.core.interactiveshell import InteractiveShell\n",
    "InteractiveShell.ast_node_interactivity = 'all'"
   ]
  },
  {
   "cell_type": "code",
   "execution_count": 4,
   "id": "857c76f0",
   "metadata": {},
   "outputs": [],
   "source": [
    "# Сброс ограничений на число столбцов\n",
    "pd.set_option('display.max_columns', None)\n",
    " \n",
    "# Сброс ограничений на количество символов в записи\n",
    "pd.set_option('display.max_colwidth', None)"
   ]
  },
  {
   "cell_type": "code",
   "execution_count": 5,
   "id": "0b6b8172",
   "metadata": {},
   "outputs": [],
   "source": [
    "# всегда фиксируйте RANDOM_SEED, чтобы ваши эксперименты были воспроизводимы!\n",
    "RANDOM_SEED = 42"
   ]
  },
  {
   "cell_type": "code",
   "execution_count": 6,
   "id": "1f760d8d",
   "metadata": {},
   "outputs": [],
   "source": [
    "# зафиксируем версию пакетов, чтобы эксперименты были воспроизводимы:\n",
    "!pip freeze > requirements.txt"
   ]
  },
  {
   "cell_type": "code",
   "execution_count": 7,
   "id": "e74d5363",
   "metadata": {},
   "outputs": [],
   "source": [
    "nko_data = pd.read_csv('data/nko_dropped.csv')"
   ]
  },
  {
   "cell_type": "code",
   "execution_count": 8,
   "id": "d1e32d9b",
   "metadata": {},
   "outputs": [
    {
     "name": "stdout",
     "output_type": "stream",
     "text": [
      "<class 'pandas.core.frame.DataFrame'>\n",
      "RangeIndex: 747034 entries, 0 to 747033\n",
      "Data columns (total 19 columns):\n",
      " #   Column              Non-Null Count   Dtype  \n",
      "---  ------              --------------   -----  \n",
      " 0   Unnamed: 0          747034 non-null  int64  \n",
      " 1   regionName          747009 non-null  object \n",
      " 2   fullName            747034 non-null  object \n",
      " 3   dateReg             321416 non-null  object \n",
      " 4   minjustForm         461073 non-null  object \n",
      " 5   ogrn                747034 non-null  int64  \n",
      " 6   opf                 747034 non-null  object \n",
      " 7   egrulStatus         747034 non-null  object \n",
      " 8   mainOkved           747034 non-null  object \n",
      " 9   regionCode          747034 non-null  int64  \n",
      " 10  incomeTotal         747034 non-null  float64\n",
      " 11  inn                 744430 non-null  float64\n",
      " 12  originDate          747034 non-null  object \n",
      " 13  dateLiquid          399961 non-null  object \n",
      " 14  address             747034 non-null  object \n",
      " 15  okogu               747034 non-null  object \n",
      " 16  hasRegionalSupport  747034 non-null  bool   \n",
      " 17  addOkved            747034 non-null  object \n",
      " 18  dateOgrn            747034 non-null  object \n",
      "dtypes: bool(1), float64(2), int64(3), object(13)\n",
      "memory usage: 103.3+ MB\n"
     ]
    }
   ],
   "source": [
    "nko_data.info()"
   ]
  },
  {
   "cell_type": "code",
   "execution_count": 9,
   "id": "33de59d2",
   "metadata": {
    "scrolled": true
   },
   "outputs": [
    {
     "data": {
      "text/html": [
       "<div>\n",
       "<style scoped>\n",
       "    .dataframe tbody tr th:only-of-type {\n",
       "        vertical-align: middle;\n",
       "    }\n",
       "\n",
       "    .dataframe tbody tr th {\n",
       "        vertical-align: top;\n",
       "    }\n",
       "\n",
       "    .dataframe thead th {\n",
       "        text-align: right;\n",
       "    }\n",
       "</style>\n",
       "<table border=\"1\" class=\"dataframe\">\n",
       "  <thead>\n",
       "    <tr style=\"text-align: right;\">\n",
       "      <th></th>\n",
       "      <th>Unnamed: 0</th>\n",
       "      <th>regionName</th>\n",
       "      <th>fullName</th>\n",
       "      <th>dateReg</th>\n",
       "      <th>minjustForm</th>\n",
       "      <th>ogrn</th>\n",
       "      <th>opf</th>\n",
       "      <th>egrulStatus</th>\n",
       "      <th>mainOkved</th>\n",
       "      <th>regionCode</th>\n",
       "      <th>incomeTotal</th>\n",
       "      <th>inn</th>\n",
       "      <th>originDate</th>\n",
       "      <th>dateLiquid</th>\n",
       "      <th>address</th>\n",
       "      <th>okogu</th>\n",
       "      <th>hasRegionalSupport</th>\n",
       "      <th>addOkved</th>\n",
       "      <th>dateOgrn</th>\n",
       "    </tr>\n",
       "  </thead>\n",
       "  <tbody>\n",
       "    <tr>\n",
       "      <th>429262</th>\n",
       "      <td>429262</td>\n",
       "      <td>Томская область</td>\n",
       "      <td>ГАРАЖНЫЙ КООПЕРАТИВ \"БЕРЕЗКА\"</td>\n",
       "      <td>NaN</td>\n",
       "      <td>NaN</td>\n",
       "      <td>1087017022949</td>\n",
       "      <td>{'name': 'Гаражные и гаражно-строительные кооперативы', 'code': '20101', 'version': 'okopf'}</td>\n",
       "      <td>Действует</td>\n",
       "      <td>{'name': 'Управление эксплуатацией нежилого фонда за вознаграждение или на договорной основе', 'code': '68.32.2', 'version': 'ОК 029-2014 (КДЕС Ред. 2)'}</td>\n",
       "      <td>70</td>\n",
       "      <td>0.0</td>\n",
       "      <td>7.017220e+09</td>\n",
       "      <td>{'$date': '2008-08-13T00:00:00.000Z'}</td>\n",
       "      <td>NaN</td>\n",
       "      <td>634040, ОБЛАСТЬ ТОМСКАЯ, ГОРОД ТОМСК, ТРАКТ ИРКУТСКИЙ, ДОМ 150, КВ./ОФИС 69</td>\n",
       "      <td>{'name': 'Организации, учрежденные юридическими лицами или гражданами, или юридическими лицами и гражданами совместно', 'code': '4210014'}</td>\n",
       "      <td>False</td>\n",
       "      <td>[]</td>\n",
       "      <td>{'$date': '2008-08-13T00:00:00.000Z'}</td>\n",
       "    </tr>\n",
       "  </tbody>\n",
       "</table>\n",
       "</div>"
      ],
      "text/plain": [
       "        Unnamed: 0       regionName                       fullName dateReg  \\\n",
       "429262      429262  Томская область  ГАРАЖНЫЙ КООПЕРАТИВ \"БЕРЕЗКА\"     NaN   \n",
       "\n",
       "       minjustForm           ogrn  \\\n",
       "429262         NaN  1087017022949   \n",
       "\n",
       "                                                                                                 opf  \\\n",
       "429262  {'name': 'Гаражные и гаражно-строительные кооперативы', 'code': '20101', 'version': 'okopf'}   \n",
       "\n",
       "       egrulStatus  \\\n",
       "429262   Действует   \n",
       "\n",
       "                                                                                                                                                        mainOkved  \\\n",
       "429262  {'name': 'Управление эксплуатацией нежилого фонда за вознаграждение или на договорной основе', 'code': '68.32.2', 'version': 'ОК 029-2014 (КДЕС Ред. 2)'}   \n",
       "\n",
       "        regionCode  incomeTotal           inn  \\\n",
       "429262          70          0.0  7.017220e+09   \n",
       "\n",
       "                                   originDate dateLiquid  \\\n",
       "429262  {'$date': '2008-08-13T00:00:00.000Z'}        NaN   \n",
       "\n",
       "                                                                            address  \\\n",
       "429262  634040, ОБЛАСТЬ ТОМСКАЯ, ГОРОД ТОМСК, ТРАКТ ИРКУТСКИЙ, ДОМ 150, КВ./ОФИС 69   \n",
       "\n",
       "                                                                                                                                             okogu  \\\n",
       "429262  {'name': 'Организации, учрежденные юридическими лицами или гражданами, или юридическими лицами и гражданами совместно', 'code': '4210014'}   \n",
       "\n",
       "        hasRegionalSupport addOkved                               dateOgrn  \n",
       "429262               False       []  {'$date': '2008-08-13T00:00:00.000Z'}  "
      ]
     },
     "execution_count": 9,
     "metadata": {},
     "output_type": "execute_result"
    }
   ],
   "source": [
    "nko_data.sample()"
   ]
  },
  {
   "cell_type": "code",
   "execution_count": 10,
   "id": "175dc148",
   "metadata": {},
   "outputs": [
    {
     "data": {
      "application/vnd.jupyter.widget-view+json": {
       "model_id": "73c39195418e408c8bfa28ceabca6eac",
       "version_major": 2,
       "version_minor": 0
      },
      "text/plain": [
       "Pandas Apply:   0%|          | 0/747034 [00:00<?, ?it/s]"
      ]
     },
     "metadata": {},
     "output_type": "display_data"
    },
    {
     "data": {
      "application/vnd.jupyter.widget-view+json": {
       "model_id": "fcbd65f4cf074c3d815ec55fb8724f5c",
       "version_major": 2,
       "version_minor": 0
      },
      "text/plain": [
       "Pandas Apply:   0%|          | 0/747034 [00:00<?, ?it/s]"
      ]
     },
     "metadata": {},
     "output_type": "display_data"
    },
    {
     "data": {
      "application/vnd.jupyter.widget-view+json": {
       "model_id": "90182139841b4598bbd9ad7b294cf8fc",
       "version_major": 2,
       "version_minor": 0
      },
      "text/plain": [
       "Pandas Apply:   0%|          | 0/747034 [00:00<?, ?it/s]"
      ]
     },
     "metadata": {},
     "output_type": "display_data"
    },
    {
     "data": {
      "application/vnd.jupyter.widget-view+json": {
       "model_id": "cf4ccfb65f014e39b967b00cc008e8af",
       "version_major": 2,
       "version_minor": 0
      },
      "text/plain": [
       "Pandas Apply:   0%|          | 0/747034 [00:00<?, ?it/s]"
      ]
     },
     "metadata": {},
     "output_type": "display_data"
    }
   ],
   "source": [
    "# список признаков, которые необходимо преобразовать\n",
    "list_to_dir = ['opf', 'mainOkved', 'okogu', 'addOkved']\n",
    "\n",
    "# преобразуем строки в словари\n",
    "for series in list_to_dir:\n",
    "    nko_data[series] = nko_data[series].swifter.apply(lambda x: eval(x))"
   ]
  },
  {
   "cell_type": "code",
   "execution_count": 11,
   "id": "d9379675",
   "metadata": {},
   "outputs": [
    {
     "data": {
      "application/vnd.jupyter.widget-view+json": {
       "model_id": "b8329dc00ce3467d9f1c1fc66637ea7e",
       "version_major": 2,
       "version_minor": 0
      },
      "text/plain": [
       "Dask Apply:   0%|          | 0/16 [00:00<?, ?it/s]"
      ]
     },
     "metadata": {},
     "output_type": "display_data"
    },
    {
     "data": {
      "application/vnd.jupyter.widget-view+json": {
       "model_id": "75c5b6c411f64b1ba4c61a5b288a4f15",
       "version_major": 2,
       "version_minor": 0
      },
      "text/plain": [
       "Dask Apply:   0%|          | 0/16 [00:00<?, ?it/s]"
      ]
     },
     "metadata": {},
     "output_type": "display_data"
    },
    {
     "data": {
      "application/vnd.jupyter.widget-view+json": {
       "model_id": "f2bd7f50a337436aa2ab6eaf3440dc40",
       "version_major": 2,
       "version_minor": 0
      },
      "text/plain": [
       "Dask Apply:   0%|          | 0/16 [00:00<?, ?it/s]"
      ]
     },
     "metadata": {},
     "output_type": "display_data"
    },
    {
     "data": {
      "application/vnd.jupyter.widget-view+json": {
       "model_id": "51189881cd1d42029c557c6a8070c943",
       "version_major": 2,
       "version_minor": 0
      },
      "text/plain": [
       "Dask Apply:   0%|          | 0/16 [00:00<?, ?it/s]"
      ]
     },
     "metadata": {},
     "output_type": "display_data"
    }
   ],
   "source": [
    "# список признаков, которые необходимо преобразовать\n",
    "list_to_datatime = ['dateReg', 'originDate', 'dateLiquid', 'dateOgrn']\n",
    "\n",
    "# преобразуем строки в дату и время\n",
    "for series in list_to_datatime:\n",
    "    # замена пропусков и приводим в строковому типу\n",
    "    nko_data[series].fillna('not data', inplace=True)\n",
    "    nko_data[series] = nko_data[series].astype('string')\n",
    "    # выделение даты из строки\n",
    "    nko_data[series] = nko_data[series].swifter.apply(\n",
    "        lambda x: parse(x, fuzzy=True) if x != 'not data' else x)"
   ]
  },
  {
   "cell_type": "code",
   "execution_count": 12,
   "id": "33b85a41",
   "metadata": {},
   "outputs": [
    {
     "data": {
      "application/vnd.jupyter.widget-view+json": {
       "model_id": "aba4c09ccf7d4c38a063c53a93a6934c",
       "version_major": 2,
       "version_minor": 0
      },
      "text/plain": [
       "Pandas Apply:   0%|          | 0/747034 [00:00<?, ?it/s]"
      ]
     },
     "metadata": {},
     "output_type": "display_data"
    },
    {
     "data": {
      "application/vnd.jupyter.widget-view+json": {
       "model_id": "1b7a94ae97dd4b76966a62560d021458",
       "version_major": 2,
       "version_minor": 0
      },
      "text/plain": [
       "Pandas Apply:   0%|          | 0/747034 [00:00<?, ?it/s]"
      ]
     },
     "metadata": {},
     "output_type": "display_data"
    }
   ],
   "source": [
    "# разбираем признак opf на составляющие\n",
    "nko_data['opf_name'] = nko_data['opf'].swifter.apply(lambda x: x['name'])\n",
    "nko_data['opf_code'] = nko_data['opf'].swifter.apply(lambda x: x['code'])\n",
    "# удаляем признак\n",
    "nko_data.drop(['opf'], axis=1, inplace=True)"
   ]
  },
  {
   "cell_type": "code",
   "execution_count": 13,
   "id": "36dbe9df",
   "metadata": {},
   "outputs": [
    {
     "data": {
      "application/vnd.jupyter.widget-view+json": {
       "model_id": "2e1297771d7c4b67ba1dd825c436504b",
       "version_major": 2,
       "version_minor": 0
      },
      "text/plain": [
       "Pandas Apply:   0%|          | 0/747034 [00:00<?, ?it/s]"
      ]
     },
     "metadata": {},
     "output_type": "display_data"
    },
    {
     "data": {
      "application/vnd.jupyter.widget-view+json": {
       "model_id": "b27acf2990f74486b25497de8ffeb829",
       "version_major": 2,
       "version_minor": 0
      },
      "text/plain": [
       "Pandas Apply:   0%|          | 0/747034 [00:00<?, ?it/s]"
      ]
     },
     "metadata": {},
     "output_type": "display_data"
    }
   ],
   "source": [
    "# разбираем признак mainOkved на составляющие\n",
    "nko_data['mainOkved_name'] = nko_data['mainOkved'].swifter.apply(\n",
    "    lambda x: x['name'])\n",
    "nko_data['mainOkved_code'] = nko_data['mainOkved'].swifter.apply(\n",
    "    lambda x: x['code'])\n",
    "# удаляем признак\n",
    "nko_data.drop(['mainOkved'], axis=1, inplace=True)"
   ]
  },
  {
   "cell_type": "code",
   "execution_count": 14,
   "id": "1592dd99",
   "metadata": {},
   "outputs": [
    {
     "data": {
      "application/vnd.jupyter.widget-view+json": {
       "model_id": "61a352b724c240cda750d2c86409a208",
       "version_major": 2,
       "version_minor": 0
      },
      "text/plain": [
       "Pandas Apply:   0%|          | 0/747034 [00:00<?, ?it/s]"
      ]
     },
     "metadata": {},
     "output_type": "display_data"
    }
   ],
   "source": [
    "# добавим признак кол-во addOkved\n",
    "nko_data['num_of_addOkved'] = nko_data['addOkved'].swifter.apply(lambda x: len(x))"
   ]
  },
  {
   "cell_type": "code",
   "execution_count": 15,
   "id": "5d186808",
   "metadata": {},
   "outputs": [],
   "source": [
    "# обработаем значения с помощью регулярных выражений\n",
    "def index_from_address(row):\n",
    "    '''Поиск индекса длиной от 5 до 6 цифр'''\n",
    "    \n",
    "    result = re.search(r'\\d{5,6}', row)\n",
    "    \n",
    "    if result:\n",
    "        return int(result[0])\n",
    "    return None"
   ]
  },
  {
   "cell_type": "code",
   "execution_count": 16,
   "id": "100c0c5a",
   "metadata": {},
   "outputs": [
    {
     "data": {
      "application/vnd.jupyter.widget-view+json": {
       "model_id": "718c1f93a99a44d1b1136d38cf3502aa",
       "version_major": 2,
       "version_minor": 0
      },
      "text/plain": [
       "Pandas Apply:   0%|          | 0/747034 [00:00<?, ?it/s]"
      ]
     },
     "metadata": {},
     "output_type": "display_data"
    }
   ],
   "source": [
    "# выделяем индекс из адреса в новый признак\n",
    "nko_data['index_address'] = nko_data['address'].swifter.apply(\n",
    "    index_from_address)"
   ]
  },
  {
   "cell_type": "code",
   "execution_count": 17,
   "id": "2f816766",
   "metadata": {},
   "outputs": [
    {
     "name": "stdout",
     "output_type": "stream",
     "text": [
      "<class 'pandas.core.frame.DataFrame'>\n",
      "RangeIndex: 747034 entries, 0 to 747033\n",
      "Data columns (total 23 columns):\n",
      " #   Column              Non-Null Count   Dtype                  \n",
      "---  ------              --------------   -----                  \n",
      " 0   Unnamed: 0          747034 non-null  int64                  \n",
      " 1   regionName          747009 non-null  object                 \n",
      " 2   fullName            747034 non-null  object                 \n",
      " 3   dateReg             747034 non-null  object                 \n",
      " 4   minjustForm         461073 non-null  object                 \n",
      " 5   ogrn                747034 non-null  int64                  \n",
      " 6   egrulStatus         747034 non-null  object                 \n",
      " 7   regionCode          747034 non-null  int64                  \n",
      " 8   incomeTotal         747034 non-null  float64                \n",
      " 9   inn                 744430 non-null  float64                \n",
      " 10  originDate          747034 non-null  datetime64[ns, tzutc()]\n",
      " 11  dateLiquid          747034 non-null  object                 \n",
      " 12  address             747034 non-null  object                 \n",
      " 13  okogu               747034 non-null  object                 \n",
      " 14  hasRegionalSupport  747034 non-null  bool                   \n",
      " 15  addOkved            747034 non-null  object                 \n",
      " 16  dateOgrn            747034 non-null  datetime64[ns, tzutc()]\n",
      " 17  opf_name            746619 non-null  object                 \n",
      " 18  opf_code            701825 non-null  object                 \n",
      " 19  mainOkved_name      542353 non-null  object                 \n",
      " 20  mainOkved_code      542353 non-null  object                 \n",
      " 21  num_of_addOkved     747034 non-null  int64                  \n",
      " 22  index_address       737309 non-null  float64                \n",
      "dtypes: bool(1), datetime64[ns, tzutc()](2), float64(3), int64(4), object(13)\n",
      "memory usage: 126.1+ MB\n"
     ]
    }
   ],
   "source": [
    "nko_data.info()"
   ]
  },
  {
   "cell_type": "code",
   "execution_count": 18,
   "id": "29afa48c",
   "metadata": {},
   "outputs": [
    {
     "data": {
      "text/plain": [
       "Unnamed: 0                 0\n",
       "regionName                25\n",
       "fullName                   0\n",
       "dateReg                    0\n",
       "minjustForm           285961\n",
       "ogrn                       0\n",
       "egrulStatus                0\n",
       "regionCode                 0\n",
       "incomeTotal                0\n",
       "inn                     2604\n",
       "originDate                 0\n",
       "dateLiquid                 0\n",
       "address                    0\n",
       "okogu                      0\n",
       "hasRegionalSupport         0\n",
       "addOkved                   0\n",
       "dateOgrn                   0\n",
       "opf_name                 415\n",
       "opf_code               45209\n",
       "mainOkved_name        204681\n",
       "mainOkved_code        204681\n",
       "num_of_addOkved            0\n",
       "index_address           9725\n",
       "dtype: int64"
      ]
     },
     "execution_count": 18,
     "metadata": {},
     "output_type": "execute_result"
    }
   ],
   "source": [
    "# посмотрим количество пропусков в каждом признаке\n",
    "nko_data.isna().sum()"
   ]
  },
  {
   "cell_type": "markdown",
   "id": "4051f9c7",
   "metadata": {},
   "source": [
    "#### Проверим региональные признаки"
   ]
  },
  {
   "cell_type": "code",
   "execution_count": 19,
   "id": "bb2b2e98",
   "metadata": {},
   "outputs": [
    {
     "data": {
      "text/plain": [
       "Москва                          80178\n",
       "Московская область              37927\n",
       "Санкт-Петербург                 31767\n",
       "Краснодарский край              23337\n",
       "Свердловская область            23030\n",
       "                                ...  \n",
       "Республика Ингушетия             1249\n",
       "Еврейская автономная область     1197\n",
       "Чукотский автономный округ        505\n",
       "Ненецкий автономный округ         398\n",
       "Не определено                      91\n",
       "Name: regionName, Length: 86, dtype: int64"
      ]
     },
     "execution_count": 19,
     "metadata": {},
     "output_type": "execute_result"
    }
   ],
   "source": [
    "nko_data['regionName'].value_counts()"
   ]
  },
  {
   "cell_type": "code",
   "execution_count": 20,
   "id": "b10951d2",
   "metadata": {},
   "outputs": [
    {
     "data": {
      "text/html": [
       "<div>\n",
       "<style scoped>\n",
       "    .dataframe tbody tr th:only-of-type {\n",
       "        vertical-align: middle;\n",
       "    }\n",
       "\n",
       "    .dataframe tbody tr th {\n",
       "        vertical-align: top;\n",
       "    }\n",
       "\n",
       "    .dataframe thead th {\n",
       "        text-align: right;\n",
       "    }\n",
       "</style>\n",
       "<table border=\"1\" class=\"dataframe\">\n",
       "  <thead>\n",
       "    <tr style=\"text-align: right;\">\n",
       "      <th></th>\n",
       "      <th>Unnamed: 0</th>\n",
       "      <th>regionName</th>\n",
       "      <th>fullName</th>\n",
       "      <th>dateReg</th>\n",
       "      <th>minjustForm</th>\n",
       "      <th>ogrn</th>\n",
       "      <th>egrulStatus</th>\n",
       "      <th>regionCode</th>\n",
       "      <th>incomeTotal</th>\n",
       "      <th>inn</th>\n",
       "      <th>originDate</th>\n",
       "      <th>dateLiquid</th>\n",
       "      <th>address</th>\n",
       "      <th>okogu</th>\n",
       "      <th>hasRegionalSupport</th>\n",
       "      <th>addOkved</th>\n",
       "      <th>dateOgrn</th>\n",
       "      <th>opf_name</th>\n",
       "      <th>opf_code</th>\n",
       "      <th>mainOkved_name</th>\n",
       "      <th>mainOkved_code</th>\n",
       "      <th>num_of_addOkved</th>\n",
       "      <th>index_address</th>\n",
       "    </tr>\n",
       "  </thead>\n",
       "  <tbody>\n",
       "    <tr>\n",
       "      <th>3277</th>\n",
       "      <td>3277</td>\n",
       "      <td>Не определено</td>\n",
       "      <td>КРЕДИТНЫЙ ПОТРЕБИТЕЛЬСКИЙ КООПЕРАТИВ \"БОЛЬШОЙ КАПИТАЛ\"</td>\n",
       "      <td>not data</td>\n",
       "      <td>NaN</td>\n",
       "      <td>1209900000100</td>\n",
       "      <td>Действует</td>\n",
       "      <td>99</td>\n",
       "      <td>0.0</td>\n",
       "      <td>9.901037e+09</td>\n",
       "      <td>2020-12-28 00:00:00+00:00</td>\n",
       "      <td>not data</td>\n",
       "      <td>468320, Г. БАЙКОНУР, УЛ. ГОРЬКОГО, ДОМ Д. 16</td>\n",
       "      <td>{'name': None, 'code': None}</td>\n",
       "      <td>False</td>\n",
       "      <td>[{'name': 'Консультирование по вопросам коммерческой деятельности и управления', 'code': '70.22', 'version': 'ОК 029-2014 (КДЕС Ред. 2)'}, {'name': 'Деятельность по предоставлению консультационных услуг по вопросам финансового посредничества', 'code': '66.19.4', 'version': 'ОК 029-2014 (КДЕС Ред. 2)'}, {'name': 'Деятельность по предоставлению займов промышленности', 'code': '64.92.2', 'version': 'ОК 029-2014 (КДЕС Ред. 2)'}, {'name': 'Деятельность по предоставлению потребительского кредита', 'code': '64.92.1', 'version': 'ОК 029-2014 (КДЕС Ред. 2)'}, {'name': 'Деятельность по предоставлению денежных ссуд под залог недвижимого имущества', 'code': '64.92.3', 'version': 'ОК 029-2014 (КДЕС Ред. 2)'}, {'name': 'Деятельность по оказанию консультационных и информационных услуг', 'code': '63.99.1', 'version': 'ОК 029-2014 (КДЕС Ред. 2)'}]</td>\n",
       "      <td>2020-12-28 00:00:00+00:00</td>\n",
       "      <td>Кредитные потребительские кооперативы</td>\n",
       "      <td>20104</td>\n",
       "      <td>Деятельность по финансовой взаимопомощи</td>\n",
       "      <td>64.99.6</td>\n",
       "      <td>6</td>\n",
       "      <td>468320.0</td>\n",
       "    </tr>\n",
       "    <tr>\n",
       "      <th>3721</th>\n",
       "      <td>3721</td>\n",
       "      <td>Не определено</td>\n",
       "      <td>БАЙКОНУРСКАЯ ГОРОДСКАЯ ОБЩЕСТВЕННАЯ ОРГАНИЗАЦИЯ ЗАЩИТЫ ЖИВОТНЫХ \"ПОДАРИ НАДЕЖДУ\"</td>\n",
       "      <td>not data</td>\n",
       "      <td>Общественная организация</td>\n",
       "      <td>1205000106970</td>\n",
       "      <td>Действует</td>\n",
       "      <td>99</td>\n",
       "      <td>0.0</td>\n",
       "      <td>9.901037e+09</td>\n",
       "      <td>2020-11-20 00:00:00+00:00</td>\n",
       "      <td>not data</td>\n",
       "      <td>468325, ГОРОД БАЙКОНУР, МИКРОРАЙОН 5-Й, ДОМ 25, КВАРТИРА 16А</td>\n",
       "      <td>{'name': None, 'code': None}</td>\n",
       "      <td>False</td>\n",
       "      <td>[{'name': 'Предоставление прочих персональных услуг, не включенных в другие группировки', 'code': '96.09', 'version': 'ОК 029-2014 (КДЕС Ред. 2)'}, {'name': 'Деятельность ветеринарная', 'code': '75.00', 'version': 'ОК 029-2014 (КДЕС Ред. 2)'}]</td>\n",
       "      <td>2020-11-20 00:00:00+00:00</td>\n",
       "      <td>Общественные организации</td>\n",
       "      <td>20200</td>\n",
       "      <td>Деятельность прочих общественных организаций, не включенных в другие группировки</td>\n",
       "      <td>94.99</td>\n",
       "      <td>2</td>\n",
       "      <td>468325.0</td>\n",
       "    </tr>\n",
       "    <tr>\n",
       "      <th>35939</th>\n",
       "      <td>35939</td>\n",
       "      <td>Не определено</td>\n",
       "      <td>ОБЩЕСТВЕННАЯ ОРГАНИЗАЦИЯ \"БАЙКОНУРСКАЯ ФЕДЕРАЦИЯ БОКСА\"</td>\n",
       "      <td>not data</td>\n",
       "      <td>Общественная организация</td>\n",
       "      <td>1095000003977</td>\n",
       "      <td>Ликвидирована</td>\n",
       "      <td>99</td>\n",
       "      <td>0.0</td>\n",
       "      <td>9.901034e+09</td>\n",
       "      <td>2009-07-30 00:00:00+00:00</td>\n",
       "      <td>2017-10-11 00:00:00+00:00</td>\n",
       "      <td>468320, ГОРОД БАЙКОНУР, ГОРОД БАЙКОНУР, УЛИЦА АВИАЦИОННАЯ, ДОМ 9</td>\n",
       "      <td>{'name': None, 'code': None}</td>\n",
       "      <td>False</td>\n",
       "      <td>[]</td>\n",
       "      <td>2009-07-30 00:00:00+00:00</td>\n",
       "      <td>ОБЩЕСТВЕННАЯ ОРГАНИЗАЦИЯ</td>\n",
       "      <td>None</td>\n",
       "      <td>Деятельность прочих общественных организаций, не включенных в другие группировки</td>\n",
       "      <td>94.99</td>\n",
       "      <td>0</td>\n",
       "      <td>468320.0</td>\n",
       "    </tr>\n",
       "    <tr>\n",
       "      <th>53749</th>\n",
       "      <td>53749</td>\n",
       "      <td>Не определено</td>\n",
       "      <td>ПОТРЕБИТЕЛЬСКИЙ КООПЕРАТИВ \"ГАРАЖНО-СТРОИТЕЛЬНЫЙ КООПЕАТИВ \"ДИНАМО\"</td>\n",
       "      <td>not data</td>\n",
       "      <td>NaN</td>\n",
       "      <td>1039923001271</td>\n",
       "      <td>Ликвидирована</td>\n",
       "      <td>99</td>\n",
       "      <td>0.0</td>\n",
       "      <td>9.901006e+09</td>\n",
       "      <td>2003-07-22 00:00:00+00:00</td>\n",
       "      <td>2005-04-05 00:00:00+00:00</td>\n",
       "      <td>468320, ГОРОД БАЙКОНУР, ПРОСПЕКТ АБАЯ, ДОМ 0</td>\n",
       "      <td>{'name': None, 'code': None}</td>\n",
       "      <td>False</td>\n",
       "      <td>[]</td>\n",
       "      <td>2003-07-22 00:00:00+00:00</td>\n",
       "      <td>Потребительский кооператив</td>\n",
       "      <td>85</td>\n",
       "      <td>None</td>\n",
       "      <td>None</td>\n",
       "      <td>0</td>\n",
       "      <td>468320.0</td>\n",
       "    </tr>\n",
       "    <tr>\n",
       "      <th>53752</th>\n",
       "      <td>53752</td>\n",
       "      <td>Не определено</td>\n",
       "      <td>ПОТРЕБИТЕЛЬСКИЙ КООПЕРАТИВ \"ГАРАЖНО-СТРОИТЕЛЬНЫЙ КООПЕРАТИВ № 3А\"</td>\n",
       "      <td>2002-05-27 00:00:00+00:00</td>\n",
       "      <td>NaN</td>\n",
       "      <td>1039923000974</td>\n",
       "      <td>Ликвидирована</td>\n",
       "      <td>99</td>\n",
       "      <td>0.0</td>\n",
       "      <td>9.901006e+09</td>\n",
       "      <td>2002-05-27 00:00:00+00:00</td>\n",
       "      <td>2011-02-18 00:00:00+00:00</td>\n",
       "      <td>468320, ГОРОД БАЙКОНУР, УЛИЦА ЯНГЕЛЯ, ДОМ 0</td>\n",
       "      <td>{'name': None, 'code': None}</td>\n",
       "      <td>False</td>\n",
       "      <td>[{'name': 'Деятельность прочих общественных организаций, не включенных в другие группировки', 'code': '91.33', 'version': 'ОК 029-2001 (КДЕС Ред. 1)'}, {'name': 'Эксплуатация гаражей, стоянок для автотранспортных средств, велосипедов и т.п.', 'code': '63.21.24', 'version': 'ОК 029-2001 (КДЕС Ред. 1)'}]</td>\n",
       "      <td>2003-05-20 00:00:00+00:00</td>\n",
       "      <td>Потребительский кооператив</td>\n",
       "      <td>85</td>\n",
       "      <td>Хранение и складирование</td>\n",
       "      <td>63.12</td>\n",
       "      <td>2</td>\n",
       "      <td>468320.0</td>\n",
       "    </tr>\n",
       "    <tr>\n",
       "      <th>...</th>\n",
       "      <td>...</td>\n",
       "      <td>...</td>\n",
       "      <td>...</td>\n",
       "      <td>...</td>\n",
       "      <td>...</td>\n",
       "      <td>...</td>\n",
       "      <td>...</td>\n",
       "      <td>...</td>\n",
       "      <td>...</td>\n",
       "      <td>...</td>\n",
       "      <td>...</td>\n",
       "      <td>...</td>\n",
       "      <td>...</td>\n",
       "      <td>...</td>\n",
       "      <td>...</td>\n",
       "      <td>...</td>\n",
       "      <td>...</td>\n",
       "      <td>...</td>\n",
       "      <td>...</td>\n",
       "      <td>...</td>\n",
       "      <td>...</td>\n",
       "      <td>...</td>\n",
       "      <td>...</td>\n",
       "    </tr>\n",
       "    <tr>\n",
       "      <th>712352</th>\n",
       "      <td>712352</td>\n",
       "      <td>Не определено</td>\n",
       "      <td>ПРОФСОЮЗНАЯ ОРГАНИЗАЦИЯ РАБОТНИКОВ ГОСУДАРСТВЕННОГО УНИТАРНОГО ПРЕДПРИЯТИЯ \"ПРОИЗВОДСТВЕННО-ЭНЕРГЕТИЧЕСКОЕ ОБЪЕДИНЕНИЕ \"БАЙКОНУРЭНЕРГО\"</td>\n",
       "      <td>not data</td>\n",
       "      <td>Профессиональный союз</td>\n",
       "      <td>1055000008139</td>\n",
       "      <td>Ликвидирована</td>\n",
       "      <td>99</td>\n",
       "      <td>0.0</td>\n",
       "      <td>9.901007e+09</td>\n",
       "      <td>2005-05-19 00:00:00+00:00</td>\n",
       "      <td>2019-07-12 00:00:00+00:00</td>\n",
       "      <td>468320, ГОРОД БАЙКОНУР, ГОРОД БАЙКОНУР, УЛИЦА ГВАРДЕЙСКАЯ, ДОМ 3</td>\n",
       "      <td>{'name': None, 'code': None}</td>\n",
       "      <td>False</td>\n",
       "      <td>[]</td>\n",
       "      <td>2005-05-19 00:00:00+00:00</td>\n",
       "      <td>Профсоюзные организации</td>\n",
       "      <td>20202</td>\n",
       "      <td>Деятельность профессиональных союзов</td>\n",
       "      <td>94.20</td>\n",
       "      <td>0</td>\n",
       "      <td>468320.0</td>\n",
       "    </tr>\n",
       "    <tr>\n",
       "      <th>733025</th>\n",
       "      <td>733025</td>\n",
       "      <td>Не определено</td>\n",
       "      <td>ПОТРЕБИТЕЛЬСКИЙ КООПЕРАТИВ \"ГАРАЖНО-СТРОИТЕЛЬНЫЙ КООПЕРАТИВ НЕВА\"</td>\n",
       "      <td>not data</td>\n",
       "      <td>NaN</td>\n",
       "      <td>1059930305192</td>\n",
       "      <td>Ликвидирована</td>\n",
       "      <td>99</td>\n",
       "      <td>0.0</td>\n",
       "      <td>9.901007e+09</td>\n",
       "      <td>2005-08-17 00:00:00+00:00</td>\n",
       "      <td>2011-02-18 00:00:00+00:00</td>\n",
       "      <td>468320, ГОРОД БАЙКОНУР, УЛИЦА ЯНГЕЛЯ, РАЙОН ТЭЦ, КОРПУС -, КВ./ОФИС -</td>\n",
       "      <td>{'name': None, 'code': None}</td>\n",
       "      <td>False</td>\n",
       "      <td>[]</td>\n",
       "      <td>2005-08-17 00:00:00+00:00</td>\n",
       "      <td>Потребительский кооператив</td>\n",
       "      <td>85</td>\n",
       "      <td>Эксплуатация гаражей, стоянок для автотранспортных средств, велосипедов и т.п.</td>\n",
       "      <td>63.21.24</td>\n",
       "      <td>0</td>\n",
       "      <td>468320.0</td>\n",
       "    </tr>\n",
       "    <tr>\n",
       "      <th>733931</th>\n",
       "      <td>733931</td>\n",
       "      <td>Не определено</td>\n",
       "      <td>ПОТРЕБИТЕЛЬСКИЙ КООПЕРАТИВ \"ГАРАЖНО-СТРОИТЕЛЬНЫЙ КООПЕРАТИВ № 2\"</td>\n",
       "      <td>not data</td>\n",
       "      <td>NaN</td>\n",
       "      <td>1059930301947</td>\n",
       "      <td>Действует</td>\n",
       "      <td>99</td>\n",
       "      <td>0.0</td>\n",
       "      <td>9.901007e+09</td>\n",
       "      <td>2005-04-26 00:00:00+00:00</td>\n",
       "      <td>not data</td>\n",
       "      <td>468320, ГОРОД БАЙКОНУР, УЛИЦА ЯНГЕЛЯ, РАЙОН ТЭЦ, КОРПУС -, КВ./ОФИС -</td>\n",
       "      <td>{'name': 'Организации, учрежденные юридическими лицами или гражданами, или юридическими лицами и гражданами совместно', 'code': '4210014'}</td>\n",
       "      <td>False</td>\n",
       "      <td>[]</td>\n",
       "      <td>2005-04-26 00:00:00+00:00</td>\n",
       "      <td>Гаражные и гаражно-строительные кооперативы</td>\n",
       "      <td>20101</td>\n",
       "      <td>Деятельность стоянок для транспортных средств</td>\n",
       "      <td>52.21.24</td>\n",
       "      <td>0</td>\n",
       "      <td>468320.0</td>\n",
       "    </tr>\n",
       "    <tr>\n",
       "      <th>736036</th>\n",
       "      <td>736036</td>\n",
       "      <td>Не определено</td>\n",
       "      <td>ПОТРЕБИТЕЛЬСКИЙ КООПЕРАТИВ \"ГАРАЖНО-СТРОИТЕЛЬНЫЙ КООПЕРАТИВ № 19\"</td>\n",
       "      <td>not data</td>\n",
       "      <td>NaN</td>\n",
       "      <td>1059930306336</td>\n",
       "      <td>Действует</td>\n",
       "      <td>99</td>\n",
       "      <td>0.0</td>\n",
       "      <td>9.901007e+09</td>\n",
       "      <td>2005-11-29 00:00:00+00:00</td>\n",
       "      <td>not data</td>\n",
       "      <td>468320, ГОРОД БАЙКОНУР, УЛИЦА ЯНГЕЛЯ, ДОМ -, КОРПУС -, КВ./ОФИС -</td>\n",
       "      <td>{'name': 'Организации, учрежденные юридическими лицами или гражданами, или юридическими лицами и гражданами совместно', 'code': '4210014'}</td>\n",
       "      <td>False</td>\n",
       "      <td>[]</td>\n",
       "      <td>2005-11-29 00:00:00+00:00</td>\n",
       "      <td>Гаражные и гаражно-строительные кооперативы</td>\n",
       "      <td>20101</td>\n",
       "      <td>Деятельность стоянок для транспортных средств</td>\n",
       "      <td>52.21.24</td>\n",
       "      <td>0</td>\n",
       "      <td>468320.0</td>\n",
       "    </tr>\n",
       "    <tr>\n",
       "      <th>739768</th>\n",
       "      <td>739768</td>\n",
       "      <td>Не определено</td>\n",
       "      <td>ПОТРЕБИТЕЛЬСКИЙ КООПЕРАТИВ \"ГАРАЖНО-СТРОИТЕЛЬНЫЙ КООПЕРАТИВ № 18\"</td>\n",
       "      <td>not data</td>\n",
       "      <td>NaN</td>\n",
       "      <td>1069901003435</td>\n",
       "      <td>Действует</td>\n",
       "      <td>99</td>\n",
       "      <td>0.0</td>\n",
       "      <td>9.901008e+09</td>\n",
       "      <td>2006-04-14 00:00:00+00:00</td>\n",
       "      <td>not data</td>\n",
       "      <td>468320, ГОРОД БАЙКОНУР, УЛИЦА ЯНГЕЛЯ, РАЙОН ТЭЦ</td>\n",
       "      <td>{'name': 'Организации, учрежденные юридическими лицами или гражданами, или юридическими лицами и гражданами совместно', 'code': '4210014'}</td>\n",
       "      <td>False</td>\n",
       "      <td>[]</td>\n",
       "      <td>2006-04-14 00:00:00+00:00</td>\n",
       "      <td>Гаражные и гаражно-строительные кооперативы</td>\n",
       "      <td>20101</td>\n",
       "      <td>Деятельность стоянок для транспортных средств</td>\n",
       "      <td>52.21.24</td>\n",
       "      <td>0</td>\n",
       "      <td>468320.0</td>\n",
       "    </tr>\n",
       "  </tbody>\n",
       "</table>\n",
       "<p>91 rows × 23 columns</p>\n",
       "</div>"
      ],
      "text/plain": [
       "        Unnamed: 0     regionName  \\\n",
       "3277          3277  Не определено   \n",
       "3721          3721  Не определено   \n",
       "35939        35939  Не определено   \n",
       "53749        53749  Не определено   \n",
       "53752        53752  Не определено   \n",
       "...            ...            ...   \n",
       "712352      712352  Не определено   \n",
       "733025      733025  Не определено   \n",
       "733931      733931  Не определено   \n",
       "736036      736036  Не определено   \n",
       "739768      739768  Не определено   \n",
       "\n",
       "                                                                                                                                       fullName  \\\n",
       "3277                                                                                     КРЕДИТНЫЙ ПОТРЕБИТЕЛЬСКИЙ КООПЕРАТИВ \"БОЛЬШОЙ КАПИТАЛ\"   \n",
       "3721                                                           БАЙКОНУРСКАЯ ГОРОДСКАЯ ОБЩЕСТВЕННАЯ ОРГАНИЗАЦИЯ ЗАЩИТЫ ЖИВОТНЫХ \"ПОДАРИ НАДЕЖДУ\"   \n",
       "35939                                                                                   ОБЩЕСТВЕННАЯ ОРГАНИЗАЦИЯ \"БАЙКОНУРСКАЯ ФЕДЕРАЦИЯ БОКСА\"   \n",
       "53749                                                                       ПОТРЕБИТЕЛЬСКИЙ КООПЕРАТИВ \"ГАРАЖНО-СТРОИТЕЛЬНЫЙ КООПЕАТИВ \"ДИНАМО\"   \n",
       "53752                                                                         ПОТРЕБИТЕЛЬСКИЙ КООПЕРАТИВ \"ГАРАЖНО-СТРОИТЕЛЬНЫЙ КООПЕРАТИВ № 3А\"   \n",
       "...                                                                                                                                         ...   \n",
       "712352  ПРОФСОЮЗНАЯ ОРГАНИЗАЦИЯ РАБОТНИКОВ ГОСУДАРСТВЕННОГО УНИТАРНОГО ПРЕДПРИЯТИЯ \"ПРОИЗВОДСТВЕННО-ЭНЕРГЕТИЧЕСКОЕ ОБЪЕДИНЕНИЕ \"БАЙКОНУРЭНЕРГО\"   \n",
       "733025                                                                        ПОТРЕБИТЕЛЬСКИЙ КООПЕРАТИВ \"ГАРАЖНО-СТРОИТЕЛЬНЫЙ КООПЕРАТИВ НЕВА\"   \n",
       "733931                                                                         ПОТРЕБИТЕЛЬСКИЙ КООПЕРАТИВ \"ГАРАЖНО-СТРОИТЕЛЬНЫЙ КООПЕРАТИВ № 2\"   \n",
       "736036                                                                        ПОТРЕБИТЕЛЬСКИЙ КООПЕРАТИВ \"ГАРАЖНО-СТРОИТЕЛЬНЫЙ КООПЕРАТИВ № 19\"   \n",
       "739768                                                                        ПОТРЕБИТЕЛЬСКИЙ КООПЕРАТИВ \"ГАРАЖНО-СТРОИТЕЛЬНЫЙ КООПЕРАТИВ № 18\"   \n",
       "\n",
       "                          dateReg               minjustForm           ogrn  \\\n",
       "3277                     not data                       NaN  1209900000100   \n",
       "3721                     not data  Общественная организация  1205000106970   \n",
       "35939                    not data  Общественная организация  1095000003977   \n",
       "53749                    not data                       NaN  1039923001271   \n",
       "53752   2002-05-27 00:00:00+00:00                       NaN  1039923000974   \n",
       "...                           ...                       ...            ...   \n",
       "712352                   not data     Профессиональный союз  1055000008139   \n",
       "733025                   not data                       NaN  1059930305192   \n",
       "733931                   not data                       NaN  1059930301947   \n",
       "736036                   not data                       NaN  1059930306336   \n",
       "739768                   not data                       NaN  1069901003435   \n",
       "\n",
       "          egrulStatus  regionCode  incomeTotal           inn  \\\n",
       "3277        Действует          99          0.0  9.901037e+09   \n",
       "3721        Действует          99          0.0  9.901037e+09   \n",
       "35939   Ликвидирована          99          0.0  9.901034e+09   \n",
       "53749   Ликвидирована          99          0.0  9.901006e+09   \n",
       "53752   Ликвидирована          99          0.0  9.901006e+09   \n",
       "...               ...         ...          ...           ...   \n",
       "712352  Ликвидирована          99          0.0  9.901007e+09   \n",
       "733025  Ликвидирована          99          0.0  9.901007e+09   \n",
       "733931      Действует          99          0.0  9.901007e+09   \n",
       "736036      Действует          99          0.0  9.901007e+09   \n",
       "739768      Действует          99          0.0  9.901008e+09   \n",
       "\n",
       "                      originDate                 dateLiquid  \\\n",
       "3277   2020-12-28 00:00:00+00:00                   not data   \n",
       "3721   2020-11-20 00:00:00+00:00                   not data   \n",
       "35939  2009-07-30 00:00:00+00:00  2017-10-11 00:00:00+00:00   \n",
       "53749  2003-07-22 00:00:00+00:00  2005-04-05 00:00:00+00:00   \n",
       "53752  2002-05-27 00:00:00+00:00  2011-02-18 00:00:00+00:00   \n",
       "...                          ...                        ...   \n",
       "712352 2005-05-19 00:00:00+00:00  2019-07-12 00:00:00+00:00   \n",
       "733025 2005-08-17 00:00:00+00:00  2011-02-18 00:00:00+00:00   \n",
       "733931 2005-04-26 00:00:00+00:00                   not data   \n",
       "736036 2005-11-29 00:00:00+00:00                   not data   \n",
       "739768 2006-04-14 00:00:00+00:00                   not data   \n",
       "\n",
       "                                                                      address  \\\n",
       "3277                             468320, Г. БАЙКОНУР, УЛ. ГОРЬКОГО, ДОМ Д. 16   \n",
       "3721             468325, ГОРОД БАЙКОНУР, МИКРОРАЙОН 5-Й, ДОМ 25, КВАРТИРА 16А   \n",
       "35939        468320, ГОРОД БАЙКОНУР, ГОРОД БАЙКОНУР, УЛИЦА АВИАЦИОННАЯ, ДОМ 9   \n",
       "53749                            468320, ГОРОД БАЙКОНУР, ПРОСПЕКТ АБАЯ, ДОМ 0   \n",
       "53752                             468320, ГОРОД БАЙКОНУР, УЛИЦА ЯНГЕЛЯ, ДОМ 0   \n",
       "...                                                                       ...   \n",
       "712352       468320, ГОРОД БАЙКОНУР, ГОРОД БАЙКОНУР, УЛИЦА ГВАРДЕЙСКАЯ, ДОМ 3   \n",
       "733025  468320, ГОРОД БАЙКОНУР, УЛИЦА ЯНГЕЛЯ, РАЙОН ТЭЦ, КОРПУС -, КВ./ОФИС -   \n",
       "733931  468320, ГОРОД БАЙКОНУР, УЛИЦА ЯНГЕЛЯ, РАЙОН ТЭЦ, КОРПУС -, КВ./ОФИС -   \n",
       "736036      468320, ГОРОД БАЙКОНУР, УЛИЦА ЯНГЕЛЯ, ДОМ -, КОРПУС -, КВ./ОФИС -   \n",
       "739768                        468320, ГОРОД БАЙКОНУР, УЛИЦА ЯНГЕЛЯ, РАЙОН ТЭЦ   \n",
       "\n",
       "                                                                                                                                             okogu  \\\n",
       "3277                                                                                                                  {'name': None, 'code': None}   \n",
       "3721                                                                                                                  {'name': None, 'code': None}   \n",
       "35939                                                                                                                 {'name': None, 'code': None}   \n",
       "53749                                                                                                                 {'name': None, 'code': None}   \n",
       "53752                                                                                                                 {'name': None, 'code': None}   \n",
       "...                                                                                                                                            ...   \n",
       "712352                                                                                                                {'name': None, 'code': None}   \n",
       "733025                                                                                                                {'name': None, 'code': None}   \n",
       "733931  {'name': 'Организации, учрежденные юридическими лицами или гражданами, или юридическими лицами и гражданами совместно', 'code': '4210014'}   \n",
       "736036  {'name': 'Организации, учрежденные юридическими лицами или гражданами, или юридическими лицами и гражданами совместно', 'code': '4210014'}   \n",
       "739768  {'name': 'Организации, учрежденные юридическими лицами или гражданами, или юридическими лицами и гражданами совместно', 'code': '4210014'}   \n",
       "\n",
       "        hasRegionalSupport  \\\n",
       "3277                 False   \n",
       "3721                 False   \n",
       "35939                False   \n",
       "53749                False   \n",
       "53752                False   \n",
       "...                    ...   \n",
       "712352               False   \n",
       "733025               False   \n",
       "733931               False   \n",
       "736036               False   \n",
       "739768               False   \n",
       "\n",
       "                                                                                                                                                                                                                                                                                                                                                                                                                                                                                                                                                                                                                                                                                                                                                                                                                                                                          addOkved  \\\n",
       "3277    [{'name': 'Консультирование по вопросам коммерческой деятельности и управления', 'code': '70.22', 'version': 'ОК 029-2014 (КДЕС Ред. 2)'}, {'name': 'Деятельность по предоставлению консультационных услуг по вопросам финансового посредничества', 'code': '66.19.4', 'version': 'ОК 029-2014 (КДЕС Ред. 2)'}, {'name': 'Деятельность по предоставлению займов промышленности', 'code': '64.92.2', 'version': 'ОК 029-2014 (КДЕС Ред. 2)'}, {'name': 'Деятельность по предоставлению потребительского кредита', 'code': '64.92.1', 'version': 'ОК 029-2014 (КДЕС Ред. 2)'}, {'name': 'Деятельность по предоставлению денежных ссуд под залог недвижимого имущества', 'code': '64.92.3', 'version': 'ОК 029-2014 (КДЕС Ред. 2)'}, {'name': 'Деятельность по оказанию консультационных и информационных услуг', 'code': '63.99.1', 'version': 'ОК 029-2014 (КДЕС Ред. 2)'}]   \n",
       "3721                                                                                                                                                                                                                                                                                                                                                                                                                                                                                                                                                                                                                           [{'name': 'Предоставление прочих персональных услуг, не включенных в другие группировки', 'code': '96.09', 'version': 'ОК 029-2014 (КДЕС Ред. 2)'}, {'name': 'Деятельность ветеринарная', 'code': '75.00', 'version': 'ОК 029-2014 (КДЕС Ред. 2)'}]   \n",
       "35939                                                                                                                                                                                                                                                                                                                                                                                                                                                                                                                                                                                                                                                                                                                                                                                                                                                                           []   \n",
       "53749                                                                                                                                                                                                                                                                                                                                                                                                                                                                                                                                                                                                                                                                                                                                                                                                                                                                           []   \n",
       "53752                                                                                                                                                                                                                                                                                                                                                                                                                                                                                                                                                              [{'name': 'Деятельность прочих общественных организаций, не включенных в другие группировки', 'code': '91.33', 'version': 'ОК 029-2001 (КДЕС Ред. 1)'}, {'name': 'Эксплуатация гаражей, стоянок для автотранспортных средств, велосипедов и т.п.', 'code': '63.21.24', 'version': 'ОК 029-2001 (КДЕС Ред. 1)'}]   \n",
       "...                                                                                                                                                                                                                                                                                                                                                                                                                                                                                                                                                                                                                                                                                                                                                                                                                                                                            ...   \n",
       "712352                                                                                                                                                                                                                                                                                                                                                                                                                                                                                                                                                                                                                                                                                                                                                                                                                                                                          []   \n",
       "733025                                                                                                                                                                                                                                                                                                                                                                                                                                                                                                                                                                                                                                                                                                                                                                                                                                                                          []   \n",
       "733931                                                                                                                                                                                                                                                                                                                                                                                                                                                                                                                                                                                                                                                                                                                                                                                                                                                                          []   \n",
       "736036                                                                                                                                                                                                                                                                                                                                                                                                                                                                                                                                                                                                                                                                                                                                                                                                                                                                          []   \n",
       "739768                                                                                                                                                                                                                                                                                                                                                                                                                                                                                                                                                                                                                                                                                                                                                                                                                                                                          []   \n",
       "\n",
       "                        dateOgrn                                     opf_name  \\\n",
       "3277   2020-12-28 00:00:00+00:00        Кредитные потребительские кооперативы   \n",
       "3721   2020-11-20 00:00:00+00:00                     Общественные организации   \n",
       "35939  2009-07-30 00:00:00+00:00                     ОБЩЕСТВЕННАЯ ОРГАНИЗАЦИЯ   \n",
       "53749  2003-07-22 00:00:00+00:00                   Потребительский кооператив   \n",
       "53752  2003-05-20 00:00:00+00:00                   Потребительский кооператив   \n",
       "...                          ...                                          ...   \n",
       "712352 2005-05-19 00:00:00+00:00                      Профсоюзные организации   \n",
       "733025 2005-08-17 00:00:00+00:00                   Потребительский кооператив   \n",
       "733931 2005-04-26 00:00:00+00:00  Гаражные и гаражно-строительные кооперативы   \n",
       "736036 2005-11-29 00:00:00+00:00  Гаражные и гаражно-строительные кооперативы   \n",
       "739768 2006-04-14 00:00:00+00:00  Гаражные и гаражно-строительные кооперативы   \n",
       "\n",
       "       opf_code  \\\n",
       "3277      20104   \n",
       "3721      20200   \n",
       "35939      None   \n",
       "53749        85   \n",
       "53752        85   \n",
       "...         ...   \n",
       "712352    20202   \n",
       "733025       85   \n",
       "733931    20101   \n",
       "736036    20101   \n",
       "739768    20101   \n",
       "\n",
       "                                                                          mainOkved_name  \\\n",
       "3277                                             Деятельность по финансовой взаимопомощи   \n",
       "3721    Деятельность прочих общественных организаций, не включенных в другие группировки   \n",
       "35939   Деятельность прочих общественных организаций, не включенных в другие группировки   \n",
       "53749                                                                               None   \n",
       "53752                                                           Хранение и складирование   \n",
       "...                                                                                  ...   \n",
       "712352                                              Деятельность профессиональных союзов   \n",
       "733025    Эксплуатация гаражей, стоянок для автотранспортных средств, велосипедов и т.п.   \n",
       "733931                                     Деятельность стоянок для транспортных средств   \n",
       "736036                                     Деятельность стоянок для транспортных средств   \n",
       "739768                                     Деятельность стоянок для транспортных средств   \n",
       "\n",
       "       mainOkved_code  num_of_addOkved  index_address  \n",
       "3277          64.99.6                6       468320.0  \n",
       "3721            94.99                2       468325.0  \n",
       "35939           94.99                0       468320.0  \n",
       "53749            None                0       468320.0  \n",
       "53752           63.12                2       468320.0  \n",
       "...               ...              ...            ...  \n",
       "712352          94.20                0       468320.0  \n",
       "733025       63.21.24                0       468320.0  \n",
       "733931       52.21.24                0       468320.0  \n",
       "736036       52.21.24                0       468320.0  \n",
       "739768       52.21.24                0       468320.0  \n",
       "\n",
       "[91 rows x 23 columns]"
      ]
     },
     "execution_count": 20,
     "metadata": {},
     "output_type": "execute_result"
    }
   ],
   "source": [
    "nko_data[(nko_data['regionName'] == 'Не определено')\n",
    "         & (nko_data['regionCode'] == 99)]"
   ]
  },
  {
   "cell_type": "markdown",
   "id": "8c14e55f",
   "metadata": {},
   "source": [
    "Все \"Не определено\" - это г. Байконур, на территории Казахстана."
   ]
  },
  {
   "cell_type": "code",
   "execution_count": 21,
   "id": "8116423d",
   "metadata": {},
   "outputs": [
    {
     "data": {
      "application/vnd.jupyter.widget-view+json": {
       "model_id": "a2da5062f043402fa28fe89b6aa75916",
       "version_major": 2,
       "version_minor": 0
      },
      "text/plain": [
       "Pandas Apply:   0%|          | 0/747034 [00:00<?, ?it/s]"
      ]
     },
     "metadata": {},
     "output_type": "display_data"
    }
   ],
   "source": [
    "# заменяем Не определен на Казахстан\n",
    "nko_data['regionName'] = nko_data['regionName'].swifter.apply(\n",
    "    lambda x: x if x != 'Не определено' else 'Казахстан')"
   ]
  },
  {
   "cell_type": "code",
   "execution_count": 22,
   "id": "e8d8a206",
   "metadata": {},
   "outputs": [
    {
     "data": {
      "text/html": [
       "<div>\n",
       "<style scoped>\n",
       "    .dataframe tbody tr th:only-of-type {\n",
       "        vertical-align: middle;\n",
       "    }\n",
       "\n",
       "    .dataframe tbody tr th {\n",
       "        vertical-align: top;\n",
       "    }\n",
       "\n",
       "    .dataframe thead th {\n",
       "        text-align: right;\n",
       "    }\n",
       "</style>\n",
       "<table border=\"1\" class=\"dataframe\">\n",
       "  <thead>\n",
       "    <tr style=\"text-align: right;\">\n",
       "      <th></th>\n",
       "      <th>Unnamed: 0</th>\n",
       "      <th>regionName</th>\n",
       "      <th>fullName</th>\n",
       "      <th>dateReg</th>\n",
       "      <th>minjustForm</th>\n",
       "      <th>ogrn</th>\n",
       "      <th>egrulStatus</th>\n",
       "      <th>regionCode</th>\n",
       "      <th>incomeTotal</th>\n",
       "      <th>inn</th>\n",
       "      <th>originDate</th>\n",
       "      <th>dateLiquid</th>\n",
       "      <th>address</th>\n",
       "      <th>okogu</th>\n",
       "      <th>hasRegionalSupport</th>\n",
       "      <th>addOkved</th>\n",
       "      <th>dateOgrn</th>\n",
       "      <th>opf_name</th>\n",
       "      <th>opf_code</th>\n",
       "      <th>mainOkved_name</th>\n",
       "      <th>mainOkved_code</th>\n",
       "      <th>num_of_addOkved</th>\n",
       "      <th>index_address</th>\n",
       "    </tr>\n",
       "  </thead>\n",
       "  <tbody>\n",
       "    <tr>\n",
       "      <th>31530</th>\n",
       "      <td>31530</td>\n",
       "      <td>NaN</td>\n",
       "      <td>ТОВАРИЩЕСТВО СОБСТВЕННИКОВ ЖИЛЬЯ \"КАРЛА МАРКСА, 53 \"А\"</td>\n",
       "      <td>not data</td>\n",
       "      <td>Товарищество собственников жилья</td>\n",
       "      <td>1031621015722</td>\n",
       "      <td>Действует</td>\n",
       "      <td>0</td>\n",
       "      <td>0.0</td>\n",
       "      <td>1.655075e+09</td>\n",
       "      <td>2003-08-28 00:00:00+00:00</td>\n",
       "      <td>not data</td>\n",
       "      <td>420015, РЕСПУБЛИКА Татарстан, УЛИЦА К.МАРКСА, ДОМ 53, КОРПУС А</td>\n",
       "      <td>{'name': 'Организации, учрежденные юридическими лицами или гражданами, или юридическими лицами и гражданами совместно', 'code': '4210014'}</td>\n",
       "      <td>False</td>\n",
       "      <td>[]</td>\n",
       "      <td>2003-08-28 00:00:00+00:00</td>\n",
       "      <td>Товарищества собственников жилья</td>\n",
       "      <td>20716</td>\n",
       "      <td>None</td>\n",
       "      <td>None</td>\n",
       "      <td>0</td>\n",
       "      <td>420015.0</td>\n",
       "    </tr>\n",
       "    <tr>\n",
       "      <th>46886</th>\n",
       "      <td>46886</td>\n",
       "      <td>NaN</td>\n",
       "      <td>ТОВАРИЩЕСТВО СОБСТВЕННИКОВ ЖИЛЬЯ \"КОМФОРТ\"</td>\n",
       "      <td>not data</td>\n",
       "      <td>Товарищество собственников жилья</td>\n",
       "      <td>1041630207145</td>\n",
       "      <td>Ликвидирована</td>\n",
       "      <td>0</td>\n",
       "      <td>0.0</td>\n",
       "      <td>1.660071e+09</td>\n",
       "      <td>2004-04-08 00:00:00+00:00</td>\n",
       "      <td>not data</td>\n",
       "      <td>420100, РЕСПУБЛИКА ТАТАРСТАН, УЛИЦА ПРОСПЕКТ ПОБЕДЫ, ДОМ 190, КВ./ОФИС 36</td>\n",
       "      <td>{'name': None, 'code': None}</td>\n",
       "      <td>False</td>\n",
       "      <td>[{'name': 'Управление недвижимым имуществом', 'code': '70.32', 'version': 'ОК 029-2001 (КДЕС Ред. 1)'}, {'name': 'Производство общестроительных работ', 'code': '45.21', 'version': 'ОК 029-2001 (КДЕС Ред. 1)'}, {'name': 'Производство штукатурных работ', 'code': '45.41', 'version': 'ОК 029-2001 (КДЕС Ред. 1)'}, {'name': 'Предоставление различных видов услуг', 'code': '74.8', 'version': 'ОК 029-2001 (КДЕС Ред. 1)'}, {'name': 'Чистка и уборка производственных и жилых помещений и оборудования', 'code': '74.70.1', 'version': 'ОК 029-2001 (КДЕС Ред. 1)'}, {'name': 'Производство отделочных работ', 'code': '45.4', 'version': 'ОК 029-2001 (КДЕС Ред. 1)'}, {'name': 'Строительство зданий и сооружений', 'code': '45.2', 'version': 'ОК 029-2001 (КДЕС Ред. 1)'}, {'name': 'Монтаж инженерного оборудования зданий и сооружений', 'code': '45.3', 'version': 'ОК 029-2001 (КДЕС Ред. 1)'}, {'name': 'Деятельность органов местного самоуправления по управлению вопросами общего характера', 'code': '75.11.3', 'version': 'ОК 029-2001 (КДЕС Ред. 1)'}]</td>\n",
       "      <td>2004-04-08 00:00:00+00:00</td>\n",
       "      <td>Товарищества собственников жилья</td>\n",
       "      <td>20716</td>\n",
       "      <td>Разборка и снос зданий; производство земляных работ</td>\n",
       "      <td>45.11</td>\n",
       "      <td>9</td>\n",
       "      <td>420100.0</td>\n",
       "    </tr>\n",
       "    <tr>\n",
       "      <th>51173</th>\n",
       "      <td>51173</td>\n",
       "      <td>NaN</td>\n",
       "      <td>ТОВАРИЩЕСТВО СОБСТВЕННИКОВ ЖИЛЬЯ \"КАРАТАУ\"</td>\n",
       "      <td>1998-06-27 00:00:00+00:00</td>\n",
       "      <td>Товарищество собственников жилья</td>\n",
       "      <td>1031630200249</td>\n",
       "      <td>Ликвидирована</td>\n",
       "      <td>0</td>\n",
       "      <td>0.0</td>\n",
       "      <td>1.660035e+09</td>\n",
       "      <td>1998-06-27 00:00:00+00:00</td>\n",
       "      <td>2008-10-02 00:00:00+00:00</td>\n",
       "      <td>420140, РЕСПУБЛИКА ТАТАРСТАН, УЛИЦА КАРАТАУ, ДОМ 32</td>\n",
       "      <td>{'name': None, 'code': None}</td>\n",
       "      <td>False</td>\n",
       "      <td>[]</td>\n",
       "      <td>2003-01-05 00:00:00+00:00</td>\n",
       "      <td>Товарищество собственников жилья</td>\n",
       "      <td>94</td>\n",
       "      <td>None</td>\n",
       "      <td>None</td>\n",
       "      <td>0</td>\n",
       "      <td>420140.0</td>\n",
       "    </tr>\n",
       "    <tr>\n",
       "      <th>53316</th>\n",
       "      <td>53316</td>\n",
       "      <td>NaN</td>\n",
       "      <td>ЖИЛИЩНО-СТРОИТЕЛЬНЫЙ КООПЕРАТИВ \"СПАРТАК-16\"</td>\n",
       "      <td>1969-01-20 00:00:00+00:00</td>\n",
       "      <td>NaN</td>\n",
       "      <td>1031628201560</td>\n",
       "      <td>Ликвидирована</td>\n",
       "      <td>0</td>\n",
       "      <td>0.0</td>\n",
       "      <td>1.659016e+09</td>\n",
       "      <td>1969-01-20 00:00:00+00:00</td>\n",
       "      <td>2006-05-19 00:00:00+00:00</td>\n",
       "      <td>420101, РЕСПУБЛИКА ТАТАРСТАН, УЛИЦА МАВЛЮТОВА, ДОМ 20</td>\n",
       "      <td>{'name': None, 'code': None}</td>\n",
       "      <td>False</td>\n",
       "      <td>[]</td>\n",
       "      <td>2003-01-17 00:00:00+00:00</td>\n",
       "      <td>Потребительский кооператив</td>\n",
       "      <td>85</td>\n",
       "      <td>Управление эксплуатацией жилого фонда</td>\n",
       "      <td>70.32.1</td>\n",
       "      <td>0</td>\n",
       "      <td>420101.0</td>\n",
       "    </tr>\n",
       "    <tr>\n",
       "      <th>53323</th>\n",
       "      <td>53323</td>\n",
       "      <td>NaN</td>\n",
       "      <td>ФОНД \"НОВЫЕ ТЕХНОЛОГИИ РАСПРОСТРАНЕНИЯ КУЛЬТУРЫ\"</td>\n",
       "      <td>1994-09-27 00:00:00+00:00</td>\n",
       "      <td>NaN</td>\n",
       "      <td>1031630213581</td>\n",
       "      <td>Ликвидирована</td>\n",
       "      <td>0</td>\n",
       "      <td>0.0</td>\n",
       "      <td>1.660022e+09</td>\n",
       "      <td>1994-09-27 00:00:00+00:00</td>\n",
       "      <td>2003-07-29 00:00:00+00:00</td>\n",
       "      <td>РЕСПУБЛИКА ТАТАРСТАН, УЛИЦА Н.ЕРШОВА, ДОМ 28, КОРПУС А</td>\n",
       "      <td>{'name': None, 'code': None}</td>\n",
       "      <td>False</td>\n",
       "      <td>[]</td>\n",
       "      <td>2003-07-18 00:00:00+00:00</td>\n",
       "      <td>Фонд</td>\n",
       "      <td>88</td>\n",
       "      <td>None</td>\n",
       "      <td>None</td>\n",
       "      <td>0</td>\n",
       "      <td>NaN</td>\n",
       "    </tr>\n",
       "    <tr>\n",
       "      <th>53841</th>\n",
       "      <td>53841</td>\n",
       "      <td>NaN</td>\n",
       "      <td>ЖИЛИЩНО-СТРОИТЕЛЬНЫЙ КООПЕРАТИВ \"СПАРТАК - 2\"</td>\n",
       "      <td>1997-07-03 00:00:00+00:00</td>\n",
       "      <td>NaN</td>\n",
       "      <td>1031622502262</td>\n",
       "      <td>Ликвидирована</td>\n",
       "      <td>0</td>\n",
       "      <td>0.0</td>\n",
       "      <td>1.654022e+09</td>\n",
       "      <td>1997-07-03 00:00:00+00:00</td>\n",
       "      <td>2006-08-18 00:00:00+00:00</td>\n",
       "      <td>420021, РЕСПУБЛИКА ТАТАРСТАН, УЛИЦА КАМАЛА ГАЛИАСКАРА, ДОМ 47</td>\n",
       "      <td>{'name': None, 'code': None}</td>\n",
       "      <td>False</td>\n",
       "      <td>[]</td>\n",
       "      <td>2003-01-10 00:00:00+00:00</td>\n",
       "      <td>Потребительский кооператив</td>\n",
       "      <td>85</td>\n",
       "      <td>None</td>\n",
       "      <td>None</td>\n",
       "      <td>0</td>\n",
       "      <td>420021.0</td>\n",
       "    </tr>\n",
       "    <tr>\n",
       "      <th>54766</th>\n",
       "      <td>54766</td>\n",
       "      <td>NaN</td>\n",
       "      <td>КРЕДИТНЫЙ ПОТРЕБИТЕЛЬСКИЙ КООПЕРАТИВ ГРАЖДАН \"КРЕДИТНО-ИПОТЕЧНЫЙ СОЮЗ\"</td>\n",
       "      <td>not data</td>\n",
       "      <td>NaN</td>\n",
       "      <td>1031625401565</td>\n",
       "      <td>Ликвидирована</td>\n",
       "      <td>0</td>\n",
       "      <td>0.0</td>\n",
       "      <td>1.657043e+09</td>\n",
       "      <td>2003-02-05 00:00:00+00:00</td>\n",
       "      <td>2009-03-24 00:00:00+00:00</td>\n",
       "      <td>420044, РЕСПУБЛИКА ТАТАРСТАН, УЛИЦА ЯМАШЕВА, ДОМ 36</td>\n",
       "      <td>{'name': None, 'code': None}</td>\n",
       "      <td>False</td>\n",
       "      <td>[{'name': 'Прочие виды страхования, не включенные в другие группировки', 'code': '66.03.9', 'version': 'ОК 029-2001 (КДЕС Ред. 1)'}, {'name': 'Прочая деятельность, связанная с управлением финансовыми рынками, не включенная в другие группировки', 'code': '67.11.19', 'version': 'ОК 029-2001 (КДЕС Ред. 1)'}]</td>\n",
       "      <td>2003-02-05 00:00:00+00:00</td>\n",
       "      <td>Потребительский кооператив</td>\n",
       "      <td>85</td>\n",
       "      <td>Предоставление потребительского кредита</td>\n",
       "      <td>65.22.1</td>\n",
       "      <td>2</td>\n",
       "      <td>420044.0</td>\n",
       "    </tr>\n",
       "    <tr>\n",
       "      <th>61942</th>\n",
       "      <td>61942</td>\n",
       "      <td>NaN</td>\n",
       "      <td>ЖИЛИЩНО-СТРОИТЕЛЬНЫЙ КООПЕРАТИВ \"ЗАРЯ-32\"</td>\n",
       "      <td>1996-02-22 00:00:00+00:00</td>\n",
       "      <td>NaN</td>\n",
       "      <td>1031625408913</td>\n",
       "      <td>Ликвидирована</td>\n",
       "      <td>0</td>\n",
       "      <td>0.0</td>\n",
       "      <td>1.657004e+09</td>\n",
       "      <td>1996-02-22 00:00:00+00:00</td>\n",
       "      <td>2005-12-13 00:00:00+00:00</td>\n",
       "      <td>420133, РЕСПУБЛИКА ТАТАРСТАН, УЛИЦА ЛАВРЕНТЬЕВА, ДОМ 24</td>\n",
       "      <td>{'name': None, 'code': None}</td>\n",
       "      <td>False</td>\n",
       "      <td>[]</td>\n",
       "      <td>2003-09-25 00:00:00+00:00</td>\n",
       "      <td>Потребительский кооператив</td>\n",
       "      <td>85</td>\n",
       "      <td>None</td>\n",
       "      <td>None</td>\n",
       "      <td>0</td>\n",
       "      <td>420133.0</td>\n",
       "    </tr>\n",
       "    <tr>\n",
       "      <th>62898</th>\n",
       "      <td>62898</td>\n",
       "      <td>NaN</td>\n",
       "      <td>ТОВАРИЩЕСТВО СОБСТВЕННИКОВ ЖИЛЬЯ \"КАРЛА МАРКСА,39 А\"</td>\n",
       "      <td>not data</td>\n",
       "      <td>Товарищество собственников жилья</td>\n",
       "      <td>1031621001004</td>\n",
       "      <td>Ликвидирована</td>\n",
       "      <td>0</td>\n",
       "      <td>0.0</td>\n",
       "      <td>1.655061e+09</td>\n",
       "      <td>2003-02-07 00:00:00+00:00</td>\n",
       "      <td>2008-05-26 00:00:00+00:00</td>\n",
       "      <td>420015, РЕСПУБЛИКА ТАТАРСТАН, УЛИЦА К.МАРКСА, ДОМ 39, КОРПУС А</td>\n",
       "      <td>{'name': None, 'code': None}</td>\n",
       "      <td>False</td>\n",
       "      <td>[]</td>\n",
       "      <td>2003-02-07 00:00:00+00:00</td>\n",
       "      <td>Товарищество собственников жилья</td>\n",
       "      <td>94</td>\n",
       "      <td>None</td>\n",
       "      <td>None</td>\n",
       "      <td>0</td>\n",
       "      <td>420015.0</td>\n",
       "    </tr>\n",
       "    <tr>\n",
       "      <th>68375</th>\n",
       "      <td>68375</td>\n",
       "      <td>NaN</td>\n",
       "      <td>ГАРАЖНО-СТРОИТЕЛЬНЫЙ КООПЕРАТИВ \"ЭЛЕМТЭ-3\"</td>\n",
       "      <td>1997-05-12 00:00:00+00:00</td>\n",
       "      <td>NaN</td>\n",
       "      <td>1031630221193</td>\n",
       "      <td>Ликвидирована</td>\n",
       "      <td>0</td>\n",
       "      <td>0.0</td>\n",
       "      <td>1.660035e+09</td>\n",
       "      <td>1997-05-12 00:00:00+00:00</td>\n",
       "      <td>2009-06-16 00:00:00+00:00</td>\n",
       "      <td>РЕСПУБЛИКА ТАТАРСТАН, УЛИЦА ПРОСПЕКТ ПОБЕДЫ</td>\n",
       "      <td>{'name': None, 'code': None}</td>\n",
       "      <td>False</td>\n",
       "      <td>[]</td>\n",
       "      <td>2003-12-08 00:00:00+00:00</td>\n",
       "      <td>Потребительский кооператив</td>\n",
       "      <td>85</td>\n",
       "      <td>Эксплуатация гаражей, стоянок для автотранспортных средств, велосипедов и т.п.</td>\n",
       "      <td>63.21.24</td>\n",
       "      <td>0</td>\n",
       "      <td>NaN</td>\n",
       "    </tr>\n",
       "    <tr>\n",
       "      <th>69775</th>\n",
       "      <td>69775</td>\n",
       "      <td>NaN</td>\n",
       "      <td>КАЗАНСКАЯ ПРОЕКТНАЯ МАСТЕРСКАЯ ПРОЕКТНО-ПРОМЫШЛЕННОГО СТРОИТЕЛЬНОГО ОБЪЕДИНЕНИЯ \"ТАТКООПСТРОЙ\"</td>\n",
       "      <td>1992-12-22 00:00:00+00:00</td>\n",
       "      <td>NaN</td>\n",
       "      <td>1031630223932</td>\n",
       "      <td>Ликвидирована</td>\n",
       "      <td>0</td>\n",
       "      <td>0.0</td>\n",
       "      <td>1.660005e+09</td>\n",
       "      <td>1992-12-22 00:00:00+00:00</td>\n",
       "      <td>2011-09-27 00:00:00+00:00</td>\n",
       "      <td>420045, РЕСПУБЛИКА ТАТАРСТАН, УЛИЦА Н.ЕРШОВА, ДОМ 58</td>\n",
       "      <td>{'name': None, 'code': None}</td>\n",
       "      <td>False</td>\n",
       "      <td>[]</td>\n",
       "      <td>2003-12-29 00:00:00+00:00</td>\n",
       "      <td>Потребительский кооператив</td>\n",
       "      <td>85</td>\n",
       "      <td>None</td>\n",
       "      <td>None</td>\n",
       "      <td>0</td>\n",
       "      <td>420045.0</td>\n",
       "    </tr>\n",
       "    <tr>\n",
       "      <th>69901</th>\n",
       "      <td>69901</td>\n",
       "      <td>NaN</td>\n",
       "      <td>ГАРАЖНО СТРОИТЕЛЬНЫЙ КООПЕРАТИВ \"СПУТНИК\"</td>\n",
       "      <td>2000-10-06 00:00:00+00:00</td>\n",
       "      <td>NaN</td>\n",
       "      <td>1031621001500</td>\n",
       "      <td>Ликвидирована</td>\n",
       "      <td>0</td>\n",
       "      <td>0.0</td>\n",
       "      <td>1.654011e+09</td>\n",
       "      <td>2000-10-06 00:00:00+00:00</td>\n",
       "      <td>2007-11-14 00:00:00+00:00</td>\n",
       "      <td>420021, РЕСПУБЛИКА ТАТАРСТАН, УЛИЦА К.ТИНЧУРИНА, ДОМ 2, КВ./ОФИС 39</td>\n",
       "      <td>{'name': None, 'code': None}</td>\n",
       "      <td>False</td>\n",
       "      <td>[]</td>\n",
       "      <td>2003-02-14 00:00:00+00:00</td>\n",
       "      <td>Потребительский кооператив</td>\n",
       "      <td>85</td>\n",
       "      <td>None</td>\n",
       "      <td>None</td>\n",
       "      <td>0</td>\n",
       "      <td>420021.0</td>\n",
       "    </tr>\n",
       "    <tr>\n",
       "      <th>192669</th>\n",
       "      <td>192669</td>\n",
       "      <td>NaN</td>\n",
       "      <td>САДОВОДЧЕСКОЕ НЕКОММЕРЧЕСКОЕ ТОВАРИЩЕСТВО \"ЧАСТНИК\"</td>\n",
       "      <td>not data</td>\n",
       "      <td>NaN</td>\n",
       "      <td>1031621022157</td>\n",
       "      <td>Ликвидирована</td>\n",
       "      <td>0</td>\n",
       "      <td>0.0</td>\n",
       "      <td>1.655077e+09</td>\n",
       "      <td>2003-11-21 00:00:00+00:00</td>\n",
       "      <td>2009-04-20 00:00:00+00:00</td>\n",
       "      <td>420111, РЕСПУБЛИКА ТАТАРСТАН, УЛИЦА М.ДЖАЛИЛЯ, ДОМ 19</td>\n",
       "      <td>{'name': None, 'code': None}</td>\n",
       "      <td>False</td>\n",
       "      <td>[]</td>\n",
       "      <td>2003-11-21 00:00:00+00:00</td>\n",
       "      <td>Садоводческое, огородническое или дачное некоммерческое товарищество</td>\n",
       "      <td>76</td>\n",
       "      <td>None</td>\n",
       "      <td>None</td>\n",
       "      <td>0</td>\n",
       "      <td>420111.0</td>\n",
       "    </tr>\n",
       "    <tr>\n",
       "      <th>196977</th>\n",
       "      <td>196977</td>\n",
       "      <td>NaN</td>\n",
       "      <td>ФОНД ВЫПУСКНИКОВ ШКОЛЫ № 51 ГОРОДА КАЗАНИ \"ТОТР\"</td>\n",
       "      <td>not data</td>\n",
       "      <td>NaN</td>\n",
       "      <td>1031621009750</td>\n",
       "      <td>Ликвидирована</td>\n",
       "      <td>0</td>\n",
       "      <td>0.0</td>\n",
       "      <td>1.655072e+09</td>\n",
       "      <td>2003-06-09 00:00:00+00:00</td>\n",
       "      <td>2008-04-28 00:00:00+00:00</td>\n",
       "      <td>РЕСПУБЛИКА ТАТАРСТАН, УЛИЦА К.ТИНЧУРИНА, ДОМ 3</td>\n",
       "      <td>{'name': None, 'code': None}</td>\n",
       "      <td>False</td>\n",
       "      <td>[]</td>\n",
       "      <td>2003-06-09 00:00:00+00:00</td>\n",
       "      <td>Фонд</td>\n",
       "      <td>88</td>\n",
       "      <td>None</td>\n",
       "      <td>None</td>\n",
       "      <td>0</td>\n",
       "      <td>NaN</td>\n",
       "    </tr>\n",
       "    <tr>\n",
       "      <th>499182</th>\n",
       "      <td>499182</td>\n",
       "      <td>NaN</td>\n",
       "      <td>ТОВАРИЩЕСТВО СОБСТВЕННИКОВ ЖИЛЬЯ \"ПОБЕДА\"</td>\n",
       "      <td>not data</td>\n",
       "      <td>Товарищество собственников жилья</td>\n",
       "      <td>1041630209279</td>\n",
       "      <td>Ликвидирована</td>\n",
       "      <td>0</td>\n",
       "      <td>0.0</td>\n",
       "      <td>1.660071e+09</td>\n",
       "      <td>2004-04-28 00:00:00+00:00</td>\n",
       "      <td>2007-02-15 00:00:00+00:00</td>\n",
       "      <td>420140, РЕСПУБЛИКА ТАТАРСТАН, УЛИЦА ПРОСПЕКТ ПОБЕДЫ, ДОМ 190, КВ./ОФИС 36</td>\n",
       "      <td>{'name': None, 'code': None}</td>\n",
       "      <td>False</td>\n",
       "      <td>[{'name': 'Производство общестроительных работ', 'code': '45.21', 'version': 'ОК 029-2001 (КДЕС Ред. 1)'}, {'name': 'Производство штукатурных работ', 'code': '45.41', 'version': 'ОК 029-2001 (КДЕС Ред. 1)'}]</td>\n",
       "      <td>2004-04-28 00:00:00+00:00</td>\n",
       "      <td>Товарищество собственников жилья</td>\n",
       "      <td>94</td>\n",
       "      <td>Деятельность органов местного самоуправления по управлению вопросами общего характера</td>\n",
       "      <td>75.11.3</td>\n",
       "      <td>2</td>\n",
       "      <td>420140.0</td>\n",
       "    </tr>\n",
       "    <tr>\n",
       "      <th>615405</th>\n",
       "      <td>615405</td>\n",
       "      <td>NaN</td>\n",
       "      <td>ЖИЛИЩНО-СТРОИТЕЛЬНЫЙ КООПЕРАТИВ \"СПАРТАК-27\"</td>\n",
       "      <td>1995-04-19 00:00:00+00:00</td>\n",
       "      <td>NaN</td>\n",
       "      <td>1021603148907</td>\n",
       "      <td>Ликвидирована</td>\n",
       "      <td>0</td>\n",
       "      <td>0.0</td>\n",
       "      <td>1.657019e+09</td>\n",
       "      <td>1995-04-19 00:00:00+00:00</td>\n",
       "      <td>2006-01-27 00:00:00+00:00</td>\n",
       "      <td>420103, РЕСПУБЛИКА ТАТАРСТАН, УЛИЦА АМИРХАНА, ДОМ 33</td>\n",
       "      <td>{'name': None, 'code': None}</td>\n",
       "      <td>False</td>\n",
       "      <td>[]</td>\n",
       "      <td>2002-12-11 00:00:00+00:00</td>\n",
       "      <td>Потребительский кооператив</td>\n",
       "      <td>85</td>\n",
       "      <td>None</td>\n",
       "      <td>None</td>\n",
       "      <td>0</td>\n",
       "      <td>420103.0</td>\n",
       "    </tr>\n",
       "    <tr>\n",
       "      <th>618062</th>\n",
       "      <td>618062</td>\n",
       "      <td>NaN</td>\n",
       "      <td>ГАРАЖНО-СТРОИТЕЛЬНЫЙ КООПЕРАТИВ \"ЛЮБАВА\"</td>\n",
       "      <td>not data</td>\n",
       "      <td>NaN</td>\n",
       "      <td>1021603140349</td>\n",
       "      <td>Ликвидирована</td>\n",
       "      <td>0</td>\n",
       "      <td>0.0</td>\n",
       "      <td>1.657041e+09</td>\n",
       "      <td>2002-09-05 00:00:00+00:00</td>\n",
       "      <td>2013-02-14 00:00:00+00:00</td>\n",
       "      <td>420111, РЕСПУБЛИКА ТАТАРСТАН, УЛИЦА АМИРХАНА, ДОМ 8, КОРПУС А</td>\n",
       "      <td>{'name': None, 'code': None}</td>\n",
       "      <td>False</td>\n",
       "      <td>[]</td>\n",
       "      <td>2002-09-05 00:00:00+00:00</td>\n",
       "      <td>Потребительский кооператив</td>\n",
       "      <td>85</td>\n",
       "      <td>None</td>\n",
       "      <td>None</td>\n",
       "      <td>0</td>\n",
       "      <td>420111.0</td>\n",
       "    </tr>\n",
       "    <tr>\n",
       "      <th>629021</th>\n",
       "      <td>629021</td>\n",
       "      <td>NaN</td>\n",
       "      <td>НЕКОММЕРЧЕСКОЕ ПАРТНЕРСТВО \"РЕГИОНАЛЬНОЕ СООБЩЕСТВО ЭКСПЕРТОВ И АНТИКРИЗИСНЫХ УПРАВЛЯЮЩИХ\"</td>\n",
       "      <td>2001-10-24 00:00:00+00:00</td>\n",
       "      <td>NaN</td>\n",
       "      <td>1021602845220</td>\n",
       "      <td>Ликвидирована</td>\n",
       "      <td>0</td>\n",
       "      <td>0.0</td>\n",
       "      <td>1.655048e+09</td>\n",
       "      <td>2001-10-24 00:00:00+00:00</td>\n",
       "      <td>2004-03-24 00:00:00+00:00</td>\n",
       "      <td>420111, РЕСПУБЛИКА ТАТАРСТАН, УЛИЦА ПРАВОБУЛАЧНАЯ, ДОМ 13</td>\n",
       "      <td>{'name': None, 'code': None}</td>\n",
       "      <td>False</td>\n",
       "      <td>[]</td>\n",
       "      <td>2002-11-20 00:00:00+00:00</td>\n",
       "      <td>Некоммерческое партнерство</td>\n",
       "      <td>96</td>\n",
       "      <td>None</td>\n",
       "      <td>None</td>\n",
       "      <td>0</td>\n",
       "      <td>420111.0</td>\n",
       "    </tr>\n",
       "    <tr>\n",
       "      <th>631662</th>\n",
       "      <td>631662</td>\n",
       "      <td>NaN</td>\n",
       "      <td>ЖИЛИЩНО - СТРОИТЕЛЬНЫЙ КООПЕРАТИВ ВОЛГА - 51\"</td>\n",
       "      <td>1991-06-24 00:00:00+00:00</td>\n",
       "      <td>NaN</td>\n",
       "      <td>1021603482460</td>\n",
       "      <td>Ликвидирована</td>\n",
       "      <td>0</td>\n",
       "      <td>0.0</td>\n",
       "      <td>1.659016e+09</td>\n",
       "      <td>1991-06-24 00:00:00+00:00</td>\n",
       "      <td>2006-12-31 00:00:00+00:00</td>\n",
       "      <td>420138, РЕСПУБЛИКА ТАТАРСТАН, УЛИЦА ПРОСПЕКТ ПОБЕДЫ, ДОМ 20, КВ./ОФИС 9</td>\n",
       "      <td>{'name': None, 'code': None}</td>\n",
       "      <td>False</td>\n",
       "      <td>[]</td>\n",
       "      <td>2002-12-21 00:00:00+00:00</td>\n",
       "      <td>Потребительский кооператив</td>\n",
       "      <td>85</td>\n",
       "      <td>Деятельность прочих общественных организаций, не включенных в другие группировки</td>\n",
       "      <td>91.33</td>\n",
       "      <td>0</td>\n",
       "      <td>420138.0</td>\n",
       "    </tr>\n",
       "    <tr>\n",
       "      <th>632623</th>\n",
       "      <td>632623</td>\n",
       "      <td>NaN</td>\n",
       "      <td>ГАРАЖНО-СТРОИТЕЛЬНЫЙ КООПЕРАТИВ \"СОКОЛ-2000\"</td>\n",
       "      <td>2001-07-19 00:00:00+00:00</td>\n",
       "      <td>NaN</td>\n",
       "      <td>1021603154297</td>\n",
       "      <td>Ликвидирована</td>\n",
       "      <td>0</td>\n",
       "      <td>0.0</td>\n",
       "      <td>1.657037e+09</td>\n",
       "      <td>2001-07-19 00:00:00+00:00</td>\n",
       "      <td>2011-02-21 00:00:00+00:00</td>\n",
       "      <td>420108, РЕСПУБЛИКА ТАТАРСТАН, УЛИЦА АМИРХАНА, ДОМ 34</td>\n",
       "      <td>{'name': None, 'code': None}</td>\n",
       "      <td>False</td>\n",
       "      <td>[]</td>\n",
       "      <td>2002-12-28 00:00:00+00:00</td>\n",
       "      <td>Потребительский кооператив</td>\n",
       "      <td>85</td>\n",
       "      <td>None</td>\n",
       "      <td>None</td>\n",
       "      <td>0</td>\n",
       "      <td>420108.0</td>\n",
       "    </tr>\n",
       "    <tr>\n",
       "      <th>632809</th>\n",
       "      <td>632809</td>\n",
       "      <td>NaN</td>\n",
       "      <td>ЖИЛИЩНО - СТРОИТЕЛЬНЫЙ КООПЕРАТИВ \"ВОЛГА - 15\"</td>\n",
       "      <td>1996-10-31 00:00:00+00:00</td>\n",
       "      <td>NaN</td>\n",
       "      <td>1021603624811</td>\n",
       "      <td>Ликвидирована</td>\n",
       "      <td>0</td>\n",
       "      <td>0.0</td>\n",
       "      <td>1.660021e+09</td>\n",
       "      <td>1996-10-31 00:00:00+00:00</td>\n",
       "      <td>2006-07-17 00:00:00+00:00</td>\n",
       "      <td>420087, РЕСПУБЛИКА ТАТАРСТАН, УЛИЦА Р.ЗОРГЕ, ДОМ 23</td>\n",
       "      <td>{'name': None, 'code': None}</td>\n",
       "      <td>False</td>\n",
       "      <td>[]</td>\n",
       "      <td>2002-11-18 00:00:00+00:00</td>\n",
       "      <td>Потребительский кооператив</td>\n",
       "      <td>85</td>\n",
       "      <td>Управление эксплуатацией жилого фонда</td>\n",
       "      <td>70.32.1</td>\n",
       "      <td>0</td>\n",
       "      <td>420087.0</td>\n",
       "    </tr>\n",
       "    <tr>\n",
       "      <th>633399</th>\n",
       "      <td>633399</td>\n",
       "      <td>NaN</td>\n",
       "      <td>ЖИЛИЩНО-СТРОИТЕЛЬНЫЙ КООПЕРАТИВ \"ВОЛГА - 50\"</td>\n",
       "      <td>1991-06-20 00:00:00+00:00</td>\n",
       "      <td>NaN</td>\n",
       "      <td>1021603636328</td>\n",
       "      <td>Ликвидирована</td>\n",
       "      <td>0</td>\n",
       "      <td>0.0</td>\n",
       "      <td>1.660021e+09</td>\n",
       "      <td>1991-06-20 00:00:00+00:00</td>\n",
       "      <td>2007-02-05 00:00:00+00:00</td>\n",
       "      <td>420140, РЕСПУБЛИКА ТАТАРСТАН, УЛИЦА Ю.ФУЧИКА, ДОМ 119</td>\n",
       "      <td>{'name': None, 'code': None}</td>\n",
       "      <td>False</td>\n",
       "      <td>[]</td>\n",
       "      <td>2002-12-18 00:00:00+00:00</td>\n",
       "      <td>Потребительский кооператив</td>\n",
       "      <td>85</td>\n",
       "      <td>None</td>\n",
       "      <td>None</td>\n",
       "      <td>0</td>\n",
       "      <td>420140.0</td>\n",
       "    </tr>\n",
       "    <tr>\n",
       "      <th>633714</th>\n",
       "      <td>633714</td>\n",
       "      <td>NaN</td>\n",
       "      <td>ЖИЛИЩНО-СТРОИТЕЛЬНЫЙ КООПЕРАТИВ \"ВОЛГА-24\"</td>\n",
       "      <td>1971-10-12 00:00:00+00:00</td>\n",
       "      <td>NaN</td>\n",
       "      <td>1021603481932</td>\n",
       "      <td>Ликвидирована</td>\n",
       "      <td>0</td>\n",
       "      <td>0.0</td>\n",
       "      <td>1.659015e+09</td>\n",
       "      <td>1971-10-12 00:00:00+00:00</td>\n",
       "      <td>2006-05-17 00:00:00+00:00</td>\n",
       "      <td>420104, РЕСПУБЛИКА ТАТАРСТАН, УЛИЦА Р.ЗОРГЕ, ДОМ 52, КВ./ОФИС 98</td>\n",
       "      <td>{'name': None, 'code': None}</td>\n",
       "      <td>False</td>\n",
       "      <td>[]</td>\n",
       "      <td>2002-12-19 00:00:00+00:00</td>\n",
       "      <td>Потребительский кооператив</td>\n",
       "      <td>85</td>\n",
       "      <td>Управление эксплуатацией жилого фонда</td>\n",
       "      <td>70.32.1</td>\n",
       "      <td>0</td>\n",
       "      <td>420104.0</td>\n",
       "    </tr>\n",
       "    <tr>\n",
       "      <th>633758</th>\n",
       "      <td>633758</td>\n",
       "      <td>NaN</td>\n",
       "      <td>ЖИЛИЩНО-СТРОИТЕЛЬНЫЙ КООПЕРАТИВ \"КАЗАНКА-18\"</td>\n",
       "      <td>1991-09-02 00:00:00+00:00</td>\n",
       "      <td>NaN</td>\n",
       "      <td>1021603483703</td>\n",
       "      <td>Ликвидирована</td>\n",
       "      <td>0</td>\n",
       "      <td>0.0</td>\n",
       "      <td>1.659016e+09</td>\n",
       "      <td>1991-09-02 00:00:00+00:00</td>\n",
       "      <td>2006-06-14 00:00:00+00:00</td>\n",
       "      <td>420138, РЕСПУБЛИКА ТАТАРСТАН, УЛИЦА ПРОСПЕКТ ПОБЕДЫ, ДОМ 18, КОРПУС 1</td>\n",
       "      <td>{'name': None, 'code': None}</td>\n",
       "      <td>False</td>\n",
       "      <td>[{'name': 'Управление эксплуатацией нежилого фонда', 'code': '70.32.2', 'version': 'ОК 029-2001 (КДЕС Ред. 1)'}]</td>\n",
       "      <td>2002-12-25 00:00:00+00:00</td>\n",
       "      <td>Потребительский кооператив</td>\n",
       "      <td>85</td>\n",
       "      <td>Управление эксплуатацией жилого фонда</td>\n",
       "      <td>70.32.1</td>\n",
       "      <td>1</td>\n",
       "      <td>420138.0</td>\n",
       "    </tr>\n",
       "    <tr>\n",
       "      <th>634735</th>\n",
       "      <td>634735</td>\n",
       "      <td>NaN</td>\n",
       "      <td>АГЕНТСТВО ПО УПРАВЛЕНИЮ ГОСУДАРСТВЕННЫМ ДОЛГОМ РЕСПУБЛИКИ ТАТАРСТАН ПРИ МИНИСТЕРСТВЕ ФИНАНСОВ РЕСПУБЛИКИ ТАТАРСТАН</td>\n",
       "      <td>2001-04-27 00:00:00+00:00</td>\n",
       "      <td>NaN</td>\n",
       "      <td>1021602833780</td>\n",
       "      <td>Ликвидирована</td>\n",
       "      <td>0</td>\n",
       "      <td>0.0</td>\n",
       "      <td>1.654028e+09</td>\n",
       "      <td>2001-04-27 00:00:00+00:00</td>\n",
       "      <td>2002-10-29 00:00:00+00:00</td>\n",
       "      <td>РЕСПУБЛИКА ТАТАРСТАН, УЛИЦА М.ДЖАЛИЛЯ, ДОМ 3</td>\n",
       "      <td>{'name': None, 'code': None}</td>\n",
       "      <td>False</td>\n",
       "      <td>[]</td>\n",
       "      <td>2002-10-28 00:00:00+00:00</td>\n",
       "      <td>Прочая некоммерческая организация</td>\n",
       "      <td>89</td>\n",
       "      <td>None</td>\n",
       "      <td>None</td>\n",
       "      <td>0</td>\n",
       "      <td>NaN</td>\n",
       "    </tr>\n",
       "  </tbody>\n",
       "</table>\n",
       "</div>"
      ],
      "text/plain": [
       "        Unnamed: 0 regionName  \\\n",
       "31530        31530        NaN   \n",
       "46886        46886        NaN   \n",
       "51173        51173        NaN   \n",
       "53316        53316        NaN   \n",
       "53323        53323        NaN   \n",
       "53841        53841        NaN   \n",
       "54766        54766        NaN   \n",
       "61942        61942        NaN   \n",
       "62898        62898        NaN   \n",
       "68375        68375        NaN   \n",
       "69775        69775        NaN   \n",
       "69901        69901        NaN   \n",
       "192669      192669        NaN   \n",
       "196977      196977        NaN   \n",
       "499182      499182        NaN   \n",
       "615405      615405        NaN   \n",
       "618062      618062        NaN   \n",
       "629021      629021        NaN   \n",
       "631662      631662        NaN   \n",
       "632623      632623        NaN   \n",
       "632809      632809        NaN   \n",
       "633399      633399        NaN   \n",
       "633714      633714        NaN   \n",
       "633758      633758        NaN   \n",
       "634735      634735        NaN   \n",
       "\n",
       "                                                                                                                  fullName  \\\n",
       "31530                                                               ТОВАРИЩЕСТВО СОБСТВЕННИКОВ ЖИЛЬЯ \"КАРЛА МАРКСА, 53 \"А\"   \n",
       "46886                                                                           ТОВАРИЩЕСТВО СОБСТВЕННИКОВ ЖИЛЬЯ \"КОМФОРТ\"   \n",
       "51173                                                                           ТОВАРИЩЕСТВО СОБСТВЕННИКОВ ЖИЛЬЯ \"КАРАТАУ\"   \n",
       "53316                                                                         ЖИЛИЩНО-СТРОИТЕЛЬНЫЙ КООПЕРАТИВ \"СПАРТАК-16\"   \n",
       "53323                                                                     ФОНД \"НОВЫЕ ТЕХНОЛОГИИ РАСПРОСТРАНЕНИЯ КУЛЬТУРЫ\"   \n",
       "53841                                                                        ЖИЛИЩНО-СТРОИТЕЛЬНЫЙ КООПЕРАТИВ \"СПАРТАК - 2\"   \n",
       "54766                                               КРЕДИТНЫЙ ПОТРЕБИТЕЛЬСКИЙ КООПЕРАТИВ ГРАЖДАН \"КРЕДИТНО-ИПОТЕЧНЫЙ СОЮЗ\"   \n",
       "61942                                                                            ЖИЛИЩНО-СТРОИТЕЛЬНЫЙ КООПЕРАТИВ \"ЗАРЯ-32\"   \n",
       "62898                                                                 ТОВАРИЩЕСТВО СОБСТВЕННИКОВ ЖИЛЬЯ \"КАРЛА МАРКСА,39 А\"   \n",
       "68375                                                                           ГАРАЖНО-СТРОИТЕЛЬНЫЙ КООПЕРАТИВ \"ЭЛЕМТЭ-3\"   \n",
       "69775                       КАЗАНСКАЯ ПРОЕКТНАЯ МАСТЕРСКАЯ ПРОЕКТНО-ПРОМЫШЛЕННОГО СТРОИТЕЛЬНОГО ОБЪЕДИНЕНИЯ \"ТАТКООПСТРОЙ\"   \n",
       "69901                                                                            ГАРАЖНО СТРОИТЕЛЬНЫЙ КООПЕРАТИВ \"СПУТНИК\"   \n",
       "192669                                                                 САДОВОДЧЕСКОЕ НЕКОММЕРЧЕСКОЕ ТОВАРИЩЕСТВО \"ЧАСТНИК\"   \n",
       "196977                                                                    ФОНД ВЫПУСКНИКОВ ШКОЛЫ № 51 ГОРОДА КАЗАНИ \"ТОТР\"   \n",
       "499182                                                                           ТОВАРИЩЕСТВО СОБСТВЕННИКОВ ЖИЛЬЯ \"ПОБЕДА\"   \n",
       "615405                                                                        ЖИЛИЩНО-СТРОИТЕЛЬНЫЙ КООПЕРАТИВ \"СПАРТАК-27\"   \n",
       "618062                                                                            ГАРАЖНО-СТРОИТЕЛЬНЫЙ КООПЕРАТИВ \"ЛЮБАВА\"   \n",
       "629021                          НЕКОММЕРЧЕСКОЕ ПАРТНЕРСТВО \"РЕГИОНАЛЬНОЕ СООБЩЕСТВО ЭКСПЕРТОВ И АНТИКРИЗИСНЫХ УПРАВЛЯЮЩИХ\"   \n",
       "631662                                                                       ЖИЛИЩНО - СТРОИТЕЛЬНЫЙ КООПЕРАТИВ ВОЛГА - 51\"   \n",
       "632623                                                                        ГАРАЖНО-СТРОИТЕЛЬНЫЙ КООПЕРАТИВ \"СОКОЛ-2000\"   \n",
       "632809                                                                      ЖИЛИЩНО - СТРОИТЕЛЬНЫЙ КООПЕРАТИВ \"ВОЛГА - 15\"   \n",
       "633399                                                                        ЖИЛИЩНО-СТРОИТЕЛЬНЫЙ КООПЕРАТИВ \"ВОЛГА - 50\"   \n",
       "633714                                                                          ЖИЛИЩНО-СТРОИТЕЛЬНЫЙ КООПЕРАТИВ \"ВОЛГА-24\"   \n",
       "633758                                                                        ЖИЛИЩНО-СТРОИТЕЛЬНЫЙ КООПЕРАТИВ \"КАЗАНКА-18\"   \n",
       "634735  АГЕНТСТВО ПО УПРАВЛЕНИЮ ГОСУДАРСТВЕННЫМ ДОЛГОМ РЕСПУБЛИКИ ТАТАРСТАН ПРИ МИНИСТЕРСТВЕ ФИНАНСОВ РЕСПУБЛИКИ ТАТАРСТАН   \n",
       "\n",
       "                          dateReg                       minjustForm  \\\n",
       "31530                    not data  Товарищество собственников жилья   \n",
       "46886                    not data  Товарищество собственников жилья   \n",
       "51173   1998-06-27 00:00:00+00:00  Товарищество собственников жилья   \n",
       "53316   1969-01-20 00:00:00+00:00                               NaN   \n",
       "53323   1994-09-27 00:00:00+00:00                               NaN   \n",
       "53841   1997-07-03 00:00:00+00:00                               NaN   \n",
       "54766                    not data                               NaN   \n",
       "61942   1996-02-22 00:00:00+00:00                               NaN   \n",
       "62898                    not data  Товарищество собственников жилья   \n",
       "68375   1997-05-12 00:00:00+00:00                               NaN   \n",
       "69775   1992-12-22 00:00:00+00:00                               NaN   \n",
       "69901   2000-10-06 00:00:00+00:00                               NaN   \n",
       "192669                   not data                               NaN   \n",
       "196977                   not data                               NaN   \n",
       "499182                   not data  Товарищество собственников жилья   \n",
       "615405  1995-04-19 00:00:00+00:00                               NaN   \n",
       "618062                   not data                               NaN   \n",
       "629021  2001-10-24 00:00:00+00:00                               NaN   \n",
       "631662  1991-06-24 00:00:00+00:00                               NaN   \n",
       "632623  2001-07-19 00:00:00+00:00                               NaN   \n",
       "632809  1996-10-31 00:00:00+00:00                               NaN   \n",
       "633399  1991-06-20 00:00:00+00:00                               NaN   \n",
       "633714  1971-10-12 00:00:00+00:00                               NaN   \n",
       "633758  1991-09-02 00:00:00+00:00                               NaN   \n",
       "634735  2001-04-27 00:00:00+00:00                               NaN   \n",
       "\n",
       "                 ogrn    egrulStatus  regionCode  incomeTotal           inn  \\\n",
       "31530   1031621015722      Действует           0          0.0  1.655075e+09   \n",
       "46886   1041630207145  Ликвидирована           0          0.0  1.660071e+09   \n",
       "51173   1031630200249  Ликвидирована           0          0.0  1.660035e+09   \n",
       "53316   1031628201560  Ликвидирована           0          0.0  1.659016e+09   \n",
       "53323   1031630213581  Ликвидирована           0          0.0  1.660022e+09   \n",
       "53841   1031622502262  Ликвидирована           0          0.0  1.654022e+09   \n",
       "54766   1031625401565  Ликвидирована           0          0.0  1.657043e+09   \n",
       "61942   1031625408913  Ликвидирована           0          0.0  1.657004e+09   \n",
       "62898   1031621001004  Ликвидирована           0          0.0  1.655061e+09   \n",
       "68375   1031630221193  Ликвидирована           0          0.0  1.660035e+09   \n",
       "69775   1031630223932  Ликвидирована           0          0.0  1.660005e+09   \n",
       "69901   1031621001500  Ликвидирована           0          0.0  1.654011e+09   \n",
       "192669  1031621022157  Ликвидирована           0          0.0  1.655077e+09   \n",
       "196977  1031621009750  Ликвидирована           0          0.0  1.655072e+09   \n",
       "499182  1041630209279  Ликвидирована           0          0.0  1.660071e+09   \n",
       "615405  1021603148907  Ликвидирована           0          0.0  1.657019e+09   \n",
       "618062  1021603140349  Ликвидирована           0          0.0  1.657041e+09   \n",
       "629021  1021602845220  Ликвидирована           0          0.0  1.655048e+09   \n",
       "631662  1021603482460  Ликвидирована           0          0.0  1.659016e+09   \n",
       "632623  1021603154297  Ликвидирована           0          0.0  1.657037e+09   \n",
       "632809  1021603624811  Ликвидирована           0          0.0  1.660021e+09   \n",
       "633399  1021603636328  Ликвидирована           0          0.0  1.660021e+09   \n",
       "633714  1021603481932  Ликвидирована           0          0.0  1.659015e+09   \n",
       "633758  1021603483703  Ликвидирована           0          0.0  1.659016e+09   \n",
       "634735  1021602833780  Ликвидирована           0          0.0  1.654028e+09   \n",
       "\n",
       "                      originDate                 dateLiquid  \\\n",
       "31530  2003-08-28 00:00:00+00:00                   not data   \n",
       "46886  2004-04-08 00:00:00+00:00                   not data   \n",
       "51173  1998-06-27 00:00:00+00:00  2008-10-02 00:00:00+00:00   \n",
       "53316  1969-01-20 00:00:00+00:00  2006-05-19 00:00:00+00:00   \n",
       "53323  1994-09-27 00:00:00+00:00  2003-07-29 00:00:00+00:00   \n",
       "53841  1997-07-03 00:00:00+00:00  2006-08-18 00:00:00+00:00   \n",
       "54766  2003-02-05 00:00:00+00:00  2009-03-24 00:00:00+00:00   \n",
       "61942  1996-02-22 00:00:00+00:00  2005-12-13 00:00:00+00:00   \n",
       "62898  2003-02-07 00:00:00+00:00  2008-05-26 00:00:00+00:00   \n",
       "68375  1997-05-12 00:00:00+00:00  2009-06-16 00:00:00+00:00   \n",
       "69775  1992-12-22 00:00:00+00:00  2011-09-27 00:00:00+00:00   \n",
       "69901  2000-10-06 00:00:00+00:00  2007-11-14 00:00:00+00:00   \n",
       "192669 2003-11-21 00:00:00+00:00  2009-04-20 00:00:00+00:00   \n",
       "196977 2003-06-09 00:00:00+00:00  2008-04-28 00:00:00+00:00   \n",
       "499182 2004-04-28 00:00:00+00:00  2007-02-15 00:00:00+00:00   \n",
       "615405 1995-04-19 00:00:00+00:00  2006-01-27 00:00:00+00:00   \n",
       "618062 2002-09-05 00:00:00+00:00  2013-02-14 00:00:00+00:00   \n",
       "629021 2001-10-24 00:00:00+00:00  2004-03-24 00:00:00+00:00   \n",
       "631662 1991-06-24 00:00:00+00:00  2006-12-31 00:00:00+00:00   \n",
       "632623 2001-07-19 00:00:00+00:00  2011-02-21 00:00:00+00:00   \n",
       "632809 1996-10-31 00:00:00+00:00  2006-07-17 00:00:00+00:00   \n",
       "633399 1991-06-20 00:00:00+00:00  2007-02-05 00:00:00+00:00   \n",
       "633714 1971-10-12 00:00:00+00:00  2006-05-17 00:00:00+00:00   \n",
       "633758 1991-09-02 00:00:00+00:00  2006-06-14 00:00:00+00:00   \n",
       "634735 2001-04-27 00:00:00+00:00  2002-10-29 00:00:00+00:00   \n",
       "\n",
       "                                                                          address  \\\n",
       "31530              420015, РЕСПУБЛИКА Татарстан, УЛИЦА К.МАРКСА, ДОМ 53, КОРПУС А   \n",
       "46886   420100, РЕСПУБЛИКА ТАТАРСТАН, УЛИЦА ПРОСПЕКТ ПОБЕДЫ, ДОМ 190, КВ./ОФИС 36   \n",
       "51173                         420140, РЕСПУБЛИКА ТАТАРСТАН, УЛИЦА КАРАТАУ, ДОМ 32   \n",
       "53316                       420101, РЕСПУБЛИКА ТАТАРСТАН, УЛИЦА МАВЛЮТОВА, ДОМ 20   \n",
       "53323                      РЕСПУБЛИКА ТАТАРСТАН, УЛИЦА Н.ЕРШОВА, ДОМ 28, КОРПУС А   \n",
       "53841               420021, РЕСПУБЛИКА ТАТАРСТАН, УЛИЦА КАМАЛА ГАЛИАСКАРА, ДОМ 47   \n",
       "54766                         420044, РЕСПУБЛИКА ТАТАРСТАН, УЛИЦА ЯМАШЕВА, ДОМ 36   \n",
       "61942                     420133, РЕСПУБЛИКА ТАТАРСТАН, УЛИЦА ЛАВРЕНТЬЕВА, ДОМ 24   \n",
       "62898              420015, РЕСПУБЛИКА ТАТАРСТАН, УЛИЦА К.МАРКСА, ДОМ 39, КОРПУС А   \n",
       "68375                                 РЕСПУБЛИКА ТАТАРСТАН, УЛИЦА ПРОСПЕКТ ПОБЕДЫ   \n",
       "69775                        420045, РЕСПУБЛИКА ТАТАРСТАН, УЛИЦА Н.ЕРШОВА, ДОМ 58   \n",
       "69901         420021, РЕСПУБЛИКА ТАТАРСТАН, УЛИЦА К.ТИНЧУРИНА, ДОМ 2, КВ./ОФИС 39   \n",
       "192669                      420111, РЕСПУБЛИКА ТАТАРСТАН, УЛИЦА М.ДЖАЛИЛЯ, ДОМ 19   \n",
       "196977                             РЕСПУБЛИКА ТАТАРСТАН, УЛИЦА К.ТИНЧУРИНА, ДОМ 3   \n",
       "499182  420140, РЕСПУБЛИКА ТАТАРСТАН, УЛИЦА ПРОСПЕКТ ПОБЕДЫ, ДОМ 190, КВ./ОФИС 36   \n",
       "615405                       420103, РЕСПУБЛИКА ТАТАРСТАН, УЛИЦА АМИРХАНА, ДОМ 33   \n",
       "618062              420111, РЕСПУБЛИКА ТАТАРСТАН, УЛИЦА АМИРХАНА, ДОМ 8, КОРПУС А   \n",
       "629021                  420111, РЕСПУБЛИКА ТАТАРСТАН, УЛИЦА ПРАВОБУЛАЧНАЯ, ДОМ 13   \n",
       "631662    420138, РЕСПУБЛИКА ТАТАРСТАН, УЛИЦА ПРОСПЕКТ ПОБЕДЫ, ДОМ 20, КВ./ОФИС 9   \n",
       "632623                       420108, РЕСПУБЛИКА ТАТАРСТАН, УЛИЦА АМИРХАНА, ДОМ 34   \n",
       "632809                        420087, РЕСПУБЛИКА ТАТАРСТАН, УЛИЦА Р.ЗОРГЕ, ДОМ 23   \n",
       "633399                      420140, РЕСПУБЛИКА ТАТАРСТАН, УЛИЦА Ю.ФУЧИКА, ДОМ 119   \n",
       "633714           420104, РЕСПУБЛИКА ТАТАРСТАН, УЛИЦА Р.ЗОРГЕ, ДОМ 52, КВ./ОФИС 98   \n",
       "633758      420138, РЕСПУБЛИКА ТАТАРСТАН, УЛИЦА ПРОСПЕКТ ПОБЕДЫ, ДОМ 18, КОРПУС 1   \n",
       "634735                               РЕСПУБЛИКА ТАТАРСТАН, УЛИЦА М.ДЖАЛИЛЯ, ДОМ 3   \n",
       "\n",
       "                                                                                                                                             okogu  \\\n",
       "31530   {'name': 'Организации, учрежденные юридическими лицами или гражданами, или юридическими лицами и гражданами совместно', 'code': '4210014'}   \n",
       "46886                                                                                                                 {'name': None, 'code': None}   \n",
       "51173                                                                                                                 {'name': None, 'code': None}   \n",
       "53316                                                                                                                 {'name': None, 'code': None}   \n",
       "53323                                                                                                                 {'name': None, 'code': None}   \n",
       "53841                                                                                                                 {'name': None, 'code': None}   \n",
       "54766                                                                                                                 {'name': None, 'code': None}   \n",
       "61942                                                                                                                 {'name': None, 'code': None}   \n",
       "62898                                                                                                                 {'name': None, 'code': None}   \n",
       "68375                                                                                                                 {'name': None, 'code': None}   \n",
       "69775                                                                                                                 {'name': None, 'code': None}   \n",
       "69901                                                                                                                 {'name': None, 'code': None}   \n",
       "192669                                                                                                                {'name': None, 'code': None}   \n",
       "196977                                                                                                                {'name': None, 'code': None}   \n",
       "499182                                                                                                                {'name': None, 'code': None}   \n",
       "615405                                                                                                                {'name': None, 'code': None}   \n",
       "618062                                                                                                                {'name': None, 'code': None}   \n",
       "629021                                                                                                                {'name': None, 'code': None}   \n",
       "631662                                                                                                                {'name': None, 'code': None}   \n",
       "632623                                                                                                                {'name': None, 'code': None}   \n",
       "632809                                                                                                                {'name': None, 'code': None}   \n",
       "633399                                                                                                                {'name': None, 'code': None}   \n",
       "633714                                                                                                                {'name': None, 'code': None}   \n",
       "633758                                                                                                                {'name': None, 'code': None}   \n",
       "634735                                                                                                                {'name': None, 'code': None}   \n",
       "\n",
       "        hasRegionalSupport  \\\n",
       "31530                False   \n",
       "46886                False   \n",
       "51173                False   \n",
       "53316                False   \n",
       "53323                False   \n",
       "53841                False   \n",
       "54766                False   \n",
       "61942                False   \n",
       "62898                False   \n",
       "68375                False   \n",
       "69775                False   \n",
       "69901                False   \n",
       "192669               False   \n",
       "196977               False   \n",
       "499182               False   \n",
       "615405               False   \n",
       "618062               False   \n",
       "629021               False   \n",
       "631662               False   \n",
       "632623               False   \n",
       "632809               False   \n",
       "633399               False   \n",
       "633714               False   \n",
       "633758               False   \n",
       "634735               False   \n",
       "\n",
       "                                                                                                                                                                                                                                                                                                                                                                                                                                                                                                                                                                                                                                                                                                                                                                                                                                                                                                                                                                                                                                                                           addOkved  \\\n",
       "31530                                                                                                                                                                                                                                                                                                                                                                                                                                                                                                                                                                                                                                                                                                                                                                                                                                                                                                                                                                                                                                                                            []   \n",
       "46886   [{'name': 'Управление недвижимым имуществом', 'code': '70.32', 'version': 'ОК 029-2001 (КДЕС Ред. 1)'}, {'name': 'Производство общестроительных работ', 'code': '45.21', 'version': 'ОК 029-2001 (КДЕС Ред. 1)'}, {'name': 'Производство штукатурных работ', 'code': '45.41', 'version': 'ОК 029-2001 (КДЕС Ред. 1)'}, {'name': 'Предоставление различных видов услуг', 'code': '74.8', 'version': 'ОК 029-2001 (КДЕС Ред. 1)'}, {'name': 'Чистка и уборка производственных и жилых помещений и оборудования', 'code': '74.70.1', 'version': 'ОК 029-2001 (КДЕС Ред. 1)'}, {'name': 'Производство отделочных работ', 'code': '45.4', 'version': 'ОК 029-2001 (КДЕС Ред. 1)'}, {'name': 'Строительство зданий и сооружений', 'code': '45.2', 'version': 'ОК 029-2001 (КДЕС Ред. 1)'}, {'name': 'Монтаж инженерного оборудования зданий и сооружений', 'code': '45.3', 'version': 'ОК 029-2001 (КДЕС Ред. 1)'}, {'name': 'Деятельность органов местного самоуправления по управлению вопросами общего характера', 'code': '75.11.3', 'version': 'ОК 029-2001 (КДЕС Ред. 1)'}]   \n",
       "51173                                                                                                                                                                                                                                                                                                                                                                                                                                                                                                                                                                                                                                                                                                                                                                                                                                                                                                                                                                                                                                                                            []   \n",
       "53316                                                                                                                                                                                                                                                                                                                                                                                                                                                                                                                                                                                                                                                                                                                                                                                                                                                                                                                                                                                                                                                                            []   \n",
       "53323                                                                                                                                                                                                                                                                                                                                                                                                                                                                                                                                                                                                                                                                                                                                                                                                                                                                                                                                                                                                                                                                            []   \n",
       "53841                                                                                                                                                                                                                                                                                                                                                                                                                                                                                                                                                                                                                                                                                                                                                                                                                                                                                                                                                                                                                                                                            []   \n",
       "54766                                                                                                                                                                                                                                                                                                                                                                                                                                                                                                                                                                                                                                                                                                                                                            [{'name': 'Прочие виды страхования, не включенные в другие группировки', 'code': '66.03.9', 'version': 'ОК 029-2001 (КДЕС Ред. 1)'}, {'name': 'Прочая деятельность, связанная с управлением финансовыми рынками, не включенная в другие группировки', 'code': '67.11.19', 'version': 'ОК 029-2001 (КДЕС Ред. 1)'}]   \n",
       "61942                                                                                                                                                                                                                                                                                                                                                                                                                                                                                                                                                                                                                                                                                                                                                                                                                                                                                                                                                                                                                                                                            []   \n",
       "62898                                                                                                                                                                                                                                                                                                                                                                                                                                                                                                                                                                                                                                                                                                                                                                                                                                                                                                                                                                                                                                                                            []   \n",
       "68375                                                                                                                                                                                                                                                                                                                                                                                                                                                                                                                                                                                                                                                                                                                                                                                                                                                                                                                                                                                                                                                                            []   \n",
       "69775                                                                                                                                                                                                                                                                                                                                                                                                                                                                                                                                                                                                                                                                                                                                                                                                                                                                                                                                                                                                                                                                            []   \n",
       "69901                                                                                                                                                                                                                                                                                                                                                                                                                                                                                                                                                                                                                                                                                                                                                                                                                                                                                                                                                                                                                                                                            []   \n",
       "192669                                                                                                                                                                                                                                                                                                                                                                                                                                                                                                                                                                                                                                                                                                                                                                                                                                                                                                                                                                                                                                                                           []   \n",
       "196977                                                                                                                                                                                                                                                                                                                                                                                                                                                                                                                                                                                                                                                                                                                                                                                                                                                                                                                                                                                                                                                                           []   \n",
       "499182                                                                                                                                                                                                                                                                                                                                                                                                                                                                                                                                                                                                                                                                                                                                                                                                                                                              [{'name': 'Производство общестроительных работ', 'code': '45.21', 'version': 'ОК 029-2001 (КДЕС Ред. 1)'}, {'name': 'Производство штукатурных работ', 'code': '45.41', 'version': 'ОК 029-2001 (КДЕС Ред. 1)'}]   \n",
       "615405                                                                                                                                                                                                                                                                                                                                                                                                                                                                                                                                                                                                                                                                                                                                                                                                                                                                                                                                                                                                                                                                           []   \n",
       "618062                                                                                                                                                                                                                                                                                                                                                                                                                                                                                                                                                                                                                                                                                                                                                                                                                                                                                                                                                                                                                                                                           []   \n",
       "629021                                                                                                                                                                                                                                                                                                                                                                                                                                                                                                                                                                                                                                                                                                                                                                                                                                                                                                                                                                                                                                                                           []   \n",
       "631662                                                                                                                                                                                                                                                                                                                                                                                                                                                                                                                                                                                                                                                                                                                                                                                                                                                                                                                                                                                                                                                                           []   \n",
       "632623                                                                                                                                                                                                                                                                                                                                                                                                                                                                                                                                                                                                                                                                                                                                                                                                                                                                                                                                                                                                                                                                           []   \n",
       "632809                                                                                                                                                                                                                                                                                                                                                                                                                                                                                                                                                                                                                                                                                                                                                                                                                                                                                                                                                                                                                                                                           []   \n",
       "633399                                                                                                                                                                                                                                                                                                                                                                                                                                                                                                                                                                                                                                                                                                                                                                                                                                                                                                                                                                                                                                                                           []   \n",
       "633714                                                                                                                                                                                                                                                                                                                                                                                                                                                                                                                                                                                                                                                                                                                                                                                                                                                                                                                                                                                                                                                                           []   \n",
       "633758                                                                                                                                                                                                                                                                                                                                                                                                                                                                                                                                                                                                                                                                                                                                                                                                                                                                                                                                                             [{'name': 'Управление эксплуатацией нежилого фонда', 'code': '70.32.2', 'version': 'ОК 029-2001 (КДЕС Ред. 1)'}]   \n",
       "634735                                                                                                                                                                                                                                                                                                                                                                                                                                                                                                                                                                                                                                                                                                                                                                                                                                                                                                                                                                                                                                                                           []   \n",
       "\n",
       "                        dateOgrn  \\\n",
       "31530  2003-08-28 00:00:00+00:00   \n",
       "46886  2004-04-08 00:00:00+00:00   \n",
       "51173  2003-01-05 00:00:00+00:00   \n",
       "53316  2003-01-17 00:00:00+00:00   \n",
       "53323  2003-07-18 00:00:00+00:00   \n",
       "53841  2003-01-10 00:00:00+00:00   \n",
       "54766  2003-02-05 00:00:00+00:00   \n",
       "61942  2003-09-25 00:00:00+00:00   \n",
       "62898  2003-02-07 00:00:00+00:00   \n",
       "68375  2003-12-08 00:00:00+00:00   \n",
       "69775  2003-12-29 00:00:00+00:00   \n",
       "69901  2003-02-14 00:00:00+00:00   \n",
       "192669 2003-11-21 00:00:00+00:00   \n",
       "196977 2003-06-09 00:00:00+00:00   \n",
       "499182 2004-04-28 00:00:00+00:00   \n",
       "615405 2002-12-11 00:00:00+00:00   \n",
       "618062 2002-09-05 00:00:00+00:00   \n",
       "629021 2002-11-20 00:00:00+00:00   \n",
       "631662 2002-12-21 00:00:00+00:00   \n",
       "632623 2002-12-28 00:00:00+00:00   \n",
       "632809 2002-11-18 00:00:00+00:00   \n",
       "633399 2002-12-18 00:00:00+00:00   \n",
       "633714 2002-12-19 00:00:00+00:00   \n",
       "633758 2002-12-25 00:00:00+00:00   \n",
       "634735 2002-10-28 00:00:00+00:00   \n",
       "\n",
       "                                                                    opf_name  \\\n",
       "31530                                       Товарищества собственников жилья   \n",
       "46886                                       Товарищества собственников жилья   \n",
       "51173                                       Товарищество собственников жилья   \n",
       "53316                                             Потребительский кооператив   \n",
       "53323                                                                   Фонд   \n",
       "53841                                             Потребительский кооператив   \n",
       "54766                                             Потребительский кооператив   \n",
       "61942                                             Потребительский кооператив   \n",
       "62898                                       Товарищество собственников жилья   \n",
       "68375                                             Потребительский кооператив   \n",
       "69775                                             Потребительский кооператив   \n",
       "69901                                             Потребительский кооператив   \n",
       "192669  Садоводческое, огородническое или дачное некоммерческое товарищество   \n",
       "196977                                                                  Фонд   \n",
       "499182                                      Товарищество собственников жилья   \n",
       "615405                                            Потребительский кооператив   \n",
       "618062                                            Потребительский кооператив   \n",
       "629021                                            Некоммерческое партнерство   \n",
       "631662                                            Потребительский кооператив   \n",
       "632623                                            Потребительский кооператив   \n",
       "632809                                            Потребительский кооператив   \n",
       "633399                                            Потребительский кооператив   \n",
       "633714                                            Потребительский кооператив   \n",
       "633758                                            Потребительский кооператив   \n",
       "634735                                     Прочая некоммерческая организация   \n",
       "\n",
       "       opf_code  \\\n",
       "31530     20716   \n",
       "46886     20716   \n",
       "51173        94   \n",
       "53316        85   \n",
       "53323        88   \n",
       "53841        85   \n",
       "54766        85   \n",
       "61942        85   \n",
       "62898        94   \n",
       "68375        85   \n",
       "69775        85   \n",
       "69901        85   \n",
       "192669       76   \n",
       "196977       88   \n",
       "499182       94   \n",
       "615405       85   \n",
       "618062       85   \n",
       "629021       96   \n",
       "631662       85   \n",
       "632623       85   \n",
       "632809       85   \n",
       "633399       85   \n",
       "633714       85   \n",
       "633758       85   \n",
       "634735       89   \n",
       "\n",
       "                                                                               mainOkved_name  \\\n",
       "31530                                                                                    None   \n",
       "46886                                     Разборка и снос зданий; производство земляных работ   \n",
       "51173                                                                                    None   \n",
       "53316                                                   Управление эксплуатацией жилого фонда   \n",
       "53323                                                                                    None   \n",
       "53841                                                                                    None   \n",
       "54766                                                 Предоставление потребительского кредита   \n",
       "61942                                                                                    None   \n",
       "62898                                                                                    None   \n",
       "68375          Эксплуатация гаражей, стоянок для автотранспортных средств, велосипедов и т.п.   \n",
       "69775                                                                                    None   \n",
       "69901                                                                                    None   \n",
       "192669                                                                                   None   \n",
       "196977                                                                                   None   \n",
       "499182  Деятельность органов местного самоуправления по управлению вопросами общего характера   \n",
       "615405                                                                                   None   \n",
       "618062                                                                                   None   \n",
       "629021                                                                                   None   \n",
       "631662       Деятельность прочих общественных организаций, не включенных в другие группировки   \n",
       "632623                                                                                   None   \n",
       "632809                                                  Управление эксплуатацией жилого фонда   \n",
       "633399                                                                                   None   \n",
       "633714                                                  Управление эксплуатацией жилого фонда   \n",
       "633758                                                  Управление эксплуатацией жилого фонда   \n",
       "634735                                                                                   None   \n",
       "\n",
       "       mainOkved_code  num_of_addOkved  index_address  \n",
       "31530            None                0       420015.0  \n",
       "46886           45.11                9       420100.0  \n",
       "51173            None                0       420140.0  \n",
       "53316         70.32.1                0       420101.0  \n",
       "53323            None                0            NaN  \n",
       "53841            None                0       420021.0  \n",
       "54766         65.22.1                2       420044.0  \n",
       "61942            None                0       420133.0  \n",
       "62898            None                0       420015.0  \n",
       "68375        63.21.24                0            NaN  \n",
       "69775            None                0       420045.0  \n",
       "69901            None                0       420021.0  \n",
       "192669           None                0       420111.0  \n",
       "196977           None                0            NaN  \n",
       "499182        75.11.3                2       420140.0  \n",
       "615405           None                0       420103.0  \n",
       "618062           None                0       420111.0  \n",
       "629021           None                0       420111.0  \n",
       "631662          91.33                0       420138.0  \n",
       "632623           None                0       420108.0  \n",
       "632809        70.32.1                0       420087.0  \n",
       "633399           None                0       420140.0  \n",
       "633714        70.32.1                0       420104.0  \n",
       "633758        70.32.1                1       420138.0  \n",
       "634735           None                0            NaN  "
      ]
     },
     "execution_count": 22,
     "metadata": {},
     "output_type": "execute_result"
    }
   ],
   "source": [
    "nko_data[nko_data['regionName'].isna()]"
   ]
  },
  {
   "cell_type": "markdown",
   "id": "81296a42",
   "metadata": {},
   "source": [
    "Все пропущенные значения относятся к Республике Татарстан с кодом региона - 16"
   ]
  },
  {
   "cell_type": "code",
   "execution_count": 23,
   "id": "b270bc9d",
   "metadata": {},
   "outputs": [
    {
     "data": {
      "text/html": [
       "<div>\n",
       "<style scoped>\n",
       "    .dataframe tbody tr th:only-of-type {\n",
       "        vertical-align: middle;\n",
       "    }\n",
       "\n",
       "    .dataframe tbody tr th {\n",
       "        vertical-align: top;\n",
       "    }\n",
       "\n",
       "    .dataframe thead th {\n",
       "        text-align: right;\n",
       "    }\n",
       "</style>\n",
       "<table border=\"1\" class=\"dataframe\">\n",
       "  <thead>\n",
       "    <tr style=\"text-align: right;\">\n",
       "      <th></th>\n",
       "      <th>Unnamed: 0</th>\n",
       "      <th>regionName</th>\n",
       "      <th>fullName</th>\n",
       "      <th>dateReg</th>\n",
       "      <th>minjustForm</th>\n",
       "      <th>ogrn</th>\n",
       "      <th>egrulStatus</th>\n",
       "      <th>regionCode</th>\n",
       "      <th>incomeTotal</th>\n",
       "      <th>inn</th>\n",
       "      <th>originDate</th>\n",
       "      <th>dateLiquid</th>\n",
       "      <th>address</th>\n",
       "      <th>okogu</th>\n",
       "      <th>hasRegionalSupport</th>\n",
       "      <th>addOkved</th>\n",
       "      <th>dateOgrn</th>\n",
       "      <th>opf_name</th>\n",
       "      <th>opf_code</th>\n",
       "      <th>mainOkved_name</th>\n",
       "      <th>mainOkved_code</th>\n",
       "      <th>num_of_addOkved</th>\n",
       "      <th>index_address</th>\n",
       "    </tr>\n",
       "  </thead>\n",
       "  <tbody>\n",
       "    <tr>\n",
       "      <th>269</th>\n",
       "      <td>269</td>\n",
       "      <td>Республика Татарстан</td>\n",
       "      <td>МЕСТНАЯ МУСУЛЬМАНСКАЯ РЕЛИГИОЗНАЯ ОРГАНИЗАЦИЯ-ПРИХОД МЕЧЕТИ Д. АЗЯКУЛЬ МУХТАСИБАТА АКТАНЫШСКОГО РАЙОНА ЦЕНТРАЛИЗОВАННОЙ РЕЛИГИОЗНОЙ ОРГАНИЗАЦИИ-ДУХОВНОГО УПРАВЛЕНИЯ МУСУЛЬМАН РЕСПУБЛИКИ ТАТАРСТАН</td>\n",
       "      <td>not data</td>\n",
       "      <td>Религиозная организация</td>\n",
       "      <td>1201600046515</td>\n",
       "      <td>Действует</td>\n",
       "      <td>16</td>\n",
       "      <td>0.0</td>\n",
       "      <td>1.604011e+09</td>\n",
       "      <td>2020-07-08 00:00:00+00:00</td>\n",
       "      <td>not data</td>\n",
       "      <td>423740, РЕСПУБЛИКА ТАТАРСТАН, РАЙОН АКТАНЫШСКИЙ, ДЕРЕВНЯ АЗЯКУЛЬ, УЛИЦА НАБЕРЕЖНАЯ, ДОМ 36</td>\n",
       "      <td>{'name': None, 'code': None}</td>\n",
       "      <td>False</td>\n",
       "      <td>[]</td>\n",
       "      <td>2020-07-08 00:00:00+00:00</td>\n",
       "      <td>Религиозные организации</td>\n",
       "      <td>71500</td>\n",
       "      <td>Деятельность религиозных организаций</td>\n",
       "      <td>94.91</td>\n",
       "      <td>0</td>\n",
       "      <td>423740.0</td>\n",
       "    </tr>\n",
       "    <tr>\n",
       "      <th>270</th>\n",
       "      <td>270</td>\n",
       "      <td>Республика Татарстан</td>\n",
       "      <td>МЕСТНАЯ МУСУЛЬМАНСКАЯ РЕЛИГИОЗНАЯ ОРГАНИЗАЦИЯ-ПРИХОД МЕЧЕТИ \"АХТАМ\" МУХТАСИБАТА СОВЕТСКОГО РАЙОНА ГОРОДА КАЗАНИ ЦЕНТРАЛИЗОВАННОЙ РЕЛИГИОЗНОЙ ОРГАНИЗАЦИИ - ДУХОВНОГО УПРАВЛЕНИЯ МУСУЛЬМАН РЕСПУБЛИКИ ТАТАРСТАН</td>\n",
       "      <td>not data</td>\n",
       "      <td>Религиозная организация</td>\n",
       "      <td>1201600046504</td>\n",
       "      <td>Действует</td>\n",
       "      <td>16</td>\n",
       "      <td>0.0</td>\n",
       "      <td>1.660347e+09</td>\n",
       "      <td>2020-07-08 00:00:00+00:00</td>\n",
       "      <td>not data</td>\n",
       "      <td>420075, РЕСПУБЛИКА ТАТАРСТАН, ГОРОД КАЗАНЬ, УЛИЦА АСЫЛЪЯР, ДОМ 41 А</td>\n",
       "      <td>{'name': None, 'code': None}</td>\n",
       "      <td>False</td>\n",
       "      <td>[]</td>\n",
       "      <td>2020-07-08 00:00:00+00:00</td>\n",
       "      <td>Религиозные организации</td>\n",
       "      <td>71500</td>\n",
       "      <td>Деятельность религиозных организаций</td>\n",
       "      <td>94.91</td>\n",
       "      <td>0</td>\n",
       "      <td>420075.0</td>\n",
       "    </tr>\n",
       "    <tr>\n",
       "      <th>273</th>\n",
       "      <td>273</td>\n",
       "      <td>Республика Татарстан</td>\n",
       "      <td>МЕСТНАЯ СТАРООБРЯДЧЕСКАЯ РЕЛИГИОЗНАЯ ОРГАНИЗАЦИЯ - ДАВЛИКЕЕВО-ВВЕДЕНСКАЯ СТАРООБРЯДЧЕСКАЯ ОБЩИНА СТАРО-ПОМОРСКОГО СОГЛАСИЯ ГОРОДА КАЗАНИ</td>\n",
       "      <td>not data</td>\n",
       "      <td>Религиозная организация</td>\n",
       "      <td>1201600025307</td>\n",
       "      <td>Действует</td>\n",
       "      <td>16</td>\n",
       "      <td>0.0</td>\n",
       "      <td>1.655436e+09</td>\n",
       "      <td>2020-03-27 00:00:00+00:00</td>\n",
       "      <td>not data</td>\n",
       "      <td>420021, РЕСПУБЛИКА ТАТАРСТАН, ГОРОД КАЗАНЬ, УЛИЦА МАРТЫНА МЕЖЛАУКА, ДОМ 28, ЛИТЕР 1,2 ПОМЕЩЕНИЕ 1</td>\n",
       "      <td>{'name': None, 'code': None}</td>\n",
       "      <td>False</td>\n",
       "      <td>[]</td>\n",
       "      <td>2020-03-27 00:00:00+00:00</td>\n",
       "      <td>Религиозные организации</td>\n",
       "      <td>71500</td>\n",
       "      <td>Деятельность религиозных организаций</td>\n",
       "      <td>94.91</td>\n",
       "      <td>0</td>\n",
       "      <td>420021.0</td>\n",
       "    </tr>\n",
       "    <tr>\n",
       "      <th>391</th>\n",
       "      <td>391</td>\n",
       "      <td>Республика Татарстан</td>\n",
       "      <td>РЕГИОНАЛЬНОЕ ЭКОЛОГИЧЕСКОЕ ОБЩЕСТВЕННОЕ ДВИЖЕНИЕ РЕСПУБЛИКИ ТАТАРСТАН \"НАРОДНАЯ ИНИЦИАТИВА\"</td>\n",
       "      <td>not data</td>\n",
       "      <td>Общественное движение</td>\n",
       "      <td>1201600046482</td>\n",
       "      <td>Действует</td>\n",
       "      <td>16</td>\n",
       "      <td>0.0</td>\n",
       "      <td>1.650393e+09</td>\n",
       "      <td>2020-07-08 00:00:00+00:00</td>\n",
       "      <td>not data</td>\n",
       "      <td>423810, РЕСПУБЛИКА ТАТАРСТАН, ГОРОД НАБЕРЕЖНЫЕ ЧЕЛНЫ, УЛИЦА АКАДЕМИКА РУБАНЕНКО, ДОМ 12, ОФИС 305</td>\n",
       "      <td>{'name': None, 'code': None}</td>\n",
       "      <td>False</td>\n",
       "      <td>[{'name': 'Деятельность в области права', 'code': '69.10', 'version': 'ОК 029-2014 (КДЕС Ред. 2)'}, {'name': 'Издание газет', 'code': '58.13', 'version': 'ОК 029-2014 (КДЕС Ред. 2)'}, {'name': 'Издание журналов и периодических изданий', 'code': '58.14', 'version': 'ОК 029-2014 (КДЕС Ред. 2)'}, {'name': 'Виды издательской деятельности прочие', 'code': '58.19', 'version': 'ОК 029-2014 (КДЕС Ред. 2)'}, {'name': 'Предоставление консультационных услуг в области экологии', 'code': '74.90.5', 'version': 'ОК 029-2014 (КДЕС Ред. 2)'}, {'name': 'Деятельность по охране исторических мест и зданий, памятников культуры', 'code': '91.03', 'version': 'ОК 029-2014 (КДЕС Ред. 2)'}, {'name': 'Деятельность по мониторингу загрязнения окружающей среды для физических и юридических лиц', 'code': '71.12.53', 'version': 'ОК 029-2014 (КДЕС Ред. 2)'}]</td>\n",
       "      <td>2020-07-08 00:00:00+00:00</td>\n",
       "      <td>Общественные движения</td>\n",
       "      <td>20210</td>\n",
       "      <td>Деятельность прочих общественных организаций, не включенных в другие группировки</td>\n",
       "      <td>94.99</td>\n",
       "      <td>7</td>\n",
       "      <td>423810.0</td>\n",
       "    </tr>\n",
       "    <tr>\n",
       "      <th>392</th>\n",
       "      <td>392</td>\n",
       "      <td>Республика Татарстан</td>\n",
       "      <td>ЧАСТНОЕ ОБЩЕОБРАЗОВАТЕЛЬНОЕ УЧРЕЖДЕНИЕ \"ЛЮБИМАЯ ШКОЛА\"</td>\n",
       "      <td>not data</td>\n",
       "      <td>Учреждение</td>\n",
       "      <td>1201600046471</td>\n",
       "      <td>Действует</td>\n",
       "      <td>16</td>\n",
       "      <td>0.0</td>\n",
       "      <td>1.659210e+09</td>\n",
       "      <td>2020-07-08 00:00:00+00:00</td>\n",
       "      <td>not data</td>\n",
       "      <td>420064, РЕСПУБЛИКА ТАТАРСТАН, ГОРОД КАЗАНЬ, УЛИЦА ГАРИФА АХУНОВА, ДОМ 20, КВАРТИРА 124</td>\n",
       "      <td>{'name': None, 'code': None}</td>\n",
       "      <td>False</td>\n",
       "      <td>[{'name': 'Образование дополнительное детей и взрослых', 'code': '85.41', 'version': 'ОК 029-2014 (КДЕС Ред. 2)'}, {'name': 'Образование основное общее', 'code': '85.13', 'version': 'ОК 029-2014 (КДЕС Ред. 2)'}, {'name': 'Образование среднее общее', 'code': '85.14', 'version': 'ОК 029-2014 (КДЕС Ред. 2)'}]</td>\n",
       "      <td>2020-07-08 00:00:00+00:00</td>\n",
       "      <td>Частные учреждения</td>\n",
       "      <td>75500</td>\n",
       "      <td>Образование начальное общее</td>\n",
       "      <td>85.12</td>\n",
       "      <td>3</td>\n",
       "      <td>420064.0</td>\n",
       "    </tr>\n",
       "    <tr>\n",
       "      <th>...</th>\n",
       "      <td>...</td>\n",
       "      <td>...</td>\n",
       "      <td>...</td>\n",
       "      <td>...</td>\n",
       "      <td>...</td>\n",
       "      <td>...</td>\n",
       "      <td>...</td>\n",
       "      <td>...</td>\n",
       "      <td>...</td>\n",
       "      <td>...</td>\n",
       "      <td>...</td>\n",
       "      <td>...</td>\n",
       "      <td>...</td>\n",
       "      <td>...</td>\n",
       "      <td>...</td>\n",
       "      <td>...</td>\n",
       "      <td>...</td>\n",
       "      <td>...</td>\n",
       "      <td>...</td>\n",
       "      <td>...</td>\n",
       "      <td>...</td>\n",
       "      <td>...</td>\n",
       "      <td>...</td>\n",
       "    </tr>\n",
       "    <tr>\n",
       "      <th>745928</th>\n",
       "      <td>745928</td>\n",
       "      <td>Республика Татарстан</td>\n",
       "      <td>НЕКОММЕРЧЕСКОЕ ПАРТНЕРСТВО \"ХОККЕЙНЫЙ КЛУБ \"ФАКЕЛ\"</td>\n",
       "      <td>not data</td>\n",
       "      <td>Некоммерческое партнерство</td>\n",
       "      <td>1061600051820</td>\n",
       "      <td>Действует</td>\n",
       "      <td>16</td>\n",
       "      <td>0.0</td>\n",
       "      <td>1.660092e+09</td>\n",
       "      <td>2006-07-20 00:00:00+00:00</td>\n",
       "      <td>not data</td>\n",
       "      <td>420073, РЕСПУБЛИКА ТАТАРСТАН, ГОРОД КАЗАНЬ, УЛИЦА АВИАХИМА, ДОМ 5</td>\n",
       "      <td>{'name': 'Организации, учрежденные юридическими лицами или гражданами, или юридическими лицами и гражданами совместно', 'code': '4210014'}</td>\n",
       "      <td>True</td>\n",
       "      <td>[{'name': 'Деятельность зрелищно-развлекательная прочая, не включенная в другие группировки', 'code': '93.29.9', 'version': 'ОК 029-2014 (КДЕС Ред. 2)'}, {'name': 'Деятельность физкультурно- оздоровительная', 'code': '96.04', 'version': 'ОК 029-2014 (КДЕС Ред. 2)'}, {'name': 'Деятельность в области спорта прочая', 'code': '93.19', 'version': 'ОК 029-2014 (КДЕС Ред. 2)'}, {'name': 'Деятельность спортивных объектов', 'code': '93.11', 'version': 'ОК 029-2014 (КДЕС Ред. 2)'}]</td>\n",
       "      <td>2006-07-20 00:00:00+00:00</td>\n",
       "      <td>Некоммерческие партнерства</td>\n",
       "      <td>20614</td>\n",
       "      <td>Деятельность прочих общественных организаций, не включенных в другие группировки</td>\n",
       "      <td>94.99</td>\n",
       "      <td>4</td>\n",
       "      <td>420073.0</td>\n",
       "    </tr>\n",
       "    <tr>\n",
       "      <th>745929</th>\n",
       "      <td>745929</td>\n",
       "      <td>Республика Татарстан</td>\n",
       "      <td>МЕСТНАЯ МУСУЛЬМАНСКАЯ РЕЛИГИОЗНАЯ ОРГАНИЗАЦИЯ - ПРИХОД Д. КУГАШЕВО МУХТАСИБАТА ТУКАЕВСКОГО РАЙОНА ЦЕНТРАЛИЗОВАННОЙ РЕЛИГИОЗНОЙ ОРГАНИЗАЦИИ - ДУХОВНОГО УПРАВЛЕНИЯ МУСУЛЬМАН РЕСПУБЛИКИ ТАТАРСТАН</td>\n",
       "      <td>not data</td>\n",
       "      <td>Религиозная организация</td>\n",
       "      <td>1061600052117</td>\n",
       "      <td>Действует</td>\n",
       "      <td>16</td>\n",
       "      <td>0.0</td>\n",
       "      <td>1.639034e+09</td>\n",
       "      <td>2006-08-24 00:00:00+00:00</td>\n",
       "      <td>not data</td>\n",
       "      <td>423881, РЕСПУБЛИКА ТАТАРСТАН, РАЙОН ТУКАЕВСКИЙ, ДЕРЕВНЯ КУГАШЕВО</td>\n",
       "      <td>{'name': 'Другие хозяйствующие субъекты', 'code': '4210090'}</td>\n",
       "      <td>False</td>\n",
       "      <td>[{'name': 'Торговля розничная сувенирами, изделиями народных художественных промыслов', 'code': '47.78.3', 'version': 'ОК 029-2014 (КДЕС Ред. 2)'}, {'name': 'Торговля розничная предметами культового и религиозного назначения, похоронными принадлежностями в специализированных магазинах', 'code': '47.78.4', 'version': 'ОК 029-2014 (КДЕС Ред. 2)'}]</td>\n",
       "      <td>2006-08-24 00:00:00+00:00</td>\n",
       "      <td>Религиозные организации</td>\n",
       "      <td>71500</td>\n",
       "      <td>Деятельность религиозных организаций</td>\n",
       "      <td>94.91</td>\n",
       "      <td>2</td>\n",
       "      <td>423881.0</td>\n",
       "    </tr>\n",
       "    <tr>\n",
       "      <th>746534</th>\n",
       "      <td>746534</td>\n",
       "      <td>Республика Татарстан</td>\n",
       "      <td>ФОНД 400-ЛЕТИЯ С.НОВОШЕШМИНСК</td>\n",
       "      <td>not data</td>\n",
       "      <td>Некоммерческий фонд</td>\n",
       "      <td>1061677012759</td>\n",
       "      <td>Действует</td>\n",
       "      <td>16</td>\n",
       "      <td>0.0</td>\n",
       "      <td>1.631004e+09</td>\n",
       "      <td>2006-03-28 00:00:00+00:00</td>\n",
       "      <td>not data</td>\n",
       "      <td>423190, РЕСПУБЛИКА ТАТАРСТАН, РАЙОН НОВОШЕШМИНСКИЙ, СЕЛО НОВОШЕШМИНСК, УЛИЦА СОВЕТСКАЯ, ДОМ 80</td>\n",
       "      <td>{'name': 'Организации, учрежденные юридическими лицами или гражданами, или юридическими лицами и гражданами совместно', 'code': '4210014'}</td>\n",
       "      <td>False</td>\n",
       "      <td>[]</td>\n",
       "      <td>2006-03-28 00:00:00+00:00</td>\n",
       "      <td>Фонды</td>\n",
       "      <td>70400</td>\n",
       "      <td>Деятельность прочих общественных организаций, не включенных в другие группировки</td>\n",
       "      <td>94.99</td>\n",
       "      <td>0</td>\n",
       "      <td>423190.0</td>\n",
       "    </tr>\n",
       "    <tr>\n",
       "      <th>746547</th>\n",
       "      <td>746547</td>\n",
       "      <td>Республика Татарстан</td>\n",
       "      <td>ТОВАРИЩЕСТВО СОБСТВЕННИКОВ НЕДВИЖИМОСТИ \"КАСАТКИНА-20\"</td>\n",
       "      <td>not data</td>\n",
       "      <td>Товарищество собственников жилья</td>\n",
       "      <td>1061655060081</td>\n",
       "      <td>Действует</td>\n",
       "      <td>16</td>\n",
       "      <td>0.0</td>\n",
       "      <td>1.655113e+09</td>\n",
       "      <td>2006-08-02 00:00:00+00:00</td>\n",
       "      <td>not data</td>\n",
       "      <td>420015, РЕСПУБЛИКА ТАТАРСТАН, ГОРОД КАЗАНЬ, УЛИЦА КАСАТКИНА, ДОМ 20</td>\n",
       "      <td>{'name': 'Организации, учрежденные юридическими лицами или гражданами, или юридическими лицами и гражданами совместно', 'code': '4210014'}</td>\n",
       "      <td>False</td>\n",
       "      <td>[{'name': 'Покупка и продажа собственного недвижимого имущества', 'code': '68.1', 'version': 'ОК 029-2014 (КДЕС Ред. 2)'}, {'name': 'Управление эксплуатацией нежилого фонда за вознаграждение или на договорной основе', 'code': '68.32.2', 'version': 'ОК 029-2014 (КДЕС Ред. 2)'}, {'name': 'Управление эксплуатацией жилого фонда за вознаграждение или на договорной основе', 'code': '68.32.1', 'version': 'ОК 029-2014 (КДЕС Ред. 2)'}]</td>\n",
       "      <td>2006-08-02 00:00:00+00:00</td>\n",
       "      <td>Товарищества собственников недвижимости</td>\n",
       "      <td>20700</td>\n",
       "      <td>Управление недвижимым имуществом за вознаграждение или на договорной основе</td>\n",
       "      <td>68.32</td>\n",
       "      <td>3</td>\n",
       "      <td>420015.0</td>\n",
       "    </tr>\n",
       "    <tr>\n",
       "      <th>746669</th>\n",
       "      <td>746669</td>\n",
       "      <td>Республика Татарстан</td>\n",
       "      <td>СЕЛЬСКОХОЗЯЙСТВЕННЫЙ СНАБЖЕНЧЕСКО-СБЫТОВОЙ ПЕРЕРАБАТЫВАЮЩИЙ ПОТРЕБИТЕЛЬСКИЙ КООПЕРАТИВ \"МИЛК ДИАС\"</td>\n",
       "      <td>not data</td>\n",
       "      <td>NaN</td>\n",
       "      <td>1061672060890</td>\n",
       "      <td>Действует</td>\n",
       "      <td>16</td>\n",
       "      <td>0.0</td>\n",
       "      <td>1.608007e+09</td>\n",
       "      <td>2006-11-28 00:00:00+00:00</td>\n",
       "      <td>not data</td>\n",
       "      <td>422433, РЕСПУБЛИКА ТАТАРСТАН, РАЙОН БУИНСКИЙ, ГОРОД БУИНСК, УЛИЦА ВАХИТОВА, ДОМ 114</td>\n",
       "      <td>{'name': 'Организации, учрежденные юридическими лицами или гражданами, или юридическими лицами и гражданами совместно', 'code': '4210014'}</td>\n",
       "      <td>False</td>\n",
       "      <td>[{'name': 'Торговля оптовая неспециализированная', 'code': '46.90', 'version': 'ОК 029-2014 (КДЕС Ред. 2)'}, {'name': 'Деятельность по предоставлению прочих вспомогательных услуг для бизнеса, не включенная в другие группировки', 'code': '82.99', 'version': 'ОК 029-2014 (КДЕС Ред. 2)'}, {'name': 'Торговля оптовая сельскохозяйственным сырьем и живыми животными', 'code': '46.2', 'version': 'ОК 029-2014 (КДЕС Ред. 2)'}, {'name': 'Торговля розничная преимущественно пищевыми продуктами, включая напитки, и табачными изделиями в неспециализированных магазинах', 'code': '47.11', 'version': 'ОК 029-2014 (КДЕС Ред. 2)'}, {'name': 'Консультирование по вопросам коммерческой деятельности и управления', 'code': '70.22', 'version': 'ОК 029-2014 (КДЕС Ред. 2)'}, {'name': 'Торговля оптовая зерном', 'code': '46.21.11', 'version': 'ОК 029-2014 (КДЕС Ред. 2)'}, {'name': 'Торговля розничная пищевыми продуктами, напитками и табачными изделиями в специализированных магазинах', 'code': '47.2', 'version': 'ОК 029-2014 (КДЕС Ред. 2)'}, {'name': 'Деятельность по складированию и хранению', 'code': '52.10', 'version': 'ОК 029-2014 (КДЕС Ред. 2)'}, {'name': 'Торговля оптовая масличными семенами и маслосодержащими плодами', 'code': '46.21.13', 'version': 'ОК 029-2014 (КДЕС Ред. 2)'}, {'name': 'Торговля оптовая живыми животными', 'code': '46.23', 'version': 'ОК 029-2014 (КДЕС Ред. 2)'}, {'name': 'Торговля оптовая шкурами и кожей', 'code': '46.24', 'version': 'ОК 029-2014 (КДЕС Ред. 2)'}, {'name': 'Торговля оптовая фруктами и овощами', 'code': '46.31', 'version': 'ОК 029-2014 (КДЕС Ред. 2)'}, {'name': 'Торговля оптовая свежим картофелем', 'code': '46.31.11', 'version': 'ОК 029-2014 (КДЕС Ред. 2)'}, {'name': 'Торговля оптовая мясом и мясными продуктами', 'code': '46.32', 'version': 'ОК 029-2014 (КДЕС Ред. 2)'}, {'name': 'Торговля оптовая консервами из мяса и мяса птицы', 'code': '46.32.3', 'version': 'ОК 029-2014 (КДЕС Ред. 2)'}, {'name': 'Торговля оптовая молочными продуктами, яйцами и пищевыми маслами и жирами', 'code': '46.33', 'version': 'ОК 029-2014 (КДЕС Ред. 2)'}, {'name': 'Торговля оптовая отходами и ломом', 'code': '46.77', 'version': 'ОК 029-2014 (КДЕС Ред. 2)'}, {'name': 'Торговля розничная прочими пищевыми продуктами в специализированных магазинах', 'code': '47.29.3', 'version': 'ОК 029-2014 (КДЕС Ред. 2)'}, {'name': 'Торговля оптовая текстильными волокнами', 'code': '46.76.2', 'version': 'ОК 029-2014 (КДЕС Ред. 2)'}, {'name': 'Предоставление услуг в области растениеводства', 'code': '01.61', 'version': 'ОК 029-2014 (КДЕС Ред. 2)'}, {'name': 'Сертификация продукции, услуг и организаций', 'code': '71.20.8', 'version': 'ОК 029-2014 (КДЕС Ред. 2)'}, {'name': 'Покупка и продажа собственных нежилых зданий и помещений', 'code': '68.10.22', 'version': 'ОК 029-2014 (КДЕС Ред. 2)'}, {'name': 'Покупка и продажа земельных участков', 'code': '68.10.23', 'version': 'ОК 029-2014 (КДЕС Ред. 2)'}, {'name': 'Торговля розничная фруктами и овощами в специализированных магазинах', 'code': '47.21', 'version': 'ОК 029-2014 (КДЕС Ред. 2)'}, {'name': 'Торговля розничная мясом и мясными продуктами в специализированных магазинах', 'code': '47.22', 'version': 'ОК 029-2014 (КДЕС Ред. 2)'}, {'name': 'Торговля розничная рыбой, ракообразными и моллюсками в специализированных магазинах', 'code': '47.23', 'version': 'ОК 029-2014 (КДЕС Ред. 2)'}, {'name': 'Торговля розничная хлебом и хлебобулочными изделиями и кондитерскими изделиями в специализированных магазинах', 'code': '47.24', 'version': 'ОК 029-2014 (КДЕС Ред. 2)'}, {'name': 'Торговля розничная табачными изделиями в специализированных магазинах', 'code': '47.26', 'version': 'ОК 029-2014 (КДЕС Ред. 2)'}, {'name': 'Торговля оптовая прочими пищевыми продуктами, не включенными в другие группировки', 'code': '46.38.29', 'version': 'ОК 029-2014 (КДЕС Ред. 2)'}, {'name': 'Деятельность по техническому контролю, испытаниям и анализу прочая', 'code': '71.20.9', 'version': 'ОК 029-2014 (КДЕС Ред. 2)'}, {'name': 'Торговля оптовая молочными продуктами', 'code': '46.33.1', 'version': 'ОК 029-2014 (КДЕС Ред. 2)'}, {'name': 'Торговля оптовая соками, минеральной водой и прочими безалкогольными напитками', 'code': '46.34.1', 'version': 'ОК 029-2014 (КДЕС Ред. 2)'}, {'name': 'Торговля розничная безалкогольными напитками в специализированных магазинах', 'code': '47.25.2', 'version': 'ОК 029-2014 (КДЕС Ред. 2)'}, {'name': 'Торговля розничная консервами из рыбы и морепродуктов в специализированных магазинах', 'code': '47.23.2', 'version': 'ОК 029-2014 (КДЕС Ред. 2)'}, {'name': 'Охота, отлов и отстрел диких животных, включая предоставление услуг в этих областях', 'code': '01.70', 'version': 'ОК 029-2014 (КДЕС Ред. 2)'}, {'name': 'Торговля оптовая мясом и мясом птицы, включая субпродукты', 'code': '46.32.1', 'version': 'ОК 029-2014 (КДЕС Ред. 2)'}, {'name': 'Торговля розничная хлебом и хлебобулочными изделиями в специализированных магазинах', 'code': '47.24.1', 'version': 'ОК 029-2014 (КДЕС Ред. 2)'}, {'name': 'Торговля розничная кондитерскими изделиями в специализированных магазинах', 'code': '47.24.2', 'version': 'ОК 029-2014 (КДЕС Ред. 2)'}, {'name': 'Торговля розничная кондитерскими изделиями, включая шоколад, в специализированных магазинах', 'code': '47.24.22', 'version': 'ОК 029-2014 (КДЕС Ред. 2)'}, {'name': 'Торговля розничная мороженым и замороженными десертами в специализированных магазинах', 'code': '47.24.3', 'version': 'ОК 029-2014 (КДЕС Ред. 2)'}, {'name': 'Торговля розничная консервированными фруктами, овощами и орехами в специализированных магазинах', 'code': '47.21.2', 'version': 'ОК 029-2014 (КДЕС Ред. 2)'}, {'name': 'Торговля розничная растительными маслами в специализированных магазинах', 'code': '47.29.22', 'version': 'ОК 029-2014 (КДЕС Ред. 2)'}, {'name': 'Торговля розничная сахаром в специализированных магазинах', 'code': '47.29.33', 'version': 'ОК 029-2014 (КДЕС Ред. 2)'}, {'name': 'Торговля розничная солью в специализированных магазинах', 'code': '47.29.34', 'version': 'ОК 029-2014 (КДЕС Ред. 2)'}, {'name': 'Торговля розничная чаем, кофе, какао в специализированных магазинах', 'code': '47.29.35', 'version': 'ОК 029-2014 (КДЕС Ред. 2)'}, {'name': 'Выращивание овощей, бахчевых, корнеплодных и клубнеплодных культур, грибов и трюфелей', 'code': '01.13', 'version': 'ОК 029-2014 (КДЕС Ред. 2)'}, {'name': 'Выращивание прочих плодовых деревьев, кустарников и орехов', 'code': '01.25', 'version': 'ОК 029-2014 (КДЕС Ред. 2)'}, {'name': 'Выращивание рассады', 'code': '01.30', 'version': 'ОК 029-2014 (КДЕС Ред. 2)'}, {'name': 'Производство продуктов мукомольной и крупяной промышленности', 'code': '10.61', 'version': 'ОК 029-2014 (КДЕС Ред. 2)'}, {'name': 'Торговля оптовая консервированными овощами, фруктами и орехами', 'code': '46.31.2', 'version': 'ОК 029-2014 (КДЕС Ред. 2)'}, {'name': 'Производство продукции из мяса убойных животных и мяса птицы', 'code': '10.13', 'version': 'ОК 029-2014 (КДЕС Ред. 2)'}, {'name': 'Торговля оптовая хлебобулочными изделиями', 'code': '46.36.4', 'version': 'ОК 029-2014 (КДЕС Ред. 2)'}, {'name': 'Торговля оптовая мукой и макаронными изделиями', 'code': '46.38.23', 'version': 'ОК 029-2014 (КДЕС Ред. 2)'}, {'name': 'Переработка и консервирование мяса', 'code': '10.11', 'version': 'ОК 029-2014 (КДЕС Ред. 2)'}, {'name': 'Прочие виды переработки и консервирования фруктов и овощей', 'code': '10.39', 'version': 'ОК 029-2014 (КДЕС Ред. 2)'}, {'name': 'Производство молока (кроме сырого) и молочной продукции', 'code': '10.51', 'version': 'ОК 029-2014 (КДЕС Ред. 2)'}, {'name': 'Лесозаготовки', 'code': '02.20', 'version': 'ОК 029-2014 (КДЕС Ред. 2)'}, {'name': 'Торговля оптовая бумагой и картоном', 'code': '46.76.1', 'version': 'ОК 029-2014 (КДЕС Ред. 2)'}, {'name': 'Торговля розничная мясом и мясом птицы, включая субпродукты в специализированных магазинах', 'code': '47.22.1', 'version': 'ОК 029-2014 (КДЕС Ред. 2)'}, {'name': 'Добыча декоративного и строительного камня, известняка, гипса, мела и сланцев', 'code': '08.11', 'version': 'ОК 029-2014 (КДЕС Ред. 2)'}, {'name': 'Производство соковой продукции из фруктов и овощей', 'code': '10.32', 'version': 'ОК 029-2014 (КДЕС Ред. 2)'}, {'name': 'Производство муки из зерновых культур', 'code': '10.61.2', 'version': 'ОК 029-2014 (КДЕС Ред. 2)'}, {'name': 'Производство готовых пищевых продуктов и блюд', 'code': '10.85', 'version': 'ОК 029-2014 (КДЕС Ред. 2)'}, {'name': 'Торговля оптовая продуктами из мяса и мяса птицы', 'code': '46.32.2', 'version': 'ОК 029-2014 (КДЕС Ред. 2)'}, {'name': 'Торговля розничная пивом в специализированных магазинах', 'code': '47.25.12', 'version': 'ОК 029-2014 (КДЕС Ред. 2)'}, {'name': 'Разведение молочного крупного рогатого скота, производство сырого молока', 'code': '01.41', 'version': 'ОК 029-2014 (КДЕС Ред. 2)'}, {'name': 'Разведение сельскохозяйственной птицы', 'code': '01.47', 'version': 'ОК 029-2014 (КДЕС Ред. 2)'}, {'name': 'Лесоводство и прочая лесохозяйственная деятельность', 'code': '02.10', 'version': 'ОК 029-2014 (КДЕС Ред. 2)'}, {'name': 'Производство животных жиров', 'code': '10.11.5', 'version': 'ОК 029-2014 (КДЕС Ред. 2)'}, {'name': 'Торговля розничная алкогольными напитками, включая пиво, в специализированных магазинах', 'code': '47.25.1', 'version': 'ОК 029-2014 (КДЕС Ред. 2)'}, {'name': 'Разведение лошадей, ослов, мулов, лошаков', 'code': '01.43.1', 'version': 'ОК 029-2014 (КДЕС Ред. 2)'}, {'name': 'Торговля розничная молочными продуктами и яйцами в специализированных магазинах', 'code': '47.29.1', 'version': 'ОК 029-2014 (КДЕС Ред. 2)'}, {'name': 'Производство пищевых субпродуктов в охлажденном виде', 'code': '10.11.2', 'version': 'ОК 029-2014 (КДЕС Ред. 2)'}, {'name': 'Производство мяса и пищевых субпродуктов в замороженном виде', 'code': '10.11.3', 'version': 'ОК 029-2014 (КДЕС Ред. 2)'}, {'name': 'Предоставление услуг в области животноводства', 'code': '01.62', 'version': 'ОК 029-2014 (КДЕС Ред. 2)'}, {'name': 'Добыча руд прочих цветных металлов', 'code': '07.29', 'version': 'ОК 029-2014 (КДЕС Ред. 2)'}, {'name': 'Добыча глины и каолина', 'code': '08.12.2', 'version': 'ОК 029-2014 (КДЕС Ред. 2)'}, {'name': 'Пчеловодство', 'code': '01.49.1', 'version': 'ОК 029-2014 (КДЕС Ред. 2)'}, {'name': 'Деятельность ветеринарная', 'code': '75.00', 'version': 'ОК 029-2014 (КДЕС Ред. 2)'}, {'name': 'Торговля розничная пищевыми маслами и жирами в специализированных магазинах', 'code': '47.29.2', 'version': 'ОК 029-2014 (КДЕС Ред. 2)'}, {'name': 'Торговля розничная мукой и макаронными изделиями в специализированных магазинах', 'code': '47.29.31', 'version': 'ОК 029-2014 (КДЕС Ред. 2)'}, {'name': 'Торговля розничная крупами в специализированных магазинах', 'code': '47.29.32', 'version': 'ОК 029-2014 (КДЕС Ред. 2)'}, {'name': 'Выращивание прочих плодовых и ягодных культур', 'code': '01.25.1', 'version': 'ОК 029-2014 (КДЕС Ред. 2)'}, {'name': 'Выращивание прочих однолетних культур', 'code': '01.19', 'version': 'ОК 029-2014 (КДЕС Ред. 2)'}, {'name': 'Торговля розничная продуктами из мяса и мяса птицы в специализированных магазинах', 'code': '47.22.2', 'version': 'ОК 029-2014 (КДЕС Ред. 2)'}, {'name': 'Торговля розничная рыбой и морепродуктами в специализированных магазинах', 'code': '47.23.1', 'version': 'ОК 029-2014 (КДЕС Ред. 2)'}, {'name': 'Переработка и консервирование овощей (кроме картофеля) и грибов', 'code': '10.39.1', 'version': 'ОК 029-2014 (КДЕС Ред. 2)'}, {'name': 'Торговля розничная консервами из мяса и мяса птицы в специализированных магазинах', 'code': '47.22.3', 'version': 'ОК 029-2014 (КДЕС Ред. 2)'}, {'name': 'Торговля розничная молочными продуктами в специализированных магазинах', 'code': '47.29.11', 'version': 'ОК 029-2014 (КДЕС Ред. 2)'}, {'name': 'Торговля розничная яйцами в специализированных магазинах', 'code': '47.29.12', 'version': 'ОК 029-2014 (КДЕС Ред. 2)'}, {'name': 'Разведение прочих животных', 'code': '01.49', 'version': 'ОК 029-2014 (КДЕС Ред. 2)'}, {'name': 'Рыболовство пресноводное', 'code': '03.12', 'version': 'ОК 029-2014 (КДЕС Ред. 2)'}, {'name': 'Производство прочей пищевой продукции из мяса или мясных пищевых субпродуктов', 'code': '10.13.6', 'version': 'ОК 029-2014 (КДЕС Ред. 2)'}, {'name': 'Предоставление услуг по тепловой обработке и прочим способам переработки мясных продуктов', 'code': '10.13.9', 'version': 'ОК 029-2014 (КДЕС Ред. 2)'}, {'name': 'Разведение кроликов и прочих пушных зверей на фермах', 'code': '01.49.2', 'version': 'ОК 029-2014 (КДЕС Ред. 2)'}, {'name': 'Производство сливочного масла, топленого масла, масляной пасты, молочного жира, спредов и топленых сливочно-растительных смесей', 'code': '10.51.2', 'version': 'ОК 029-2014 (КДЕС Ред. 2)'}, {'name': 'Судебно-экспертная деятельность', 'code': '71.20.2', 'version': 'ОК 029-2014 (КДЕС Ред. 2)'}, {'name': 'Рыбоводство пресноводное', 'code': '03.22', 'version': 'ОК 029-2014 (КДЕС Ред. 2)'}, {'name': 'Разведение домашних животных', 'code': '01.49.5', 'version': 'ОК 029-2014 (КДЕС Ред. 2)'}, {'name': 'Предоставление услуг по тепловой обработке и прочим способам подготовки овощей и фруктов для консервирования', 'code': '10.39.9', 'version': 'ОК 029-2014 (КДЕС Ред. 2)'}, ...]</td>\n",
       "      <td>2006-11-28 00:00:00+00:00</td>\n",
       "      <td>Сельскохозяйственные потребительские перерабатывающие кооперативы</td>\n",
       "      <td>20109</td>\n",
       "      <td>Производство мяса в охлажденном виде</td>\n",
       "      <td>10.11.1</td>\n",
       "      <td>112</td>\n",
       "      <td>422433.0</td>\n",
       "    </tr>\n",
       "  </tbody>\n",
       "</table>\n",
       "<p>17103 rows × 23 columns</p>\n",
       "</div>"
      ],
      "text/plain": [
       "        Unnamed: 0            regionName  \\\n",
       "269            269  Республика Татарстан   \n",
       "270            270  Республика Татарстан   \n",
       "273            273  Республика Татарстан   \n",
       "391            391  Республика Татарстан   \n",
       "392            392  Республика Татарстан   \n",
       "...            ...                   ...   \n",
       "745928      745928  Республика Татарстан   \n",
       "745929      745929  Республика Татарстан   \n",
       "746534      746534  Республика Татарстан   \n",
       "746547      746547  Республика Татарстан   \n",
       "746669      746669  Республика Татарстан   \n",
       "\n",
       "                                                                                                                                                                                                              fullName  \\\n",
       "269                МЕСТНАЯ МУСУЛЬМАНСКАЯ РЕЛИГИОЗНАЯ ОРГАНИЗАЦИЯ-ПРИХОД МЕЧЕТИ Д. АЗЯКУЛЬ МУХТАСИБАТА АКТАНЫШСКОГО РАЙОНА ЦЕНТРАЛИЗОВАННОЙ РЕЛИГИОЗНОЙ ОРГАНИЗАЦИИ-ДУХОВНОГО УПРАВЛЕНИЯ МУСУЛЬМАН РЕСПУБЛИКИ ТАТАРСТАН   \n",
       "270     МЕСТНАЯ МУСУЛЬМАНСКАЯ РЕЛИГИОЗНАЯ ОРГАНИЗАЦИЯ-ПРИХОД МЕЧЕТИ \"АХТАМ\" МУХТАСИБАТА СОВЕТСКОГО РАЙОНА ГОРОДА КАЗАНИ ЦЕНТРАЛИЗОВАННОЙ РЕЛИГИОЗНОЙ ОРГАНИЗАЦИИ - ДУХОВНОГО УПРАВЛЕНИЯ МУСУЛЬМАН РЕСПУБЛИКИ ТАТАРСТАН   \n",
       "273                                                                           МЕСТНАЯ СТАРООБРЯДЧЕСКАЯ РЕЛИГИОЗНАЯ ОРГАНИЗАЦИЯ - ДАВЛИКЕЕВО-ВВЕДЕНСКАЯ СТАРООБРЯДЧЕСКАЯ ОБЩИНА СТАРО-ПОМОРСКОГО СОГЛАСИЯ ГОРОДА КАЗАНИ   \n",
       "391                                                                                                                        РЕГИОНАЛЬНОЕ ЭКОЛОГИЧЕСКОЕ ОБЩЕСТВЕННОЕ ДВИЖЕНИЕ РЕСПУБЛИКИ ТАТАРСТАН \"НАРОДНАЯ ИНИЦИАТИВА\"   \n",
       "392                                                                                                                                                             ЧАСТНОЕ ОБЩЕОБРАЗОВАТЕЛЬНОЕ УЧРЕЖДЕНИЕ \"ЛЮБИМАЯ ШКОЛА\"   \n",
       "...                                                                                                                                                                                                                ...   \n",
       "745928                                                                                                                                                              НЕКОММЕРЧЕСКОЕ ПАРТНЕРСТВО \"ХОККЕЙНЫЙ КЛУБ \"ФАКЕЛ\"   \n",
       "745929                МЕСТНАЯ МУСУЛЬМАНСКАЯ РЕЛИГИОЗНАЯ ОРГАНИЗАЦИЯ - ПРИХОД Д. КУГАШЕВО МУХТАСИБАТА ТУКАЕВСКОГО РАЙОНА ЦЕНТРАЛИЗОВАННОЙ РЕЛИГИОЗНОЙ ОРГАНИЗАЦИИ - ДУХОВНОГО УПРАВЛЕНИЯ МУСУЛЬМАН РЕСПУБЛИКИ ТАТАРСТАН   \n",
       "746534                                                                                                                                                                                   ФОНД 400-ЛЕТИЯ С.НОВОШЕШМИНСК   \n",
       "746547                                                                                                                                                          ТОВАРИЩЕСТВО СОБСТВЕННИКОВ НЕДВИЖИМОСТИ \"КАСАТКИНА-20\"   \n",
       "746669                                                                                                              СЕЛЬСКОХОЗЯЙСТВЕННЫЙ СНАБЖЕНЧЕСКО-СБЫТОВОЙ ПЕРЕРАБАТЫВАЮЩИЙ ПОТРЕБИТЕЛЬСКИЙ КООПЕРАТИВ \"МИЛК ДИАС\"   \n",
       "\n",
       "         dateReg                       minjustForm           ogrn egrulStatus  \\\n",
       "269     not data           Религиозная организация  1201600046515   Действует   \n",
       "270     not data           Религиозная организация  1201600046504   Действует   \n",
       "273     not data           Религиозная организация  1201600025307   Действует   \n",
       "391     not data             Общественное движение  1201600046482   Действует   \n",
       "392     not data                        Учреждение  1201600046471   Действует   \n",
       "...          ...                               ...            ...         ...   \n",
       "745928  not data        Некоммерческое партнерство  1061600051820   Действует   \n",
       "745929  not data           Религиозная организация  1061600052117   Действует   \n",
       "746534  not data               Некоммерческий фонд  1061677012759   Действует   \n",
       "746547  not data  Товарищество собственников жилья  1061655060081   Действует   \n",
       "746669  not data                               NaN  1061672060890   Действует   \n",
       "\n",
       "        regionCode  incomeTotal           inn                originDate  \\\n",
       "269             16          0.0  1.604011e+09 2020-07-08 00:00:00+00:00   \n",
       "270             16          0.0  1.660347e+09 2020-07-08 00:00:00+00:00   \n",
       "273             16          0.0  1.655436e+09 2020-03-27 00:00:00+00:00   \n",
       "391             16          0.0  1.650393e+09 2020-07-08 00:00:00+00:00   \n",
       "392             16          0.0  1.659210e+09 2020-07-08 00:00:00+00:00   \n",
       "...            ...          ...           ...                       ...   \n",
       "745928          16          0.0  1.660092e+09 2006-07-20 00:00:00+00:00   \n",
       "745929          16          0.0  1.639034e+09 2006-08-24 00:00:00+00:00   \n",
       "746534          16          0.0  1.631004e+09 2006-03-28 00:00:00+00:00   \n",
       "746547          16          0.0  1.655113e+09 2006-08-02 00:00:00+00:00   \n",
       "746669          16          0.0  1.608007e+09 2006-11-28 00:00:00+00:00   \n",
       "\n",
       "       dateLiquid  \\\n",
       "269      not data   \n",
       "270      not data   \n",
       "273      not data   \n",
       "391      not data   \n",
       "392      not data   \n",
       "...           ...   \n",
       "745928   not data   \n",
       "745929   not data   \n",
       "746534   not data   \n",
       "746547   not data   \n",
       "746669   not data   \n",
       "\n",
       "                                                                                                  address  \\\n",
       "269            423740, РЕСПУБЛИКА ТАТАРСТАН, РАЙОН АКТАНЫШСКИЙ, ДЕРЕВНЯ АЗЯКУЛЬ, УЛИЦА НАБЕРЕЖНАЯ, ДОМ 36   \n",
       "270                                   420075, РЕСПУБЛИКА ТАТАРСТАН, ГОРОД КАЗАНЬ, УЛИЦА АСЫЛЪЯР, ДОМ 41 А   \n",
       "273     420021, РЕСПУБЛИКА ТАТАРСТАН, ГОРОД КАЗАНЬ, УЛИЦА МАРТЫНА МЕЖЛАУКА, ДОМ 28, ЛИТЕР 1,2 ПОМЕЩЕНИЕ 1   \n",
       "391     423810, РЕСПУБЛИКА ТАТАРСТАН, ГОРОД НАБЕРЕЖНЫЕ ЧЕЛНЫ, УЛИЦА АКАДЕМИКА РУБАНЕНКО, ДОМ 12, ОФИС 305   \n",
       "392                420064, РЕСПУБЛИКА ТАТАРСТАН, ГОРОД КАЗАНЬ, УЛИЦА ГАРИФА АХУНОВА, ДОМ 20, КВАРТИРА 124   \n",
       "...                                                                                                   ...   \n",
       "745928                                  420073, РЕСПУБЛИКА ТАТАРСТАН, ГОРОД КАЗАНЬ, УЛИЦА АВИАХИМА, ДОМ 5   \n",
       "745929                                   423881, РЕСПУБЛИКА ТАТАРСТАН, РАЙОН ТУКАЕВСКИЙ, ДЕРЕВНЯ КУГАШЕВО   \n",
       "746534     423190, РЕСПУБЛИКА ТАТАРСТАН, РАЙОН НОВОШЕШМИНСКИЙ, СЕЛО НОВОШЕШМИНСК, УЛИЦА СОВЕТСКАЯ, ДОМ 80   \n",
       "746547                                420015, РЕСПУБЛИКА ТАТАРСТАН, ГОРОД КАЗАНЬ, УЛИЦА КАСАТКИНА, ДОМ 20   \n",
       "746669                422433, РЕСПУБЛИКА ТАТАРСТАН, РАЙОН БУИНСКИЙ, ГОРОД БУИНСК, УЛИЦА ВАХИТОВА, ДОМ 114   \n",
       "\n",
       "                                                                                                                                             okogu  \\\n",
       "269                                                                                                                   {'name': None, 'code': None}   \n",
       "270                                                                                                                   {'name': None, 'code': None}   \n",
       "273                                                                                                                   {'name': None, 'code': None}   \n",
       "391                                                                                                                   {'name': None, 'code': None}   \n",
       "392                                                                                                                   {'name': None, 'code': None}   \n",
       "...                                                                                                                                            ...   \n",
       "745928  {'name': 'Организации, учрежденные юридическими лицами или гражданами, или юридическими лицами и гражданами совместно', 'code': '4210014'}   \n",
       "745929                                                                                {'name': 'Другие хозяйствующие субъекты', 'code': '4210090'}   \n",
       "746534  {'name': 'Организации, учрежденные юридическими лицами или гражданами, или юридическими лицами и гражданами совместно', 'code': '4210014'}   \n",
       "746547  {'name': 'Организации, учрежденные юридическими лицами или гражданами, или юридическими лицами и гражданами совместно', 'code': '4210014'}   \n",
       "746669  {'name': 'Организации, учрежденные юридическими лицами или гражданами, или юридическими лицами и гражданами совместно', 'code': '4210014'}   \n",
       "\n",
       "        hasRegionalSupport  \\\n",
       "269                  False   \n",
       "270                  False   \n",
       "273                  False   \n",
       "391                  False   \n",
       "392                  False   \n",
       "...                    ...   \n",
       "745928                True   \n",
       "745929               False   \n",
       "746534               False   \n",
       "746547               False   \n",
       "746669               False   \n",
       "\n",
       "                                                                                                                                                                                                                                                                                                                                                                                                                                                                                                                                                                                                                                                                                                                                                                                                                                                                                                                                                                                                                                                                                                                                                                                                                                                                                                                                                                                                                                                                                                                                                                                                                                                                                                                                                                                                                                                                                                                                                                                                                                                                                                                                                                                                                                                                                                                                                                                                                                                                                                                                                                                                                                                                                                                                                                                                                                                                                                                                                                                                                                                                                                                                                                                                                                                                                                                                                                                                                                                                                                                                                                                                                                                                                                                                                                                                                                                                                                                                                                                                                                                                                                                                                                                                                                                                                                                                                                                                                                                                                                                                                                                                                                                                                                                                                                                                                                                                                                                                                                                                                                                                                                                                                                                                                                                                                                                                                                                                                                                                                                                                                                                                                                                                                                                                                                                                                                                                                                                                                                                                                                                                                                                                                                                                                                                                                                                                                                                                                                                                                                                                                                                                                                                                                                                                                                                                                                                                                                                                                                                                                                                                                                                                                                                                                                                                                                                                                                                                                                                                                                                                                                                                                                                                                                                                                                                                                                                                                                                                                                                                                                                                                                                                                                                                                                                                                                                                                                                                                                                                                                                                                                                                                                                                                                                                                                                                                                                                                                                                                                                                                                                                                                                                                                                                                                                                                                                                                                                                                                                                                                                                                                                                                                                                                                                                                                                                                                                                                                                                                                                                                                                                                                                                                                                                                                                                                                                                                                                                                                                                                                                                                                                                                                                                                                                                                                                                                                                                                                                                                                                                                                                                                                                                                                                                                                                                                                                                                                                                                                                                                                                                                                                                                                                                                                                                                                                                                                                                                                                                                                                                                                                                                                                                                                                                                                                                                                                                                                                                                                                                                                                                                                                                                                                                                                                                                                                                                                                                                                                                                                                                                                                                                                                                                                                                                                                                                                                                                                                                                                                                                                                                                                                                                                                      addOkved  \\\n",
       "269                                                                                                                                                                                                                                                                                                                                                                                                                                                                                                                                                                                                                                                                                                                                                                                                                                                                                                                                                                                                                                                                                                                                                                                                                                                                                                                                                                                                                                                                                                                                                                                                                                                                                                                                                                                                                                                                                                                                                                                                                                                                                                                                                                                                                                                                                                                                                                                                                                                                                                                                                                                                                                                                                                                                                                                                                                                                                                                                                                                                                                                                                                                                                                                                                                                                                                                                                                                                                                                                                                                                                                                                                                                                                                                                                                                                                                                                                                                                                                                                                                                                                                                                                                                                                                                                                                                                                                                                                                                                                                                                                                                                                                                                                                                                                                                                                                                                                                                                                                                                                                                                                                                                                                                                                                                                                                                                                                                                                                                                                                                                                                                                                                                                                                                                                                                                                                                                                                                                                                                                                                                                                                                                                                                                                                                                                                                                                                                                                                                                                                                                                                                                                                                                                                                                                                                                                                                                                                                                                                                                                                                                                                                                                                                                                                                                                                                                                                                                                                                                                                                                                                                                                                                                                                                                                                                                                                                                                                                                                                                                                                                                                                                                                                                                                                                                                                                                                                                                                                                                                                                                                                                                                                                                                                                                                                                                                                                                                                                                                                                                                                                                                                                                                                                                                                                                                                                                                                                                                                                                                                                                                                                                                                                                                                                                                                                                                                                                                                                                                                                                                                                                                                                                                                                                                                                                                                                                                                                                                                                                                                                                                                                                                                                                                                                                                                                                                                                                                                                                                                                                                                                                                                                                                                                                                                                                                                                                                                                                                                                                                                                                                                                                                                                                                                                                                                                                                                                                                                                                                                                                                                                                                                                                                                                                                                                                                                                                                                                                                                                                                                                                                                                                                                                                                                                                                                                                                                                                                                                                                                                                                                                                                                                                                                                                                                                                                                                                                                                                                                                                                                                                                                                                                                                         []   \n",
       "270                                                                                                                                                                                                                                                                                                                                                                                                                                                                                                                                                                                                                                                                                                                                                                                                                                                                                                                                                                                                                                                                                                                                                                                                                                                                                                                                                                                                                                                                                                                                                                                                                                                                                                                                                                                                                                                                                                                                                                                                                                                                                                                                                                                                                                                                                                                                                                                                                                                                                                                                                                                                                                                                                                                                                                                                                                                                                                                                                                                                                                                                                                                                                                                                                                                                                                                                                                                                                                                                                                                                                                                                                                                                                                                                                                                                                                                                                                                                                                                                                                                                                                                                                                                                                                                                                                                                                                                                                                                                                                                                                                                                                                                                                                                                                                                                                                                                                                                                                                                                                                                                                                                                                                                                                                                                                                                                                                                                                                                                                                                                                                                                                                                                                                                                                                                                                                                                                                                                                                                                                                                                                                                                                                                                                                                                                                                                                                                                                                                                                                                                                                                                                                                                                                                                                                                                                                                                                                                                                                                                                                                                                                                                                                                                                                                                                                                                                                                                                                                                                                                                                                                                                                                                                                                                                                                                                                                                                                                                                                                                                                                                                                                                                                                                                                                                                                                                                                                                                                                                                                                                                                                                                                                                                                                                                                                                                                                                                                                                                                                                                                                                                                                                                                                                                                                                                                                                                                                                                                                                                                                                                                                                                                                                                                                                                                                                                                                                                                                                                                                                                                                                                                                                                                                                                                                                                                                                                                                                                                                                                                                                                                                                                                                                                                                                                                                                                                                                                                                                                                                                                                                                                                                                                                                                                                                                                                                                                                                                                                                                                                                                                                                                                                                                                                                                                                                                                                                                                                                                                                                                                                                                                                                                                                                                                                                                                                                                                                                                                                                                                                                                                                                                                                                                                                                                                                                                                                                                                                                                                                                                                                                                                                                                                                                                                                                                                                                                                                                                                                                                                                                                                                                                                                                         []   \n",
       "273                                                                                                                                                                                                                                                                                                                                                                                                                                                                                                                                                                                                                                                                                                                                                                                                                                                                                                                                                                                                                                                                                                                                                                                                                                                                                                                                                                                                                                                                                                                                                                                                                                                                                                                                                                                                                                                                                                                                                                                                                                                                                                                                                                                                                                                                                                                                                                                                                                                                                                                                                                                                                                                                                                                                                                                                                                                                                                                                                                                                                                                                                                                                                                                                                                                                                                                                                                                                                                                                                                                                                                                                                                                                                                                                                                                                                                                                                                                                                                                                                                                                                                                                                                                                                                                                                                                                                                                                                                                                                                                                                                                                                                                                                                                                                                                                                                                                                                                                                                                                                                                                                                                                                                                                                                                                                                                                                                                                                                                                                                                                                                                                                                                                                                                                                                                                                                                                                                                                                                                                                                                                                                                                                                                                                                                                                                                                                                                                                                                                                                                                                                                                                                                                                                                                                                                                                                                                                                                                                                                                                                                                                                                                                                                                                                                                                                                                                                                                                                                                                                                                                                                                                                                                                                                                                                                                                                                                                                                                                                                                                                                                                                                                                                                                                                                                                                                                                                                                                                                                                                                                                                                                                                                                                                                                                                                                                                                                                                                                                                                                                                                                                                                                                                                                                                                                                                                                                                                                                                                                                                                                                                                                                                                                                                                                                                                                                                                                                                                                                                                                                                                                                                                                                                                                                                                                                                                                                                                                                                                                                                                                                                                                                                                                                                                                                                                                                                                                                                                                                                                                                                                                                                                                                                                                                                                                                                                                                                                                                                                                                                                                                                                                                                                                                                                                                                                                                                                                                                                                                                                                                                                                                                                                                                                                                                                                                                                                                                                                                                                                                                                                                                                                                                                                                                                                                                                                                                                                                                                                                                                                                                                                                                                                                                                                                                                                                                                                                                                                                                                                                                                                                                                                                                                         []   \n",
       "391                                                                                                                                                                                                                                                                                                                                                                                                                                                                                                                                                                                                                                                                                                                                                                                                                                                                                                                                                                                                                                                                                                                                                                                                                                                                                                                                                                                                                                                                                                                                                                                                                                                                                                                                                                                                                                                                                                                                                                                                                                                                                                                                                                                                                                                                                                                                                                                                                                                                                                                                                                                                                                                                                                                                                                                                                                                                                                                                                                                                                                                                                                                                                                                                                                                                                                                                                                                                                                                                                                                                                                                                                                                                                                                                                                                                                                                                                                                                                                                                                                                                                                                                                                                                                                                                                                                                                                                                                                                                                                                                                                                                                                                                                                                                                                                                                                                                                                                                                                                                                                                                                                                                                                                                                                                                                                                                                                                                                                                                                                                                                                                                                                                                                                                                                                                                                                                                                                                                                                                                                                                                                                                                                                                                                                                                                                                                                                                                                                                                                                                                                                                                                                                                                                                                                                                                                                                                                                                                                                                                                                                                                                                                                                                                                                                                                                                                                                                                                                                                                                                                                                                                                                                                                                                                                                                                                                                                                                                                                                                                                                                                                                                                                                                                                                                                                                                                                                                                                                                                                                                                                                                                                                                                                                                                                                                                                                                                                                                                                                                                                                                                                                                                                                                                                                                                                                                                                                                                                                                                                                                                                                                                                                                                                                                                                                                                                                                                                                                                                                                                                                                                                                                                                                                                                                                                                                                                                                                                                                                                                                                                                                                                                                                                                                                                                                                                                                                                                                                                                                                                                                                                                                                                                                                                                                                                                                                                                                                                                                                                                                                                                                                                                                                                                                                                                                                                                                                                                                                                                                                                                                                                                                                                                                                                                                                                                                                                                                                                                                                                                                                                                                                                                                                                                                                                                                                        [{'name': 'Деятельность в области права', 'code': '69.10', 'version': 'ОК 029-2014 (КДЕС Ред. 2)'}, {'name': 'Издание газет', 'code': '58.13', 'version': 'ОК 029-2014 (КДЕС Ред. 2)'}, {'name': 'Издание журналов и периодических изданий', 'code': '58.14', 'version': 'ОК 029-2014 (КДЕС Ред. 2)'}, {'name': 'Виды издательской деятельности прочие', 'code': '58.19', 'version': 'ОК 029-2014 (КДЕС Ред. 2)'}, {'name': 'Предоставление консультационных услуг в области экологии', 'code': '74.90.5', 'version': 'ОК 029-2014 (КДЕС Ред. 2)'}, {'name': 'Деятельность по охране исторических мест и зданий, памятников культуры', 'code': '91.03', 'version': 'ОК 029-2014 (КДЕС Ред. 2)'}, {'name': 'Деятельность по мониторингу загрязнения окружающей среды для физических и юридических лиц', 'code': '71.12.53', 'version': 'ОК 029-2014 (КДЕС Ред. 2)'}]   \n",
       "392                                                                                                                                                                                                                                                                                                                                                                                                                                                                                                                                                                                                                                                                                                                                                                                                                                                                                                                                                                                                                                                                                                                                                                                                                                                                                                                                                                                                                                                                                                                                                                                                                                                                                                                                                                                                                                                                                                                                                                                                                                                                                                                                                                                                                                                                                                                                                                                                                                                                                                                                                                                                                                                                                                                                                                                                                                                                                                                                                                                                                                                                                                                                                                                                                                                                                                                                                                                                                                                                                                                                                                                                                                                                                                                                                                                                                                                                                                                                                                                                                                                                                                                                                                                                                                                                                                                                                                                                                                                                                                                                                                                                                                                                                                                                                                                                                                                                                                                                                                                                                                                                                                                                                                                                                                                                                                                                                                                                                                                                                                                                                                                                                                                                                                                                                                                                                                                                                                                                                                                                                                                                                                                                                                                                                                                                                                                                                                                                                                                                                                                                                                                                                                                                                                                                                                                                                                                                                                                                                                                                                                                                                                                                                                                                                                                                                                                                                                                                                                                                                                                                                                                                                                                                                                                                                                                                                                                                                                                                                                                                                                                                                                                                                                                                                                                                                                                                                                                                                                                                                                                                                                                                                                                                                                                                                                                                                                                                                                                                                                                                                                                                                                                                                                                                                                                                                                                                                                                                                                                                                                                                                                                                                                                                                                                                                                                                                                                                                                                                                                                                                                                                                                                                                                                                                                                                                                                                                                                                                                                                                                                                                                                                                                                                                                                                                                                                                                                                                                                                                                                                                                                                                                                                                                                                                                                                                                                                                                                                                                                                                                                                                                                                                                                                                                                                                                                                                                                                                                                                                                                                                                                                                                                                                                                                                                                                                                                                                                                                                                                                                                                                                                                                                                                                                                                                                                                                                                                                                                                                                                                                                                                                                                                                                                                                                                                                                                                                        [{'name': 'Образование дополнительное детей и взрослых', 'code': '85.41', 'version': 'ОК 029-2014 (КДЕС Ред. 2)'}, {'name': 'Образование основное общее', 'code': '85.13', 'version': 'ОК 029-2014 (КДЕС Ред. 2)'}, {'name': 'Образование среднее общее', 'code': '85.14', 'version': 'ОК 029-2014 (КДЕС Ред. 2)'}]   \n",
       "...                                                                                                                                                                                                                                                                                                                                                                                                                                                                                                                                                                                                                                                                                                                                                                                                                                                                                                                                                                                                                                                                                                                                                                                                                                                                                                                                                                                                                                                                                                                                                                                                                                                                                                                                                                                                                                                                                                                                                                                                                                                                                                                                                                                                                                                                                                                                                                                                                                                                                                                                                                                                                                                                                                                                                                                                                                                                                                                                                                                                                                                                                                                                                                                                                                                                                                                                                                                                                                                                                                                                                                                                                                                                                                                                                                                                                                                                                                                                                                                                                                                                                                                                                                                                                                                                                                                                                                                                                                                                                                                                                                                                                                                                                                                                                                                                                                                                                                                                                                                                                                                                                                                                                                                                                                                                                                                                                                                                                                                                                                                                                                                                                                                                                                                                                                                                                                                                                                                                                                                                                                                                                                                                                                                                                                                                                                                                                                                                                                                                                                                                                                                                                                                                                                                                                                                                                                                                                                                                                                                                                                                                                                                                                                                                                                                                                                                                                                                                                                                                                                                                                                                                                                                                                                                                                                                                                                                                                                                                                                                                                                                                                                                                                                                                                                                                                                                                                                                                                                                                                                                                                                                                                                                                                                                                                                                                                                                                                                                                                                                                                                                                                                                                                                                                                                                                                                                                                                                                                                                                                                                                                                                                                                                                                                                                                                                                                                                                                                                                                                                                                                                                                                                                                                                                                                                                                                                                                                                                                                                                                                                                                                                                                                                                                                                                                                                                                                                                                                                                                                                                                                                                                                                                                                                                                                                                                                                                                                                                                                                                                                                                                                                                                                                                                                                                                                                                                                                                                                                                                                                                                                                                                                                                                                                                                                                                                                                                                                                                                                                                                                                                                                                                                                                                                                                                                                                                                                                                                                                                                                                                                                                                                                                                                                                                                                                                                                                                                                                                                                                                                                                                                                                                                                                        ...   \n",
       "745928                                                                                                                                                                                                                                                                                                                                                                                                                                                                                                                                                                                                                                                                                                                                                                                                                                                                                                                                                                                                                                                                                                                                                                                                                                                                                                                                                                                                                                                                                                                                                                                                                                                                                                                                                                                                                                                                                                                                                                                                                                                                                                                                                                                                                                                                                                                                                                                                                                                                                                                                                                                                                                                                                                                                                                                                                                                                                                                                                                                                                                                                                                                                                                                                                                                                                                                                                                                                                                                                                                                                                                                                                                                                                                                                                                                                                                                                                                                                                                                                                                                                                                                                                                                                                                                                                                                                                                                                                                                                                                                                                                                                                                                                                                                                                                                                                                                                                                                                                                                                                                                                                                                                                                                                                                                                                                                                                                                                                                                                                                                                                                                                                                                                                                                                                                                                                                                                                                                                                                                                                                                                                                                                                                                                                                                                                                                                                                                                                                                                                                                                                                                                                                                                                                                                                                                                                                                                                                                                                                                                                                                                                                                                                                                                                                                                                                                                                                                                                                                                                                                                                                                                                                                                                                                                                                                                                                                                                                                                                                                                                                                                                                                                                                                                                                                                                                                                                                                                                                                                                                                                                                                                                                                                                                                                                                                                                                                                                                                                                                                                                                                                                                                                                                                                                                                                                                                                                                                                                                                                                                                                                                                                                                                                                                                                                                                                                                                                                                                                                                                                                                                                                                                                                                                                                                                                                                                                                                                                                                                                                                                                                                                                                                                                                                                                                                                                                                                                                                                                                                                                                                                                                                                                                                                                                                                                                                                                                                                                                                                                                                                                                                                                                                                                                                                                                                                                                                                                                                                                                                                                                                                                                                                                                                                                                                                                                                                                                                                                                                                                                                                                                                                                                                                                                                                                                                                                                                                                                                                                                                                                                                                                                                                                                            [{'name': 'Деятельность зрелищно-развлекательная прочая, не включенная в другие группировки', 'code': '93.29.9', 'version': 'ОК 029-2014 (КДЕС Ред. 2)'}, {'name': 'Деятельность физкультурно- оздоровительная', 'code': '96.04', 'version': 'ОК 029-2014 (КДЕС Ред. 2)'}, {'name': 'Деятельность в области спорта прочая', 'code': '93.19', 'version': 'ОК 029-2014 (КДЕС Ред. 2)'}, {'name': 'Деятельность спортивных объектов', 'code': '93.11', 'version': 'ОК 029-2014 (КДЕС Ред. 2)'}]   \n",
       "745929                                                                                                                                                                                                                                                                                                                                                                                                                                                                                                                                                                                                                                                                                                                                                                                                                                                                                                                                                                                                                                                                                                                                                                                                                                                                                                                                                                                                                                                                                                                                                                                                                                                                                                                                                                                                                                                                                                                                                                                                                                                                                                                                                                                                                                                                                                                                                                                                                                                                                                                                                                                                                                                                                                                                                                                                                                                                                                                                                                                                                                                                                                                                                                                                                                                                                                                                                                                                                                                                                                                                                                                                                                                                                                                                                                                                                                                                                                                                                                                                                                                                                                                                                                                                                                                                                                                                                                                                                                                                                                                                                                                                                                                                                                                                                                                                                                                                                                                                                                                                                                                                                                                                                                                                                                                                                                                                                                                                                                                                                                                                                                                                                                                                                                                                                                                                                                                                                                                                                                                                                                                                                                                                                                                                                                                                                                                                                                                                                                                                                                                                                                                                                                                                                                                                                                                                                                                                                                                                                                                                                                                                                                                                                                                                                                                                                                                                                                                                                                                                                                                                                                                                                                                                                                                                                                                                                                                                                                                                                                                                                                                                                                                                                                                                                                                                                                                                                                                                                                                                                                                                                                                                                                                                                                                                                                                                                                                                                                                                                                                                                                                                                                                                                                                                                                                                                                                                                                                                                                                                                                                                                                                                                                                                                                                                                                                                                                                                                                                                                                                                                                                                                                                                                                                                                                                                                                                                                                                                                                                                                                                                                                                                                                                                                                                                                                                                                                                                                                                                                                                                                                                                                                                                                                                                                                                                                                                                                                                                                                                                                                                                                                                                                                                                                                                                                                                                                                                                                                                                                                                                                                                                                                                                                                                                                                                                                                                                                                                                                                                                                                                                                                                                                                                                                                                                                                                                                                                                                                                                                                                                                                                                                                                                                                                                                                                                                             [{'name': 'Торговля розничная сувенирами, изделиями народных художественных промыслов', 'code': '47.78.3', 'version': 'ОК 029-2014 (КДЕС Ред. 2)'}, {'name': 'Торговля розничная предметами культового и религиозного назначения, похоронными принадлежностями в специализированных магазинах', 'code': '47.78.4', 'version': 'ОК 029-2014 (КДЕС Ред. 2)'}]   \n",
       "746534                                                                                                                                                                                                                                                                                                                                                                                                                                                                                                                                                                                                                                                                                                                                                                                                                                                                                                                                                                                                                                                                                                                                                                                                                                                                                                                                                                                                                                                                                                                                                                                                                                                                                                                                                                                                                                                                                                                                                                                                                                                                                                                                                                                                                                                                                                                                                                                                                                                                                                                                                                                                                                                                                                                                                                                                                                                                                                                                                                                                                                                                                                                                                                                                                                                                                                                                                                                                                                                                                                                                                                                                                                                                                                                                                                                                                                                                                                                                                                                                                                                                                                                                                                                                                                                                                                                                                                                                                                                                                                                                                                                                                                                                                                                                                                                                                                                                                                                                                                                                                                                                                                                                                                                                                                                                                                                                                                                                                                                                                                                                                                                                                                                                                                                                                                                                                                                                                                                                                                                                                                                                                                                                                                                                                                                                                                                                                                                                                                                                                                                                                                                                                                                                                                                                                                                                                                                                                                                                                                                                                                                                                                                                                                                                                                                                                                                                                                                                                                                                                                                                                                                                                                                                                                                                                                                                                                                                                                                                                                                                                                                                                                                                                                                                                                                                                                                                                                                                                                                                                                                                                                                                                                                                                                                                                                                                                                                                                                                                                                                                                                                                                                                                                                                                                                                                                                                                                                                                                                                                                                                                                                                                                                                                                                                                                                                                                                                                                                                                                                                                                                                                                                                                                                                                                                                                                                                                                                                                                                                                                                                                                                                                                                                                                                                                                                                                                                                                                                                                                                                                                                                                                                                                                                                                                                                                                                                                                                                                                                                                                                                                                                                                                                                                                                                                                                                                                                                                                                                                                                                                                                                                                                                                                                                                                                                                                                                                                                                                                                                                                                                                                                                                                                                                                                                                                                                                                                                                                                                                                                                                                                                                                                                                                                                                                                                                                                                                                                                                                                                                                                                                                                                                                                                      []   \n",
       "746547                                                                                                                                                                                                                                                                                                                                                                                                                                                                                                                                                                                                                                                                                                                                                                                                                                                                                                                                                                                                                                                                                                                                                                                                                                                                                                                                                                                                                                                                                                                                                                                                                                                                                                                                                                                                                                                                                                                                                                                                                                                                                                                                                                                                                                                                                                                                                                                                                                                                                                                                                                                                                                                                                                                                                                                                                                                                                                                                                                                                                                                                                                                                                                                                                                                                                                                                                                                                                                                                                                                                                                                                                                                                                                                                                                                                                                                                                                                                                                                                                                                                                                                                                                                                                                                                                                                                                                                                                                                                                                                                                                                                                                                                                                                                                                                                                                                                                                                                                                                                                                                                                                                                                                                                                                                                                                                                                                                                                                                                                                                                                                                                                                                                                                                                                                                                                                                                                                                                                                                                                                                                                                                                                                                                                                                                                                                                                                                                                                                                                                                                                                                                                                                                                                                                                                                                                                                                                                                                                                                                                                                                                                                                                                                                                                                                                                                                                                                                                                                                                                                                                                                                                                                                                                                                                                                                                                                                                                                                                                                                                                                                                                                                                                                                                                                                                                                                                                                                                                                                                                                                                                                                                                                                                                                                                                                                                                                                                                                                                                                                                                                                                                                                                                                                                                                                                                                                                                                                                                                                                                                                                                                                                                                                                                                                                                                                                                                                                                                                                                                                                                                                                                                                                                                                                                                                                                                                                                                                                                                                                                                                                                                                                                                                                                                                                                                                                                                                                                                                                                                                                                                                                                                                                                                                                                                                                                                                                                                                                                                                                                                                                                                                                                                                                                                                                                                                                                                                                                                                                                                                                                                                                                                                                                                                                                                                                                                                                                                                                                                                                                                                                                                                                                                                                                                                                                                                                                                                                                                                                                                                                                                                                                                                                                                                          [{'name': 'Покупка и продажа собственного недвижимого имущества', 'code': '68.1', 'version': 'ОК 029-2014 (КДЕС Ред. 2)'}, {'name': 'Управление эксплуатацией нежилого фонда за вознаграждение или на договорной основе', 'code': '68.32.2', 'version': 'ОК 029-2014 (КДЕС Ред. 2)'}, {'name': 'Управление эксплуатацией жилого фонда за вознаграждение или на договорной основе', 'code': '68.32.1', 'version': 'ОК 029-2014 (КДЕС Ред. 2)'}]   \n",
       "746669  [{'name': 'Торговля оптовая неспециализированная', 'code': '46.90', 'version': 'ОК 029-2014 (КДЕС Ред. 2)'}, {'name': 'Деятельность по предоставлению прочих вспомогательных услуг для бизнеса, не включенная в другие группировки', 'code': '82.99', 'version': 'ОК 029-2014 (КДЕС Ред. 2)'}, {'name': 'Торговля оптовая сельскохозяйственным сырьем и живыми животными', 'code': '46.2', 'version': 'ОК 029-2014 (КДЕС Ред. 2)'}, {'name': 'Торговля розничная преимущественно пищевыми продуктами, включая напитки, и табачными изделиями в неспециализированных магазинах', 'code': '47.11', 'version': 'ОК 029-2014 (КДЕС Ред. 2)'}, {'name': 'Консультирование по вопросам коммерческой деятельности и управления', 'code': '70.22', 'version': 'ОК 029-2014 (КДЕС Ред. 2)'}, {'name': 'Торговля оптовая зерном', 'code': '46.21.11', 'version': 'ОК 029-2014 (КДЕС Ред. 2)'}, {'name': 'Торговля розничная пищевыми продуктами, напитками и табачными изделиями в специализированных магазинах', 'code': '47.2', 'version': 'ОК 029-2014 (КДЕС Ред. 2)'}, {'name': 'Деятельность по складированию и хранению', 'code': '52.10', 'version': 'ОК 029-2014 (КДЕС Ред. 2)'}, {'name': 'Торговля оптовая масличными семенами и маслосодержащими плодами', 'code': '46.21.13', 'version': 'ОК 029-2014 (КДЕС Ред. 2)'}, {'name': 'Торговля оптовая живыми животными', 'code': '46.23', 'version': 'ОК 029-2014 (КДЕС Ред. 2)'}, {'name': 'Торговля оптовая шкурами и кожей', 'code': '46.24', 'version': 'ОК 029-2014 (КДЕС Ред. 2)'}, {'name': 'Торговля оптовая фруктами и овощами', 'code': '46.31', 'version': 'ОК 029-2014 (КДЕС Ред. 2)'}, {'name': 'Торговля оптовая свежим картофелем', 'code': '46.31.11', 'version': 'ОК 029-2014 (КДЕС Ред. 2)'}, {'name': 'Торговля оптовая мясом и мясными продуктами', 'code': '46.32', 'version': 'ОК 029-2014 (КДЕС Ред. 2)'}, {'name': 'Торговля оптовая консервами из мяса и мяса птицы', 'code': '46.32.3', 'version': 'ОК 029-2014 (КДЕС Ред. 2)'}, {'name': 'Торговля оптовая молочными продуктами, яйцами и пищевыми маслами и жирами', 'code': '46.33', 'version': 'ОК 029-2014 (КДЕС Ред. 2)'}, {'name': 'Торговля оптовая отходами и ломом', 'code': '46.77', 'version': 'ОК 029-2014 (КДЕС Ред. 2)'}, {'name': 'Торговля розничная прочими пищевыми продуктами в специализированных магазинах', 'code': '47.29.3', 'version': 'ОК 029-2014 (КДЕС Ред. 2)'}, {'name': 'Торговля оптовая текстильными волокнами', 'code': '46.76.2', 'version': 'ОК 029-2014 (КДЕС Ред. 2)'}, {'name': 'Предоставление услуг в области растениеводства', 'code': '01.61', 'version': 'ОК 029-2014 (КДЕС Ред. 2)'}, {'name': 'Сертификация продукции, услуг и организаций', 'code': '71.20.8', 'version': 'ОК 029-2014 (КДЕС Ред. 2)'}, {'name': 'Покупка и продажа собственных нежилых зданий и помещений', 'code': '68.10.22', 'version': 'ОК 029-2014 (КДЕС Ред. 2)'}, {'name': 'Покупка и продажа земельных участков', 'code': '68.10.23', 'version': 'ОК 029-2014 (КДЕС Ред. 2)'}, {'name': 'Торговля розничная фруктами и овощами в специализированных магазинах', 'code': '47.21', 'version': 'ОК 029-2014 (КДЕС Ред. 2)'}, {'name': 'Торговля розничная мясом и мясными продуктами в специализированных магазинах', 'code': '47.22', 'version': 'ОК 029-2014 (КДЕС Ред. 2)'}, {'name': 'Торговля розничная рыбой, ракообразными и моллюсками в специализированных магазинах', 'code': '47.23', 'version': 'ОК 029-2014 (КДЕС Ред. 2)'}, {'name': 'Торговля розничная хлебом и хлебобулочными изделиями и кондитерскими изделиями в специализированных магазинах', 'code': '47.24', 'version': 'ОК 029-2014 (КДЕС Ред. 2)'}, {'name': 'Торговля розничная табачными изделиями в специализированных магазинах', 'code': '47.26', 'version': 'ОК 029-2014 (КДЕС Ред. 2)'}, {'name': 'Торговля оптовая прочими пищевыми продуктами, не включенными в другие группировки', 'code': '46.38.29', 'version': 'ОК 029-2014 (КДЕС Ред. 2)'}, {'name': 'Деятельность по техническому контролю, испытаниям и анализу прочая', 'code': '71.20.9', 'version': 'ОК 029-2014 (КДЕС Ред. 2)'}, {'name': 'Торговля оптовая молочными продуктами', 'code': '46.33.1', 'version': 'ОК 029-2014 (КДЕС Ред. 2)'}, {'name': 'Торговля оптовая соками, минеральной водой и прочими безалкогольными напитками', 'code': '46.34.1', 'version': 'ОК 029-2014 (КДЕС Ред. 2)'}, {'name': 'Торговля розничная безалкогольными напитками в специализированных магазинах', 'code': '47.25.2', 'version': 'ОК 029-2014 (КДЕС Ред. 2)'}, {'name': 'Торговля розничная консервами из рыбы и морепродуктов в специализированных магазинах', 'code': '47.23.2', 'version': 'ОК 029-2014 (КДЕС Ред. 2)'}, {'name': 'Охота, отлов и отстрел диких животных, включая предоставление услуг в этих областях', 'code': '01.70', 'version': 'ОК 029-2014 (КДЕС Ред. 2)'}, {'name': 'Торговля оптовая мясом и мясом птицы, включая субпродукты', 'code': '46.32.1', 'version': 'ОК 029-2014 (КДЕС Ред. 2)'}, {'name': 'Торговля розничная хлебом и хлебобулочными изделиями в специализированных магазинах', 'code': '47.24.1', 'version': 'ОК 029-2014 (КДЕС Ред. 2)'}, {'name': 'Торговля розничная кондитерскими изделиями в специализированных магазинах', 'code': '47.24.2', 'version': 'ОК 029-2014 (КДЕС Ред. 2)'}, {'name': 'Торговля розничная кондитерскими изделиями, включая шоколад, в специализированных магазинах', 'code': '47.24.22', 'version': 'ОК 029-2014 (КДЕС Ред. 2)'}, {'name': 'Торговля розничная мороженым и замороженными десертами в специализированных магазинах', 'code': '47.24.3', 'version': 'ОК 029-2014 (КДЕС Ред. 2)'}, {'name': 'Торговля розничная консервированными фруктами, овощами и орехами в специализированных магазинах', 'code': '47.21.2', 'version': 'ОК 029-2014 (КДЕС Ред. 2)'}, {'name': 'Торговля розничная растительными маслами в специализированных магазинах', 'code': '47.29.22', 'version': 'ОК 029-2014 (КДЕС Ред. 2)'}, {'name': 'Торговля розничная сахаром в специализированных магазинах', 'code': '47.29.33', 'version': 'ОК 029-2014 (КДЕС Ред. 2)'}, {'name': 'Торговля розничная солью в специализированных магазинах', 'code': '47.29.34', 'version': 'ОК 029-2014 (КДЕС Ред. 2)'}, {'name': 'Торговля розничная чаем, кофе, какао в специализированных магазинах', 'code': '47.29.35', 'version': 'ОК 029-2014 (КДЕС Ред. 2)'}, {'name': 'Выращивание овощей, бахчевых, корнеплодных и клубнеплодных культур, грибов и трюфелей', 'code': '01.13', 'version': 'ОК 029-2014 (КДЕС Ред. 2)'}, {'name': 'Выращивание прочих плодовых деревьев, кустарников и орехов', 'code': '01.25', 'version': 'ОК 029-2014 (КДЕС Ред. 2)'}, {'name': 'Выращивание рассады', 'code': '01.30', 'version': 'ОК 029-2014 (КДЕС Ред. 2)'}, {'name': 'Производство продуктов мукомольной и крупяной промышленности', 'code': '10.61', 'version': 'ОК 029-2014 (КДЕС Ред. 2)'}, {'name': 'Торговля оптовая консервированными овощами, фруктами и орехами', 'code': '46.31.2', 'version': 'ОК 029-2014 (КДЕС Ред. 2)'}, {'name': 'Производство продукции из мяса убойных животных и мяса птицы', 'code': '10.13', 'version': 'ОК 029-2014 (КДЕС Ред. 2)'}, {'name': 'Торговля оптовая хлебобулочными изделиями', 'code': '46.36.4', 'version': 'ОК 029-2014 (КДЕС Ред. 2)'}, {'name': 'Торговля оптовая мукой и макаронными изделиями', 'code': '46.38.23', 'version': 'ОК 029-2014 (КДЕС Ред. 2)'}, {'name': 'Переработка и консервирование мяса', 'code': '10.11', 'version': 'ОК 029-2014 (КДЕС Ред. 2)'}, {'name': 'Прочие виды переработки и консервирования фруктов и овощей', 'code': '10.39', 'version': 'ОК 029-2014 (КДЕС Ред. 2)'}, {'name': 'Производство молока (кроме сырого) и молочной продукции', 'code': '10.51', 'version': 'ОК 029-2014 (КДЕС Ред. 2)'}, {'name': 'Лесозаготовки', 'code': '02.20', 'version': 'ОК 029-2014 (КДЕС Ред. 2)'}, {'name': 'Торговля оптовая бумагой и картоном', 'code': '46.76.1', 'version': 'ОК 029-2014 (КДЕС Ред. 2)'}, {'name': 'Торговля розничная мясом и мясом птицы, включая субпродукты в специализированных магазинах', 'code': '47.22.1', 'version': 'ОК 029-2014 (КДЕС Ред. 2)'}, {'name': 'Добыча декоративного и строительного камня, известняка, гипса, мела и сланцев', 'code': '08.11', 'version': 'ОК 029-2014 (КДЕС Ред. 2)'}, {'name': 'Производство соковой продукции из фруктов и овощей', 'code': '10.32', 'version': 'ОК 029-2014 (КДЕС Ред. 2)'}, {'name': 'Производство муки из зерновых культур', 'code': '10.61.2', 'version': 'ОК 029-2014 (КДЕС Ред. 2)'}, {'name': 'Производство готовых пищевых продуктов и блюд', 'code': '10.85', 'version': 'ОК 029-2014 (КДЕС Ред. 2)'}, {'name': 'Торговля оптовая продуктами из мяса и мяса птицы', 'code': '46.32.2', 'version': 'ОК 029-2014 (КДЕС Ред. 2)'}, {'name': 'Торговля розничная пивом в специализированных магазинах', 'code': '47.25.12', 'version': 'ОК 029-2014 (КДЕС Ред. 2)'}, {'name': 'Разведение молочного крупного рогатого скота, производство сырого молока', 'code': '01.41', 'version': 'ОК 029-2014 (КДЕС Ред. 2)'}, {'name': 'Разведение сельскохозяйственной птицы', 'code': '01.47', 'version': 'ОК 029-2014 (КДЕС Ред. 2)'}, {'name': 'Лесоводство и прочая лесохозяйственная деятельность', 'code': '02.10', 'version': 'ОК 029-2014 (КДЕС Ред. 2)'}, {'name': 'Производство животных жиров', 'code': '10.11.5', 'version': 'ОК 029-2014 (КДЕС Ред. 2)'}, {'name': 'Торговля розничная алкогольными напитками, включая пиво, в специализированных магазинах', 'code': '47.25.1', 'version': 'ОК 029-2014 (КДЕС Ред. 2)'}, {'name': 'Разведение лошадей, ослов, мулов, лошаков', 'code': '01.43.1', 'version': 'ОК 029-2014 (КДЕС Ред. 2)'}, {'name': 'Торговля розничная молочными продуктами и яйцами в специализированных магазинах', 'code': '47.29.1', 'version': 'ОК 029-2014 (КДЕС Ред. 2)'}, {'name': 'Производство пищевых субпродуктов в охлажденном виде', 'code': '10.11.2', 'version': 'ОК 029-2014 (КДЕС Ред. 2)'}, {'name': 'Производство мяса и пищевых субпродуктов в замороженном виде', 'code': '10.11.3', 'version': 'ОК 029-2014 (КДЕС Ред. 2)'}, {'name': 'Предоставление услуг в области животноводства', 'code': '01.62', 'version': 'ОК 029-2014 (КДЕС Ред. 2)'}, {'name': 'Добыча руд прочих цветных металлов', 'code': '07.29', 'version': 'ОК 029-2014 (КДЕС Ред. 2)'}, {'name': 'Добыча глины и каолина', 'code': '08.12.2', 'version': 'ОК 029-2014 (КДЕС Ред. 2)'}, {'name': 'Пчеловодство', 'code': '01.49.1', 'version': 'ОК 029-2014 (КДЕС Ред. 2)'}, {'name': 'Деятельность ветеринарная', 'code': '75.00', 'version': 'ОК 029-2014 (КДЕС Ред. 2)'}, {'name': 'Торговля розничная пищевыми маслами и жирами в специализированных магазинах', 'code': '47.29.2', 'version': 'ОК 029-2014 (КДЕС Ред. 2)'}, {'name': 'Торговля розничная мукой и макаронными изделиями в специализированных магазинах', 'code': '47.29.31', 'version': 'ОК 029-2014 (КДЕС Ред. 2)'}, {'name': 'Торговля розничная крупами в специализированных магазинах', 'code': '47.29.32', 'version': 'ОК 029-2014 (КДЕС Ред. 2)'}, {'name': 'Выращивание прочих плодовых и ягодных культур', 'code': '01.25.1', 'version': 'ОК 029-2014 (КДЕС Ред. 2)'}, {'name': 'Выращивание прочих однолетних культур', 'code': '01.19', 'version': 'ОК 029-2014 (КДЕС Ред. 2)'}, {'name': 'Торговля розничная продуктами из мяса и мяса птицы в специализированных магазинах', 'code': '47.22.2', 'version': 'ОК 029-2014 (КДЕС Ред. 2)'}, {'name': 'Торговля розничная рыбой и морепродуктами в специализированных магазинах', 'code': '47.23.1', 'version': 'ОК 029-2014 (КДЕС Ред. 2)'}, {'name': 'Переработка и консервирование овощей (кроме картофеля) и грибов', 'code': '10.39.1', 'version': 'ОК 029-2014 (КДЕС Ред. 2)'}, {'name': 'Торговля розничная консервами из мяса и мяса птицы в специализированных магазинах', 'code': '47.22.3', 'version': 'ОК 029-2014 (КДЕС Ред. 2)'}, {'name': 'Торговля розничная молочными продуктами в специализированных магазинах', 'code': '47.29.11', 'version': 'ОК 029-2014 (КДЕС Ред. 2)'}, {'name': 'Торговля розничная яйцами в специализированных магазинах', 'code': '47.29.12', 'version': 'ОК 029-2014 (КДЕС Ред. 2)'}, {'name': 'Разведение прочих животных', 'code': '01.49', 'version': 'ОК 029-2014 (КДЕС Ред. 2)'}, {'name': 'Рыболовство пресноводное', 'code': '03.12', 'version': 'ОК 029-2014 (КДЕС Ред. 2)'}, {'name': 'Производство прочей пищевой продукции из мяса или мясных пищевых субпродуктов', 'code': '10.13.6', 'version': 'ОК 029-2014 (КДЕС Ред. 2)'}, {'name': 'Предоставление услуг по тепловой обработке и прочим способам переработки мясных продуктов', 'code': '10.13.9', 'version': 'ОК 029-2014 (КДЕС Ред. 2)'}, {'name': 'Разведение кроликов и прочих пушных зверей на фермах', 'code': '01.49.2', 'version': 'ОК 029-2014 (КДЕС Ред. 2)'}, {'name': 'Производство сливочного масла, топленого масла, масляной пасты, молочного жира, спредов и топленых сливочно-растительных смесей', 'code': '10.51.2', 'version': 'ОК 029-2014 (КДЕС Ред. 2)'}, {'name': 'Судебно-экспертная деятельность', 'code': '71.20.2', 'version': 'ОК 029-2014 (КДЕС Ред. 2)'}, {'name': 'Рыбоводство пресноводное', 'code': '03.22', 'version': 'ОК 029-2014 (КДЕС Ред. 2)'}, {'name': 'Разведение домашних животных', 'code': '01.49.5', 'version': 'ОК 029-2014 (КДЕС Ред. 2)'}, {'name': 'Предоставление услуг по тепловой обработке и прочим способам подготовки овощей и фруктов для консервирования', 'code': '10.39.9', 'version': 'ОК 029-2014 (КДЕС Ред. 2)'}, ...]   \n",
       "\n",
       "                        dateOgrn  \\\n",
       "269    2020-07-08 00:00:00+00:00   \n",
       "270    2020-07-08 00:00:00+00:00   \n",
       "273    2020-03-27 00:00:00+00:00   \n",
       "391    2020-07-08 00:00:00+00:00   \n",
       "392    2020-07-08 00:00:00+00:00   \n",
       "...                          ...   \n",
       "745928 2006-07-20 00:00:00+00:00   \n",
       "745929 2006-08-24 00:00:00+00:00   \n",
       "746534 2006-03-28 00:00:00+00:00   \n",
       "746547 2006-08-02 00:00:00+00:00   \n",
       "746669 2006-11-28 00:00:00+00:00   \n",
       "\n",
       "                                                                 opf_name  \\\n",
       "269                                               Религиозные организации   \n",
       "270                                               Религиозные организации   \n",
       "273                                               Религиозные организации   \n",
       "391                                                 Общественные движения   \n",
       "392                                                    Частные учреждения   \n",
       "...                                                                   ...   \n",
       "745928                                         Некоммерческие партнерства   \n",
       "745929                                            Религиозные организации   \n",
       "746534                                                              Фонды   \n",
       "746547                            Товарищества собственников недвижимости   \n",
       "746669  Сельскохозяйственные потребительские перерабатывающие кооперативы   \n",
       "\n",
       "       opf_code  \\\n",
       "269       71500   \n",
       "270       71500   \n",
       "273       71500   \n",
       "391       20210   \n",
       "392       75500   \n",
       "...         ...   \n",
       "745928    20614   \n",
       "745929    71500   \n",
       "746534    70400   \n",
       "746547    20700   \n",
       "746669    20109   \n",
       "\n",
       "                                                                          mainOkved_name  \\\n",
       "269                                                 Деятельность религиозных организаций   \n",
       "270                                                 Деятельность религиозных организаций   \n",
       "273                                                 Деятельность религиозных организаций   \n",
       "391     Деятельность прочих общественных организаций, не включенных в другие группировки   \n",
       "392                                                          Образование начальное общее   \n",
       "...                                                                                  ...   \n",
       "745928  Деятельность прочих общественных организаций, не включенных в другие группировки   \n",
       "745929                                              Деятельность религиозных организаций   \n",
       "746534  Деятельность прочих общественных организаций, не включенных в другие группировки   \n",
       "746547       Управление недвижимым имуществом за вознаграждение или на договорной основе   \n",
       "746669                                              Производство мяса в охлажденном виде   \n",
       "\n",
       "       mainOkved_code  num_of_addOkved  index_address  \n",
       "269             94.91                0       423740.0  \n",
       "270             94.91                0       420075.0  \n",
       "273             94.91                0       420021.0  \n",
       "391             94.99                7       423810.0  \n",
       "392             85.12                3       420064.0  \n",
       "...               ...              ...            ...  \n",
       "745928          94.99                4       420073.0  \n",
       "745929          94.91                2       423881.0  \n",
       "746534          94.99                0       423190.0  \n",
       "746547          68.32                3       420015.0  \n",
       "746669        10.11.1              112       422433.0  \n",
       "\n",
       "[17103 rows x 23 columns]"
      ]
     },
     "execution_count": 23,
     "metadata": {},
     "output_type": "execute_result"
    }
   ],
   "source": [
    "nko_data[nko_data['regionCode'] == 16]"
   ]
  },
  {
   "cell_type": "code",
   "execution_count": 27,
   "id": "2adadd68",
   "metadata": {},
   "outputs": [],
   "source": [
    "# заменим пропуски в названии региона и в коде региона\n",
    "nko_data['regionName'].fillna('Республика Татарстан', inplace=True)\n",
    "nko_data.loc[nko_data['regionName'] ==\n",
    "             'Республика Татарстан', 'regionCode'] = 16"
   ]
  },
  {
   "cell_type": "markdown",
   "id": "102c825f",
   "metadata": {},
   "source": [
    "Посмотрим признак код региона на наличие нулевых значений"
   ]
  },
  {
   "cell_type": "code",
   "execution_count": 28,
   "id": "3209bcdb",
   "metadata": {},
   "outputs": [
    {
     "data": {
      "text/plain": [
       "77    80178\n",
       "50    37927\n",
       "78    31767\n",
       "23    23337\n",
       "66    23030\n",
       "      ...  \n",
       "80      105\n",
       "99       91\n",
       "81       84\n",
       "88       65\n",
       "82       31\n",
       "Name: regionCode, Length: 92, dtype: int64"
      ]
     },
     "execution_count": 28,
     "metadata": {},
     "output_type": "execute_result"
    }
   ],
   "source": [
    "nko_data['regionCode'].value_counts()"
   ]
  },
  {
   "cell_type": "code",
   "execution_count": 36,
   "id": "50ca7708",
   "metadata": {},
   "outputs": [
    {
     "data": {
      "application/vnd.jupyter.widget-view+json": {
       "model_id": "7b46d9a1fd7b49489ef91ca12012a18d",
       "version_major": 2,
       "version_minor": 0
      },
      "text/plain": [
       "Pandas Apply:   0%|          | 0/747034 [00:00<?, ?it/s]"
      ]
     },
     "metadata": {},
     "output_type": "display_data"
    },
    {
     "data": {
      "application/vnd.jupyter.widget-view+json": {
       "model_id": "281743dd9ee042de9876b8850a8a9a17",
       "version_major": 2,
       "version_minor": 0
      },
      "text/plain": [
       "Pandas Apply:   0%|          | 0/747034 [00:00<?, ?it/s]"
      ]
     },
     "metadata": {},
     "output_type": "display_data"
    }
   ],
   "source": [
    "# разбираем признак okogu на составляющие\n",
    "nko_data['okogu_name'] = nko_data['okogu'].swifter.apply(lambda x: x['name'])\n",
    "nko_data['okogu_code'] = nko_data['okogu'].swifter.apply(lambda x: x['code'])\n",
    "# удаляем признак\n",
    "nko_data.drop(['okogu'], axis=1, inplace=True)"
   ]
  },
  {
   "cell_type": "markdown",
   "id": "ab99a7bd",
   "metadata": {},
   "source": []
  },
  {
   "cell_type": "code",
   "execution_count": 37,
   "id": "a0f53348",
   "metadata": {},
   "outputs": [
    {
     "data": {
      "application/vnd.jupyter.widget-view+json": {
       "model_id": "a9e365d24ab14cc4b42ff74213694c1c",
       "version_major": 2,
       "version_minor": 0
      },
      "text/plain": [
       "Dask Apply:   0%|          | 0/16 [00:00<?, ?it/s]"
      ]
     },
     "metadata": {},
     "output_type": "display_data"
    }
   ],
   "source": [
    "# создаем целевую переменную\n",
    "nko_data['grant'] = nko_data['incomeTotal'].swifter.apply(\n",
    "    lambda x: 1 if x > 0 else 0)"
   ]
  },
  {
   "cell_type": "markdown",
   "id": "49b507ad",
   "metadata": {},
   "source": [
    "#### Работа с датами"
   ]
  },
  {
   "cell_type": "code",
   "execution_count": 47,
   "id": "5d9e2010",
   "metadata": {},
   "outputs": [],
   "source": [
    "# создаем признак, дата регистрации для всех организаций\n",
    "nko_data['data_reg'] = nko_data['dateOgrn']\n",
    "nko_data['data_reg'] = nko_data['dateReg'].where(\n",
    "    nko_data['data_reg'] == 'not data', nko_data['data_reg'])"
   ]
  },
  {
   "cell_type": "code",
   "execution_count": 49,
   "id": "8b729c34",
   "metadata": {},
   "outputs": [
    {
     "data": {
      "application/vnd.jupyter.widget-view+json": {
       "model_id": "c04626fd6b6b493dbf82642bec02b25a",
       "version_major": 2,
       "version_minor": 0
      },
      "text/plain": [
       "Dask Apply:   0%|          | 0/16 [00:00<?, ?it/s]"
      ]
     },
     "metadata": {},
     "output_type": "display_data"
    },
    {
     "data": {
      "application/vnd.jupyter.widget-view+json": {
       "model_id": "694f092c52bc493b90287ee0c2671f2a",
       "version_major": 2,
       "version_minor": 0
      },
      "text/plain": [
       "Pandas Apply:   0%|          | 0/747034 [00:00<?, ?it/s]"
      ]
     },
     "metadata": {},
     "output_type": "display_data"
    }
   ],
   "source": [
    "# исходные признаки делаем флагами, для организаций зарегистрированных до 2002 года и после\n",
    "nko_data['dateOgrn'] = nko_data['dateOgrn'].swifter.apply(\n",
    "    lambda x: 1 if x != 'not data' else 0)\n",
    "nko_data['dateReg'] = nko_data['dateReg'].swifter.apply(\n",
    "    lambda x: 1 if x != 'not data' else 0)"
   ]
  },
  {
   "cell_type": "code",
   "execution_count": 51,
   "id": "e95595ae",
   "metadata": {},
   "outputs": [
    {
     "data": {
      "text/html": [
       "<div>\n",
       "<style scoped>\n",
       "    .dataframe tbody tr th:only-of-type {\n",
       "        vertical-align: middle;\n",
       "    }\n",
       "\n",
       "    .dataframe tbody tr th {\n",
       "        vertical-align: top;\n",
       "    }\n",
       "\n",
       "    .dataframe thead th {\n",
       "        text-align: right;\n",
       "    }\n",
       "</style>\n",
       "<table border=\"1\" class=\"dataframe\">\n",
       "  <thead>\n",
       "    <tr style=\"text-align: right;\">\n",
       "      <th></th>\n",
       "      <th>Unnamed: 0</th>\n",
       "      <th>regionName</th>\n",
       "      <th>fullName</th>\n",
       "      <th>dateReg</th>\n",
       "      <th>minjustForm</th>\n",
       "      <th>ogrn</th>\n",
       "      <th>egrulStatus</th>\n",
       "      <th>regionCode</th>\n",
       "      <th>incomeTotal</th>\n",
       "      <th>inn</th>\n",
       "      <th>originDate</th>\n",
       "      <th>dateLiquid</th>\n",
       "      <th>address</th>\n",
       "      <th>hasRegionalSupport</th>\n",
       "      <th>addOkved</th>\n",
       "      <th>dateOgrn</th>\n",
       "      <th>opf_name</th>\n",
       "      <th>opf_code</th>\n",
       "      <th>mainOkved_name</th>\n",
       "      <th>mainOkved_code</th>\n",
       "      <th>num_of_addOkved</th>\n",
       "      <th>index_address</th>\n",
       "      <th>okogu_name</th>\n",
       "      <th>okogu_code</th>\n",
       "      <th>grant</th>\n",
       "      <th>data_reg</th>\n",
       "    </tr>\n",
       "  </thead>\n",
       "  <tbody>\n",
       "    <tr>\n",
       "      <th>49977</th>\n",
       "      <td>49977</td>\n",
       "      <td>Волгоградская область</td>\n",
       "      <td>ПЕРВИЧНАЯ ПРОФСОЮЗНАЯ ОРГАНИЗАЦИЯ СПК \"СЕРГИЕВСКИЙ\" ДАНИЛОВСКОГО РАЙОНА ВОЛГОГРАДСКОЙ ТЕРРИТОРИАЛЬНОЙ (ОБЛ.) ОРГАНИЗАЦИИ ПРОФСОЮЗА РАБОТНИКОВ АПК РФ</td>\n",
       "      <td>1</td>\n",
       "      <td>Профессиональный союз</td>\n",
       "      <td>1103400004366</td>\n",
       "      <td>Ликвидирована</td>\n",
       "      <td>34</td>\n",
       "      <td>0.0</td>\n",
       "      <td>3.404003e+09</td>\n",
       "      <td>1999-06-22 00:00:00+00:00</td>\n",
       "      <td>2010-12-30 00:00:00+00:00</td>\n",
       "      <td>403333, ОБЛАСТЬ ВОЛГОГРАДСКАЯ, РАЙОН ДАНИЛОВСКИЙ, СТАНИЦА СЕРГИЕВСКАЯ</td>\n",
       "      <td>False</td>\n",
       "      <td>[]</td>\n",
       "      <td>1</td>\n",
       "      <td>ПРОФСОЮЗНАЯ ОРГАНИЗАЦИЯ</td>\n",
       "      <td>None</td>\n",
       "      <td>None</td>\n",
       "      <td>None</td>\n",
       "      <td>0</td>\n",
       "      <td>403333.0</td>\n",
       "      <td>None</td>\n",
       "      <td>None</td>\n",
       "      <td>0</td>\n",
       "      <td>2010-12-30 00:00:00+00:00</td>\n",
       "    </tr>\n",
       "    <tr>\n",
       "      <th>263094</th>\n",
       "      <td>263094</td>\n",
       "      <td>Приморский край</td>\n",
       "      <td>ТОВАРИЩЕСТВО СОБСТВЕННИКОВ НЕДВИЖИМОСТИ \"СОГЛАСИЕ\"</td>\n",
       "      <td>0</td>\n",
       "      <td>NaN</td>\n",
       "      <td>1182536002791</td>\n",
       "      <td>Действует</td>\n",
       "      <td>25</td>\n",
       "      <td>0.0</td>\n",
       "      <td>2.507013e+09</td>\n",
       "      <td>2018-02-01 00:00:00+00:00</td>\n",
       "      <td>not data</td>\n",
       "      <td>692038, КРАЙ ПРИМОРСКИЙ, ГОРОД ЛЕСОЗАВОДСК, УЛИЦА ЛЕНИНСКАЯ, ДОМ 41, КВ./ОФИС ПОМ 1</td>\n",
       "      <td>False</td>\n",
       "      <td>[{'name': 'Деятельность по чистке и уборке жилых зданий и нежилых помещений прочая', 'code': '81.22', 'version': 'ОК 029-2014 (КДЕС Ред. 2)'}, {'name': 'Деятельность по чистке и уборке прочая', 'code': '81.29', 'version': 'ОК 029-2014 (КДЕС Ред. 2)'}]</td>\n",
       "      <td>1</td>\n",
       "      <td>Товарищества собственников недвижимости</td>\n",
       "      <td>20700</td>\n",
       "      <td>Управление недвижимым имуществом за вознаграждение или на договорной основе</td>\n",
       "      <td>68.32</td>\n",
       "      <td>2</td>\n",
       "      <td>692038.0</td>\n",
       "      <td>Организации, учрежденные юридическими лицами или гражданами, или юридическими лицами и гражданами совместно</td>\n",
       "      <td>4210014</td>\n",
       "      <td>0</td>\n",
       "      <td>2018-02-01 00:00:00+00:00</td>\n",
       "    </tr>\n",
       "  </tbody>\n",
       "</table>\n",
       "</div>"
      ],
      "text/plain": [
       "        Unnamed: 0             regionName  \\\n",
       "49977        49977  Волгоградская область   \n",
       "263094      263094        Приморский край   \n",
       "\n",
       "                                                                                                                                                    fullName  \\\n",
       "49977   ПЕРВИЧНАЯ ПРОФСОЮЗНАЯ ОРГАНИЗАЦИЯ СПК \"СЕРГИЕВСКИЙ\" ДАНИЛОВСКОГО РАЙОНА ВОЛГОГРАДСКОЙ ТЕРРИТОРИАЛЬНОЙ (ОБЛ.) ОРГАНИЗАЦИИ ПРОФСОЮЗА РАБОТНИКОВ АПК РФ   \n",
       "263094                                                                                                    ТОВАРИЩЕСТВО СОБСТВЕННИКОВ НЕДВИЖИМОСТИ \"СОГЛАСИЕ\"   \n",
       "\n",
       "        dateReg            minjustForm           ogrn    egrulStatus  \\\n",
       "49977         1  Профессиональный союз  1103400004366  Ликвидирована   \n",
       "263094        0                    NaN  1182536002791      Действует   \n",
       "\n",
       "        regionCode  incomeTotal           inn                originDate  \\\n",
       "49977           34          0.0  3.404003e+09 1999-06-22 00:00:00+00:00   \n",
       "263094          25          0.0  2.507013e+09 2018-02-01 00:00:00+00:00   \n",
       "\n",
       "                       dateLiquid  \\\n",
       "49977   2010-12-30 00:00:00+00:00   \n",
       "263094                   not data   \n",
       "\n",
       "                                                                                    address  \\\n",
       "49977                 403333, ОБЛАСТЬ ВОЛГОГРАДСКАЯ, РАЙОН ДАНИЛОВСКИЙ, СТАНИЦА СЕРГИЕВСКАЯ   \n",
       "263094  692038, КРАЙ ПРИМОРСКИЙ, ГОРОД ЛЕСОЗАВОДСК, УЛИЦА ЛЕНИНСКАЯ, ДОМ 41, КВ./ОФИС ПОМ 1   \n",
       "\n",
       "        hasRegionalSupport  \\\n",
       "49977                False   \n",
       "263094               False   \n",
       "\n",
       "                                                                                                                                                                                                                                                           addOkved  \\\n",
       "49977                                                                                                                                                                                                                                                            []   \n",
       "263094  [{'name': 'Деятельность по чистке и уборке жилых зданий и нежилых помещений прочая', 'code': '81.22', 'version': 'ОК 029-2014 (КДЕС Ред. 2)'}, {'name': 'Деятельность по чистке и уборке прочая', 'code': '81.29', 'version': 'ОК 029-2014 (КДЕС Ред. 2)'}]   \n",
       "\n",
       "        dateOgrn                                 opf_name opf_code  \\\n",
       "49977          1                  ПРОФСОЮЗНАЯ ОРГАНИЗАЦИЯ     None   \n",
       "263094         1  Товарищества собственников недвижимости    20700   \n",
       "\n",
       "                                                                     mainOkved_name  \\\n",
       "49977                                                                          None   \n",
       "263094  Управление недвижимым имуществом за вознаграждение или на договорной основе   \n",
       "\n",
       "       mainOkved_code  num_of_addOkved  index_address  \\\n",
       "49977            None                0       403333.0   \n",
       "263094          68.32                2       692038.0   \n",
       "\n",
       "                                                                                                         okogu_name  \\\n",
       "49977                                                                                                          None   \n",
       "263094  Организации, учрежденные юридическими лицами или гражданами, или юридическими лицами и гражданами совместно   \n",
       "\n",
       "       okogu_code  grant                   data_reg  \n",
       "49977        None      0  2010-12-30 00:00:00+00:00  \n",
       "263094    4210014      0  2018-02-01 00:00:00+00:00  "
      ]
     },
     "execution_count": 51,
     "metadata": {},
     "output_type": "execute_result"
    }
   ],
   "source": [
    "nko_data.sample(2)"
   ]
  },
  {
   "cell_type": "code",
   "execution_count": 53,
   "id": "aebe7f38",
   "metadata": {},
   "outputs": [],
   "source": [
    "# удаляем признаки\n",
    "nko_data.drop(['inn', 'address', 'addOkved'], axis=1, inplace=True)"
   ]
  },
  {
   "cell_type": "code",
   "execution_count": 54,
   "id": "36bbee96",
   "metadata": {
    "scrolled": false
   },
   "outputs": [
    {
     "name": "stdout",
     "output_type": "stream",
     "text": [
      "<class 'pandas.core.frame.DataFrame'>\n",
      "RangeIndex: 747034 entries, 0 to 747033\n",
      "Data columns (total 23 columns):\n",
      " #   Column              Non-Null Count   Dtype                  \n",
      "---  ------              --------------   -----                  \n",
      " 0   Unnamed: 0          747034 non-null  int64                  \n",
      " 1   regionName          747034 non-null  object                 \n",
      " 2   fullName            747034 non-null  object                 \n",
      " 3   dateReg             747034 non-null  int64                  \n",
      " 4   minjustForm         461073 non-null  object                 \n",
      " 5   ogrn                747034 non-null  int64                  \n",
      " 6   egrulStatus         747034 non-null  object                 \n",
      " 7   regionCode          747034 non-null  int64                  \n",
      " 8   incomeTotal         747034 non-null  float64                \n",
      " 9   originDate          747034 non-null  datetime64[ns, tzutc()]\n",
      " 10  dateLiquid          747034 non-null  object                 \n",
      " 11  hasRegionalSupport  747034 non-null  bool                   \n",
      " 12  dateOgrn            747034 non-null  int64                  \n",
      " 13  opf_name            746619 non-null  object                 \n",
      " 14  opf_code            701825 non-null  object                 \n",
      " 15  mainOkved_name      542353 non-null  object                 \n",
      " 16  mainOkved_code      542353 non-null  object                 \n",
      " 17  num_of_addOkved     747034 non-null  int64                  \n",
      " 18  index_address       737309 non-null  float64                \n",
      " 19  okogu_name          347426 non-null  object                 \n",
      " 20  okogu_code          347437 non-null  object                 \n",
      " 21  grant               747034 non-null  int64                  \n",
      " 22  data_reg            747034 non-null  object                 \n",
      "dtypes: bool(1), datetime64[ns, tzutc()](1), float64(2), int64(7), object(12)\n",
      "memory usage: 126.1+ MB\n"
     ]
    }
   ],
   "source": [
    "nko_data.info()"
   ]
  },
  {
   "cell_type": "markdown",
   "id": "174253c2",
   "metadata": {},
   "source": [
    "#### Работа с признаком `opf_name`"
   ]
  },
  {
   "cell_type": "code",
   "execution_count": 77,
   "id": "65f26841",
   "metadata": {},
   "outputs": [
    {
     "data": {
      "application/vnd.jupyter.widget-view+json": {
       "model_id": "",
       "version_major": 2,
       "version_minor": 0
      },
      "text/plain": [
       "Pandas Apply:   0%|          | 0/747034 [00:00<?, ?it/s]"
      ]
     },
     "metadata": {},
     "output_type": "display_data"
    },
    {
     "data": {
      "application/vnd.jupyter.widget-view+json": {
       "model_id": "",
       "version_major": 2,
       "version_minor": 0
      },
      "text/plain": [
       "Pandas Apply:   0%|          | 0/747034 [00:00<?, ?it/s]"
      ]
     },
     "metadata": {},
     "output_type": "display_data"
    },
    {
     "data": {
      "application/vnd.jupyter.widget-view+json": {
       "model_id": "",
       "version_major": 2,
       "version_minor": 0
      },
      "text/plain": [
       "Pandas Apply:   0%|          | 0/747034 [00:00<?, ?it/s]"
      ]
     },
     "metadata": {},
     "output_type": "display_data"
    }
   ],
   "source": [
    "nko_data['opf_name'] = nko_data['opf_name'].swifter.apply(\n",
    "    lambda x: 'Общественные организации' if x == 'ОБЩЕСТВЕННАЯ ОРГАНИЗАЦИЯ' else x)\n",
    "nko_data['opf_name'] = nko_data['opf_name'].swifter.apply(\n",
    "    lambda x: 'Товарищества собственников недвижимости' if x == 'Товарищество собственников жилья' else x)\n",
    "nko_data['opf_name'] = nko_data['opf_name'].swifter.apply(\n",
    "    lambda x: 'Некоммерческие партнерства' if x == 'Некоммерческое партнерство' else x)"
   ]
  },
  {
   "cell_type": "code",
   "execution_count": 79,
   "id": "86702ff1",
   "metadata": {},
   "outputs": [
    {
     "data": {
      "application/vnd.jupyter.widget-view+json": {
       "model_id": "",
       "version_major": 2,
       "version_minor": 0
      },
      "text/plain": [
       "Pandas Apply:   0%|          | 0/747034 [00:00<?, ?it/s]"
      ]
     },
     "metadata": {},
     "output_type": "display_data"
    },
    {
     "data": {
      "application/vnd.jupyter.widget-view+json": {
       "model_id": "",
       "version_major": 2,
       "version_minor": 0
      },
      "text/plain": [
       "Pandas Apply:   0%|          | 0/747034 [00:00<?, ?it/s]"
      ]
     },
     "metadata": {},
     "output_type": "display_data"
    },
    {
     "data": {
      "application/vnd.jupyter.widget-view+json": {
       "model_id": "",
       "version_major": 2,
       "version_minor": 0
      },
      "text/plain": [
       "Pandas Apply:   0%|          | 0/747034 [00:00<?, ?it/s]"
      ]
     },
     "metadata": {},
     "output_type": "display_data"
    }
   ],
   "source": [
    "nko_data['opf_name'] = nko_data['opf_name'].swifter.apply(\n",
    "    lambda x: 'Автономные некоммерческие организации' if x == 'Автономная некоммерческая организация' else x)\n",
    "nko_data['opf_name'] = nko_data['opf_name'].swifter.apply(\n",
    "    lambda x: 'Фонды' if x == 'Фонд' else x)\n",
    "nko_data['opf_name'] = nko_data['opf_name'].swifter.apply(\n",
    "    lambda x: 'Садоводческие, огороднические или дачные некоммерческие товарищества' if x == 'Садоводческое, огородническое или дачное некоммерческое товарищество' else x)"
   ]
  },
  {
   "cell_type": "code",
   "execution_count": 81,
   "id": "08bfe96d",
   "metadata": {},
   "outputs": [
    {
     "data": {
      "application/vnd.jupyter.widget-view+json": {
       "model_id": "",
       "version_major": 2,
       "version_minor": 0
      },
      "text/plain": [
       "Pandas Apply:   0%|          | 0/747034 [00:00<?, ?it/s]"
      ]
     },
     "metadata": {},
     "output_type": "display_data"
    },
    {
     "data": {
      "application/vnd.jupyter.widget-view+json": {
       "model_id": "",
       "version_major": 2,
       "version_minor": 0
      },
      "text/plain": [
       "Pandas Apply:   0%|          | 0/747034 [00:00<?, ?it/s]"
      ]
     },
     "metadata": {},
     "output_type": "display_data"
    },
    {
     "data": {
      "application/vnd.jupyter.widget-view+json": {
       "model_id": "",
       "version_major": 2,
       "version_minor": 0
      },
      "text/plain": [
       "Pandas Apply:   0%|          | 0/747034 [00:00<?, ?it/s]"
      ]
     },
     "metadata": {},
     "output_type": "display_data"
    }
   ],
   "source": [
    "nko_data['opf_name'] = nko_data['opf_name'].swifter.apply(\n",
    "    lambda x: 'Потребительские организации' if x == 'Потребительский кооператив' else x)\n",
    "nko_data['opf_name'] = nko_data['opf_name'].swifter.apply(\n",
    "    lambda x: 'Потребительские организации' if x == 'Потребительские кооперативы' else x)\n",
    "nko_data['opf_name'] = nko_data['opf_name'].swifter.apply(\n",
    "    lambda x: 'Потребительские организации' if x == 'Потребительские общества' else x)"
   ]
  },
  {
   "cell_type": "code",
   "execution_count": 84,
   "id": "e1bdc160",
   "metadata": {},
   "outputs": [
    {
     "data": {
      "application/vnd.jupyter.widget-view+json": {
       "model_id": "",
       "version_major": 2,
       "version_minor": 0
      },
      "text/plain": [
       "Pandas Apply:   0%|          | 0/747034 [00:00<?, ?it/s]"
      ]
     },
     "metadata": {},
     "output_type": "display_data"
    },
    {
     "data": {
      "application/vnd.jupyter.widget-view+json": {
       "model_id": "",
       "version_major": 2,
       "version_minor": 0
      },
      "text/plain": [
       "Pandas Apply:   0%|          | 0/747034 [00:00<?, ?it/s]"
      ]
     },
     "metadata": {},
     "output_type": "display_data"
    },
    {
     "data": {
      "application/vnd.jupyter.widget-view+json": {
       "model_id": "",
       "version_major": 2,
       "version_minor": 0
      },
      "text/plain": [
       "Pandas Apply:   0%|          | 0/747034 [00:00<?, ?it/s]"
      ]
     },
     "metadata": {},
     "output_type": "display_data"
    },
    {
     "data": {
      "application/vnd.jupyter.widget-view+json": {
       "model_id": "",
       "version_major": 2,
       "version_minor": 0
      },
      "text/plain": [
       "Pandas Apply:   0%|          | 0/747034 [00:00<?, ?it/s]"
      ]
     },
     "metadata": {},
     "output_type": "display_data"
    },
    {
     "data": {
      "application/vnd.jupyter.widget-view+json": {
       "model_id": "",
       "version_major": 2,
       "version_minor": 0
      },
      "text/plain": [
       "Pandas Apply:   0%|          | 0/747034 [00:00<?, ?it/s]"
      ]
     },
     "metadata": {},
     "output_type": "display_data"
    }
   ],
   "source": [
    "nko_data['opf_name'] = nko_data['opf_name'].swifter.apply(\n",
    "    lambda x: 'Ассоциации (союзы)' if x == 'Ассоциация (союз)' else x)\n",
    "nko_data['opf_name'] = nko_data['opf_name'].swifter.apply(\n",
    "    lambda x: 'Профсоюзные организации' if x == 'ПРОФСОЮЗНАЯ ОРГАНИЗАЦИЯ' else x)\n",
    "nko_data['opf_name'] = nko_data['opf_name'].swifter.apply(\n",
    "    lambda x: 'Садоводческие, огороднические или дачные некоммерческие организации' if x == 'Садоводческие, огороднические или дачные некоммерческие товарищества' else x)\n",
    "nko_data['opf_name'] = nko_data['opf_name'].swifter.apply(\n",
    "    lambda x: 'Садоводческие, огороднические или дачные некоммерческие организации' if x == 'Садоводческие, огороднические или дачные некоммерческие партнерства' else x)\n",
    "nko_data['opf_name'] = nko_data['opf_name'].swifter.apply(\n",
    "    lambda x: 'Садоводческие, огороднические или дачные некоммерческие организации' if x == 'Садоводческие, огороднические или дачные потребительские кооперативы' else x)"
   ]
  },
  {
   "cell_type": "code",
   "execution_count": 86,
   "id": "47a42b6d",
   "metadata": {},
   "outputs": [
    {
     "data": {
      "application/vnd.jupyter.widget-view+json": {
       "model_id": "",
       "version_major": 2,
       "version_minor": 0
      },
      "text/plain": [
       "Pandas Apply:   0%|          | 0/747034 [00:00<?, ?it/s]"
      ]
     },
     "metadata": {},
     "output_type": "display_data"
    },
    {
     "data": {
      "application/vnd.jupyter.widget-view+json": {
       "model_id": "",
       "version_major": 2,
       "version_minor": 0
      },
      "text/plain": [
       "Pandas Apply:   0%|          | 0/747034 [00:00<?, ?it/s]"
      ]
     },
     "metadata": {},
     "output_type": "display_data"
    },
    {
     "data": {
      "application/vnd.jupyter.widget-view+json": {
       "model_id": "",
       "version_major": 2,
       "version_minor": 0
      },
      "text/plain": [
       "Pandas Apply:   0%|          | 0/747034 [00:00<?, ?it/s]"
      ]
     },
     "metadata": {},
     "output_type": "display_data"
    },
    {
     "data": {
      "application/vnd.jupyter.widget-view+json": {
       "model_id": "",
       "version_major": 2,
       "version_minor": 0
      },
      "text/plain": [
       "Pandas Apply:   0%|          | 0/747034 [00:00<?, ?it/s]"
      ]
     },
     "metadata": {},
     "output_type": "display_data"
    }
   ],
   "source": [
    "nko_data['opf_name'] = nko_data['opf_name'].swifter.apply(\n",
    "    lambda x: 'Сельскохозяйственные потребительские кооперативы' if x == 'Сельскохозяйственные потребительские обслуживающие кооперативы' else x)\n",
    "nko_data['opf_name'] = nko_data['opf_name'].swifter.apply(\n",
    "    lambda x: 'Сельскохозяйственные потребительские кооперативы' if x == 'Сельскохозяйственные потребительские перерабатывающие кооперативы' else x)\n",
    "nko_data['opf_name'] = nko_data['opf_name'].swifter.apply(\n",
    "    lambda x: 'Сельскохозяйственные потребительские кооперативы' if x == 'Сельскохозяйственные потребительские снабженческие кооперативы' else x)\n",
    "nko_data['opf_name'] = nko_data['opf_name'].swifter.apply(\n",
    "    lambda x: 'Общественные движения' if x == 'Общественное движение' else x)"
   ]
  },
  {
   "cell_type": "code",
   "execution_count": 88,
   "id": "820855f0",
   "metadata": {},
   "outputs": [
    {
     "data": {
      "application/vnd.jupyter.widget-view+json": {
       "model_id": "",
       "version_major": 2,
       "version_minor": 0
      },
      "text/plain": [
       "Pandas Apply:   0%|          | 0/747034 [00:00<?, ?it/s]"
      ]
     },
     "metadata": {},
     "output_type": "display_data"
    },
    {
     "data": {
      "application/vnd.jupyter.widget-view+json": {
       "model_id": "",
       "version_major": 2,
       "version_minor": 0
      },
      "text/plain": [
       "Pandas Apply:   0%|          | 0/747034 [00:00<?, ?it/s]"
      ]
     },
     "metadata": {},
     "output_type": "display_data"
    },
    {
     "data": {
      "application/vnd.jupyter.widget-view+json": {
       "model_id": "",
       "version_major": 2,
       "version_minor": 0
      },
      "text/plain": [
       "Pandas Apply:   0%|          | 0/747034 [00:00<?, ?it/s]"
      ]
     },
     "metadata": {},
     "output_type": "display_data"
    },
    {
     "data": {
      "application/vnd.jupyter.widget-view+json": {
       "model_id": "",
       "version_major": 2,
       "version_minor": 0
      },
      "text/plain": [
       "Pandas Apply:   0%|          | 0/747034 [00:00<?, ?it/s]"
      ]
     },
     "metadata": {},
     "output_type": "display_data"
    }
   ],
   "source": [
    "nko_data['opf_name'] = nko_data['opf_name'].swifter.apply(\n",
    "    lambda x: 'Общественные фонды' if x == 'ОБЩЕСТВЕННЫЙ ФОНД' else x)\n",
    "nko_data['opf_name'] = nko_data['opf_name'].swifter.apply(\n",
    "    lambda x: 'Некомменческие организации' if x == 'НЕКОММЕРЧЕСКАЯ ОРГАНИЗАЦИЯ' else x)\n",
    "nko_data['opf_name'] = nko_data['opf_name'].swifter.apply(\n",
    "    lambda x: 'Некомменческие организации' if x == 'Некоммерческие партнерства' else x)\n",
    "nko_data['opf_name'] = nko_data['opf_name'].swifter.apply(\n",
    "    lambda x: 'Кредитные потребительские кооперативы' if x == 'Кредитные потребительские кооперативы граждан' else x)"
   ]
  },
  {
   "cell_type": "code",
   "execution_count": 90,
   "id": "bc669a3e",
   "metadata": {},
   "outputs": [
    {
     "data": {
      "application/vnd.jupyter.widget-view+json": {
       "model_id": "",
       "version_major": 2,
       "version_minor": 0
      },
      "text/plain": [
       "Pandas Apply:   0%|          | 0/747034 [00:00<?, ?it/s]"
      ]
     },
     "metadata": {},
     "output_type": "display_data"
    },
    {
     "data": {
      "application/vnd.jupyter.widget-view+json": {
       "model_id": "",
       "version_major": 2,
       "version_minor": 0
      },
      "text/plain": [
       "Pandas Apply:   0%|          | 0/747034 [00:00<?, ?it/s]"
      ]
     },
     "metadata": {},
     "output_type": "display_data"
    },
    {
     "data": {
      "application/vnd.jupyter.widget-view+json": {
       "model_id": "",
       "version_major": 2,
       "version_minor": 0
      },
      "text/plain": [
       "Pandas Apply:   0%|          | 0/747034 [00:00<?, ?it/s]"
      ]
     },
     "metadata": {},
     "output_type": "display_data"
    }
   ],
   "source": [
    "nko_data['opf_name'] = nko_data['opf_name'].swifter.apply(\n",
    "    lambda x: 'Общественные организации' if x == 'Общественные учреждения' else x)\n",
    "nko_data['opf_name'] = nko_data['opf_name'].swifter.apply(\n",
    "    lambda x: 'Сельскохозяйственные потребительские кооперативы' if x == 'Сельскохозяйственные потребительские сбытовые (торговые) кооперативы' else x)\n",
    "nko_data['opf_name'] = nko_data['opf_name'].swifter.apply(\n",
    "    lambda x: 'Товарищества собственников недвижимости' if x == 'Товарищества собственников жилья' else x)"
   ]
  },
  {
   "cell_type": "markdown",
   "id": "117e62f6",
   "metadata": {},
   "source": [
    "#### Работа с признаком `minjustForm`"
   ]
  },
  {
   "cell_type": "code",
   "execution_count": 93,
   "id": "9fa37edc",
   "metadata": {},
   "outputs": [],
   "source": [
    "nko_data['minjustForm'] = nko_data['opf_name'].where(\n",
    "    nko_data['minjustForm'].isna(), nko_data['minjustForm'])"
   ]
  },
  {
   "cell_type": "code",
   "execution_count": 98,
   "id": "b7b58535",
   "metadata": {},
   "outputs": [
    {
     "data": {
      "application/vnd.jupyter.widget-view+json": {
       "model_id": "",
       "version_major": 2,
       "version_minor": 0
      },
      "text/plain": [
       "Pandas Apply:   0%|          | 0/747034 [00:00<?, ?it/s]"
      ]
     },
     "metadata": {},
     "output_type": "display_data"
    },
    {
     "data": {
      "application/vnd.jupyter.widget-view+json": {
       "model_id": "",
       "version_major": 2,
       "version_minor": 0
      },
      "text/plain": [
       "Pandas Apply:   0%|          | 0/747034 [00:00<?, ?it/s]"
      ]
     },
     "metadata": {},
     "output_type": "display_data"
    },
    {
     "data": {
      "application/vnd.jupyter.widget-view+json": {
       "model_id": "",
       "version_major": 2,
       "version_minor": 0
      },
      "text/plain": [
       "Pandas Apply:   0%|          | 0/747034 [00:00<?, ?it/s]"
      ]
     },
     "metadata": {},
     "output_type": "display_data"
    },
    {
     "data": {
      "application/vnd.jupyter.widget-view+json": {
       "model_id": "",
       "version_major": 2,
       "version_minor": 0
      },
      "text/plain": [
       "Pandas Apply:   0%|          | 0/747034 [00:00<?, ?it/s]"
      ]
     },
     "metadata": {},
     "output_type": "display_data"
    },
    {
     "data": {
      "application/vnd.jupyter.widget-view+json": {
       "model_id": "",
       "version_major": 2,
       "version_minor": 0
      },
      "text/plain": [
       "Pandas Apply:   0%|          | 0/747034 [00:00<?, ?it/s]"
      ]
     },
     "metadata": {},
     "output_type": "display_data"
    }
   ],
   "source": [
    "nko_data['minjustForm'] = nko_data['minjustForm'].swifter.apply(\n",
    "    lambda x: 'Общественная или религиозная организация' if x == 'Общественная организаци' else x)\n",
    "nko_data['minjustForm'] = nko_data['minjustForm'].swifter.apply(\n",
    "    lambda x: 'Общественная или религиозная организация' if x == 'Общественные организации' else x)\n",
    "nko_data['minjustForm'] = nko_data['minjustForm'].swifter.apply(\n",
    "    lambda x: 'Общественная или религиозная организация' if x == 'Общественное учреждение' else x)\n",
    "nko_data['minjustForm'] = nko_data['minjustForm'].swifter.apply(\n",
    "    lambda x: 'Общественное движение' if x == 'Общественные движения' else x)\n",
    "nko_data['minjustForm'] = nko_data['minjustForm'].swifter.apply(\n",
    "    lambda x: 'Сельскохозяйственные потребительские кооперативы' if x == 'Сельскохозяйственные потребительские животноводческие кооперативы' else x)\n"
   ]
  },
  {
   "cell_type": "code",
   "execution_count": 99,
   "id": "9bd6e71e",
   "metadata": {},
   "outputs": [
    {
     "data": {
      "application/vnd.jupyter.widget-view+json": {
       "model_id": "",
       "version_major": 2,
       "version_minor": 0
      },
      "text/plain": [
       "Pandas Apply:   0%|          | 0/747034 [00:00<?, ?it/s]"
      ]
     },
     "metadata": {},
     "output_type": "display_data"
    },
    {
     "data": {
      "application/vnd.jupyter.widget-view+json": {
       "model_id": "",
       "version_major": 2,
       "version_minor": 0
      },
      "text/plain": [
       "Pandas Apply:   0%|          | 0/747034 [00:00<?, ?it/s]"
      ]
     },
     "metadata": {},
     "output_type": "display_data"
    },
    {
     "data": {
      "application/vnd.jupyter.widget-view+json": {
       "model_id": "",
       "version_major": 2,
       "version_minor": 0
      },
      "text/plain": [
       "Pandas Apply:   0%|          | 0/747034 [00:00<?, ?it/s]"
      ]
     },
     "metadata": {},
     "output_type": "display_data"
    }
   ],
   "source": [
    "nko_data['minjustForm'] = nko_data['minjustForm'].swifter.apply(\n",
    "    lambda x: 'Общественная или религиозная организация' if x == 'Общественная или религиозная организация (объединение)' else x)\n",
    "nko_data['minjustForm'] = nko_data['minjustForm'].swifter.apply(\n",
    "    lambda x: 'Садоводческие, огороднические или дачные некоммерческие организации' if x == 'Садоводческие, огороднические, дачные и иные некоммерческие товарищества' else x)\n",
    "nko_data['minjustForm'] = nko_data['minjustForm'].swifter.apply(\n",
    "    lambda x: 'Общественная или религиозная организация' if x == 'Общественная организация' else x)"
   ]
  },
  {
   "cell_type": "code",
   "execution_count": 101,
   "id": "3119b823",
   "metadata": {},
   "outputs": [
    {
     "data": {
      "application/vnd.jupyter.widget-view+json": {
       "model_id": "",
       "version_major": 2,
       "version_minor": 0
      },
      "text/plain": [
       "Pandas Apply:   0%|          | 0/747034 [00:00<?, ?it/s]"
      ]
     },
     "metadata": {},
     "output_type": "display_data"
    },
    {
     "data": {
      "application/vnd.jupyter.widget-view+json": {
       "model_id": "",
       "version_major": 2,
       "version_minor": 0
      },
      "text/plain": [
       "Pandas Apply:   0%|          | 0/747034 [00:00<?, ?it/s]"
      ]
     },
     "metadata": {},
     "output_type": "display_data"
    },
    {
     "data": {
      "application/vnd.jupyter.widget-view+json": {
       "model_id": "",
       "version_major": 2,
       "version_minor": 0
      },
      "text/plain": [
       "Pandas Apply:   0%|          | 0/747034 [00:00<?, ?it/s]"
      ]
     },
     "metadata": {},
     "output_type": "display_data"
    },
    {
     "data": {
      "application/vnd.jupyter.widget-view+json": {
       "model_id": "",
       "version_major": 2,
       "version_minor": 0
      },
      "text/plain": [
       "Pandas Apply:   0%|          | 0/747034 [00:00<?, ?it/s]"
      ]
     },
     "metadata": {},
     "output_type": "display_data"
    },
    {
     "data": {
      "application/vnd.jupyter.widget-view+json": {
       "model_id": "",
       "version_major": 2,
       "version_minor": 0
      },
      "text/plain": [
       "Pandas Apply:   0%|          | 0/747034 [00:00<?, ?it/s]"
      ]
     },
     "metadata": {},
     "output_type": "display_data"
    }
   ],
   "source": [
    "nko_data['minjustForm'] = nko_data['minjustForm'].swifter.apply(\n",
    "    lambda x: 'Садоводческие, огороднические или дачные некоммерческие организации' if x == 'Садоводческое, огородническое, дачное некоммерческое партнерство' else x)\n",
    "nko_data['minjustForm'] = nko_data['minjustForm'].swifter.apply(\n",
    "    lambda x: 'Общественный фонд' if x == 'Общественные фонды' else x)\n",
    "nko_data['minjustForm'] = nko_data['minjustForm'].swifter.apply(\n",
    "    lambda x: 'Адвокатские учреждения' if x == 'Коллегия адвокатов' else x)\n",
    "nko_data['minjustForm'] = nko_data['minjustForm'].swifter.apply(\n",
    "    lambda x: 'Адвокатские учреждения' if x == 'Адвокатское бюро' else x)\n",
    "nko_data['minjustForm'] = nko_data['minjustForm'].swifter.apply(\n",
    "    lambda x: 'Общественный фонд' if x == 'Общественные фонды' else x)"
   ]
  },
  {
   "cell_type": "code",
   "execution_count": 103,
   "id": "8d6a21a2",
   "metadata": {},
   "outputs": [
    {
     "data": {
      "application/vnd.jupyter.widget-view+json": {
       "model_id": "",
       "version_major": 2,
       "version_minor": 0
      },
      "text/plain": [
       "Pandas Apply:   0%|          | 0/747034 [00:00<?, ?it/s]"
      ]
     },
     "metadata": {},
     "output_type": "display_data"
    },
    {
     "data": {
      "application/vnd.jupyter.widget-view+json": {
       "model_id": "",
       "version_major": 2,
       "version_minor": 0
      },
      "text/plain": [
       "Pandas Apply:   0%|          | 0/747034 [00:00<?, ?it/s]"
      ]
     },
     "metadata": {},
     "output_type": "display_data"
    },
    {
     "data": {
      "application/vnd.jupyter.widget-view+json": {
       "model_id": "",
       "version_major": 2,
       "version_minor": 0
      },
      "text/plain": [
       "Pandas Apply:   0%|          | 0/747034 [00:00<?, ?it/s]"
      ]
     },
     "metadata": {},
     "output_type": "display_data"
    },
    {
     "data": {
      "application/vnd.jupyter.widget-view+json": {
       "model_id": "",
       "version_major": 2,
       "version_minor": 0
      },
      "text/plain": [
       "Pandas Apply:   0%|          | 0/747034 [00:00<?, ?it/s]"
      ]
     },
     "metadata": {},
     "output_type": "display_data"
    }
   ],
   "source": [
    "nko_data['minjustForm'] = nko_data['minjustForm'].swifter.apply(\n",
    "    lambda x: 'Иные некоммерческие организации' if x == 'Прочая некоммерческая организация' else x)\n",
    "nko_data['minjustForm'] = nko_data['minjustForm'].swifter.apply(\n",
    "    lambda x: 'Ассоциация крестьянских (фермерских) хозяйств' if x == 'Объединения фермерских хозяйств' else x)\n",
    "nko_data['minjustForm'] = nko_data['minjustForm'].swifter.apply(\n",
    "    lambda x: 'Религиозная организация' if x == 'Религиозная организация' else x)\n",
    "nko_data['minjustForm'] = nko_data['minjustForm'].swifter.apply(\n",
    "    lambda x: 'Религиозная организация' if x == 'Религиозная организация' else x)"
   ]
  },
  {
   "cell_type": "code",
   "execution_count": 105,
   "id": "914dda81",
   "metadata": {},
   "outputs": [
    {
     "data": {
      "application/vnd.jupyter.widget-view+json": {
       "model_id": "",
       "version_major": 2,
       "version_minor": 0
      },
      "text/plain": [
       "Pandas Apply:   0%|          | 0/747034 [00:00<?, ?it/s]"
      ]
     },
     "metadata": {},
     "output_type": "display_data"
    },
    {
     "data": {
      "application/vnd.jupyter.widget-view+json": {
       "model_id": "",
       "version_major": 2,
       "version_minor": 0
      },
      "text/plain": [
       "Pandas Apply:   0%|          | 0/747034 [00:00<?, ?it/s]"
      ]
     },
     "metadata": {},
     "output_type": "display_data"
    },
    {
     "data": {
      "application/vnd.jupyter.widget-view+json": {
       "model_id": "",
       "version_major": 2,
       "version_minor": 0
      },
      "text/plain": [
       "Pandas Apply:   0%|          | 0/747034 [00:00<?, ?it/s]"
      ]
     },
     "metadata": {},
     "output_type": "display_data"
    },
    {
     "data": {
      "application/vnd.jupyter.widget-view+json": {
       "model_id": "",
       "version_major": 2,
       "version_minor": 0
      },
      "text/plain": [
       "Pandas Apply:   0%|          | 0/747034 [00:00<?, ?it/s]"
      ]
     },
     "metadata": {},
     "output_type": "display_data"
    },
    {
     "data": {
      "application/vnd.jupyter.widget-view+json": {
       "model_id": "",
       "version_major": 2,
       "version_minor": 0
      },
      "text/plain": [
       "Pandas Apply:   0%|          | 0/747034 [00:00<?, ?it/s]"
      ]
     },
     "metadata": {},
     "output_type": "display_data"
    }
   ],
   "source": [
    "nko_data['minjustForm'] = nko_data['minjustForm'].swifter.apply(\n",
    "    lambda x: 'Автономная некоммерческая организация' if x == 'Автономные некоммерческие организации' else x)\n",
    "nko_data['minjustForm'] = nko_data['minjustForm'].swifter.apply(\n",
    "    lambda x: 'Политическая партия' if x == 'Политические партии' else x)\n",
    "nko_data['minjustForm'] = nko_data['minjustForm'].swifter.apply(\n",
    "    lambda x: 'Религиозная организация' if x == 'Религиозные организации' else x)\n",
    "nko_data['minjustForm'] = nko_data['minjustForm'].swifter.apply(\n",
    "    lambda x: 'Объединения юридических лиц' if x == 'Объединения (союз, ассоциация) юридических лиц' else x)\n",
    "nko_data['minjustForm'] = nko_data['minjustForm'].swifter.apply(\n",
    "    lambda x: 'Объединения юридических лиц' if x == 'Объединение юридических лиц (ассоциация и союз)' else x)"
   ]
  },
  {
   "cell_type": "code",
   "execution_count": 107,
   "id": "d1bf5d1b",
   "metadata": {},
   "outputs": [
    {
     "data": {
      "application/vnd.jupyter.widget-view+json": {
       "model_id": "",
       "version_major": 2,
       "version_minor": 0
      },
      "text/plain": [
       "Pandas Apply:   0%|          | 0/747034 [00:00<?, ?it/s]"
      ]
     },
     "metadata": {},
     "output_type": "display_data"
    },
    {
     "data": {
      "application/vnd.jupyter.widget-view+json": {
       "model_id": "",
       "version_major": 2,
       "version_minor": 0
      },
      "text/plain": [
       "Pandas Apply:   0%|          | 0/747034 [00:00<?, ?it/s]"
      ]
     },
     "metadata": {},
     "output_type": "display_data"
    }
   ],
   "source": [
    "nko_data['minjustForm'] = nko_data['minjustForm'].swifter.apply(\n",
    "    lambda x: 'Ассоциация крестьянских (фермерских) хозяйств' if x == 'Объединение (Союз, Ассоциация) крестьянских (фермерских) хозяйств' else x)\n",
    "nko_data['minjustForm'] = nko_data['minjustForm'].swifter.apply(\n",
    "    lambda x: 'Объединения юридических лиц' if x == 'Объединение юридических лиц (ассоциация и союз)' else x)"
   ]
  },
  {
   "cell_type": "code",
   "execution_count": 114,
   "id": "7888beb0",
   "metadata": {},
   "outputs": [],
   "source": [
    "nko_data['minjustForm'] = nko_data['minjustForm'].apply(lambda x: str(x).lower())"
   ]
  },
  {
   "cell_type": "code",
   "execution_count": 117,
   "id": "074aaab1",
   "metadata": {},
   "outputs": [
    {
     "data": {
      "application/vnd.jupyter.widget-view+json": {
       "model_id": "",
       "version_major": 2,
       "version_minor": 0
      },
      "text/plain": [
       "Pandas Apply:   0%|          | 0/747034 [00:00<?, ?it/s]"
      ]
     },
     "metadata": {},
     "output_type": "display_data"
    },
    {
     "data": {
      "application/vnd.jupyter.widget-view+json": {
       "model_id": "",
       "version_major": 2,
       "version_minor": 0
      },
      "text/plain": [
       "Pandas Apply:   0%|          | 0/747034 [00:00<?, ?it/s]"
      ]
     },
     "metadata": {},
     "output_type": "display_data"
    },
    {
     "data": {
      "application/vnd.jupyter.widget-view+json": {
       "model_id": "",
       "version_major": 2,
       "version_minor": 0
      },
      "text/plain": [
       "Pandas Apply:   0%|          | 0/747034 [00:00<?, ?it/s]"
      ]
     },
     "metadata": {},
     "output_type": "display_data"
    },
    {
     "data": {
      "application/vnd.jupyter.widget-view+json": {
       "model_id": "",
       "version_major": 2,
       "version_minor": 0
      },
      "text/plain": [
       "Pandas Apply:   0%|          | 0/747034 [00:00<?, ?it/s]"
      ]
     },
     "metadata": {},
     "output_type": "display_data"
    }
   ],
   "source": [
    "nko_data['minjustForm'] = nko_data['minjustForm'].swifter.apply(\n",
    "    lambda x: 'некоммерческое образовательное учреждение' if x == 'негосударственное некоммерческое образовательное учреждение' else x)\n",
    "nko_data['minjustForm'] = nko_data['minjustForm'].swifter.apply(\n",
    "    lambda x: 'некоммерческое образовательное учреждение' if x == 'негосударственное некоммерческое дошкольное образовательное учреждение' else x)\n",
    "nko_data['minjustForm'] = nko_data['minjustForm'].swifter.apply(\n",
    "    lambda x: 'другая некоммерческая организация' if x == 'прочие некоммерческие организации' else x)\n",
    "nko_data['minjustForm'] = nko_data['minjustForm'].swifter.apply(\n",
    "    lambda x: 'другая некоммерческая организация' if x == 'иные некоммерческие организации, не включенные в другие группировки' else x)"
   ]
  },
  {
   "cell_type": "code",
   "execution_count": 119,
   "id": "51347d0d",
   "metadata": {},
   "outputs": [
    {
     "data": {
      "application/vnd.jupyter.widget-view+json": {
       "model_id": "",
       "version_major": 2,
       "version_minor": 0
      },
      "text/plain": [
       "Pandas Apply:   0%|          | 0/747034 [00:00<?, ?it/s]"
      ]
     },
     "metadata": {},
     "output_type": "display_data"
    },
    {
     "data": {
      "application/vnd.jupyter.widget-view+json": {
       "model_id": "",
       "version_major": 2,
       "version_minor": 0
      },
      "text/plain": [
       "Pandas Apply:   0%|          | 0/747034 [00:00<?, ?it/s]"
      ]
     },
     "metadata": {},
     "output_type": "display_data"
    },
    {
     "data": {
      "application/vnd.jupyter.widget-view+json": {
       "model_id": "",
       "version_major": 2,
       "version_minor": 0
      },
      "text/plain": [
       "Pandas Apply:   0%|          | 0/747034 [00:00<?, ?it/s]"
      ]
     },
     "metadata": {},
     "output_type": "display_data"
    },
    {
     "data": {
      "application/vnd.jupyter.widget-view+json": {
       "model_id": "",
       "version_major": 2,
       "version_minor": 0
      },
      "text/plain": [
       "Pandas Apply:   0%|          | 0/747034 [00:00<?, ?it/s]"
      ]
     },
     "metadata": {},
     "output_type": "display_data"
    },
    {
     "data": {
      "application/vnd.jupyter.widget-view+json": {
       "model_id": "",
       "version_major": 2,
       "version_minor": 0
      },
      "text/plain": [
       "Pandas Apply:   0%|          | 0/747034 [00:00<?, ?it/s]"
      ]
     },
     "metadata": {},
     "output_type": "display_data"
    },
    {
     "data": {
      "application/vnd.jupyter.widget-view+json": {
       "model_id": "",
       "version_major": 2,
       "version_minor": 0
      },
      "text/plain": [
       "Pandas Apply:   0%|          | 0/747034 [00:00<?, ?it/s]"
      ]
     },
     "metadata": {},
     "output_type": "display_data"
    },
    {
     "data": {
      "application/vnd.jupyter.widget-view+json": {
       "model_id": "",
       "version_major": 2,
       "version_minor": 0
      },
      "text/plain": [
       "Pandas Apply:   0%|          | 0/747034 [00:00<?, ?it/s]"
      ]
     },
     "metadata": {},
     "output_type": "display_data"
    },
    {
     "data": {
      "application/vnd.jupyter.widget-view+json": {
       "model_id": "",
       "version_major": 2,
       "version_minor": 0
      },
      "text/plain": [
       "Pandas Apply:   0%|          | 0/747034 [00:00<?, ?it/s]"
      ]
     },
     "metadata": {},
     "output_type": "display_data"
    }
   ],
   "source": [
    "nko_data['minjustForm'] = nko_data['minjustForm'].swifter.apply(\n",
    "    lambda x: 'адвокатские и нотариальные организации' if x == 'нотариальные палаты' else x)\n",
    "nko_data['minjustForm'] = nko_data['minjustForm'].swifter.apply(\n",
    "    lambda x: 'адвокатские и нотариальные организации' if x == 'адвокатские палаты' else x)\n",
    "nko_data['minjustForm'] = nko_data['minjustForm'].swifter.apply(\n",
    "    lambda x: 'адвокатские и нотариальные организации' if x == 'некоммерческое партнёрство - адвокатское бюро' else x)\n",
    "nko_data['minjustForm'] = nko_data['minjustForm'].swifter.apply(\n",
    "    lambda x: 'некоммерческие организации' if x == 'некоммерческое предприятие' else x)\n",
    "nko_data['minjustForm'] = nko_data['minjustForm'].swifter.apply(\n",
    "    lambda x: 'некоммерческие организации' if x == 'некоммерческое товарищество' else x)\n",
    "nko_data['minjustForm'] = nko_data['minjustForm'].swifter.apply(\n",
    "    lambda x: 'некоммерческие организации' if x == 'некоммерческое объединение' else x)\n",
    "nko_data['minjustForm'] = nko_data['minjustForm'].swifter.apply(\n",
    "    lambda x: 'некоммерческие организации' if x == 'местное некоммерческое партнерство' else x)\n",
    "nko_data['minjustForm'] = nko_data['minjustForm'].swifter.apply(\n",
    "    lambda x: 'некоммерческая общественная организация' if x == 'общественная некоммерческая организация' else x)"
   ]
  },
  {
   "cell_type": "code",
   "execution_count": 125,
   "id": "6c478007",
   "metadata": {},
   "outputs": [
    {
     "data": {
      "application/vnd.jupyter.widget-view+json": {
       "model_id": "",
       "version_major": 2,
       "version_minor": 0
      },
      "text/plain": [
       "Pandas Apply:   0%|          | 0/747034 [00:00<?, ?it/s]"
      ]
     },
     "metadata": {},
     "output_type": "display_data"
    },
    {
     "data": {
      "application/vnd.jupyter.widget-view+json": {
       "model_id": "",
       "version_major": 2,
       "version_minor": 0
      },
      "text/plain": [
       "Pandas Apply:   0%|          | 0/747034 [00:00<?, ?it/s]"
      ]
     },
     "metadata": {},
     "output_type": "display_data"
    },
    {
     "data": {
      "application/vnd.jupyter.widget-view+json": {
       "model_id": "",
       "version_major": 2,
       "version_minor": 0
      },
      "text/plain": [
       "Pandas Apply:   0%|          | 0/747034 [00:00<?, ?it/s]"
      ]
     },
     "metadata": {},
     "output_type": "display_data"
    }
   ],
   "source": [
    "nko_data['minjustForm'] = nko_data['minjustForm'].swifter.apply(\n",
    "    lambda x: 'благотворительные организации и фонды' if x == 'объединения (ассоциации и союзы) благотворительных организаций' else x)\n",
    "nko_data['minjustForm'] = nko_data['minjustForm'].swifter.apply(\n",
    "    lambda x: 'благотворительные организации и фонды' if x == 'благотворительные учреждения' else x)\n",
    "nko_data['minjustForm'] = nko_data['minjustForm'].swifter.apply(\n",
    "    lambda x: 'благотворительные организации и фонды' if x == 'благотворительные фонды' else x)"
   ]
  },
  {
   "cell_type": "code",
   "execution_count": 129,
   "id": "c68a0bcf",
   "metadata": {},
   "outputs": [
    {
     "data": {
      "application/vnd.jupyter.widget-view+json": {
       "model_id": "",
       "version_major": 2,
       "version_minor": 0
      },
      "text/plain": [
       "Pandas Apply:   0%|          | 0/747034 [00:00<?, ?it/s]"
      ]
     },
     "metadata": {},
     "output_type": "display_data"
    },
    {
     "data": {
      "application/vnd.jupyter.widget-view+json": {
       "model_id": "",
       "version_major": 2,
       "version_minor": 0
      },
      "text/plain": [
       "Pandas Apply:   0%|          | 0/747034 [00:00<?, ?it/s]"
      ]
     },
     "metadata": {},
     "output_type": "display_data"
    },
    {
     "data": {
      "application/vnd.jupyter.widget-view+json": {
       "model_id": "",
       "version_major": 2,
       "version_minor": 0
      },
      "text/plain": [
       "Pandas Apply:   0%|          | 0/747034 [00:00<?, ?it/s]"
      ]
     },
     "metadata": {},
     "output_type": "display_data"
    },
    {
     "data": {
      "application/vnd.jupyter.widget-view+json": {
       "model_id": "",
       "version_major": 2,
       "version_minor": 0
      },
      "text/plain": [
       "Pandas Apply:   0%|          | 0/747034 [00:00<?, ?it/s]"
      ]
     },
     "metadata": {},
     "output_type": "display_data"
    },
    {
     "data": {
      "application/vnd.jupyter.widget-view+json": {
       "model_id": "",
       "version_major": 2,
       "version_minor": 0
      },
      "text/plain": [
       "Pandas Apply:   0%|          | 0/747034 [00:00<?, ?it/s]"
      ]
     },
     "metadata": {},
     "output_type": "display_data"
    },
    {
     "data": {
      "application/vnd.jupyter.widget-view+json": {
       "model_id": "",
       "version_major": 2,
       "version_minor": 0
      },
      "text/plain": [
       "Pandas Apply:   0%|          | 0/747034 [00:00<?, ?it/s]"
      ]
     },
     "metadata": {},
     "output_type": "display_data"
    },
    {
     "data": {
      "application/vnd.jupyter.widget-view+json": {
       "model_id": "",
       "version_major": 2,
       "version_minor": 0
      },
      "text/plain": [
       "Pandas Apply:   0%|          | 0/747034 [00:00<?, ?it/s]"
      ]
     },
     "metadata": {},
     "output_type": "display_data"
    },
    {
     "data": {
      "application/vnd.jupyter.widget-view+json": {
       "model_id": "",
       "version_major": 2,
       "version_minor": 0
      },
      "text/plain": [
       "Pandas Apply:   0%|          | 0/747034 [00:00<?, ?it/s]"
      ]
     },
     "metadata": {},
     "output_type": "display_data"
    },
    {
     "data": {
      "application/vnd.jupyter.widget-view+json": {
       "model_id": "",
       "version_major": 2,
       "version_minor": 0
      },
      "text/plain": [
       "Pandas Apply:   0%|          | 0/747034 [00:00<?, ?it/s]"
      ]
     },
     "metadata": {},
     "output_type": "display_data"
    }
   ],
   "source": [
    "nko_data['minjustForm'] = nko_data['minjustForm'].swifter.apply(\n",
    "    lambda x: 'садоводческие, огороднические или дачные некоммерческие организации' if x == 'садоводческое, огородническое, дачное некоммерческое объединение' else x)\n",
    "nko_data['minjustForm'] = nko_data['minjustForm'].swifter.apply(\n",
    "    lambda x: 'садоводческие, огороднические или дачные некоммерческие организации' if x == 'садоводческое некоммерческое товарищество' else x)\n",
    "nko_data['minjustForm'] = nko_data['minjustForm'].swifter.apply(\n",
    "    lambda x: 'садоводческие, огороднические или дачные некоммерческие организации' if x == 'ассоциации (союзы) садоводческих, огороднических и дачных некоммерческих объединений' else x)\n",
    "nko_data['minjustForm'] = nko_data['minjustForm'].swifter.apply(\n",
    "    lambda x: 'садоводческие, огороднические или дачные некоммерческие организации' if x == 'садоводческие, огороднические или дачные объединения граждан' else x)\n",
    "nko_data['minjustForm'] = nko_data['minjustForm'].swifter.apply(\n",
    "    lambda x: 'садоводческие, огороднические или дачные некоммерческие организации' if x == 'садово-огородническое некоммерческое товарищество' else x)\n",
    "nko_data['minjustForm'] = nko_data['minjustForm'].swifter.apply(\n",
    "    lambda x: 'садоводческие, огороднические или дачные некоммерческие организации' if x == 'садрводческое некоммерческое товарищество' else x)\n",
    "nko_data['minjustForm'] = nko_data['minjustForm'].swifter.apply(\n",
    "    lambda x: 'садоводческие, огороднические или дачные некоммерческие организации' if x == 'дачное некоммерческое товарищество' else x)\n",
    "nko_data['minjustForm'] = nko_data['minjustForm'].swifter.apply(\n",
    "    lambda x: 'садоводческие, огороднические или дачные некоммерческие организации' if x == 'некоммерческое садоводческое товарищество' else x)\n",
    "nko_data['minjustForm'] = nko_data['minjustForm'].swifter.apply(\n",
    "    lambda x: 'садоводческие, огороднические или дачные некоммерческие организации' if x == 'садоводческое некоммерческое объединение' else x)"
   ]
  },
  {
   "cell_type": "code",
   "execution_count": 135,
   "id": "94ce816f",
   "metadata": {},
   "outputs": [
    {
     "data": {
      "application/vnd.jupyter.widget-view+json": {
       "model_id": "",
       "version_major": 2,
       "version_minor": 0
      },
      "text/plain": [
       "Pandas Apply:   0%|          | 0/747034 [00:00<?, ?it/s]"
      ]
     },
     "metadata": {},
     "output_type": "display_data"
    },
    {
     "data": {
      "application/vnd.jupyter.widget-view+json": {
       "model_id": "",
       "version_major": 2,
       "version_minor": 0
      },
      "text/plain": [
       "Pandas Apply:   0%|          | 0/747034 [00:00<?, ?it/s]"
      ]
     },
     "metadata": {},
     "output_type": "display_data"
    }
   ],
   "source": [
    "nko_data['minjustForm'] = nko_data['minjustForm'].swifter.apply(\n",
    "    lambda x: 'религиозная организация' if x == 'учреждение общественной, религиозной организации' else x)\n",
    "nko_data['minjustForm'] = nko_data['minjustForm'].swifter.apply(\n",
    "    lambda x: 'религиозная организация' if x == 'учреждения религиозных организаций' else x)"
   ]
  },
  {
   "cell_type": "code",
   "execution_count": 138,
   "id": "fa1edf4c",
   "metadata": {},
   "outputs": [
    {
     "data": {
      "application/vnd.jupyter.widget-view+json": {
       "model_id": "",
       "version_major": 2,
       "version_minor": 0
      },
      "text/plain": [
       "Pandas Apply:   0%|          | 0/747034 [00:00<?, ?it/s]"
      ]
     },
     "metadata": {},
     "output_type": "display_data"
    },
    {
     "data": {
      "application/vnd.jupyter.widget-view+json": {
       "model_id": "",
       "version_major": 2,
       "version_minor": 0
      },
      "text/plain": [
       "Pandas Apply:   0%|          | 0/747034 [00:00<?, ?it/s]"
      ]
     },
     "metadata": {},
     "output_type": "display_data"
    },
    {
     "data": {
      "application/vnd.jupyter.widget-view+json": {
       "model_id": "",
       "version_major": 2,
       "version_minor": 0
      },
      "text/plain": [
       "Pandas Apply:   0%|          | 0/747034 [00:00<?, ?it/s]"
      ]
     },
     "metadata": {},
     "output_type": "display_data"
    },
    {
     "data": {
      "application/vnd.jupyter.widget-view+json": {
       "model_id": "",
       "version_major": 2,
       "version_minor": 0
      },
      "text/plain": [
       "Pandas Apply:   0%|          | 0/747034 [00:00<?, ?it/s]"
      ]
     },
     "metadata": {},
     "output_type": "display_data"
    },
    {
     "data": {
      "application/vnd.jupyter.widget-view+json": {
       "model_id": "",
       "version_major": 2,
       "version_minor": 0
      },
      "text/plain": [
       "Pandas Apply:   0%|          | 0/747034 [00:00<?, ?it/s]"
      ]
     },
     "metadata": {},
     "output_type": "display_data"
    },
    {
     "data": {
      "application/vnd.jupyter.widget-view+json": {
       "model_id": "",
       "version_major": 2,
       "version_minor": 0
      },
      "text/plain": [
       "Pandas Apply:   0%|          | 0/747034 [00:00<?, ?it/s]"
      ]
     },
     "metadata": {},
     "output_type": "display_data"
    }
   ],
   "source": [
    "nko_data['minjustForm'] = nko_data['minjustForm'].swifter.apply(\n",
    "    lambda x: 'адвокатские и нотариальные организации' if x == 'адвокатские бюро' else x)\n",
    "nko_data['minjustForm'] = nko_data['minjustForm'].swifter.apply(\n",
    "    lambda x: 'адвокатские и нотариальные организации' if x == 'нотариальная палата' else x)\n",
    "nko_data['minjustForm'] = nko_data['minjustForm'].swifter.apply(\n",
    "    lambda x: 'адвокатские и нотариальные организации' if x == 'адвокатские палаты субъектов рф' else x)\n",
    "nko_data['minjustForm'] = nko_data['minjustForm'].swifter.apply(\n",
    "    lambda x: 'адвокатские и нотариальные организации' if x == 'коллегии адвокатов' else x)\n",
    "nko_data['minjustForm'] = nko_data['minjustForm'].swifter.apply(\n",
    "    lambda x: 'адвокатские и нотариальные организации' if x == 'объединения адвокатов' else x)\n",
    "nko_data['minjustForm'] = nko_data['minjustForm'].swifter.apply(\n",
    "    lambda x: 'адвокатские и нотариальные организации' if x == 'адвокатские учреждения' else x)"
   ]
  },
  {
   "cell_type": "code",
   "execution_count": 142,
   "id": "de38aa92",
   "metadata": {},
   "outputs": [
    {
     "data": {
      "application/vnd.jupyter.widget-view+json": {
       "model_id": "",
       "version_major": 2,
       "version_minor": 0
      },
      "text/plain": [
       "Pandas Apply:   0%|          | 0/747034 [00:00<?, ?it/s]"
      ]
     },
     "metadata": {},
     "output_type": "display_data"
    },
    {
     "data": {
      "application/vnd.jupyter.widget-view+json": {
       "model_id": "",
       "version_major": 2,
       "version_minor": 0
      },
      "text/plain": [
       "Pandas Apply:   0%|          | 0/747034 [00:00<?, ?it/s]"
      ]
     },
     "metadata": {},
     "output_type": "display_data"
    },
    {
     "data": {
      "application/vnd.jupyter.widget-view+json": {
       "model_id": "",
       "version_major": 2,
       "version_minor": 0
      },
      "text/plain": [
       "Pandas Apply:   0%|          | 0/747034 [00:00<?, ?it/s]"
      ]
     },
     "metadata": {},
     "output_type": "display_data"
    },
    {
     "data": {
      "application/vnd.jupyter.widget-view+json": {
       "model_id": "",
       "version_major": 2,
       "version_minor": 0
      },
      "text/plain": [
       "Pandas Apply:   0%|          | 0/747034 [00:00<?, ?it/s]"
      ]
     },
     "metadata": {},
     "output_type": "display_data"
    },
    {
     "data": {
      "application/vnd.jupyter.widget-view+json": {
       "model_id": "",
       "version_major": 2,
       "version_minor": 0
      },
      "text/plain": [
       "Pandas Apply:   0%|          | 0/747034 [00:00<?, ?it/s]"
      ]
     },
     "metadata": {},
     "output_type": "display_data"
    }
   ],
   "source": [
    "nko_data['minjustForm'] = nko_data['minjustForm'].swifter.apply(\n",
    "    lambda x: 'некоммерческие организации и фонды' if x == 'некоммерческий фонд' else x)\n",
    "nko_data['minjustForm'] = nko_data['minjustForm'].swifter.apply(\n",
    "    lambda x: 'некоммерческие организации и фонды' if x == 'некоммерческое партнерство' else x)\n",
    "nko_data['minjustForm'] = nko_data['minjustForm'].swifter.apply(\n",
    "    lambda x: 'некоммерческие организации и фонды' if x == 'некомменческие организации' else x)\n",
    "nko_data['minjustForm'] = nko_data['minjustForm'].swifter.apply(\n",
    "    lambda x: 'некоммерческие организации и фонды' if x == 'некоммерческое учреждение' else x)\n",
    "nko_data['minjustForm'] = nko_data['minjustForm'].swifter.apply(\n",
    "    lambda x: 'некоммерческие организации и фонды' if x == 'некоммерческай организация' else x)"
   ]
  },
  {
   "cell_type": "code",
   "execution_count": 147,
   "id": "1a995a4f",
   "metadata": {},
   "outputs": [
    {
     "data": {
      "application/vnd.jupyter.widget-view+json": {
       "model_id": "",
       "version_major": 2,
       "version_minor": 0
      },
      "text/plain": [
       "Pandas Apply:   0%|          | 0/747034 [00:00<?, ?it/s]"
      ]
     },
     "metadata": {},
     "output_type": "display_data"
    },
    {
     "data": {
      "application/vnd.jupyter.widget-view+json": {
       "model_id": "",
       "version_major": 2,
       "version_minor": 0
      },
      "text/plain": [
       "Pandas Apply:   0%|          | 0/747034 [00:00<?, ?it/s]"
      ]
     },
     "metadata": {},
     "output_type": "display_data"
    },
    {
     "data": {
      "application/vnd.jupyter.widget-view+json": {
       "model_id": "",
       "version_major": 2,
       "version_minor": 0
      },
      "text/plain": [
       "Pandas Apply:   0%|          | 0/747034 [00:00<?, ?it/s]"
      ]
     },
     "metadata": {},
     "output_type": "display_data"
    },
    {
     "data": {
      "application/vnd.jupyter.widget-view+json": {
       "model_id": "",
       "version_major": 2,
       "version_minor": 0
      },
      "text/plain": [
       "Pandas Apply:   0%|          | 0/747034 [00:00<?, ?it/s]"
      ]
     },
     "metadata": {},
     "output_type": "display_data"
    },
    {
     "data": {
      "application/vnd.jupyter.widget-view+json": {
       "model_id": "",
       "version_major": 2,
       "version_minor": 0
      },
      "text/plain": [
       "Pandas Apply:   0%|          | 0/747034 [00:00<?, ?it/s]"
      ]
     },
     "metadata": {},
     "output_type": "display_data"
    }
   ],
   "source": [
    "nko_data['minjustForm'] = nko_data['minjustForm'].swifter.apply(\n",
    "    lambda x: 'сельскохозяйственные организации' if x == 'сельскохозяйственные потребительские кооперативы' else x)\n",
    "nko_data['minjustForm'] = nko_data['minjustForm'].swifter.apply(\n",
    "    lambda x: 'сельскохозяйственные организации' if x == 'ассоциация крестьянских (фермерских) хозяйств' else x)\n",
    "nko_data['minjustForm'] = nko_data['minjustForm'].swifter.apply(\n",
    "    lambda x: 'сельскохозяйственные организации' if x == 'сельскохозяйственные потребительские огороднические кооперативы' else x)\n",
    "nko_data['minjustForm'] = nko_data['minjustForm'].swifter.apply(\n",
    "    lambda x: 'сельскохозяйственные организации' if x == 'сельскохозяйственные потребительские садоводческие кооперативы' else x)\n",
    "nko_data['minjustForm'] = nko_data['minjustForm'].swifter.apply(\n",
    "    lambda x: 'сельскохозяйственные организации' if x == 'объединения (союзы) крестьянских (фермерских) хозяйств' else x)"
   ]
  },
  {
   "cell_type": "code",
   "execution_count": 151,
   "id": "8503276e",
   "metadata": {},
   "outputs": [
    {
     "data": {
      "application/vnd.jupyter.widget-view+json": {
       "model_id": "",
       "version_major": 2,
       "version_minor": 0
      },
      "text/plain": [
       "Pandas Apply:   0%|          | 0/747034 [00:00<?, ?it/s]"
      ]
     },
     "metadata": {},
     "output_type": "display_data"
    },
    {
     "data": {
      "application/vnd.jupyter.widget-view+json": {
       "model_id": "",
       "version_major": 2,
       "version_minor": 0
      },
      "text/plain": [
       "Pandas Apply:   0%|          | 0/747034 [00:00<?, ?it/s]"
      ]
     },
     "metadata": {},
     "output_type": "display_data"
    }
   ],
   "source": [
    "nko_data['minjustForm'] = nko_data['minjustForm'].swifter.apply(\n",
    "    lambda x: 'объединения юридических лиц' if x == 'юридическое лицо, являющееся некоммерческой организацией' else x)\n",
    "nko_data['minjustForm'] = nko_data['minjustForm'].swifter.apply(\n",
    "    lambda x: 'объединения юридических лиц' if x == 'юридические лица, являющиеся некоммерческими организациями, не включенные в другие группировки' else x)"
   ]
  },
  {
   "cell_type": "code",
   "execution_count": 153,
   "id": "76008da7",
   "metadata": {},
   "outputs": [
    {
     "data": {
      "application/vnd.jupyter.widget-view+json": {
       "model_id": "",
       "version_major": 2,
       "version_minor": 0
      },
      "text/plain": [
       "Pandas Apply:   0%|          | 0/747034 [00:00<?, ?it/s]"
      ]
     },
     "metadata": {},
     "output_type": "display_data"
    },
    {
     "data": {
      "application/vnd.jupyter.widget-view+json": {
       "model_id": "",
       "version_major": 2,
       "version_minor": 0
      },
      "text/plain": [
       "Pandas Apply:   0%|          | 0/747034 [00:00<?, ?it/s]"
      ]
     },
     "metadata": {},
     "output_type": "display_data"
    },
    {
     "data": {
      "application/vnd.jupyter.widget-view+json": {
       "model_id": "",
       "version_major": 2,
       "version_minor": 0
      },
      "text/plain": [
       "Pandas Apply:   0%|          | 0/747034 [00:00<?, ?it/s]"
      ]
     },
     "metadata": {},
     "output_type": "display_data"
    },
    {
     "data": {
      "application/vnd.jupyter.widget-view+json": {
       "model_id": "",
       "version_major": 2,
       "version_minor": 0
      },
      "text/plain": [
       "Pandas Apply:   0%|          | 0/747034 [00:00<?, ?it/s]"
      ]
     },
     "metadata": {},
     "output_type": "display_data"
    },
    {
     "data": {
      "application/vnd.jupyter.widget-view+json": {
       "model_id": "",
       "version_major": 2,
       "version_minor": 0
      },
      "text/plain": [
       "Pandas Apply:   0%|          | 0/747034 [00:00<?, ?it/s]"
      ]
     },
     "metadata": {},
     "output_type": "display_data"
    }
   ],
   "source": [
    "nko_data['minjustForm'] = nko_data['minjustForm'].swifter.apply(\n",
    "    lambda x: 'государственные' if x == 'государственная корпорация' else x)\n",
    "nko_data['minjustForm'] = nko_data['minjustForm'].swifter.apply(\n",
    "    lambda x: 'государственные' if x == 'государственные компании' else x)\n",
    "nko_data['minjustForm'] = nko_data['minjustForm'].swifter.apply(\n",
    "    lambda x: 'государственные' if x == 'государственно-общественное объединение' else x)\n",
    "nko_data['minjustForm'] = nko_data['minjustForm'].swifter.apply(\n",
    "    lambda x: 'государственные' if x == 'государственные корпорации' else x)\n",
    "nko_data['minjustForm'] = nko_data['minjustForm'].swifter.apply(\n",
    "    lambda x: 'государственные' if x == 'общественно-государственное общественное объединение' else x)"
   ]
  },
  {
   "cell_type": "code",
   "execution_count": 156,
   "id": "955db0dc",
   "metadata": {},
   "outputs": [
    {
     "data": {
      "application/vnd.jupyter.widget-view+json": {
       "model_id": "",
       "version_major": 2,
       "version_minor": 0
      },
      "text/plain": [
       "Pandas Apply:   0%|          | 0/747034 [00:00<?, ?it/s]"
      ]
     },
     "metadata": {},
     "output_type": "display_data"
    },
    {
     "data": {
      "application/vnd.jupyter.widget-view+json": {
       "model_id": "",
       "version_major": 2,
       "version_minor": 0
      },
      "text/plain": [
       "Pandas Apply:   0%|          | 0/747034 [00:00<?, ?it/s]"
      ]
     },
     "metadata": {},
     "output_type": "display_data"
    },
    {
     "data": {
      "application/vnd.jupyter.widget-view+json": {
       "model_id": "",
       "version_major": 2,
       "version_minor": 0
      },
      "text/plain": [
       "Pandas Apply:   0%|          | 0/747034 [00:00<?, ?it/s]"
      ]
     },
     "metadata": {},
     "output_type": "display_data"
    },
    {
     "data": {
      "application/vnd.jupyter.widget-view+json": {
       "model_id": "",
       "version_major": 2,
       "version_minor": 0
      },
      "text/plain": [
       "Pandas Apply:   0%|          | 0/747034 [00:00<?, ?it/s]"
      ]
     },
     "metadata": {},
     "output_type": "display_data"
    },
    {
     "data": {
      "application/vnd.jupyter.widget-view+json": {
       "model_id": "",
       "version_major": 2,
       "version_minor": 0
      },
      "text/plain": [
       "Pandas Apply:   0%|          | 0/747034 [00:00<?, ?it/s]"
      ]
     },
     "metadata": {},
     "output_type": "display_data"
    },
    {
     "data": {
      "application/vnd.jupyter.widget-view+json": {
       "model_id": "",
       "version_major": 2,
       "version_minor": 0
      },
      "text/plain": [
       "Pandas Apply:   0%|          | 0/747034 [00:00<?, ?it/s]"
      ]
     },
     "metadata": {},
     "output_type": "display_data"
    }
   ],
   "source": [
    "nko_data['minjustForm'] = nko_data['minjustForm'].swifter.apply(\n",
    "    lambda x: 'образовательные' if x == 'некоммерческое образовательное учреждение' else x)\n",
    "nko_data['minjustForm'] = nko_data['minjustForm'].swifter.apply(\n",
    "    lambda x: 'образовательные' if x == 'учреждения академий наук' else x)\n",
    "nko_data['minjustForm'] = nko_data['minjustForm'].swifter.apply(\n",
    "    lambda x: 'образовательные' if x == 'автономная некоммерческая образовательная организация' else x)\n",
    "nko_data['minjustForm'] = nko_data['minjustForm'].swifter.apply(\n",
    "    lambda x: 'образовательные' if x == 'совет муниципальных образований' else x)\n",
    "nko_data['minjustForm'] = nko_data['minjustForm'].swifter.apply(\n",
    "    lambda x: 'образовательные' if x == 'советы муниципальных образований субъектов российской федерации' else x)\n",
    "nko_data['minjustForm'] = nko_data['minjustForm'].swifter.apply(\n",
    "    lambda x: 'образовательные' if x == 'совет муниципальных образований' else x)"
   ]
  },
  {
   "cell_type": "code",
   "execution_count": 160,
   "id": "da011fe9",
   "metadata": {},
   "outputs": [
    {
     "data": {
      "application/vnd.jupyter.widget-view+json": {
       "model_id": "",
       "version_major": 2,
       "version_minor": 0
      },
      "text/plain": [
       "Pandas Apply:   0%|          | 0/747034 [00:00<?, ?it/s]"
      ]
     },
     "metadata": {},
     "output_type": "display_data"
    },
    {
     "data": {
      "application/vnd.jupyter.widget-view+json": {
       "model_id": "",
       "version_major": 2,
       "version_minor": 0
      },
      "text/plain": [
       "Pandas Apply:   0%|          | 0/747034 [00:00<?, ?it/s]"
      ]
     },
     "metadata": {},
     "output_type": "display_data"
    },
    {
     "data": {
      "application/vnd.jupyter.widget-view+json": {
       "model_id": "",
       "version_major": 2,
       "version_minor": 0
      },
      "text/plain": [
       "Pandas Apply:   0%|          | 0/747034 [00:00<?, ?it/s]"
      ]
     },
     "metadata": {},
     "output_type": "display_data"
    }
   ],
   "source": [
    "nko_data['minjustForm'] = nko_data['minjustForm'].swifter.apply(\n",
    "    lambda x: 'казачьи объединения' if x == 'казачье общество' else x)\n",
    "nko_data['minjustForm'] = nko_data['minjustForm'].swifter.apply(\n",
    "    lambda x: 'казачьи объединения' if x == 'казачьи общества, внесенные в государственный реестр казачьих обществ в российской федерации' else x)\n",
    "nko_data['minjustForm'] = nko_data['minjustForm'].swifter.apply(\n",
    "    lambda x: 'казачьи объединения' if x == 'казачьи общества' else x)"
   ]
  },
  {
   "cell_type": "code",
   "execution_count": 163,
   "id": "e14a3e22",
   "metadata": {},
   "outputs": [
    {
     "data": {
      "application/vnd.jupyter.widget-view+json": {
       "model_id": "",
       "version_major": 2,
       "version_minor": 0
      },
      "text/plain": [
       "Pandas Apply:   0%|          | 0/747034 [00:00<?, ?it/s]"
      ]
     },
     "metadata": {},
     "output_type": "display_data"
    },
    {
     "data": {
      "application/vnd.jupyter.widget-view+json": {
       "model_id": "",
       "version_major": 2,
       "version_minor": 0
      },
      "text/plain": [
       "Pandas Apply:   0%|          | 0/747034 [00:00<?, ?it/s]"
      ]
     },
     "metadata": {},
     "output_type": "display_data"
    },
    {
     "data": {
      "application/vnd.jupyter.widget-view+json": {
       "model_id": "",
       "version_major": 2,
       "version_minor": 0
      },
      "text/plain": [
       "Pandas Apply:   0%|          | 0/747034 [00:00<?, ?it/s]"
      ]
     },
     "metadata": {},
     "output_type": "display_data"
    },
    {
     "data": {
      "application/vnd.jupyter.widget-view+json": {
       "model_id": "",
       "version_major": 2,
       "version_minor": 0
      },
      "text/plain": [
       "Pandas Apply:   0%|          | 0/747034 [00:00<?, ?it/s]"
      ]
     },
     "metadata": {},
     "output_type": "display_data"
    },
    {
     "data": {
      "application/vnd.jupyter.widget-view+json": {
       "model_id": "",
       "version_major": 2,
       "version_minor": 0
      },
      "text/plain": [
       "Pandas Apply:   0%|          | 0/747034 [00:00<?, ?it/s]"
      ]
     },
     "metadata": {},
     "output_type": "display_data"
    },
    {
     "data": {
      "application/vnd.jupyter.widget-view+json": {
       "model_id": "",
       "version_major": 2,
       "version_minor": 0
      },
      "text/plain": [
       "Pandas Apply:   0%|          | 0/747034 [00:00<?, ?it/s]"
      ]
     },
     "metadata": {},
     "output_type": "display_data"
    }
   ],
   "source": [
    "nko_data['minjustForm'] = nko_data['minjustForm'].swifter.apply(\n",
    "    lambda x: 'ассоциации (союзы)' if x == 'союз' else x)\n",
    "nko_data['minjustForm'] = nko_data['minjustForm'].swifter.apply(\n",
    "    lambda x: 'ассоциации (союзы)' if x == 'союзы (ассоциации) общественных объединений' else x)\n",
    "nko_data['minjustForm'] = nko_data['minjustForm'].swifter.apply(\n",
    "    lambda x: 'ассоциации (союзы)' if x == 'союзы потребительских обществ' else x)\n",
    "nko_data['minjustForm'] = nko_data['minjustForm'].swifter.apply(\n",
    "    lambda x: 'ассоциации (союзы)' if x == 'союз потребительских обществ' else x)\n",
    "nko_data['minjustForm'] = nko_data['minjustForm'].swifter.apply(\n",
    "    lambda x: 'ассоциации (союзы)' if x == 'союз (ассоциация) общественных объединений' else x)\n",
    "nko_data['minjustForm'] = nko_data['minjustForm'].swifter.apply(\n",
    "    lambda x: 'ассоциации (союзы)' if x == 'ассоциация экономического развития' else x)"
   ]
  },
  {
   "cell_type": "code",
   "execution_count": 167,
   "id": "c11a8577",
   "metadata": {},
   "outputs": [
    {
     "data": {
      "application/vnd.jupyter.widget-view+json": {
       "model_id": "",
       "version_major": 2,
       "version_minor": 0
      },
      "text/plain": [
       "Pandas Apply:   0%|          | 0/747034 [00:00<?, ?it/s]"
      ]
     },
     "metadata": {},
     "output_type": "display_data"
    },
    {
     "data": {
      "application/vnd.jupyter.widget-view+json": {
       "model_id": "",
       "version_major": 2,
       "version_minor": 0
      },
      "text/plain": [
       "Pandas Apply:   0%|          | 0/747034 [00:00<?, ?it/s]"
      ]
     },
     "metadata": {},
     "output_type": "display_data"
    },
    {
     "data": {
      "application/vnd.jupyter.widget-view+json": {
       "model_id": "",
       "version_major": 2,
       "version_minor": 0
      },
      "text/plain": [
       "Pandas Apply:   0%|          | 0/747034 [00:00<?, ?it/s]"
      ]
     },
     "metadata": {},
     "output_type": "display_data"
    },
    {
     "data": {
      "application/vnd.jupyter.widget-view+json": {
       "model_id": "",
       "version_major": 2,
       "version_minor": 0
      },
      "text/plain": [
       "Pandas Apply:   0%|          | 0/747034 [00:00<?, ?it/s]"
      ]
     },
     "metadata": {},
     "output_type": "display_data"
    },
    {
     "data": {
      "application/vnd.jupyter.widget-view+json": {
       "model_id": "",
       "version_major": 2,
       "version_minor": 0
      },
      "text/plain": [
       "Pandas Apply:   0%|          | 0/747034 [00:00<?, ?it/s]"
      ]
     },
     "metadata": {},
     "output_type": "display_data"
    },
    {
     "data": {
      "application/vnd.jupyter.widget-view+json": {
       "model_id": "",
       "version_major": 2,
       "version_minor": 0
      },
      "text/plain": [
       "Pandas Apply:   0%|          | 0/747034 [00:00<?, ?it/s]"
      ]
     },
     "metadata": {},
     "output_type": "display_data"
    }
   ],
   "source": [
    "nko_data['minjustForm'] = nko_data['minjustForm'].swifter.apply(\n",
    "    lambda x: 'недвижимость' if x == 'гаражные и гаражно-строительные кооперативы' else x)\n",
    "nko_data['minjustForm'] = nko_data['minjustForm'].swifter.apply(\n",
    "    lambda x: 'недвижимость' if x == 'товарищества собственников недвижимости' else x)\n",
    "nko_data['minjustForm'] = nko_data['minjustForm'].swifter.apply(\n",
    "    lambda x: 'недвижимость' if x == 'жилищные или жилищно-строительные кооперативы' else x)\n",
    "nko_data['minjustForm'] = nko_data['minjustForm'].swifter.apply(\n",
    "    lambda x: 'недвижимость' if x == 'товарищество собственников жилья' else x)\n",
    "nko_data['minjustForm'] = nko_data['minjustForm'].swifter.apply(\n",
    "    lambda x: 'недвижимость' if x == 'жилищные накопительные кооперативы' else x)\n",
    "nko_data['minjustForm'] = nko_data['minjustForm'].swifter.apply(\n",
    "    lambda x: 'недвижимость' if x == 'жилищные накопительные кооперативы' else x)"
   ]
  },
  {
   "cell_type": "code",
   "execution_count": 172,
   "id": "b78e3c2f",
   "metadata": {},
   "outputs": [
    {
     "data": {
      "application/vnd.jupyter.widget-view+json": {
       "model_id": "",
       "version_major": 2,
       "version_minor": 0
      },
      "text/plain": [
       "Pandas Apply:   0%|          | 0/747034 [00:00<?, ?it/s]"
      ]
     },
     "metadata": {},
     "output_type": "display_data"
    },
    {
     "data": {
      "application/vnd.jupyter.widget-view+json": {
       "model_id": "",
       "version_major": 2,
       "version_minor": 0
      },
      "text/plain": [
       "Pandas Apply:   0%|          | 0/747034 [00:00<?, ?it/s]"
      ]
     },
     "metadata": {},
     "output_type": "display_data"
    },
    {
     "data": {
      "application/vnd.jupyter.widget-view+json": {
       "model_id": "",
       "version_major": 2,
       "version_minor": 0
      },
      "text/plain": [
       "Pandas Apply:   0%|          | 0/747034 [00:00<?, ?it/s]"
      ]
     },
     "metadata": {},
     "output_type": "display_data"
    },
    {
     "data": {
      "application/vnd.jupyter.widget-view+json": {
       "model_id": "",
       "version_major": 2,
       "version_minor": 0
      },
      "text/plain": [
       "Pandas Apply:   0%|          | 0/747034 [00:00<?, ?it/s]"
      ]
     },
     "metadata": {},
     "output_type": "display_data"
    },
    {
     "data": {
      "application/vnd.jupyter.widget-view+json": {
       "model_id": "",
       "version_major": 2,
       "version_minor": 0
      },
      "text/plain": [
       "Pandas Apply:   0%|          | 0/747034 [00:00<?, ?it/s]"
      ]
     },
     "metadata": {},
     "output_type": "display_data"
    }
   ],
   "source": [
    "nko_data['minjustForm'] = nko_data['minjustForm'].swifter.apply(\n",
    "    lambda x: 'иные некоммерческие организации' if x == 'другие некоммерческие организации' else x)\n",
    "nko_data['minjustForm'] = nko_data['minjustForm'].swifter.apply(\n",
    "    lambda x: 'иные некоммерческие организации' if x == 'другая некоммерческая организация' else x)\n",
    "nko_data['minjustForm'] = nko_data['minjustForm'].swifter.apply(\n",
    "    lambda x: 'кредитные' if x == 'кредитные потребительские кооперативы' else x)\n",
    "nko_data['minjustForm'] = nko_data['minjustForm'].swifter.apply(\n",
    "    lambda x: 'кредитные' if x == 'кредитные кооперативы второго уровня' else x)\n",
    "nko_data['minjustForm'] = nko_data['minjustForm'].swifter.apply(\n",
    "    lambda x: 'кредитные' if x == 'союзы (ассоциации) кредитных кооперативов' else x)"
   ]
  },
  {
   "cell_type": "code",
   "execution_count": 175,
   "id": "27a2e988",
   "metadata": {},
   "outputs": [
    {
     "data": {
      "application/vnd.jupyter.widget-view+json": {
       "model_id": "",
       "version_major": 2,
       "version_minor": 0
      },
      "text/plain": [
       "Pandas Apply:   0%|          | 0/747034 [00:00<?, ?it/s]"
      ]
     },
     "metadata": {},
     "output_type": "display_data"
    },
    {
     "data": {
      "application/vnd.jupyter.widget-view+json": {
       "model_id": "",
       "version_major": 2,
       "version_minor": 0
      },
      "text/plain": [
       "Pandas Apply:   0%|          | 0/747034 [00:00<?, ?it/s]"
      ]
     },
     "metadata": {},
     "output_type": "display_data"
    },
    {
     "data": {
      "application/vnd.jupyter.widget-view+json": {
       "model_id": "",
       "version_major": 2,
       "version_minor": 0
      },
      "text/plain": [
       "Pandas Apply:   0%|          | 0/747034 [00:00<?, ?it/s]"
      ]
     },
     "metadata": {},
     "output_type": "display_data"
    },
    {
     "data": {
      "application/vnd.jupyter.widget-view+json": {
       "model_id": "",
       "version_major": 2,
       "version_minor": 0
      },
      "text/plain": [
       "Pandas Apply:   0%|          | 0/747034 [00:00<?, ?it/s]"
      ]
     },
     "metadata": {},
     "output_type": "display_data"
    },
    {
     "data": {
      "application/vnd.jupyter.widget-view+json": {
       "model_id": "",
       "version_major": 2,
       "version_minor": 0
      },
      "text/plain": [
       "Pandas Apply:   0%|          | 0/747034 [00:00<?, ?it/s]"
      ]
     },
     "metadata": {},
     "output_type": "display_data"
    },
    {
     "data": {
      "application/vnd.jupyter.widget-view+json": {
       "model_id": "",
       "version_major": 2,
       "version_minor": 0
      },
      "text/plain": [
       "Pandas Apply:   0%|          | 0/747034 [00:00<?, ?it/s]"
      ]
     },
     "metadata": {},
     "output_type": "display_data"
    },
    {
     "data": {
      "application/vnd.jupyter.widget-view+json": {
       "model_id": "",
       "version_major": 2,
       "version_minor": 0
      },
      "text/plain": [
       "Pandas Apply:   0%|          | 0/747034 [00:00<?, ?it/s]"
      ]
     },
     "metadata": {},
     "output_type": "display_data"
    }
   ],
   "source": [
    "nko_data['minjustForm'] = nko_data['minjustForm'].swifter.apply(\n",
    "    lambda x: 'профессиональные и профсоюзные организации' if x == 'профессиональный союз' else x)\n",
    "nko_data['minjustForm'] = nko_data['minjustForm'].swifter.apply(\n",
    "    lambda x: 'профессиональные и профсоюзные организации' if x == 'профсоюзные организации' else x)\n",
    "nko_data['minjustForm'] = nko_data['minjustForm'].swifter.apply(\n",
    "    lambda x: 'профессиональные и профсоюзные организации' if x == 'объединение работодателей' else x)\n",
    "nko_data['minjustForm'] = nko_data['minjustForm'].swifter.apply(\n",
    "    lambda x: 'профессиональные и профсоюзные организации' if x == 'объединения работодателей' else x)\n",
    "nko_data['minjustForm'] = nko_data['minjustForm'].swifter.apply(\n",
    "    lambda x: 'объединение предприятий' if x == 'объединение предприятий в форме акционерного общества закрытого типа' else x)\n",
    "nko_data['minjustForm'] = nko_data['minjustForm'].swifter.apply(\n",
    "    lambda x: 'объединение предприятий' if x == 'объединение предприятий в форме полного товарищества' else x)\n",
    "nko_data['minjustForm'] = nko_data['minjustForm'].swifter.apply(\n",
    "    lambda x: 'объединение предприятий' if x == 'объединение предприятий в форме акционерного общества открытого типа' else x)"
   ]
  },
  {
   "cell_type": "code",
   "execution_count": 180,
   "id": "3f999a69",
   "metadata": {},
   "outputs": [
    {
     "data": {
      "application/vnd.jupyter.widget-view+json": {
       "model_id": "",
       "version_major": 2,
       "version_minor": 0
      },
      "text/plain": [
       "Pandas Apply:   0%|          | 0/747034 [00:00<?, ?it/s]"
      ]
     },
     "metadata": {},
     "output_type": "display_data"
    },
    {
     "data": {
      "application/vnd.jupyter.widget-view+json": {
       "model_id": "",
       "version_major": 2,
       "version_minor": 0
      },
      "text/plain": [
       "Pandas Apply:   0%|          | 0/747034 [00:00<?, ?it/s]"
      ]
     },
     "metadata": {},
     "output_type": "display_data"
    },
    {
     "data": {
      "application/vnd.jupyter.widget-view+json": {
       "model_id": "",
       "version_major": 2,
       "version_minor": 0
      },
      "text/plain": [
       "Pandas Apply:   0%|          | 0/747034 [00:00<?, ?it/s]"
      ]
     },
     "metadata": {},
     "output_type": "display_data"
    },
    {
     "data": {
      "application/vnd.jupyter.widget-view+json": {
       "model_id": "",
       "version_major": 2,
       "version_minor": 0
      },
      "text/plain": [
       "Pandas Apply:   0%|          | 0/747034 [00:00<?, ?it/s]"
      ]
     },
     "metadata": {},
     "output_type": "display_data"
    },
    {
     "data": {
      "application/vnd.jupyter.widget-view+json": {
       "model_id": "",
       "version_major": 2,
       "version_minor": 0
      },
      "text/plain": [
       "Pandas Apply:   0%|          | 0/747034 [00:00<?, ?it/s]"
      ]
     },
     "metadata": {},
     "output_type": "display_data"
    }
   ],
   "source": [
    "nko_data['minjustForm'] = nko_data['minjustForm'].swifter.apply(\n",
    "    lambda x: 'потребительские организации' if x == 'учреждение потребительской кооперации' else x)\n",
    "nko_data['minjustForm'] = nko_data['minjustForm'].swifter.apply(\n",
    "    lambda x: 'торгово-промышленная палата' if x == 'торгово-промышленные палаты' else x)\n",
    "nko_data['minjustForm'] = nko_data['minjustForm'].swifter.apply(\n",
    "    lambda x: 'ассоциации (союзы)' if x == 'союзы (ассоциации) кооперативов' else x)\n",
    "nko_data['minjustForm'] = nko_data['minjustForm'].swifter.apply(\n",
    "    lambda x: 'ассоциации (союзы)' if x == 'ассоциации (союзы) экономического взаимодействия субъектов российской федерации' else x)\n",
    "nko_data['minjustForm'] = nko_data['minjustForm'].swifter.apply(\n",
    "    lambda x: 'ассоциации (союзы)' if x == 'ассоциация' else x)"
   ]
  },
  {
   "cell_type": "code",
   "execution_count": 186,
   "id": "1bb3da37",
   "metadata": {},
   "outputs": [
    {
     "data": {
      "application/vnd.jupyter.widget-view+json": {
       "model_id": "",
       "version_major": 2,
       "version_minor": 0
      },
      "text/plain": [
       "Pandas Apply:   0%|          | 0/747034 [00:00<?, ?it/s]"
      ]
     },
     "metadata": {},
     "output_type": "display_data"
    },
    {
     "data": {
      "application/vnd.jupyter.widget-view+json": {
       "model_id": "",
       "version_major": 2,
       "version_minor": 0
      },
      "text/plain": [
       "Pandas Apply:   0%|          | 0/747034 [00:00<?, ?it/s]"
      ]
     },
     "metadata": {},
     "output_type": "display_data"
    },
    {
     "data": {
      "application/vnd.jupyter.widget-view+json": {
       "model_id": "",
       "version_major": 2,
       "version_minor": 0
      },
      "text/plain": [
       "Pandas Apply:   0%|          | 0/747034 [00:00<?, ?it/s]"
      ]
     },
     "metadata": {},
     "output_type": "display_data"
    },
    {
     "data": {
      "application/vnd.jupyter.widget-view+json": {
       "model_id": "",
       "version_major": 2,
       "version_minor": 0
      },
      "text/plain": [
       "Pandas Apply:   0%|          | 0/747034 [00:00<?, ?it/s]"
      ]
     },
     "metadata": {},
     "output_type": "display_data"
    },
    {
     "data": {
      "application/vnd.jupyter.widget-view+json": {
       "model_id": "",
       "version_major": 2,
       "version_minor": 0
      },
      "text/plain": [
       "Pandas Apply:   0%|          | 0/747034 [00:00<?, ?it/s]"
      ]
     },
     "metadata": {},
     "output_type": "display_data"
    },
    {
     "data": {
      "application/vnd.jupyter.widget-view+json": {
       "model_id": "",
       "version_major": 2,
       "version_minor": 0
      },
      "text/plain": [
       "Pandas Apply:   0%|          | 0/747034 [00:00<?, ?it/s]"
      ]
     },
     "metadata": {},
     "output_type": "display_data"
    },
    {
     "data": {
      "application/vnd.jupyter.widget-view+json": {
       "model_id": "",
       "version_major": 2,
       "version_minor": 0
      },
      "text/plain": [
       "Pandas Apply:   0%|          | 0/747034 [00:00<?, ?it/s]"
      ]
     },
     "metadata": {},
     "output_type": "display_data"
    },
    {
     "data": {
      "application/vnd.jupyter.widget-view+json": {
       "model_id": "",
       "version_major": 2,
       "version_minor": 0
      },
      "text/plain": [
       "Pandas Apply:   0%|          | 0/747034 [00:00<?, ?it/s]"
      ]
     },
     "metadata": {},
     "output_type": "display_data"
    },
    {
     "data": {
      "application/vnd.jupyter.widget-view+json": {
       "model_id": "",
       "version_major": 2,
       "version_minor": 0
      },
      "text/plain": [
       "Pandas Apply:   0%|          | 0/747034 [00:00<?, ?it/s]"
      ]
     },
     "metadata": {},
     "output_type": "display_data"
    },
    {
     "data": {
      "application/vnd.jupyter.widget-view+json": {
       "model_id": "",
       "version_major": 2,
       "version_minor": 0
      },
      "text/plain": [
       "Pandas Apply:   0%|          | 0/747034 [00:00<?, ?it/s]"
      ]
     },
     "metadata": {},
     "output_type": "display_data"
    }
   ],
   "source": [
    "nko_data['minjustForm'] = nko_data['minjustForm'].swifter.apply(\n",
    "    lambda x: 'культура' if x == 'национально-культурная автономия' else x)\n",
    "nko_data['minjustForm'] = nko_data['minjustForm'].swifter.apply(\n",
    "    lambda x: 'культура' if x == 'орган общественной самодеятельности' else x)\n",
    "nko_data['minjustForm'] = nko_data['minjustForm'].swifter.apply(\n",
    "    lambda x: 'культура' if x == 'автономная некоммерческая просветительская организация' else x)\n",
    "nko_data['minjustForm'] = nko_data['minjustForm'].swifter.apply(\n",
    "    lambda x: 'фонды' if x == 'фонд' else x)\n",
    "nko_data['minjustForm'] = nko_data['minjustForm'].swifter.apply(\n",
    "    lambda x: 'фонды' if x == 'фонд' else x)\n",
    "nko_data['minjustForm'] = nko_data['minjustForm'].swifter.apply(\n",
    "    lambda x: 'малочисленные народы' if x == 'общины коренных малочисленных народов' else x)\n",
    "nko_data['minjustForm'] = nko_data['minjustForm'].swifter.apply(\n",
    "    lambda x: 'малочисленные народы' if x == 'союзы (ассоциации) общин малочисленных народов' else x)\n",
    "nko_data['minjustForm'] = nko_data['minjustForm'].swifter.apply(\n",
    "    lambda x: 'малочисленные народы' if x == 'общины коренных малочисленных народов российской федерации' else x)\n",
    "nko_data['minjustForm'] = nko_data['minjustForm'].swifter.apply(\n",
    "    lambda x: 'фонды' if x == 'экологические фонды' else x)\n",
    "nko_data['minjustForm'] = nko_data['minjustForm'].swifter.apply(\n",
    "    lambda x: 'малочисленные народы' if x == 'община малочисленных народов' else x)"
   ]
  },
  {
   "cell_type": "code",
   "execution_count": 188,
   "id": "cbe0b5f2",
   "metadata": {},
   "outputs": [
    {
     "data": {
      "application/vnd.jupyter.widget-view+json": {
       "model_id": "",
       "version_major": 2,
       "version_minor": 0
      },
      "text/plain": [
       "Pandas Apply:   0%|          | 0/747034 [00:00<?, ?it/s]"
      ]
     },
     "metadata": {},
     "output_type": "display_data"
    },
    {
     "data": {
      "application/vnd.jupyter.widget-view+json": {
       "model_id": "",
       "version_major": 2,
       "version_minor": 0
      },
      "text/plain": [
       "Pandas Apply:   0%|          | 0/747034 [00:00<?, ?it/s]"
      ]
     },
     "metadata": {},
     "output_type": "display_data"
    },
    {
     "data": {
      "application/vnd.jupyter.widget-view+json": {
       "model_id": "",
       "version_major": 2,
       "version_minor": 0
      },
      "text/plain": [
       "Pandas Apply:   0%|          | 0/747034 [00:00<?, ?it/s]"
      ]
     },
     "metadata": {},
     "output_type": "display_data"
    },
    {
     "data": {
      "application/vnd.jupyter.widget-view+json": {
       "model_id": "",
       "version_major": 2,
       "version_minor": 0
      },
      "text/plain": [
       "Pandas Apply:   0%|          | 0/747034 [00:00<?, ?it/s]"
      ]
     },
     "metadata": {},
     "output_type": "display_data"
    },
    {
     "data": {
      "application/vnd.jupyter.widget-view+json": {
       "model_id": "",
       "version_major": 2,
       "version_minor": 0
      },
      "text/plain": [
       "Pandas Apply:   0%|          | 0/747034 [00:00<?, ?it/s]"
      ]
     },
     "metadata": {},
     "output_type": "display_data"
    },
    {
     "data": {
      "application/vnd.jupyter.widget-view+json": {
       "model_id": "",
       "version_major": 2,
       "version_minor": 0
      },
      "text/plain": [
       "Pandas Apply:   0%|          | 0/747034 [00:00<?, ?it/s]"
      ]
     },
     "metadata": {},
     "output_type": "display_data"
    },
    {
     "data": {
      "application/vnd.jupyter.widget-view+json": {
       "model_id": "",
       "version_major": 2,
       "version_minor": 0
      },
      "text/plain": [
       "Pandas Apply:   0%|          | 0/747034 [00:00<?, ?it/s]"
      ]
     },
     "metadata": {},
     "output_type": "display_data"
    }
   ],
   "source": [
    "nko_data['minjustForm'] = nko_data['minjustForm'].swifter.apply(\n",
    "    lambda x: 'садоводческие, огороднические или дачные некоммерческие организации' if x == 'дачное некоммерческое партнерство' else x)\n",
    "nko_data['minjustForm'] = nko_data['minjustForm'].swifter.apply(\n",
    "    lambda x: 'культура' if x == 'органы общественной самодеятельности' else x)\n",
    "nko_data['minjustForm'] = nko_data['minjustForm'].swifter.apply(\n",
    "    lambda x: 'пенсионный фонд' if x == 'негосударственный пенсионный фонд' else x)\n",
    "nko_data['minjustForm'] = nko_data['minjustForm'].swifter.apply(\n",
    "    lambda x: 'пенсионный фонд' if x == 'негосударственные пенсионные фонды' else x)\n",
    "nko_data['minjustForm'] = nko_data['minjustForm'].swifter.apply(\n",
    "    lambda x: 'адвокатские и нотариальные организации' if x == 'публично-правовые компании' else x)\n",
    "nko_data['minjustForm'] = nko_data['minjustForm'].swifter.apply(\n",
    "    lambda x: 'учреждение' if x == 'учреждения' else x)\n",
    "nko_data['minjustForm'] = nko_data['minjustForm'].swifter.apply(\n",
    "    lambda x: 'государственные' if x == 'казенные учреждения' else x)"
   ]
  },
  {
   "cell_type": "code",
   "execution_count": 190,
   "id": "683ea60e",
   "metadata": {},
   "outputs": [
    {
     "data": {
      "application/vnd.jupyter.widget-view+json": {
       "model_id": "",
       "version_major": 2,
       "version_minor": 0
      },
      "text/plain": [
       "Pandas Apply:   0%|          | 0/747034 [00:00<?, ?it/s]"
      ]
     },
     "metadata": {},
     "output_type": "display_data"
    },
    {
     "data": {
      "application/vnd.jupyter.widget-view+json": {
       "model_id": "",
       "version_major": 2,
       "version_minor": 0
      },
      "text/plain": [
       "Pandas Apply:   0%|          | 0/747034 [00:00<?, ?it/s]"
      ]
     },
     "metadata": {},
     "output_type": "display_data"
    },
    {
     "data": {
      "application/vnd.jupyter.widget-view+json": {
       "model_id": "",
       "version_major": 2,
       "version_minor": 0
      },
      "text/plain": [
       "Pandas Apply:   0%|          | 0/747034 [00:00<?, ?it/s]"
      ]
     },
     "metadata": {},
     "output_type": "display_data"
    },
    {
     "data": {
      "application/vnd.jupyter.widget-view+json": {
       "model_id": "",
       "version_major": 2,
       "version_minor": 0
      },
      "text/plain": [
       "Pandas Apply:   0%|          | 0/747034 [00:00<?, ?it/s]"
      ]
     },
     "metadata": {},
     "output_type": "display_data"
    },
    {
     "data": {
      "application/vnd.jupyter.widget-view+json": {
       "model_id": "",
       "version_major": 2,
       "version_minor": 0
      },
      "text/plain": [
       "Pandas Apply:   0%|          | 0/747034 [00:00<?, ?it/s]"
      ]
     },
     "metadata": {},
     "output_type": "display_data"
    },
    {
     "data": {
      "application/vnd.jupyter.widget-view+json": {
       "model_id": "",
       "version_major": 2,
       "version_minor": 0
      },
      "text/plain": [
       "Pandas Apply:   0%|          | 0/747034 [00:00<?, ?it/s]"
      ]
     },
     "metadata": {},
     "output_type": "display_data"
    },
    {
     "data": {
      "application/vnd.jupyter.widget-view+json": {
       "model_id": "",
       "version_major": 2,
       "version_minor": 0
      },
      "text/plain": [
       "Pandas Apply:   0%|          | 0/747034 [00:00<?, ?it/s]"
      ]
     },
     "metadata": {},
     "output_type": "display_data"
    }
   ],
   "source": [
    "nko_data['minjustForm'] = nko_data['minjustForm'].swifter.apply(\n",
    "    lambda x: 'некоммерческие организации и фонды' if x == 'организация' else x)\n",
    "nko_data['minjustForm'] = nko_data['minjustForm'].swifter.apply(\n",
    "    lambda x: 'некоммерческие организации и фонды' if x == 'некоммерческие организации' else x)\n",
    "nko_data['minjustForm'] = nko_data['minjustForm'].swifter.apply(\n",
    "    lambda x: 'некоммерческие организации и фонды' if x == 'отделения иностранных некоммерческих неправительственных организаций' else x)\n",
    "nko_data['minjustForm'] = nko_data['minjustForm'].swifter.apply(\n",
    "    lambda x: 'некоммерческие организации и фонды' if x == 'негосударственная некоммерческая организация' else x)\n",
    "nko_data['minjustForm'] = nko_data['minjustForm'].swifter.apply(\n",
    "    lambda x: 'некоммерческие организации и фонды' if x == 'саморегулируемые организации' else x)\n",
    "nko_data['minjustForm'] = nko_data['minjustForm'].swifter.apply(\n",
    "    lambda x: 'общественная или религиозная организация' if x == 'некоммерческая общественная организация' else x)\n",
    "nko_data['minjustForm'] = nko_data['minjustForm'].swifter.apply(\n",
    "    lambda x: 'общественное движение' if x == 'движение' else x)"
   ]
  },
  {
   "cell_type": "code",
   "execution_count": 192,
   "id": "efd8cbf9",
   "metadata": {},
   "outputs": [
    {
     "data": {
      "application/vnd.jupyter.widget-view+json": {
       "model_id": "",
       "version_major": 2,
       "version_minor": 0
      },
      "text/plain": [
       "Pandas Apply:   0%|          | 0/747034 [00:00<?, ?it/s]"
      ]
     },
     "metadata": {},
     "output_type": "display_data"
    },
    {
     "data": {
      "application/vnd.jupyter.widget-view+json": {
       "model_id": "",
       "version_major": 2,
       "version_minor": 0
      },
      "text/plain": [
       "Pandas Apply:   0%|          | 0/747034 [00:00<?, ?it/s]"
      ]
     },
     "metadata": {},
     "output_type": "display_data"
    }
   ],
   "source": [
    "nko_data['minjustForm'] = nko_data['minjustForm'].swifter.apply(\n",
    "    lambda x: 'учреждение' if x == 'автономные учреждения' else x)\n",
    "nko_data['minjustForm'] = nko_data['minjustForm'].swifter.apply(\n",
    "    lambda x: 'территориальное общественное самоуправление' if x == 'территориальные общественные самоуправления' else x)"
   ]
  },
  {
   "cell_type": "code",
   "execution_count": 194,
   "id": "f88b3ed6",
   "metadata": {},
   "outputs": [],
   "source": [
    "# Сохраняем полученные данные в файл\n",
    "nko_data.to_csv('data/nko_data_proba.csv', index=False)"
   ]
  }
 ],
 "metadata": {
  "kernelspec": {
   "display_name": "Python 3 (ipykernel)",
   "language": "python",
   "name": "python3"
  },
  "language_info": {
   "codemirror_mode": {
    "name": "ipython",
    "version": 3
   },
   "file_extension": ".py",
   "mimetype": "text/x-python",
   "name": "python",
   "nbconvert_exporter": "python",
   "pygments_lexer": "ipython3",
   "version": "3.9.12"
  }
 },
 "nbformat": 4,
 "nbformat_minor": 5
}
