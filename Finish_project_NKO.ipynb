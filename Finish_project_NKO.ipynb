{
 "cells": [
  {
   "cell_type": "code",
   "execution_count": 1,
   "id": "f7b19020",
   "metadata": {},
   "outputs": [],
   "source": [
    "# работа с данными\n",
    "import pandas as pd\n",
    "import numpy as np\n",
    "#import re\n",
    "\n",
    "# библиотеки для визуализации\n",
    "import matplotlib.pyplot as plt\n",
    "import seaborn as sns\n",
    "from pylab import rcParams\n",
    "\n",
    "%matplotlib inline\n",
    "rcParams['figure.figsize'] = 12, 6\n",
    "\n",
    "# библиотека для ускорения pandas\n",
    "import swifter\n",
    "\n",
    "# библиотека для расширенной работы с датами\n",
    "from dateutil.parser import parse\n",
    "#import time\n",
    "import datetime"
   ]
  },
  {
   "cell_type": "code",
   "execution_count": 2,
   "id": "a12d55b5",
   "metadata": {},
   "outputs": [],
   "source": [
    "# для работы с предупреждениями\n",
    "import warnings  \n",
    "# игнорирование предупреждений\n",
    "warnings.filterwarnings('ignore')"
   ]
  },
  {
   "cell_type": "code",
   "execution_count": 3,
   "id": "8fbdc928",
   "metadata": {},
   "outputs": [],
   "source": [
    "# вывод всех значений ячейки\n",
    "from IPython.core.interactiveshell import InteractiveShell\n",
    "InteractiveShell.ast_node_interactivity = 'all'"
   ]
  },
  {
   "cell_type": "code",
   "execution_count": 4,
   "id": "a008ce5a",
   "metadata": {},
   "outputs": [],
   "source": [
    "# Сброс ограничений на число столбцов\n",
    "pd.set_option('display.max_columns', None)\n",
    " \n",
    "# Сброс ограничений на количество символов в записи\n",
    "pd.set_option('display.max_colwidth', None)"
   ]
  },
  {
   "cell_type": "code",
   "execution_count": 5,
   "id": "c2c62ca0",
   "metadata": {},
   "outputs": [],
   "source": [
    "# всегда фиксируйте RANDOM_SEED, чтобы ваши эксперименты были воспроизводимы!\n",
    "RANDOM_SEED = 42"
   ]
  },
  {
   "cell_type": "code",
   "execution_count": 6,
   "id": "f6f0622c",
   "metadata": {},
   "outputs": [],
   "source": [
    "# зафиксируем версию пакетов, чтобы эксперименты были воспроизводимы:\n",
    "!pip freeze > requirements.txt"
   ]
  },
  {
   "cell_type": "code",
   "execution_count": 7,
   "id": "2264bb5e",
   "metadata": {},
   "outputs": [],
   "source": [
    "nko_data = pd.read_csv('data/nko_data_proba.csv')"
   ]
  },
  {
   "cell_type": "code",
   "execution_count": 8,
   "id": "7304ebc5",
   "metadata": {},
   "outputs": [
    {
     "name": "stdout",
     "output_type": "stream",
     "text": [
      "<class 'pandas.core.frame.DataFrame'>\n",
      "RangeIndex: 747034 entries, 0 to 747033\n",
      "Data columns (total 22 columns):\n",
      " #   Column              Non-Null Count   Dtype  \n",
      "---  ------              --------------   -----  \n",
      " 0   regionName          747034 non-null  object \n",
      " 1   fullName            747034 non-null  object \n",
      " 2   dateReg             747034 non-null  int64  \n",
      " 3   minjustForm         747034 non-null  object \n",
      " 4   ogrn                747034 non-null  int64  \n",
      " 5   egrulStatus         747034 non-null  object \n",
      " 6   regionCode          747034 non-null  int64  \n",
      " 7   incomeTotal         747034 non-null  float64\n",
      " 8   originDate          747034 non-null  object \n",
      " 9   dateLiquid          747034 non-null  object \n",
      " 10  hasRegionalSupport  747034 non-null  bool   \n",
      " 11  dateOgrn            747034 non-null  int64  \n",
      " 12  opf_name            746619 non-null  object \n",
      " 13  opf_code            701825 non-null  float64\n",
      " 14  mainOkved_name      542353 non-null  object \n",
      " 15  mainOkved_code      542353 non-null  object \n",
      " 16  num_of_addOkved     747034 non-null  int64  \n",
      " 17  index_address       737309 non-null  float64\n",
      " 18  okogu_name          347426 non-null  object \n",
      " 19  okogu_code          347437 non-null  float64\n",
      " 20  grant               747034 non-null  int64  \n",
      " 21  data_reg            747034 non-null  object \n",
      "dtypes: bool(1), float64(4), int64(6), object(11)\n",
      "memory usage: 120.4+ MB\n"
     ]
    }
   ],
   "source": [
    "nko_data.info()"
   ]
  },
  {
   "cell_type": "code",
   "execution_count": 9,
   "id": "2d450b94",
   "metadata": {},
   "outputs": [],
   "source": [
    "nko_data.rename(columns = {'data_reg' : 'date_reg'}, inplace = True)"
   ]
  },
  {
   "cell_type": "markdown",
   "id": "ae69a07f",
   "metadata": {},
   "source": [
    "### Рассмотрим признаки `regionName` и `regionCode`"
   ]
  },
  {
   "cell_type": "code",
   "execution_count": 10,
   "id": "f6d53062",
   "metadata": {},
   "outputs": [
    {
     "data": {
      "text/plain": [
       "Москва                          80178\n",
       "Московская область              37927\n",
       "Санкт-Петербург                 31767\n",
       "Краснодарский край              23337\n",
       "Свердловская область            23030\n",
       "                                ...  \n",
       "Республика Ингушетия             1249\n",
       "Еврейская автономная область     1197\n",
       "Чукотский автономный округ        505\n",
       "Ненецкий автономный округ         398\n",
       "Казахстан                          91\n",
       "Name: regionName, Length: 86, dtype: int64"
      ]
     },
     "execution_count": 10,
     "metadata": {},
     "output_type": "execute_result"
    }
   ],
   "source": [
    "nko_data['regionName'].value_counts()"
   ]
  },
  {
   "cell_type": "code",
   "execution_count": 11,
   "id": "136ec7ac",
   "metadata": {},
   "outputs": [
    {
     "data": {
      "image/png": "[encoded data removed]",
      "text/plain": [
       "<Figure size 1296x648 with 1 Axes>"
      ]
     },
     "metadata": {
      "needs_background": "light"
     },
     "output_type": "display_data"
    }
   ],
   "source": [
    "# Задаем размер графика\n",
    "fig_1, axes_1 = plt.subplots(figsize=(18, 9))\n",
    "# определяем гистограмму распределения\n",
    "histplot = sns.histplot(\n",
    "    data=nko_data, \n",
    "    x='regionName', \n",
    "    hue='grant',\n",
    "    ax=axes_1,\n",
    "    palette=['yellow', 'blue']\n",
    ")\n",
    "histplot.set_title('Рис.1 - Гистограмма распределения грантов по регионам')\n",
    "histplot.set_ylabel('Количество организаций')\n",
    "histplot.set_xlabel('Регион')\n",
    "histplot.legend(['Получали грант', 'Не получали грант'])\n",
    "for tick in histplot.get_xticklabels():\n",
    "    tick.set_rotation(90)\n",
    "\n",
    "histplot.grid();"
   ]
  },
  {
   "cell_type": "code",
   "execution_count": 12,
   "id": "20bd7110",
   "metadata": {},
   "outputs": [
    {
     "data": {
      "text/html": [
       "<div>\n",
       "<style scoped>\n",
       "    .dataframe tbody tr th:only-of-type {\n",
       "        vertical-align: middle;\n",
       "    }\n",
       "\n",
       "    .dataframe tbody tr th {\n",
       "        vertical-align: top;\n",
       "    }\n",
       "\n",
       "    .dataframe thead th {\n",
       "        text-align: right;\n",
       "    }\n",
       "</style>\n",
       "<table border=\"1\" class=\"dataframe\">\n",
       "  <thead>\n",
       "    <tr style=\"text-align: right;\">\n",
       "      <th></th>\n",
       "      <th>grant</th>\n",
       "    </tr>\n",
       "    <tr>\n",
       "      <th>regionName</th>\n",
       "      <th></th>\n",
       "    </tr>\n",
       "  </thead>\n",
       "  <tbody>\n",
       "    <tr>\n",
       "      <th>Ненецкий автономный округ</th>\n",
       "      <td>0.077889</td>\n",
       "    </tr>\n",
       "    <tr>\n",
       "      <th>Санкт-Петербург</th>\n",
       "      <td>0.071961</td>\n",
       "    </tr>\n",
       "    <tr>\n",
       "      <th>Республика Алтай</th>\n",
       "      <td>0.070365</td>\n",
       "    </tr>\n",
       "    <tr>\n",
       "      <th>Москва</th>\n",
       "      <td>0.069670</td>\n",
       "    </tr>\n",
       "    <tr>\n",
       "      <th>Ханты-Мансийский автономный округ - Югра</th>\n",
       "      <td>0.068574</td>\n",
       "    </tr>\n",
       "    <tr>\n",
       "      <th>...</th>\n",
       "      <td>...</td>\n",
       "    </tr>\n",
       "    <tr>\n",
       "      <th>Московская область</th>\n",
       "      <td>0.027368</td>\n",
       "    </tr>\n",
       "    <tr>\n",
       "      <th>Республика Дагестан</th>\n",
       "      <td>0.027050</td>\n",
       "    </tr>\n",
       "    <tr>\n",
       "      <th>Ивановская область</th>\n",
       "      <td>0.026153</td>\n",
       "    </tr>\n",
       "    <tr>\n",
       "      <th>Республика Крым</th>\n",
       "      <td>0.023122</td>\n",
       "    </tr>\n",
       "    <tr>\n",
       "      <th>Казахстан</th>\n",
       "      <td>0.000000</td>\n",
       "    </tr>\n",
       "  </tbody>\n",
       "</table>\n",
       "<p>86 rows × 1 columns</p>\n",
       "</div>"
      ],
      "text/plain": [
       "                                             grant\n",
       "regionName                                        \n",
       "Ненецкий автономный округ                 0.077889\n",
       "Санкт-Петербург                           0.071961\n",
       "Республика Алтай                          0.070365\n",
       "Москва                                    0.069670\n",
       "Ханты-Мансийский автономный округ - Югра  0.068574\n",
       "...                                            ...\n",
       "Московская область                        0.027368\n",
       "Республика Дагестан                       0.027050\n",
       "Ивановская область                        0.026153\n",
       "Республика Крым                           0.023122\n",
       "Казахстан                                 0.000000\n",
       "\n",
       "[86 rows x 1 columns]"
      ]
     },
     "execution_count": 12,
     "metadata": {},
     "output_type": "execute_result"
    }
   ],
   "source": [
    "region_grant = nko_data.groupby(['regionName'])[\n",
    "    ['grant']].mean().sort_values(by='grant', ascending=False)\n",
    "region_grant"
   ]
  },
  {
   "cell_type": "code",
   "execution_count": 13,
   "id": "ef26303a",
   "metadata": {},
   "outputs": [
    {
     "data": {
      "image/png": "[encoded data removed]",
      "text/plain": [
       "<Figure size 1296x648 with 1 Axes>"
      ]
     },
     "metadata": {
      "needs_background": "light"
     },
     "output_type": "display_data"
    }
   ],
   "source": [
    "# Задаем размер графика\n",
    "fig_2, axes_2 = plt.subplots(figsize=(18, 9))\n",
    "# определяем гистограмму распределения\n",
    "histplot_2 = sns.histplot(\n",
    "    data=nko_data, \n",
    "    x='regionCode', \n",
    "    hue='grant',\n",
    "    ax=axes_2,\n",
    "    palette=['yellow', 'blue']\n",
    ")\n",
    "histplot_2.set_title('Рис.2 - Гистограмма распределения грантов по регионам')\n",
    "histplot_2.set_ylabel('Количество организаций')\n",
    "histplot_2.set_xlabel('Регион')\n",
    "histplot_2.legend(['Получали грант', 'Не получали грант'])\n",
    "for tick in histplot_2.get_xticklabels():\n",
    "    tick.set_rotation(90)\n",
    "\n",
    "histplot_2.grid();"
   ]
  },
  {
   "cell_type": "code",
   "execution_count": 14,
   "id": "80b6f30b",
   "metadata": {},
   "outputs": [
    {
     "data": {
      "text/html": [
       "<div>\n",
       "<style scoped>\n",
       "    .dataframe tbody tr th:only-of-type {\n",
       "        vertical-align: middle;\n",
       "    }\n",
       "\n",
       "    .dataframe tbody tr th {\n",
       "        vertical-align: top;\n",
       "    }\n",
       "\n",
       "    .dataframe thead th {\n",
       "        text-align: right;\n",
       "    }\n",
       "</style>\n",
       "<table border=\"1\" class=\"dataframe\">\n",
       "  <thead>\n",
       "    <tr style=\"text-align: right;\">\n",
       "      <th></th>\n",
       "      <th>grant</th>\n",
       "    </tr>\n",
       "    <tr>\n",
       "      <th>regionCode</th>\n",
       "      <th></th>\n",
       "    </tr>\n",
       "  </thead>\n",
       "  <tbody>\n",
       "    <tr>\n",
       "      <th>83</th>\n",
       "      <td>0.077889</td>\n",
       "    </tr>\n",
       "    <tr>\n",
       "      <th>78</th>\n",
       "      <td>0.071961</td>\n",
       "    </tr>\n",
       "    <tr>\n",
       "      <th>4</th>\n",
       "      <td>0.070365</td>\n",
       "    </tr>\n",
       "    <tr>\n",
       "      <th>77</th>\n",
       "      <td>0.069670</td>\n",
       "    </tr>\n",
       "    <tr>\n",
       "      <th>86</th>\n",
       "      <td>0.068574</td>\n",
       "    </tr>\n",
       "    <tr>\n",
       "      <th>...</th>\n",
       "      <td>...</td>\n",
       "    </tr>\n",
       "    <tr>\n",
       "      <th>50</th>\n",
       "      <td>0.027368</td>\n",
       "    </tr>\n",
       "    <tr>\n",
       "      <th>5</th>\n",
       "      <td>0.027050</td>\n",
       "    </tr>\n",
       "    <tr>\n",
       "      <th>37</th>\n",
       "      <td>0.026153</td>\n",
       "    </tr>\n",
       "    <tr>\n",
       "      <th>91</th>\n",
       "      <td>0.023122</td>\n",
       "    </tr>\n",
       "    <tr>\n",
       "      <th>99</th>\n",
       "      <td>0.000000</td>\n",
       "    </tr>\n",
       "  </tbody>\n",
       "</table>\n",
       "<p>86 rows × 1 columns</p>\n",
       "</div>"
      ],
      "text/plain": [
       "               grant\n",
       "regionCode          \n",
       "83          0.077889\n",
       "78          0.071961\n",
       "4           0.070365\n",
       "77          0.069670\n",
       "86          0.068574\n",
       "...              ...\n",
       "50          0.027368\n",
       "5           0.027050\n",
       "37          0.026153\n",
       "91          0.023122\n",
       "99          0.000000\n",
       "\n",
       "[86 rows x 1 columns]"
      ]
     },
     "execution_count": 14,
     "metadata": {},
     "output_type": "execute_result"
    }
   ],
   "source": [
    "region_code_grant = nko_data.groupby(['regionCode'])[\n",
    "    ['grant']].mean().sort_values(by='grant', ascending=False)\n",
    "region_code_grant"
   ]
  },
  {
   "cell_type": "code",
   "execution_count": 15,
   "id": "232d26cb",
   "metadata": {},
   "outputs": [],
   "source": [
    "# удаляем regionName, т.к. он дублирует regionCode\n",
    "nko_data.drop(['regionName'], axis=1, inplace=True)"
   ]
  },
  {
   "cell_type": "code",
   "execution_count": 16,
   "id": "f160a250",
   "metadata": {},
   "outputs": [],
   "source": [
    "# удаляем fullName и ogrn, т.к. они уникальны для каждой организации\n",
    "nko_data.drop(['fullName', 'ogrn'], axis=1, inplace=True)"
   ]
  },
  {
   "cell_type": "markdown",
   "id": "26f657b4",
   "metadata": {},
   "source": [
    "### Работа с датами: `dateReg`, `originDate`, `dateLiquid`, `dateOgrn`, `date_reg`"
   ]
  },
  {
   "cell_type": "markdown",
   "id": "51c618af",
   "metadata": {},
   "source": [
    "Признаки `dateReg` и `dateOgrn` заполнены 0 и 1. `dateReg` - обозначает была ли зарегестрирована организация до 2002 года. `dateOgrn` - показывалит была ли зарегестрирована организация после 2002 года."
   ]
  },
  {
   "cell_type": "code",
   "execution_count": 17,
   "id": "0ec51933",
   "metadata": {},
   "outputs": [],
   "source": [
    "# удаляем originDate, т.к. он дублирует data_reg\n",
    "nko_data.drop(['originDate'], axis=1, inplace=True)"
   ]
  },
  {
   "cell_type": "markdown",
   "id": "77908109",
   "metadata": {},
   "source": [
    "`date_reg` сформирована на основании данных о регистрации компаний до 2002 года и после 2002 года, за основу взяты даты после 2002 года (то есть `dateOgrn`) и при конфликтных ситуациях бралась более свежая дата."
   ]
  },
  {
   "cell_type": "code",
   "execution_count": 18,
   "id": "2821493d",
   "metadata": {},
   "outputs": [],
   "source": [
    "#nko_df = nko_data.copy(deep=True)"
   ]
  },
  {
   "cell_type": "code",
   "execution_count": 19,
   "id": "3907f56e",
   "metadata": {},
   "outputs": [],
   "source": [
    "#nko_data['date_reg'] = nko_df['date_reg']\n",
    "#nko_data['dateLiquid'] = nko_df['dateLiquid']"
   ]
  },
  {
   "cell_type": "markdown",
   "id": "f545aed7",
   "metadata": {},
   "source": [
    "Есть организации, которые при изменении порядка регистрации, ликвидировали и в тот же день заново зарегистрировали компанию. Поэтому при вичисление срока жизни организации можно посчитать, что орагнизация проработала 0 дней. Для таких организаций не стали учитывать дату ликвидации, считая, что они работаю до сих пор."
   ]
  },
  {
   "cell_type": "code",
   "execution_count": 20,
   "id": "8e81daa8",
   "metadata": {},
   "outputs": [],
   "source": [
    "nko_data.loc[(nko_data['dateReg'] == 1) & (nko_data['dateOgrn']\n",
    "                                           == 1), 'dateLiquid'] = '2022-08-01T00:00:00.000Z'"
   ]
  },
  {
   "cell_type": "code",
   "execution_count": 21,
   "id": "7fa5e55a",
   "metadata": {},
   "outputs": [
    {
     "data": {
      "application/vnd.jupyter.widget-view+json": {
       "model_id": "57590877cbb647c69d07490a182b1161",
       "version_major": 2,
       "version_minor": 0
      },
      "text/plain": [
       "Pandas Apply:   0%|          | 0/747034 [00:00<?, ?it/s]"
      ]
     },
     "metadata": {},
     "output_type": "display_data"
    },
    {
     "data": {
      "application/vnd.jupyter.widget-view+json": {
       "model_id": "ac3031b72a3e4bd69ae87bc2933efa48",
       "version_major": 2,
       "version_minor": 0
      },
      "text/plain": [
       "Pandas Apply:   0%|          | 0/747034 [00:00<?, ?it/s]"
      ]
     },
     "metadata": {},
     "output_type": "display_data"
    },
    {
     "data": {
      "application/vnd.jupyter.widget-view+json": {
       "model_id": "c3779f091de8456e837903c60166dbe6",
       "version_major": 2,
       "version_minor": 0
      },
      "text/plain": [
       "Pandas Apply:   0%|          | 0/747034 [00:00<?, ?it/s]"
      ]
     },
     "metadata": {},
     "output_type": "display_data"
    }
   ],
   "source": [
    "# приведем даты к типу datetime\n",
    "nko_data['date_reg'] = nko_data['date_reg'].swifter.apply(\n",
    "        lambda x: parse(x, fuzzy=True))\n",
    "\n",
    "nko_data['dateLiquid'] = nko_data['dateLiquid'].swifter.apply(\n",
    "        lambda x: '2022-08-01T00:00:00.000Z' if x == 'not data' else x)\n",
    "nko_data['dateLiquid'] = nko_data['dateLiquid'].swifter.apply(\n",
    "        lambda x: parse(x, fuzzy=True))"
   ]
  },
  {
   "cell_type": "code",
   "execution_count": 22,
   "id": "0cf02e15",
   "metadata": {},
   "outputs": [
    {
     "data": {
      "application/vnd.jupyter.widget-view+json": {
       "model_id": "eff6a21d534e429da231175e2ac5b4d0",
       "version_major": 2,
       "version_minor": 0
      },
      "text/plain": [
       "Dask Apply:   0%|          | 0/16 [00:00<?, ?it/s]"
      ]
     },
     "metadata": {},
     "output_type": "display_data"
    }
   ],
   "source": [
    "nko_data['date_reg'] = pd.to_datetime(nko_data['date_reg'])\n",
    "nko_data['date_reg'] = nko_data['date_reg'].swifter.apply(\n",
    "    lambda x: datetime.datetime.date(x))"
   ]
  },
  {
   "cell_type": "code",
   "execution_count": 23,
   "id": "35230454",
   "metadata": {},
   "outputs": [
    {
     "data": {
      "application/vnd.jupyter.widget-view+json": {
       "model_id": "9c86a0e296c94bdca1eea08b73182f08",
       "version_major": 2,
       "version_minor": 0
      },
      "text/plain": [
       "Dask Apply:   0%|          | 0/16 [00:00<?, ?it/s]"
      ]
     },
     "metadata": {},
     "output_type": "display_data"
    }
   ],
   "source": [
    "nko_data['dateLiquid'] = pd.to_datetime(nko_data['dateLiquid'])\n",
    "nko_data['dateLiquid'] = nko_data['dateLiquid'].swifter.apply(\n",
    "    lambda x: datetime.datetime.date(x))"
   ]
  },
  {
   "cell_type": "code",
   "execution_count": 24,
   "id": "000da5ac",
   "metadata": {
    "scrolled": true
   },
   "outputs": [
    {
     "data": {
      "application/vnd.jupyter.widget-view+json": {
       "model_id": "e1c99eb42b574332a67a2b909de66bef",
       "version_major": 2,
       "version_minor": 0
      },
      "text/plain": [
       "Dask Apply:   0%|          | 0/16 [00:00<?, ?it/s]"
      ]
     },
     "metadata": {},
     "output_type": "display_data"
    }
   ],
   "source": [
    "nko_data['nko_live'] = nko_data['dateLiquid'] - nko_data['date_reg']\n",
    "nko_data['nko_live'] = nko_data['nko_live'].swifter.apply(lambda x: x.days)"
   ]
  },
  {
   "cell_type": "code",
   "execution_count": 25,
   "id": "ae214f87",
   "metadata": {},
   "outputs": [],
   "source": [
    "nko_data = nko_data[nko_data['nko_live'] >= 0]"
   ]
  },
  {
   "cell_type": "code",
   "execution_count": 26,
   "id": "65dfa8fb",
   "metadata": {},
   "outputs": [
    {
     "data": {
      "application/vnd.jupyter.widget-view+json": {
       "model_id": "fb908533b14d4519a3a5e23c67003ff9",
       "version_major": 2,
       "version_minor": 0
      },
      "text/plain": [
       "Pandas Apply:   0%|          | 0/747030 [00:00<?, ?it/s]"
      ]
     },
     "metadata": {},
     "output_type": "display_data"
    }
   ],
   "source": [
    "nko_data['year_reg'] = nko_data['date_reg'].swifter.apply(lambda x: x.year/365)"
   ]
  },
  {
   "cell_type": "code",
   "execution_count": 27,
   "id": "0cf14dbe",
   "metadata": {},
   "outputs": [
    {
     "data": {
      "image/png": "[encoded data removed]",
      "text/plain": [
       "<Figure size 1296x648 with 1 Axes>"
      ]
     },
     "metadata": {
      "needs_background": "light"
     },
     "output_type": "display_data"
    }
   ],
   "source": [
    "# Задаем размер графика\n",
    "fig_3, axes_3 = plt.subplots(figsize=(18, 9))\n",
    "# определяем гистограмму распределения\n",
    "histplot_3 = sns.histplot(\n",
    "    data=nko_data, \n",
    "    x='nko_live', \n",
    "    hue='grant',\n",
    "    ax=axes_3,\n",
    "    palette=['yellow', 'blue']\n",
    ")\n",
    "histplot_3.set_title('Рис.3 - Гистограмма распределения грантов по времени существования организации')\n",
    "histplot_3.set_ylabel('Количество грантов')\n",
    "histplot_3.set_xlabel('Время жизни организации')\n",
    "histplot_3.legend(['Получали грант', 'Не получали грант'])\n",
    "#for tick in histplot.get_xticklabels():\n",
    "#    tick.set_rotation(90)\n",
    "\n",
    "histplot_3.grid();"
   ]
  },
  {
   "cell_type": "code",
   "execution_count": 28,
   "id": "01ce5266",
   "metadata": {},
   "outputs": [],
   "source": [
    "# удаляем dateLiquid, date_reg, т.к. они больше не нужны\n",
    "nko_data.drop(['dateLiquid', 'date_reg'], axis=1, inplace=True)"
   ]
  },
  {
   "cell_type": "markdown",
   "id": "fe7c9d4c",
   "metadata": {},
   "source": [
    "### Рассмотрим признак `minjustForm`"
   ]
  },
  {
   "cell_type": "code",
   "execution_count": 29,
   "id": "99a0c31a",
   "metadata": {},
   "outputs": [
    {
     "data": {
      "text/plain": [
       "общественная или религиозная организация                               150999\n",
       "недвижимость                                                           132950\n",
       "некоммерческие организации и фонды                                      75913\n",
       "потребительские организации                                             62872\n",
       "профессиональные и профсоюзные организации                              57656\n",
       "автономная некоммерческая организация                                   57385\n",
       "садоводческие, огороднические или дачные некоммерческие организации     41102\n",
       "религиозная организация                                                 36573\n",
       "учреждение                                                              26764\n",
       "объединения юридических лиц                                             18816\n",
       "сельскохозяйственные организации                                        12442\n",
       "общественный фонд                                                        9289\n",
       "политическая партия                                                      8319\n",
       "фонды                                                                    7008\n",
       "общественное движение                                                    6133\n",
       "частные учреждения                                                       5747\n",
       "иные некоммерческие организации                                          5544\n",
       "адвокатские и нотариальные организации                                   5274\n",
       "ассоциации (союзы)                                                       5164\n",
       "кредитные                                                                5068\n",
       "казачьи объединения                                                      3804\n",
       "территориальное общественное самоуправление                              3101\n",
       "малочисленные народы                                                     2800\n",
       "культура                                                                 2517\n",
       "благотворительные организации и фонды                                    1462\n",
       "государственные                                                          1460\n",
       "пенсионный фонд                                                           404\n",
       "объединение предприятий                                                   168\n",
       "общества взаимного страхования                                            111\n",
       "образовательные                                                            99\n",
       "торгово-промышленная палата                                                86\n",
       "Name: minjustForm, dtype: int64"
      ]
     },
     "execution_count": 29,
     "metadata": {},
     "output_type": "execute_result"
    }
   ],
   "source": [
    "nko_data['minjustForm'].value_counts()"
   ]
  },
  {
   "cell_type": "code",
   "execution_count": 30,
   "id": "51e1831f",
   "metadata": {},
   "outputs": [
    {
     "data": {
      "image/png": "[encoded data removed]",
      "text/plain": [
       "<Figure size 1296x648 with 1 Axes>"
      ]
     },
     "metadata": {
      "needs_background": "light"
     },
     "output_type": "display_data"
    }
   ],
   "source": [
    "# Задаем размер графика\n",
    "fig_4, axes_4 = plt.subplots(figsize=(18, 9))\n",
    "# определяем гистограмму распределения\n",
    "histplot_4 = sns.histplot(\n",
    "    data=nko_data, \n",
    "    x='minjustForm', \n",
    "    hue='grant',\n",
    "    ax=axes_4,\n",
    "    palette=['yellow', 'blue']\n",
    ")\n",
    "histplot_4.set_title('Рис.4 - Гистограмма распределения грантов по организациям')\n",
    "histplot_4.set_ylabel('Количество грантов')\n",
    "histplot_4.set_xlabel('Организации')\n",
    "histplot_4.legend(['Получали грант', 'Не получали грант'])\n",
    "for tick in histplot_4.get_xticklabels():\n",
    "    tick.set_rotation(90)\n",
    "\n",
    "histplot_4.grid();"
   ]
  },
  {
   "cell_type": "code",
   "execution_count": 31,
   "id": "e25b14e8",
   "metadata": {},
   "outputs": [
    {
     "data": {
      "text/html": [
       "<div>\n",
       "<style scoped>\n",
       "    .dataframe tbody tr th:only-of-type {\n",
       "        vertical-align: middle;\n",
       "    }\n",
       "\n",
       "    .dataframe tbody tr th {\n",
       "        vertical-align: top;\n",
       "    }\n",
       "\n",
       "    .dataframe thead th {\n",
       "        text-align: right;\n",
       "    }\n",
       "</style>\n",
       "<table border=\"1\" class=\"dataframe\">\n",
       "  <thead>\n",
       "    <tr style=\"text-align: right;\">\n",
       "      <th></th>\n",
       "      <th>grant</th>\n",
       "    </tr>\n",
       "    <tr>\n",
       "      <th>minjustForm</th>\n",
       "      <th></th>\n",
       "    </tr>\n",
       "  </thead>\n",
       "  <tbody>\n",
       "    <tr>\n",
       "      <th>торгово-промышленная палата</th>\n",
       "      <td>0.488372</td>\n",
       "    </tr>\n",
       "    <tr>\n",
       "      <th>государственные</th>\n",
       "      <td>0.200000</td>\n",
       "    </tr>\n",
       "    <tr>\n",
       "      <th>учреждение</th>\n",
       "      <td>0.186108</td>\n",
       "    </tr>\n",
       "    <tr>\n",
       "      <th>автономная некоммерческая организация</th>\n",
       "      <td>0.125155</td>\n",
       "    </tr>\n",
       "    <tr>\n",
       "      <th>объединения юридических лиц</th>\n",
       "      <td>0.063722</td>\n",
       "    </tr>\n",
       "    <tr>\n",
       "      <th>казачьи объединения</th>\n",
       "      <td>0.060200</td>\n",
       "    </tr>\n",
       "    <tr>\n",
       "      <th>общественная или религиозная организация</th>\n",
       "      <td>0.057053</td>\n",
       "    </tr>\n",
       "    <tr>\n",
       "      <th>сельскохозяйственные организации</th>\n",
       "      <td>0.056100</td>\n",
       "    </tr>\n",
       "    <tr>\n",
       "      <th>некоммерческие организации и фонды</th>\n",
       "      <td>0.054865</td>\n",
       "    </tr>\n",
       "    <tr>\n",
       "      <th>культура</th>\n",
       "      <td>0.052046</td>\n",
       "    </tr>\n",
       "    <tr>\n",
       "      <th>адвокатские и нотариальные организации</th>\n",
       "      <td>0.051574</td>\n",
       "    </tr>\n",
       "    <tr>\n",
       "      <th>общественное движение</th>\n",
       "      <td>0.044350</td>\n",
       "    </tr>\n",
       "    <tr>\n",
       "      <th>благотворительные организации и фонды</th>\n",
       "      <td>0.043092</td>\n",
       "    </tr>\n",
       "    <tr>\n",
       "      <th>общественный фонд</th>\n",
       "      <td>0.041232</td>\n",
       "    </tr>\n",
       "    <tr>\n",
       "      <th>территориальное общественное самоуправление</th>\n",
       "      <td>0.040955</td>\n",
       "    </tr>\n",
       "    <tr>\n",
       "      <th>образовательные</th>\n",
       "      <td>0.040404</td>\n",
       "    </tr>\n",
       "    <tr>\n",
       "      <th>общества взаимного страхования</th>\n",
       "      <td>0.036036</td>\n",
       "    </tr>\n",
       "    <tr>\n",
       "      <th>малочисленные народы</th>\n",
       "      <td>0.029643</td>\n",
       "    </tr>\n",
       "    <tr>\n",
       "      <th>ассоциации (союзы)</th>\n",
       "      <td>0.028854</td>\n",
       "    </tr>\n",
       "    <tr>\n",
       "      <th>частные учреждения</th>\n",
       "      <td>0.028189</td>\n",
       "    </tr>\n",
       "    <tr>\n",
       "      <th>пенсионный фонд</th>\n",
       "      <td>0.027228</td>\n",
       "    </tr>\n",
       "    <tr>\n",
       "      <th>потребительские организации</th>\n",
       "      <td>0.026960</td>\n",
       "    </tr>\n",
       "    <tr>\n",
       "      <th>недвижимость</th>\n",
       "      <td>0.017405</td>\n",
       "    </tr>\n",
       "    <tr>\n",
       "      <th>религиозная организация</th>\n",
       "      <td>0.014191</td>\n",
       "    </tr>\n",
       "    <tr>\n",
       "      <th>фонды</th>\n",
       "      <td>0.008990</td>\n",
       "    </tr>\n",
       "    <tr>\n",
       "      <th>профессиональные и профсоюзные организации</th>\n",
       "      <td>0.008343</td>\n",
       "    </tr>\n",
       "    <tr>\n",
       "      <th>иные некоммерческие организации</th>\n",
       "      <td>0.007937</td>\n",
       "    </tr>\n",
       "    <tr>\n",
       "      <th>объединение предприятий</th>\n",
       "      <td>0.005952</td>\n",
       "    </tr>\n",
       "    <tr>\n",
       "      <th>кредитные</th>\n",
       "      <td>0.002368</td>\n",
       "    </tr>\n",
       "    <tr>\n",
       "      <th>садоводческие, огороднические или дачные некоммерческие организации</th>\n",
       "      <td>0.002287</td>\n",
       "    </tr>\n",
       "    <tr>\n",
       "      <th>политическая партия</th>\n",
       "      <td>0.002164</td>\n",
       "    </tr>\n",
       "  </tbody>\n",
       "</table>\n",
       "</div>"
      ],
      "text/plain": [
       "                                                                        grant\n",
       "minjustForm                                                                  \n",
       "торгово-промышленная палата                                          0.488372\n",
       "государственные                                                      0.200000\n",
       "учреждение                                                           0.186108\n",
       "автономная некоммерческая организация                                0.125155\n",
       "объединения юридических лиц                                          0.063722\n",
       "казачьи объединения                                                  0.060200\n",
       "общественная или религиозная организация                             0.057053\n",
       "сельскохозяйственные организации                                     0.056100\n",
       "некоммерческие организации и фонды                                   0.054865\n",
       "культура                                                             0.052046\n",
       "адвокатские и нотариальные организации                               0.051574\n",
       "общественное движение                                                0.044350\n",
       "благотворительные организации и фонды                                0.043092\n",
       "общественный фонд                                                    0.041232\n",
       "территориальное общественное самоуправление                          0.040955\n",
       "образовательные                                                      0.040404\n",
       "общества взаимного страхования                                       0.036036\n",
       "малочисленные народы                                                 0.029643\n",
       "ассоциации (союзы)                                                   0.028854\n",
       "частные учреждения                                                   0.028189\n",
       "пенсионный фонд                                                      0.027228\n",
       "потребительские организации                                          0.026960\n",
       "недвижимость                                                         0.017405\n",
       "религиозная организация                                              0.014191\n",
       "фонды                                                                0.008990\n",
       "профессиональные и профсоюзные организации                           0.008343\n",
       "иные некоммерческие организации                                      0.007937\n",
       "объединение предприятий                                              0.005952\n",
       "кредитные                                                            0.002368\n",
       "садоводческие, огороднические или дачные некоммерческие организации  0.002287\n",
       "политическая партия                                                  0.002164"
      ]
     },
     "execution_count": 31,
     "metadata": {},
     "output_type": "execute_result"
    }
   ],
   "source": [
    "minjustForm_grant = nko_data.groupby(['minjustForm'])[\n",
    "    ['grant']].mean().sort_values(by='grant', ascending=False)\n",
    "minjustForm_grant"
   ]
  },
  {
   "cell_type": "markdown",
   "id": "20e314d1",
   "metadata": {},
   "source": [
    "### Рассмотрим признак `egrulStatus`"
   ]
  },
  {
   "cell_type": "code",
   "execution_count": 32,
   "id": "a10207e2",
   "metadata": {},
   "outputs": [
    {
     "data": {
      "text/plain": [
       "Ликвидирована    406130\n",
       "Действует        340900\n",
       "Name: egrulStatus, dtype: int64"
      ]
     },
     "execution_count": 32,
     "metadata": {},
     "output_type": "execute_result"
    }
   ],
   "source": [
    "nko_data['egrulStatus'].value_counts()"
   ]
  },
  {
   "cell_type": "code",
   "execution_count": 33,
   "id": "b367bfbb",
   "metadata": {},
   "outputs": [
    {
     "data": {
      "image/png": "[encoded data removed]",
      "text/plain": [
       "<Figure size 1296x648 with 1 Axes>"
      ]
     },
     "metadata": {
      "needs_background": "light"
     },
     "output_type": "display_data"
    }
   ],
   "source": [
    "# Задаем размер графика\n",
    "fig_5, axes_5 = plt.subplots(figsize=(18, 9))\n",
    "# определяем гистограмму распределения\n",
    "histplot_5 = sns.histplot(\n",
    "    data=nko_data, \n",
    "    x='egrulStatus', \n",
    "    hue='grant',\n",
    "    ax=axes_5,\n",
    "    palette=['yellow', 'blue']\n",
    ")\n",
    "histplot_5.set_title('Рис.5 - Гистограмма распределения грантов от статуса ЕГРЮЛ организации')\n",
    "histplot_5.set_ylabel('Количество грантов')\n",
    "histplot_5.set_xlabel('Статус ЕГРЮЛ орагнизации')\n",
    "histplot_5.legend(['Получали грант', 'Не получали грант'])\n",
    "#for tick in histplot_5.get_xticklabels():\n",
    "#    tick.set_rotation(90)\n",
    "\n",
    "histplot_5.grid();"
   ]
  },
  {
   "cell_type": "code",
   "execution_count": 34,
   "id": "3f55fd82",
   "metadata": {},
   "outputs": [
    {
     "data": {
      "text/html": [
       "<div>\n",
       "<style scoped>\n",
       "    .dataframe tbody tr th:only-of-type {\n",
       "        vertical-align: middle;\n",
       "    }\n",
       "\n",
       "    .dataframe tbody tr th {\n",
       "        vertical-align: top;\n",
       "    }\n",
       "\n",
       "    .dataframe thead th {\n",
       "        text-align: right;\n",
       "    }\n",
       "</style>\n",
       "<table border=\"1\" class=\"dataframe\">\n",
       "  <thead>\n",
       "    <tr style=\"text-align: right;\">\n",
       "      <th></th>\n",
       "      <th>grant</th>\n",
       "    </tr>\n",
       "    <tr>\n",
       "      <th>egrulStatus</th>\n",
       "      <th></th>\n",
       "    </tr>\n",
       "  </thead>\n",
       "  <tbody>\n",
       "    <tr>\n",
       "      <th>Действует</th>\n",
       "      <td>0.086254</td>\n",
       "    </tr>\n",
       "    <tr>\n",
       "      <th>Ликвидирована</th>\n",
       "      <td>0.012068</td>\n",
       "    </tr>\n",
       "  </tbody>\n",
       "</table>\n",
       "</div>"
      ],
      "text/plain": [
       "                  grant\n",
       "egrulStatus            \n",
       "Действует      0.086254\n",
       "Ликвидирована  0.012068"
      ]
     },
     "execution_count": 34,
     "metadata": {},
     "output_type": "execute_result"
    }
   ],
   "source": [
    "egrulStatus_grant = nko_data.groupby(['egrulStatus'])[\n",
    "    ['grant']].mean().sort_values(by='grant', ascending=False)\n",
    "egrulStatus_grant"
   ]
  },
  {
   "cell_type": "code",
   "execution_count": 35,
   "id": "a0e4d4a9",
   "metadata": {},
   "outputs": [],
   "source": [
    "# преобразуем, для последующей работы с МО\n",
    "nko_data['egrulStatus'] = nko_data['egrulStatus'].map(\n",
    "    {'Действует': 1, 'Ликвидирована': 0})"
   ]
  },
  {
   "cell_type": "markdown",
   "id": "e45d0f94",
   "metadata": {},
   "source": [
    "### Рассмотрим признак `hasRegionalSupport`"
   ]
  },
  {
   "cell_type": "code",
   "execution_count": 36,
   "id": "737318c7",
   "metadata": {},
   "outputs": [
    {
     "data": {
      "text/plain": [
       "False    735765\n",
       "True      11265\n",
       "Name: hasRegionalSupport, dtype: int64"
      ]
     },
     "execution_count": 36,
     "metadata": {},
     "output_type": "execute_result"
    }
   ],
   "source": [
    "nko_data['hasRegionalSupport'].value_counts()"
   ]
  },
  {
   "cell_type": "code",
   "execution_count": 37,
   "id": "d75880db",
   "metadata": {},
   "outputs": [
    {
     "data": {
      "text/html": [
       "<div>\n",
       "<style scoped>\n",
       "    .dataframe tbody tr th:only-of-type {\n",
       "        vertical-align: middle;\n",
       "    }\n",
       "\n",
       "    .dataframe tbody tr th {\n",
       "        vertical-align: top;\n",
       "    }\n",
       "\n",
       "    .dataframe thead th {\n",
       "        text-align: right;\n",
       "    }\n",
       "</style>\n",
       "<table border=\"1\" class=\"dataframe\">\n",
       "  <thead>\n",
       "    <tr style=\"text-align: right;\">\n",
       "      <th></th>\n",
       "      <th>grant</th>\n",
       "    </tr>\n",
       "    <tr>\n",
       "      <th>hasRegionalSupport</th>\n",
       "      <th></th>\n",
       "    </tr>\n",
       "  </thead>\n",
       "  <tbody>\n",
       "    <tr>\n",
       "      <th>True</th>\n",
       "      <td>0.410475</td>\n",
       "    </tr>\n",
       "    <tr>\n",
       "      <th>False</th>\n",
       "      <td>0.040340</td>\n",
       "    </tr>\n",
       "  </tbody>\n",
       "</table>\n",
       "</div>"
      ],
      "text/plain": [
       "                       grant\n",
       "hasRegionalSupport          \n",
       "True                0.410475\n",
       "False               0.040340"
      ]
     },
     "execution_count": 37,
     "metadata": {},
     "output_type": "execute_result"
    }
   ],
   "source": [
    "regSup_grant = nko_data.groupby(['hasRegionalSupport'])[\n",
    "    ['grant']].mean().sort_values(by='grant', ascending=False)\n",
    "regSup_grant"
   ]
  },
  {
   "cell_type": "code",
   "execution_count": 38,
   "id": "bdc91210",
   "metadata": {},
   "outputs": [],
   "source": [
    "# преобразуем, для последующей работы с МО\n",
    "nko_data['hasRegionalSupport'] = nko_data['hasRegionalSupport'].map(\n",
    "    {True: 1, False: 0})"
   ]
  },
  {
   "cell_type": "markdown",
   "id": "938d8eff",
   "metadata": {},
   "source": [
    "### Рассмотрим признак `incomeTotal`"
   ]
  },
  {
   "cell_type": "code",
   "execution_count": 42,
   "id": "372be18c",
   "metadata": {},
   "outputs": [
    {
     "data": {
      "text/plain": [
       "614721          0.00\n",
       "354882          0.00\n",
       "254713          0.00\n",
       "706177          0.00\n",
       "339672    8443809.86\n",
       "622084          0.00\n",
       "693617          0.00\n",
       "208861          0.00\n",
       "590655          0.00\n",
       "47045           0.00\n",
       "Name: incomeTotal, dtype: float64"
      ]
     },
     "execution_count": 42,
     "metadata": {},
     "output_type": "execute_result"
    }
   ],
   "source": [
    "nko_data['incomeTotal'].sample(10)"
   ]
  },
  {
   "cell_type": "markdown",
   "id": "b9753c2b",
   "metadata": {},
   "source": [
    "Разброс в признаке сишком большой, поэтому логарифмируем признак"
   ]
  },
  {
   "cell_type": "code",
   "execution_count": 40,
   "id": "a565c6e5",
   "metadata": {},
   "outputs": [
    {
     "data": {
      "image/png": "[encoded data removed]",
      "text/plain": [
       "<Figure size 864x432 with 1 Axes>"
      ]
     },
     "metadata": {
      "needs_background": "light"
     },
     "output_type": "display_data"
    }
   ],
   "source": [
    "# добавим логарифмированный признак\n",
    "nko_data['log_incomeTotal'] = np.log(nko_data.incomeTotal + 1)\n",
    "\n",
    "sns.distplot(nko_data['log_incomeTotal'])\n",
    "plt.title('Рис.6 - Логарифмированная сумма грантов/ гос.контрактов')\n",
    "plt.show();"
   ]
  },
  {
   "cell_type": "code",
   "execution_count": 43,
   "id": "b37662f9",
   "metadata": {},
   "outputs": [],
   "source": [
    "# удаляем incomeTotal\n",
    "nko_data.drop(['incomeTotal'], axis=1, inplace=True)"
   ]
  },
  {
   "cell_type": "markdown",
   "id": "30681053",
   "metadata": {},
   "source": [
    "### Рассмотрим признак `opf_code`"
   ]
  },
  {
   "cell_type": "code",
   "execution_count": 44,
   "id": "ecdf0730",
   "metadata": {},
   "outputs": [],
   "source": [
    "nko_data['opf_code'].fillna(0, inplace=True)\n",
    "nko_data['opf_code'] = nko_data['opf_code'].astype(int)"
   ]
  },
  {
   "cell_type": "code",
   "execution_count": 45,
   "id": "a36ea3ae",
   "metadata": {},
   "outputs": [
    {
     "data": {
      "text/plain": [
       "20200    75444\n",
       "83       72797\n",
       "20101    49868\n",
       "71400    46107\n",
       "0        45209\n",
       "         ...  \n",
       "56           1\n",
       "61           1\n",
       "14155        1\n",
       "68           1\n",
       "65000        1\n",
       "Name: opf_code, Length: 159, dtype: int64"
      ]
     },
     "execution_count": 45,
     "metadata": {},
     "output_type": "execute_result"
    }
   ],
   "source": [
    "nko_data['opf_code'].value_counts()"
   ]
  },
  {
   "cell_type": "code",
   "execution_count": 46,
   "id": "130b837f",
   "metadata": {},
   "outputs": [
    {
     "data": {
      "image/png": "[encoded data removed]",
      "text/plain": [
       "<Figure size 1296x648 with 1 Axes>"
      ]
     },
     "metadata": {
      "needs_background": "light"
     },
     "output_type": "display_data"
    }
   ],
   "source": [
    "# Задаем размер графика\n",
    "fig_7, axes_7 = plt.subplots(figsize=(18, 9))\n",
    "# определяем гистограмму распределения\n",
    "histplot_7 = sns.histplot(\n",
    "    data=nko_data, \n",
    "    x='opf_code', \n",
    "    hue='grant',\n",
    "    ax=axes_7,\n",
    "    palette=['yellow', 'blue']\n",
    ")\n",
    "histplot_7.set_title('Рис.5 - Гистограмма распределения грантов по коду ОПФ')\n",
    "histplot_7.set_ylabel('Количество грантов')\n",
    "histplot_7.set_xlabel('Код ОПФ')\n",
    "histplot_7.legend(['Получали грант', 'Не получали грант'])\n",
    "for tick in histplot_7.get_xticklabels():\n",
    "    tick.set_rotation(90)\n",
    "\n",
    "histplot_7.grid();"
   ]
  },
  {
   "cell_type": "code",
   "execution_count": 47,
   "id": "686846d4",
   "metadata": {},
   "outputs": [
    {
     "data": {
      "text/html": [
       "<div>\n",
       "<style scoped>\n",
       "    .dataframe tbody tr th:only-of-type {\n",
       "        vertical-align: middle;\n",
       "    }\n",
       "\n",
       "    .dataframe tbody tr th {\n",
       "        vertical-align: top;\n",
       "    }\n",
       "\n",
       "    .dataframe thead th {\n",
       "        text-align: right;\n",
       "    }\n",
       "</style>\n",
       "<table border=\"1\" class=\"dataframe\">\n",
       "  <thead>\n",
       "    <tr style=\"text-align: right;\">\n",
       "      <th></th>\n",
       "      <th>grant</th>\n",
       "    </tr>\n",
       "    <tr>\n",
       "      <th>opf_code</th>\n",
       "      <th></th>\n",
       "    </tr>\n",
       "  </thead>\n",
       "  <tbody>\n",
       "    <tr>\n",
       "      <th>75204</th>\n",
       "      <td>1.000000</td>\n",
       "    </tr>\n",
       "    <tr>\n",
       "      <th>75300</th>\n",
       "      <td>1.000000</td>\n",
       "    </tr>\n",
       "    <tr>\n",
       "      <th>65243</th>\n",
       "      <td>0.666667</td>\n",
       "    </tr>\n",
       "    <tr>\n",
       "      <th>75201</th>\n",
       "      <td>0.600000</td>\n",
       "    </tr>\n",
       "    <tr>\n",
       "      <th>20611</th>\n",
       "      <td>0.588235</td>\n",
       "    </tr>\n",
       "    <tr>\n",
       "      <th>65242</th>\n",
       "      <td>0.500000</td>\n",
       "    </tr>\n",
       "    <tr>\n",
       "      <th>75104</th>\n",
       "      <td>0.400000</td>\n",
       "    </tr>\n",
       "    <tr>\n",
       "      <th>75103</th>\n",
       "      <td>0.366667</td>\n",
       "    </tr>\n",
       "    <tr>\n",
       "      <th>75203</th>\n",
       "      <td>0.315789</td>\n",
       "    </tr>\n",
       "    <tr>\n",
       "      <th>75401</th>\n",
       "      <td>0.307692</td>\n",
       "    </tr>\n",
       "  </tbody>\n",
       "</table>\n",
       "</div>"
      ],
      "text/plain": [
       "             grant\n",
       "opf_code          \n",
       "75204     1.000000\n",
       "75300     1.000000\n",
       "65243     0.666667\n",
       "75201     0.600000\n",
       "20611     0.588235\n",
       "65242     0.500000\n",
       "75104     0.400000\n",
       "75103     0.366667\n",
       "75203     0.315789\n",
       "75401     0.307692"
      ]
     },
     "execution_count": 47,
     "metadata": {},
     "output_type": "execute_result"
    }
   ],
   "source": [
    "opf_code_grant = nko_data.groupby(['opf_code'])[\n",
    "    ['grant']].mean().sort_values(by='grant', ascending=False)\n",
    "opf_code_grant.head(10)"
   ]
  },
  {
   "cell_type": "code",
   "execution_count": 48,
   "id": "0bed87d4",
   "metadata": {},
   "outputs": [],
   "source": [
    "# удаляем opf_name\n",
    "nko_data.drop(['opf_name'], axis=1, inplace=True)"
   ]
  },
  {
   "cell_type": "markdown",
   "id": "5c1b231a",
   "metadata": {},
   "source": [
    "### Рассмотрим признак `mainOkved_code` и `mainOkved_name`"
   ]
  },
  {
   "cell_type": "code",
   "execution_count": 49,
   "id": "85dfd33b",
   "metadata": {},
   "outputs": [
    {
     "data": {
      "text/plain": [
       "94.99       76871\n",
       "52.21.24    38247\n",
       "94.91       31456\n",
       "68.32.1     29643\n",
       "91.33       24328\n",
       "            ...  \n",
       "46.33.2         1\n",
       "65.12.1         1\n",
       "64.11.14        1\n",
       "64.91.2         1\n",
       "28.72           1\n",
       "Name: mainOkved_code, Length: 2040, dtype: int64"
      ]
     },
     "execution_count": 49,
     "metadata": {},
     "output_type": "execute_result"
    }
   ],
   "source": [
    "nko_data['mainOkved_code'].value_counts()"
   ]
  },
  {
   "cell_type": "code",
   "execution_count": 50,
   "id": "f5bf7cc3",
   "metadata": {},
   "outputs": [],
   "source": [
    "nko_data['mainOkved_code'].fillna('0', inplace=True)"
   ]
  },
  {
   "cell_type": "code",
   "execution_count": 51,
   "id": "755991b7",
   "metadata": {},
   "outputs": [
    {
     "data": {
      "text/plain": [
       "0           204677\n",
       "94.99        76871\n",
       "52.21.24     38247\n",
       "94.91        31456\n",
       "68.32.1      29643\n",
       "91.33        24328\n",
       "68.32.2      22989\n",
       "68.32        20858\n",
       "70.32.1      19131\n",
       "94.20        18320\n",
       "Name: mainOkved_code, dtype: int64"
      ]
     },
     "execution_count": 51,
     "metadata": {},
     "output_type": "execute_result"
    }
   ],
   "source": [
    "nko_data['mainOkved_code'].value_counts()[:10]"
   ]
  },
  {
   "cell_type": "code",
   "execution_count": 54,
   "id": "721fd6da",
   "metadata": {},
   "outputs": [
    {
     "data": {
      "text/html": [
       "<div>\n",
       "<style scoped>\n",
       "    .dataframe tbody tr th:only-of-type {\n",
       "        vertical-align: middle;\n",
       "    }\n",
       "\n",
       "    .dataframe tbody tr th {\n",
       "        vertical-align: top;\n",
       "    }\n",
       "\n",
       "    .dataframe thead th {\n",
       "        text-align: right;\n",
       "    }\n",
       "</style>\n",
       "<table border=\"1\" class=\"dataframe\">\n",
       "  <thead>\n",
       "    <tr style=\"text-align: right;\">\n",
       "      <th></th>\n",
       "      <th>grant</th>\n",
       "    </tr>\n",
       "    <tr>\n",
       "      <th>mainOkved_code</th>\n",
       "      <th></th>\n",
       "    </tr>\n",
       "  </thead>\n",
       "  <tbody>\n",
       "    <tr>\n",
       "      <th>60.24.2</th>\n",
       "      <td>0.000000</td>\n",
       "    </tr>\n",
       "    <tr>\n",
       "      <th>46.18</th>\n",
       "      <td>0.000000</td>\n",
       "    </tr>\n",
       "    <tr>\n",
       "      <th>46.21.19</th>\n",
       "      <td>0.060000</td>\n",
       "    </tr>\n",
       "    <tr>\n",
       "      <th>71.12.63</th>\n",
       "      <td>0.071429</td>\n",
       "    </tr>\n",
       "    <tr>\n",
       "      <th>67.20.3</th>\n",
       "      <td>0.000000</td>\n",
       "    </tr>\n",
       "    <tr>\n",
       "      <th>47.19</th>\n",
       "      <td>0.345725</td>\n",
       "    </tr>\n",
       "    <tr>\n",
       "      <th>35.11</th>\n",
       "      <td>0.030303</td>\n",
       "    </tr>\n",
       "    <tr>\n",
       "      <th>16.1</th>\n",
       "      <td>0.000000</td>\n",
       "    </tr>\n",
       "    <tr>\n",
       "      <th>01.16.3</th>\n",
       "      <td>0.000000</td>\n",
       "    </tr>\n",
       "    <tr>\n",
       "      <th>74.15</th>\n",
       "      <td>0.000000</td>\n",
       "    </tr>\n",
       "  </tbody>\n",
       "</table>\n",
       "</div>"
      ],
      "text/plain": [
       "                   grant\n",
       "mainOkved_code          \n",
       "60.24.2         0.000000\n",
       "46.18           0.000000\n",
       "46.21.19        0.060000\n",
       "71.12.63        0.071429\n",
       "67.20.3         0.000000\n",
       "47.19           0.345725\n",
       "35.11           0.030303\n",
       "16.1            0.000000\n",
       "01.16.3         0.000000\n",
       "74.15           0.000000"
      ]
     },
     "execution_count": 54,
     "metadata": {},
     "output_type": "execute_result"
    }
   ],
   "source": [
    "mainOkved_code_grant = nko_data.groupby(['mainOkved_code'])[\n",
    "    ['grant']].mean().sort_values(by='grant', ascending=False)\n",
    "mainOkved_code_grant.sample(10)"
   ]
  },
  {
   "cell_type": "code",
   "execution_count": 55,
   "id": "5b4d683e",
   "metadata": {},
   "outputs": [
    {
     "data": {
      "text/plain": [
       "204677"
      ]
     },
     "execution_count": 55,
     "metadata": {},
     "output_type": "execute_result"
    }
   ],
   "source": [
    "nko_data['mainOkved_name'].isna().sum()"
   ]
  },
  {
   "cell_type": "code",
   "execution_count": 56,
   "id": "19b042e8",
   "metadata": {},
   "outputs": [],
   "source": [
    "nko_data['mainOkved_name'].fillna('not data', inplace=True)"
   ]
  },
  {
   "cell_type": "code",
   "execution_count": 58,
   "id": "ba8b69b5",
   "metadata": {},
   "outputs": [
    {
     "data": {
      "text/plain": [
       "not data                                                                                       204677\n",
       "Деятельность прочих общественных организаций, не включенных в другие группировки               101190\n",
       "Деятельность стоянок для транспортных средств                                                   38247\n",
       "Деятельность религиозных организаций                                                            32517\n",
       "Управление эксплуатацией жилого фонда за вознаграждение или на договорной основе                29643\n",
       "                                                                                                ...  \n",
       "Производство красок и лаков на основе полимеров                                                     1\n",
       "Оптовая торговля мукой и макаронными изделиями                                                      1\n",
       "Деятельность по оказанию прочих услуг, связанных со службой предварительных заказов                 1\n",
       "Производство передающей аппаратуры, аппаратуры для проводной телефонной и телеграфной связи         1\n",
       "Производство коммуникационного оборудования                                                         1\n",
       "Name: mainOkved_name, Length: 1927, dtype: int64"
      ]
     },
     "execution_count": 58,
     "metadata": {},
     "output_type": "execute_result"
    }
   ],
   "source": [
    "nko_data['mainOkved_name'].value_counts()"
   ]
  },
  {
   "cell_type": "code",
   "execution_count": 61,
   "id": "a2bb906f",
   "metadata": {},
   "outputs": [
    {
     "data": {
      "text/html": [
       "<div>\n",
       "<style scoped>\n",
       "    .dataframe tbody tr th:only-of-type {\n",
       "        vertical-align: middle;\n",
       "    }\n",
       "\n",
       "    .dataframe tbody tr th {\n",
       "        vertical-align: top;\n",
       "    }\n",
       "\n",
       "    .dataframe thead th {\n",
       "        text-align: right;\n",
       "    }\n",
       "</style>\n",
       "<table border=\"1\" class=\"dataframe\">\n",
       "  <thead>\n",
       "    <tr style=\"text-align: right;\">\n",
       "      <th></th>\n",
       "      <th>grant</th>\n",
       "    </tr>\n",
       "    <tr>\n",
       "      <th>mainOkved_name</th>\n",
       "      <th></th>\n",
       "    </tr>\n",
       "  </thead>\n",
       "  <tbody>\n",
       "    <tr>\n",
       "      <th>Деятельность морского транспорта</th>\n",
       "      <td>0.000000</td>\n",
       "    </tr>\n",
       "    <tr>\n",
       "      <th>Предоставление кредитов на покупку домов специализированными учреждениями, не принимающими депозиты</th>\n",
       "      <td>0.000000</td>\n",
       "    </tr>\n",
       "    <tr>\n",
       "      <th>Розничная торговля текстильными и галантерейными изделиями</th>\n",
       "      <td>0.000000</td>\n",
       "    </tr>\n",
       "    <tr>\n",
       "      <th>Деятельность, связанная со сбором, обработкой и подготовкой картографической и космической информации, включая аэросъемку</th>\n",
       "      <td>0.000000</td>\n",
       "    </tr>\n",
       "    <tr>\n",
       "      <th>Деятельность профессиональных членских организаций</th>\n",
       "      <td>0.074361</td>\n",
       "    </tr>\n",
       "    <tr>\n",
       "      <th>Деятельность морского грузового транспорта</th>\n",
       "      <td>0.000000</td>\n",
       "    </tr>\n",
       "    <tr>\n",
       "      <th>Производство готовых кормов для животных, содержащихся на фермах</th>\n",
       "      <td>0.046154</td>\n",
       "    </tr>\n",
       "    <tr>\n",
       "      <th>Производство фармацевтических субстанций</th>\n",
       "      <td>0.000000</td>\n",
       "    </tr>\n",
       "    <tr>\n",
       "      <th>Деятельность прочего сухопутного пассажирского транспорта, подчиняющегося расписанию</th>\n",
       "      <td>0.000000</td>\n",
       "    </tr>\n",
       "    <tr>\n",
       "      <th>Ремонт обуви и прочих изделий из кожи</th>\n",
       "      <td>0.000000</td>\n",
       "    </tr>\n",
       "  </tbody>\n",
       "</table>\n",
       "</div>"
      ],
      "text/plain": [
       "                                                                                                                              grant\n",
       "mainOkved_name                                                                                                                     \n",
       "Деятельность морского транспорта                                                                                           0.000000\n",
       "Предоставление кредитов на покупку домов специализированными учреждениями, не принимающими депозиты                        0.000000\n",
       "Розничная торговля текстильными и галантерейными изделиями                                                                 0.000000\n",
       "Деятельность, связанная со сбором, обработкой и подготовкой картографической и космической информации, включая аэросъемку  0.000000\n",
       "Деятельность профессиональных членских организаций                                                                         0.074361\n",
       "Деятельность морского грузового транспорта                                                                                 0.000000\n",
       "Производство готовых кормов для животных, содержащихся на фермах                                                           0.046154\n",
       "Производство фармацевтических субстанций                                                                                   0.000000\n",
       "Деятельность прочего сухопутного пассажирского транспорта, подчиняющегося расписанию                                       0.000000\n",
       "Ремонт обуви и прочих изделий из кожи                                                                                      0.000000"
      ]
     },
     "execution_count": 61,
     "metadata": {},
     "output_type": "execute_result"
    }
   ],
   "source": [
    "mainOkved_name_grant = nko_data.groupby(['mainOkved_name'])[\n",
    "    ['grant']].mean().sort_values(by='grant', ascending=False)\n",
    "mainOkved_name_grant.head(10)"
   ]
  },
  {
   "cell_type": "markdown",
   "id": "1ccda432",
   "metadata": {},
   "source": [
    "В признаках слишком много значений, так как мы уже обработали \"форму НКО, согласно Минюсту\". Эти признаки удаляем."
   ]
  },
  {
   "cell_type": "code",
   "execution_count": 63,
   "id": "e50464c9",
   "metadata": {},
   "outputs": [],
   "source": [
    "# удаляем mainOkved_code', 'mainOkved_name'\n",
    "nko_data.drop(['mainOkved_code', 'mainOkved_name'], axis=1, inplace=True)"
   ]
  },
  {
   "cell_type": "code",
   "execution_count": 65,
   "id": "e34156ad",
   "metadata": {},
   "outputs": [],
   "source": [
    "# удаляем index_address, т.к. он дублирует частично код региона\n",
    "nko_data.drop(['index_address'], axis=1, inplace=True)"
   ]
  },
  {
   "cell_type": "markdown",
   "id": "16d2af5f",
   "metadata": {},
   "source": [
    "### Рассмотрим признак `okogu_name` и `okogu_code`"
   ]
  },
  {
   "cell_type": "code",
   "execution_count": 69,
   "id": "109adf4b",
   "metadata": {},
   "outputs": [
    {
     "data": {
      "text/plain": [
       "Организации, учрежденные юридическими лицами или гражданами, или юридическими лицами и гражданами совместно                                     219085\n",
       "Региональные и местные общественные объединения                                                                                                  87093\n",
       "Другие хозяйствующие субъекты                                                                                                                    31356\n",
       "Межрегиональные общественные объединения                                                                                                          2717\n",
       "Центральный союз потребительских обществ Российской Федерации                                                                                     2593\n",
       "Казачьи общества, созданные в форме некоммерческой организации и внесенные  в государственный реестр казачьих обществ в Российской Федерации      2459\n",
       "Общероссийские общественные объединения                                                                                                           1282\n",
       "Международные общественные объединения                                                                                                             278\n",
       "Открытое акционерное общество \"Российские железные дороги\"                                                                                         244\n",
       "Муниципальные организации                                                                                                                           78\n",
       "Name: okogu_name, dtype: int64"
      ]
     },
     "execution_count": 69,
     "metadata": {},
     "output_type": "execute_result"
    }
   ],
   "source": [
    "nko_data['okogu_name'].value_counts()[:10]"
   ]
  },
  {
   "cell_type": "code",
   "execution_count": 70,
   "id": "923ce8ed",
   "metadata": {},
   "outputs": [],
   "source": [
    "list_okogu_name = list(nko_data['okogu_name'].value_counts()[:10].index)\n",
    "nko_data['okogu_name'] = nko_data['okogu_name'].apply(\n",
    "    lambda x: x if x in list_okogu_name else 'Иные организации')"
   ]
  },
  {
   "cell_type": "code",
   "execution_count": 71,
   "id": "7befa1f1",
   "metadata": {},
   "outputs": [
    {
     "data": {
      "application/vnd.jupyter.widget-view+json": {
       "model_id": "4b2e7207bcc34ba3aed02ebe6297a1fa",
       "version_major": 2,
       "version_minor": 0
      },
      "text/plain": [
       "Pandas Apply:   0%|          | 0/747030 [00:00<?, ?it/s]"
      ]
     },
     "metadata": {},
     "output_type": "display_data"
    },
    {
     "data": {
      "application/vnd.jupyter.widget-view+json": {
       "model_id": "7b17dfba6fa549a8ab1d82158bac30bf",
       "version_major": 2,
       "version_minor": 0
      },
      "text/plain": [
       "Pandas Apply:   0%|          | 0/747030 [00:00<?, ?it/s]"
      ]
     },
     "metadata": {},
     "output_type": "display_data"
    },
    {
     "data": {
      "application/vnd.jupyter.widget-view+json": {
       "model_id": "821ef2643cd74430b344449eeda05d7a",
       "version_major": 2,
       "version_minor": 0
      },
      "text/plain": [
       "Pandas Apply:   0%|          | 0/747030 [00:00<?, ?it/s]"
      ]
     },
     "metadata": {},
     "output_type": "display_data"
    }
   ],
   "source": [
    "nko_data['okogu_name'] = nko_data['okogu_name'].swifter.apply(\n",
    "    lambda x: 'Организации, учрежденные юридическими лицами и гражданами' if x == 'Организации, учрежденные юридическими лицами или гражданами, или юридическими лицами и гражданами совместно' else x)\n",
    "nko_data['okogu_name'] = nko_data['okogu_name'].swifter.apply(\n",
    "    lambda x: 'Казачьи общества' if x == 'Казачьи общества, созданные в форме некоммерческой организации и внесенные  в государственный реестр казачьих обществ в Российской Федерации' else x)\n",
    "nko_data['okogu_name'] = nko_data['okogu_name'].swifter.apply(\n",
    "    lambda x: 'ОАО \"РЖД\"' if x == 'Открытое акционерное общество \"Российские железные дороги\"' else x)"
   ]
  },
  {
   "cell_type": "code",
   "execution_count": 72,
   "id": "5b81ea46",
   "metadata": {},
   "outputs": [
    {
     "data": {
      "image/png": "[encoded data removed]",
      "text/plain": [
       "<Figure size 1296x648 with 1 Axes>"
      ]
     },
     "metadata": {
      "needs_background": "light"
     },
     "output_type": "display_data"
    }
   ],
   "source": [
    "# Задаем размер графика\n",
    "fig_8, axes_8 = plt.subplots(figsize=(18, 9))\n",
    "# определяем гистограмму распределения\n",
    "histplot_8 = sns.histplot(\n",
    "    data=nko_data, \n",
    "    x='okogu_name', \n",
    "    hue='grant',\n",
    "    ax=axes_8,\n",
    "    palette=['yellow', 'blue']\n",
    ")\n",
    "histplot_8.set_title('Рис.5 - Гистограмма распределения грантов по кода ОКОГУ')\n",
    "histplot_8.set_ylabel('Количество грантов')\n",
    "histplot_8.set_xlabel('Код ОКОГУ')\n",
    "histplot_8.legend(['Получали грант', 'Не получали грант'])\n",
    "for tick in histplot_8.get_xticklabels():\n",
    "    tick.set_rotation(90)\n",
    "\n",
    "histplot_8.grid();"
   ]
  },
  {
   "cell_type": "code",
   "execution_count": 73,
   "id": "060889ba",
   "metadata": {},
   "outputs": [
    {
     "data": {
      "text/html": [
       "<div>\n",
       "<style scoped>\n",
       "    .dataframe tbody tr th:only-of-type {\n",
       "        vertical-align: middle;\n",
       "    }\n",
       "\n",
       "    .dataframe tbody tr th {\n",
       "        vertical-align: top;\n",
       "    }\n",
       "\n",
       "    .dataframe thead th {\n",
       "        text-align: right;\n",
       "    }\n",
       "</style>\n",
       "<table border=\"1\" class=\"dataframe\">\n",
       "  <thead>\n",
       "    <tr style=\"text-align: right;\">\n",
       "      <th></th>\n",
       "      <th>grant</th>\n",
       "    </tr>\n",
       "    <tr>\n",
       "      <th>okogu_name</th>\n",
       "      <th></th>\n",
       "    </tr>\n",
       "  </thead>\n",
       "  <tbody>\n",
       "    <tr>\n",
       "      <th>ОАО \"РЖД\"</th>\n",
       "      <td>0.823770</td>\n",
       "    </tr>\n",
       "    <tr>\n",
       "      <th>Центральный союз потребительских обществ Российской Федерации</th>\n",
       "      <td>0.415349</td>\n",
       "    </tr>\n",
       "    <tr>\n",
       "      <th>Общероссийские общественные объединения</th>\n",
       "      <td>0.305772</td>\n",
       "    </tr>\n",
       "    <tr>\n",
       "      <th>Муниципальные организации</th>\n",
       "      <td>0.256410</td>\n",
       "    </tr>\n",
       "    <tr>\n",
       "      <th>Международные общественные объединения</th>\n",
       "      <td>0.241007</td>\n",
       "    </tr>\n",
       "  </tbody>\n",
       "</table>\n",
       "</div>"
      ],
      "text/plain": [
       "                                                                  grant\n",
       "okogu_name                                                             \n",
       "ОАО \"РЖД\"                                                      0.823770\n",
       "Центральный союз потребительских обществ Российской Федерации  0.415349\n",
       "Общероссийские общественные объединения                        0.305772\n",
       "Муниципальные организации                                      0.256410\n",
       "Международные общественные объединения                         0.241007"
      ]
     },
     "execution_count": 73,
     "metadata": {},
     "output_type": "execute_result"
    }
   ],
   "source": [
    "okogu_name_grant = nko_data.groupby(['okogu_name'])[\n",
    "    ['grant']].mean().sort_values(by='grant', ascending=False)\n",
    "okogu_name_grant.head()"
   ]
  },
  {
   "cell_type": "code",
   "execution_count": 75,
   "id": "385389b2",
   "metadata": {},
   "outputs": [
    {
     "data": {
      "text/html": [
       "<div>\n",
       "<style scoped>\n",
       "    .dataframe tbody tr th:only-of-type {\n",
       "        vertical-align: middle;\n",
       "    }\n",
       "\n",
       "    .dataframe tbody tr th {\n",
       "        vertical-align: top;\n",
       "    }\n",
       "\n",
       "    .dataframe thead th {\n",
       "        text-align: right;\n",
       "    }\n",
       "</style>\n",
       "<table border=\"1\" class=\"dataframe\">\n",
       "  <thead>\n",
       "    <tr style=\"text-align: right;\">\n",
       "      <th></th>\n",
       "      <th>grant</th>\n",
       "    </tr>\n",
       "    <tr>\n",
       "      <th>okogu_code</th>\n",
       "      <th></th>\n",
       "    </tr>\n",
       "  </thead>\n",
       "  <tbody>\n",
       "    <tr>\n",
       "      <th>4100103.0</th>\n",
       "      <td>1.0</td>\n",
       "    </tr>\n",
       "    <tr>\n",
       "      <th>2300225.0</th>\n",
       "      <td>1.0</td>\n",
       "    </tr>\n",
       "    <tr>\n",
       "      <th>4100401.0</th>\n",
       "      <td>1.0</td>\n",
       "    </tr>\n",
       "    <tr>\n",
       "      <th>4100307.0</th>\n",
       "      <td>1.0</td>\n",
       "    </tr>\n",
       "    <tr>\n",
       "      <th>4100306.0</th>\n",
       "      <td>1.0</td>\n",
       "    </tr>\n",
       "  </tbody>\n",
       "</table>\n",
       "</div>"
      ],
      "text/plain": [
       "            grant\n",
       "okogu_code       \n",
       "4100103.0     1.0\n",
       "2300225.0     1.0\n",
       "4100401.0     1.0\n",
       "4100307.0     1.0\n",
       "4100306.0     1.0"
      ]
     },
     "execution_count": 75,
     "metadata": {},
     "output_type": "execute_result"
    }
   ],
   "source": [
    "okogu_code_grant = nko_data.groupby(['okogu_code'])[\n",
    "    ['grant']].mean().sort_values(by='grant', ascending=False)\n",
    "okogu_code_grant.head()"
   ]
  },
  {
   "cell_type": "code",
   "execution_count": 76,
   "id": "31058f31",
   "metadata": {},
   "outputs": [],
   "source": [
    "# удаляем okogu_code, т.к. показывает странные значения\n",
    "nko_data.drop(['okogu_code'], axis=1, inplace=True)"
   ]
  },
  {
   "cell_type": "markdown",
   "id": "090c49cd",
   "metadata": {},
   "source": [
    "Закодируем признаки `opf_code`, `okogu_name` с помощью `OneHotEncoder`."
   ]
  },
  {
   "cell_type": "code",
   "execution_count": 82,
   "id": "52684d6b",
   "metadata": {},
   "outputs": [],
   "source": [
    "from sklearn.preprocessing import OneHotEncoder"
   ]
  },
  {
   "cell_type": "code",
   "execution_count": 85,
   "id": "1a74f967",
   "metadata": {},
   "outputs": [],
   "source": [
    "ohc = OneHotEncoder()\n",
    "df_ohc = pd.DataFrame()\n",
    "for col in ['minjustForm', 'okogu_name']:\n",
    "    ohe = ohc.fit_transform(nko_data[col].values.reshape(-1,1)).toarray()\n",
    "    dfOneHot = pd.DataFrame(ohe, columns=[str(ohc.categories_[0][i])\n",
    "                                          for i in range(len(ohc.categories_[0]))])\n",
    "    df_ohc = pd.concat([df_ohc, dfOneHot], axis=1)"
   ]
  },
  {
   "cell_type": "code",
   "execution_count": 86,
   "id": "950300ed",
   "metadata": {
    "scrolled": true
   },
   "outputs": [
    {
     "name": "stdout",
     "output_type": "stream",
     "text": [
      "<class 'pandas.core.frame.DataFrame'>\n",
      "RangeIndex: 747030 entries, 0 to 747029\n",
      "Data columns (total 42 columns):\n",
      " #   Column                                                               Non-Null Count   Dtype  \n",
      "---  ------                                                               --------------   -----  \n",
      " 0   автономная некоммерческая организация                                747030 non-null  float64\n",
      " 1   адвокатские и нотариальные организации                               747030 non-null  float64\n",
      " 2   ассоциации (союзы)                                                   747030 non-null  float64\n",
      " 3   благотворительные организации и фонды                                747030 non-null  float64\n",
      " 4   государственные                                                      747030 non-null  float64\n",
      " 5   иные некоммерческие организации                                      747030 non-null  float64\n",
      " 6   казачьи объединения                                                  747030 non-null  float64\n",
      " 7   кредитные                                                            747030 non-null  float64\n",
      " 8   культура                                                             747030 non-null  float64\n",
      " 9   малочисленные народы                                                 747030 non-null  float64\n",
      " 10  недвижимость                                                         747030 non-null  float64\n",
      " 11  некоммерческие организации и фонды                                   747030 non-null  float64\n",
      " 12  образовательные                                                      747030 non-null  float64\n",
      " 13  общества взаимного страхования                                       747030 non-null  float64\n",
      " 14  общественная или религиозная организация                             747030 non-null  float64\n",
      " 15  общественное движение                                                747030 non-null  float64\n",
      " 16  общественный фонд                                                    747030 non-null  float64\n",
      " 17  объединение предприятий                                              747030 non-null  float64\n",
      " 18  объединения юридических лиц                                          747030 non-null  float64\n",
      " 19  пенсионный фонд                                                      747030 non-null  float64\n",
      " 20  политическая партия                                                  747030 non-null  float64\n",
      " 21  потребительские организации                                          747030 non-null  float64\n",
      " 22  профессиональные и профсоюзные организации                           747030 non-null  float64\n",
      " 23  религиозная организация                                              747030 non-null  float64\n",
      " 24  садоводческие, огороднические или дачные некоммерческие организации  747030 non-null  float64\n",
      " 25  сельскохозяйственные организации                                     747030 non-null  float64\n",
      " 26  территориальное общественное самоуправление                          747030 non-null  float64\n",
      " 27  торгово-промышленная палата                                          747030 non-null  float64\n",
      " 28  учреждение                                                           747030 non-null  float64\n",
      " 29  фонды                                                                747030 non-null  float64\n",
      " 30  частные учреждения                                                   747030 non-null  float64\n",
      " 31  Другие хозяйствующие субъекты                                        747030 non-null  float64\n",
      " 32  Иные организации                                                     747030 non-null  float64\n",
      " 33  Казачьи общества                                                     747030 non-null  float64\n",
      " 34  Международные общественные объединения                               747030 non-null  float64\n",
      " 35  Межрегиональные общественные объединения                             747030 non-null  float64\n",
      " 36  Муниципальные организации                                            747030 non-null  float64\n",
      " 37  ОАО \"РЖД\"                                                            747030 non-null  float64\n",
      " 38  Общероссийские общественные объединения                              747030 non-null  float64\n",
      " 39  Организации, учрежденные юридическими лицами и гражданами            747030 non-null  float64\n",
      " 40  Региональные и местные общественные объединения                      747030 non-null  float64\n",
      " 41  Центральный союз потребительских обществ Российской Федерации        747030 non-null  float64\n",
      "dtypes: float64(42)\n",
      "memory usage: 239.4 MB\n"
     ]
    }
   ],
   "source": [
    "df_ohc.info()"
   ]
  },
  {
   "cell_type": "code",
   "execution_count": 89,
   "id": "78d2c214",
   "metadata": {},
   "outputs": [],
   "source": [
    "ohc_cols = list(df_ohc.columns)"
   ]
  },
  {
   "cell_type": "code",
   "execution_count": 90,
   "id": "5671eac8",
   "metadata": {},
   "outputs": [],
   "source": [
    "# добавляем новые признаки к датасету\n",
    "nko_data_new = pd.concat([nko_data, df_ohc], axis=1)"
   ]
  },
  {
   "cell_type": "code",
   "execution_count": 91,
   "id": "92e9d007",
   "metadata": {},
   "outputs": [],
   "source": [
    "# Создадим списки признаков в зависимости от их типа:\n",
    "\n",
    "# категориальные признаки\n",
    "cols_cat = ['opf_code', 'regionCode']\n",
    "\n",
    "# бинарные признаки\n",
    "cols_bin = ['dateReg', 'egrulStatus',\n",
    "            'hasRegionalSupport', 'dateOgrn']\n",
    "# числовые признаки\n",
    "cols_num = ['num_of_addOkved', 'nko_live',\n",
    "            'year_reg', 'log_incomeTotal']\n",
    "\n",
    "# целевая переменная\n",
    "col_target = ['grant']"
   ]
  },
  {
   "cell_type": "code",
   "execution_count": 92,
   "id": "aa9e37ab",
   "metadata": {},
   "outputs": [
    {
     "data": {
      "text/plain": [
       "<Figure size 1152x864 with 0 Axes>"
      ]
     },
     "execution_count": 92,
     "metadata": {},
     "output_type": "execute_result"
    },
    {
     "data": {
      "text/plain": [
       "<AxesSubplot:>"
      ]
     },
     "execution_count": 92,
     "metadata": {},
     "output_type": "execute_result"
    },
    {
     "data": {
      "image/png": "[encoded data removed]",
      "text/plain": [
       "<Figure size 1152x864 with 2 Axes>"
      ]
     },
     "metadata": {
      "needs_background": "light"
     },
     "output_type": "display_data"
    }
   ],
   "source": [
    "# посмотрим таблицу корреляции по всем числовым признакам\n",
    "cor_cols_num = cols_num + col_target\n",
    "correlation = nko_data_new[cor_cols_num].corr(method='pearson').round(decimals=3)\n",
    "\n",
    "plt.figure(figsize=(16, 12))\n",
    "sns.heatmap(correlation, annot=True, cmap='coolwarm')"
   ]
  },
  {
   "cell_type": "code",
   "execution_count": 93,
   "id": "ed0e5849",
   "metadata": {},
   "outputs": [],
   "source": [
    "# удалим из списка log_incomeTotal, так как он дублирует нашу целевую переменную\n",
    "cols_num.remove('log_incomeTotal')"
   ]
  },
  {
   "cell_type": "code",
   "execution_count": 94,
   "id": "a4887696",
   "metadata": {},
   "outputs": [
    {
     "data": {
      "text/plain": [
       "<Figure size 1152x864 with 0 Axes>"
      ]
     },
     "execution_count": 94,
     "metadata": {},
     "output_type": "execute_result"
    },
    {
     "data": {
      "text/plain": [
       "<AxesSubplot:>"
      ]
     },
     "execution_count": 94,
     "metadata": {},
     "output_type": "execute_result"
    },
    {
     "data": {
      "image/png": "[encoded data removed]",
      "text/plain": [
       "<Figure size 1152x864 with 2 Axes>"
      ]
     },
     "metadata": {
      "needs_background": "light"
     },
     "output_type": "display_data"
    }
   ],
   "source": [
    "# посмотрим таблицу корреляции по всем категориальным признакам\n",
    "cor_cols_cat = cols_cat + col_target\n",
    "corr_cat = nko_data_new[cor_cols_cat].corr(method='kendall').round(decimals=3)\n",
    "\n",
    "plt.figure(figsize=(16, 12))\n",
    "sns.heatmap(corr_cat, annot=True, cmap='coolwarm')"
   ]
  },
  {
   "cell_type": "markdown",
   "id": "d40bca22",
   "metadata": {},
   "source": [
    "Видим слабую корреляцию с целевой переменной"
   ]
  },
  {
   "cell_type": "code",
   "execution_count": 96,
   "id": "df9ce8ff",
   "metadata": {},
   "outputs": [
    {
     "data": {
      "text/plain": [
       "<Figure size 1152x864 with 0 Axes>"
      ]
     },
     "execution_count": 96,
     "metadata": {},
     "output_type": "execute_result"
    },
    {
     "data": {
      "text/plain": [
       "<AxesSubplot:>"
      ]
     },
     "execution_count": 96,
     "metadata": {},
     "output_type": "execute_result"
    },
    {
     "data": {
      "image/png": "[encoded data removed]",
      "text/plain": [
       "<Figure size 1152x864 with 2 Axes>"
      ]
     },
     "metadata": {
      "needs_background": "light"
     },
     "output_type": "display_data"
    }
   ],
   "source": [
    "# посмотрим таблицу корреляции по всем бинарным признакам\n",
    "cor_cols_bin = cols_bin + col_target\n",
    "corr_bin = nko_data_new[cor_cols_bin].corr(method='spearman').round(decimals=3)\n",
    "\n",
    "plt.figure(figsize=(16, 12))\n",
    "sns.heatmap(corr_bin, annot=True, cmap='coolwarm')"
   ]
  },
  {
   "cell_type": "markdown",
   "id": "02b6a67d",
   "metadata": {},
   "source": [
    "Видим слабую корреляцию с целевой переменной"
   ]
  },
  {
   "cell_type": "code",
   "execution_count": 119,
   "id": "93eedf8b",
   "metadata": {},
   "outputs": [],
   "source": [
    "# Сохраняем полученные данные в файл, чтобы не проходить всю обработку снова\n",
    "nko_data_new.to_csv('data/nko_data_finish.csv', index=False)"
   ]
  },
  {
   "cell_type": "markdown",
   "id": "71bc8de5",
   "metadata": {},
   "source": [
    "### Предсказание с помощью библиотеки LightAutoML"
   ]
  },
  {
   "cell_type": "code",
   "execution_count": 97,
   "id": "d46e5aaa",
   "metadata": {},
   "outputs": [],
   "source": [
    "# Импортируем необходимые библиотеки\n",
    "\n",
    "import time\n",
    "\n",
    "from sklearn.metrics import f1_score\n",
    "from sklearn.model_selection import train_test_split\n",
    "import torch\n",
    "\n",
    "# LightAutoML presets, task and report generation\n",
    "from lightautoml.automl.presets.tabular_presets import TabularAutoML #, TabularUtilizedAutoML\n",
    "from lightautoml.tasks import Task\n",
    "from lightautoml.report.report_deco import ReportDeco"
   ]
  },
  {
   "cell_type": "code",
   "execution_count": 98,
   "id": "37b56c75",
   "metadata": {},
   "outputs": [],
   "source": [
    "N_THREADS = 6\n",
    "N_FOLDS = 5\n",
    "RANDOM_STATE = 42\n",
    "TEST_SIZE = 0.2\n",
    "TIMEOUT = 3600\n",
    "TARGET_NAME = 'grant'"
   ]
  },
  {
   "cell_type": "code",
   "execution_count": 99,
   "id": "5769997c",
   "metadata": {},
   "outputs": [],
   "source": [
    "np.random.seed(RANDOM_STATE)\n",
    "torch.set_num_threads(N_THREADS)"
   ]
  },
  {
   "cell_type": "code",
   "execution_count": 106,
   "id": "1aebd5fa",
   "metadata": {},
   "outputs": [],
   "source": [
    "nko_data_new['grant'].fillna(0, inplace=True)"
   ]
  },
  {
   "cell_type": "code",
   "execution_count": 120,
   "id": "d8279674",
   "metadata": {},
   "outputs": [],
   "source": [
    "# удаляем log_incomeTotal, т.к. он дублирует нашу целевую переменную\n",
    "nko_data_new.drop(['log_incomeTotal'], axis=1, inplace=True)"
   ]
  },
  {
   "cell_type": "code",
   "execution_count": 121,
   "id": "2744c717",
   "metadata": {},
   "outputs": [],
   "source": [
    "# Создадим тренировочную и валидационную выборки\n",
    "df_train, df_val = train_test_split(nko_data_new,\n",
    "                                    test_size=TEST_SIZE,\n",
    "                                    shuffle=True,\n",
    "                                    random_state=RANDOM_STATE)"
   ]
  },
  {
   "cell_type": "code",
   "execution_count": 122,
   "id": "1d4ea01b",
   "metadata": {},
   "outputs": [],
   "source": [
    "roles_df = {\n",
    "    'target': TARGET_NAME\n",
    "}"
   ]
  },
  {
   "cell_type": "code",
   "execution_count": 123,
   "id": "4efa9ada",
   "metadata": {},
   "outputs": [],
   "source": [
    "def f1_metric(y_true, y_pred, **kwargs):\n",
    "    return f1_score(y_true, (y_pred > 0.5).astype(int), **kwargs)"
   ]
  },
  {
   "cell_type": "code",
   "execution_count": 124,
   "id": "3448a06a",
   "metadata": {},
   "outputs": [],
   "source": [
    "automl = TabularAutoML(\n",
    "    task=Task('binary', metric=f1_metric),\n",
    "    timeout=TIMEOUT,\n",
    "    cpu_limit=N_THREADS,\n",
    "    reader_params={'n_jobs': N_THREADS,\n",
    "                   'cv': N_FOLDS, 'random_state': RANDOM_STATE}\n",
    ")"
   ]
  },
  {
   "cell_type": "code",
   "execution_count": null,
   "id": "80882ccf",
   "metadata": {},
   "outputs": [
    {
     "name": "stdout",
     "output_type": "stream",
     "text": [
      "[08:44:40] Stdout logging level is INFO.\n",
      "[08:44:40] Task: binary\n",
      "\n",
      "[08:44:40] Start automl preset with listed constraints:\n",
      "[08:44:40] - time: 3600.00 seconds\n",
      "[08:44:40] - CPU: 6 cores\n",
      "[08:44:40] - memory: 16 GB\n",
      "\n",
      "[08:44:40] \u001b[1mTrain data shape: (597627, 54)\u001b[0m\n",
      "\n",
      "[08:44:57] Layer \u001b[1m1\u001b[0m train process start. Time left 3583.20 secs\n"
     ]
    }
   ],
   "source": [
    "%%time \n",
    "oof_pred = automl.fit_predict(df_train, roles = roles_df, verbose = 1)"
   ]
  },
  {
   "cell_type": "code",
   "execution_count": null,
   "id": "d0eea556",
   "metadata": {},
   "outputs": [],
   "source": [
    "%%time\n",
    "\n",
    "te_pred = automl.predict(df_val)\n",
    "print(f'Предсказание для тестовых данных:\\n{te_pred}\\nРазмер = {te_pred.shape}')"
   ]
  },
  {
   "cell_type": "code",
   "execution_count": null,
   "id": "84fbee90",
   "metadata": {},
   "outputs": [],
   "source": [
    "print(f'Точность модели  на тренировочных данных: {(f1_metric(df_train[TARGET_NAME].values, oof_pred.data[:, 0])):0.2f}')\n",
    "print(f'Точность итогового предсказания: {(f1_metric(df_val[TARGET_NAME].values, te_pred.data[:, 0])):0.2f}')"
   ]
  },
  {
   "cell_type": "code",
   "execution_count": null,
   "id": "c7c0e90b",
   "metadata": {},
   "outputs": [],
   "source": [
    "print(automl.create_model_str_desc())"
   ]
  },
  {
   "cell_type": "markdown",
   "id": "e14de9a9",
   "metadata": {},
   "source": [
    "### Расчет важности признаков"
   ]
  },
  {
   "cell_type": "code",
   "execution_count": null,
   "id": "7ae8e729",
   "metadata": {},
   "outputs": [],
   "source": [
    "RD = ReportDeco(output_path = 'tabularAutoML_model_report')\n",
    "\n",
    "automl_rd = RD(\n",
    "    TabularAutoML(\n",
    "        task = Task('binary', metric=f1_metric), \n",
    "        timeout = TIMEOUT,\n",
    "        cpu_limit = N_THREADS,\n",
    "        reader_params = {'n_jobs': N_THREADS, 'cv': N_FOLDS, 'random_state': RANDOM_STATE}\n",
    "    )\n",
    ")"
   ]
  },
  {
   "cell_type": "code",
   "execution_count": null,
   "id": "a5dece38",
   "metadata": {},
   "outputs": [],
   "source": [
    "%%time\n",
    "oof_pred_rd = automl_rd.fit_predict(df_train, roles=roles_df, verbose=1)"
   ]
  },
  {
   "cell_type": "code",
   "execution_count": null,
   "id": "872488a9",
   "metadata": {},
   "outputs": [],
   "source": [
    "%%time\n",
    "\n",
    "te_pred_rd = automl_rd.predict(df_val)\n",
    "print(f'Предсказание для тестовых данных:\\n{te_pred_rd}\\nРазмер = {te_pred_rd.shape}')"
   ]
  },
  {
   "cell_type": "code",
   "execution_count": null,
   "id": "ed2c4dca",
   "metadata": {},
   "outputs": [],
   "source": [
    "print(f'Точность модели  на тренировочных данных: {(f1_metric(df_train[TARGET_NAME].values, oof_pred_rd.data[:, 0])):0.2f}')\n",
    "print(f'Точность итогового предсказания: {(f1_metric(df_val[TARGET_NAME].values, te_pred_rd.data[:, 0])):0.2f}')"
   ]
  },
  {
   "cell_type": "code",
   "execution_count": null,
   "id": "09516ec5",
   "metadata": {},
   "outputs": [],
   "source": [
    "%%time\n",
    "\n",
    "# Fast feature importances calculation\n",
    "fast_fi = automl_rd.model.get_feature_scores('fast')\n",
    "fast_fi.set_index('Feature')['Importance'].plot.bar(figsize = (30, 10), grid = True)"
   ]
  },
  {
   "cell_type": "code",
   "execution_count": null,
   "id": "0101e75a",
   "metadata": {},
   "outputs": [],
   "source": []
  }
 ],
 "metadata": {
  "kernelspec": {
   "display_name": "Python 3 (ipykernel)",
   "language": "python",
   "name": "python3"
  },
  "language_info": {
   "codemirror_mode": {
    "name": "ipython",
    "version": 3
   },
   "file_extension": ".py",
   "mimetype": "text/x-python",
   "name": "python",
   "nbconvert_exporter": "python",
   "pygments_lexer": "ipython3",
   "version": "3.9.12"
  }
 },
 "nbformat": 4,
 "nbformat_minor": 5
}
